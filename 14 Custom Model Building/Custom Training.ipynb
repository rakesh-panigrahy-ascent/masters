{
 "cells": [
  {
   "cell_type": "code",
   "execution_count": 28,
   "id": "541b687c",
   "metadata": {},
   "outputs": [],
   "source": [
    "import tensorflow as tf\n",
    "from tensorflow import keras\n",
    "from tensorflow.keras.datasets import mnist\n",
    "import matplotlib.pyplot as plt"
   ]
  },
  {
   "cell_type": "code",
   "execution_count": 7,
   "id": "146aba58",
   "metadata": {},
   "outputs": [],
   "source": [
    "x = tf.constant(3.0)\n",
    "with tf.GradientTape(persistent=True) as tape:\n",
    "    tape.watch(x)\n",
    "    y = 3*x*x"
   ]
  },
  {
   "cell_type": "code",
   "execution_count": 14,
   "id": "12d2109f",
   "metadata": {},
   "outputs": [
    {
     "data": {
      "text/plain": [
       "<tf.Tensor: shape=(), dtype=float32, numpy=18.0>"
      ]
     },
     "execution_count": 14,
     "metadata": {},
     "output_type": "execute_result"
    }
   ],
   "source": [
    "tape.gradient(y, x)"
   ]
  },
  {
   "cell_type": "code",
   "execution_count": 15,
   "id": "764b5454",
   "metadata": {},
   "outputs": [],
   "source": [
    "def f(w1, w2):\n",
    "    return 3 * w1 ** 2 + 2 * w1 * w2"
   ]
  },
  {
   "cell_type": "code",
   "execution_count": 16,
   "id": "91ae1bd7",
   "metadata": {},
   "outputs": [],
   "source": [
    "w1, w2 = tf.Variable(5.), tf.Variable(3.)"
   ]
  },
  {
   "cell_type": "code",
   "execution_count": 20,
   "id": "ee2911a4",
   "metadata": {},
   "outputs": [],
   "source": [
    "with tf.GradientTape(persistent=True) as tape:\n",
    "    z = f(w1, w2)"
   ]
  },
  {
   "cell_type": "code",
   "execution_count": 22,
   "id": "4881dfe2",
   "metadata": {},
   "outputs": [
    {
     "data": {
      "text/plain": [
       "[<tf.Tensor: shape=(), dtype=float32, numpy=36.0>,\n",
       " <tf.Tensor: shape=(), dtype=float32, numpy=10.0>]"
      ]
     },
     "execution_count": 22,
     "metadata": {},
     "output_type": "execute_result"
    }
   ],
   "source": [
    "tape.gradient(z, [w1, w2])"
   ]
  },
  {
   "cell_type": "code",
   "execution_count": 24,
   "id": "204ce2a8",
   "metadata": {},
   "outputs": [],
   "source": [
    "(x_train,y_train), (x_test, y_test) = mnist.load_data()\n",
    "x_train, x_test = x_train/255., x_test/255.\n",
    "x_train = x_train.astype('float32')\n",
    "x_test = x_test.astype('float32')"
   ]
  },
  {
   "cell_type": "code",
   "execution_count": 25,
   "id": "5520f76d",
   "metadata": {},
   "outputs": [
    {
     "data": {
      "text/plain": [
       "((60000, 28, 28), (60000,), (10000, 28, 28), (10000,))"
      ]
     },
     "execution_count": 25,
     "metadata": {},
     "output_type": "execute_result"
    }
   ],
   "source": [
    "x_train.shape,y_train.shape, x_test.shape, y_test.shape"
   ]
  },
  {
   "cell_type": "code",
   "execution_count": 26,
   "id": "c217990f",
   "metadata": {},
   "outputs": [
    {
     "data": {
      "text/plain": [
       "(TensorShape([60000, 28, 28, 1]),\n",
       " (60000,),\n",
       " TensorShape([10000, 28, 28, 1]),\n",
       " (10000,))"
      ]
     },
     "execution_count": 26,
     "metadata": {},
     "output_type": "execute_result"
    }
   ],
   "source": [
    "x_train = tf.expand_dims(x_train, -1)\n",
    "x_test = tf.expand_dims(x_test, -1)\n",
    "x_train.shape,y_train.shape, x_test.shape, y_test.shape"
   ]
  },
  {
   "cell_type": "code",
   "execution_count": 29,
   "id": "4b5a8de7",
   "metadata": {},
   "outputs": [
    {
     "data": {
      "text/plain": [
       "<matplotlib.image.AxesImage at 0x109392e9090>"
      ]
     },
     "execution_count": 29,
     "metadata": {},
     "output_type": "execute_result"
    },
    {
     "data": {
      "image/png": "[encoded data removed]",
      "text/plain": [
       "<Figure size 640x480 with 1 Axes>"
      ]
     },
     "metadata": {},
     "output_type": "display_data"
    }
   ],
   "source": [
    "plt.imshow(x_train[0])"
   ]
  },
  {
   "cell_type": "code",
   "execution_count": 30,
   "id": "93be7068",
   "metadata": {},
   "outputs": [],
   "source": [
    "AUTOTUNE = tf.data.experimental.AUTOTUNE\n",
    "train_dataset = tf.data.Dataset.from_tensor_slices((x_train, y_train))\n",
    "train_dataset = train_dataset.shuffle(buffer_size=len(y_train)).batch(32, drop_remainder=True).prefetch(buffer_size=AUTOTUNE)\n",
    "\n",
    "test_dataset = tf.data.Dataset.from_tensor_slices((x_test, y_test))\n",
    "test_dataset = test_dataset.batch(32, drop_remainder=False).prefetch(buffer_size=AUTOTUNE)"
   ]
  },
  {
   "cell_type": "code",
   "execution_count": 31,
   "id": "441e503f",
   "metadata": {},
   "outputs": [],
   "source": [
    "class CustomCNN(keras.layers.Layer):\n",
    "    def __init__(self, filters, kernel_size=3):\n",
    "        super().__init__()\n",
    "        self.conv = keras.layers.Conv2D(filters, kernel_size=kernel_size, padding='same')\n",
    "        self.bn = keras.layers.BatchNormalization()\n",
    "        \n",
    "    def call(self, input_tensor, training=False):\n",
    "        x = self.conv(input_tensor)\n",
    "        x = self.bn(x, training=training)\n",
    "        x = tf.nn.relu(x)\n",
    "        return x\n",
    "    def model(self):\n",
    "        x = keras.Input()\n",
    "        return keras.Model(inputs=[x], outputs=self.call(x))"
   ]
  },
  {
   "cell_type": "code",
   "execution_count": 32,
   "id": "dc4ee70d",
   "metadata": {},
   "outputs": [],
   "source": [
    "cus_model = keras.Sequential([\n",
    "    keras.Input(shape=(28,28, 1)),\n",
    "    CustomCNN(32),\n",
    "    CustomCNN(64),\n",
    "    CustomCNN(128),\n",
    "    keras.layers.Flatten(),\n",
    "    keras.layers.Dense(10)\n",
    "])"
   ]
  },
  {
   "cell_type": "code",
   "execution_count": 33,
   "id": "3b1d5dec",
   "metadata": {},
   "outputs": [
    {
     "name": "stdout",
     "output_type": "stream",
     "text": [
      "Model: \"sequential\"\n",
      "_________________________________________________________________\n",
      " Layer (type)                Output Shape              Param #   \n",
      "=================================================================\n",
      " custom_cnn (CustomCNN)      (None, 28, 28, 32)        448       \n",
      "                                                                 \n",
      " custom_cnn_1 (CustomCNN)    (None, 28, 28, 64)        18752     \n",
      "                                                                 \n",
      " custom_cnn_2 (CustomCNN)    (None, 28, 28, 128)       74368     \n",
      "                                                                 \n",
      " flatten (Flatten)           (None, 100352)            0         \n",
      "                                                                 \n",
      " dense (Dense)               (None, 10)                1003530   \n",
      "                                                                 \n",
      "=================================================================\n",
      "Total params: 1,097,098\n",
      "Trainable params: 1,096,650\n",
      "Non-trainable params: 448\n",
      "_________________________________________________________________\n"
     ]
    }
   ],
   "source": [
    "cus_model.summary()"
   ]
  },
  {
   "cell_type": "code",
   "execution_count": 41,
   "id": "d076d5a5",
   "metadata": {},
   "outputs": [],
   "source": [
    "class Custom_fit(keras.Model):\n",
    "    def __init__(self, model):\n",
    "        super().__init__()\n",
    "        self.model = model\n",
    "        \n",
    "    def compile(self, optimizer, loss, metric):\n",
    "        super(Custom_fit, self).compile()\n",
    "        self.optimizer = optimizer\n",
    "        self.loss = loss\n",
    "        self.metric = metric\n",
    "    \n",
    "    def train_step(self, data):\n",
    "        #unpack the data\n",
    "        x, y = data\n",
    "        with tf.GradientTape() as tape:\n",
    "            #computing predication\n",
    "            y_pred = self.model(x, training=True)\n",
    "            #Calculating loss\n",
    "            loss = self.loss(y, y_pred)\n",
    "            \n",
    "        #Tracking gradients\n",
    "        training_vars = self.trainable_variables\n",
    "        print('training_vars:', training_vars)\n",
    "        gradients = tape.gradient(loss, training_vars)\n",
    "        \n",
    "        #Update optimizer and metrics\n",
    "        self.optimizer.apply_gradients(zip(gradients, training_vars))\n",
    "        self.metric.update_state(y, y_pred)\n",
    "        \n",
    "        return {'Train loss for custom train':loss, 'Train accuracy for custom train':self.metric.result()}\n",
    "    \n",
    "    def test_step(self, data):\n",
    "        #Unpack the data\n",
    "        x, y = data\n",
    "        #compute prediction\n",
    "        y_pred = self.model(x, training=False)\n",
    "        #calculate loss\n",
    "        loss = self.loss(y, y_pred)\n",
    "        #update optimizer and metrics\n",
    "        self.metric.update_state(y, y_pred)\n",
    "        \n",
    "        return {'The loss for custom test':loss, 'Test accuracy for custom test':self.metric.result()}"
   ]
  },
  {
   "cell_type": "code",
   "execution_count": 42,
   "id": "671a33d5",
   "metadata": {},
   "outputs": [],
   "source": [
    "cust_train = Custom_fit(cus_model)"
   ]
  },
  {
   "cell_type": "code",
   "execution_count": 43,
   "id": "70f202a7",
   "metadata": {},
   "outputs": [],
   "source": [
    "cust_train.compile(optimizer=keras.optimizers.Adam(learning_rate=3e-4),\n",
    "                   loss=keras.losses.SparseCategoricalCrossentropy(from_logits=True),\n",
    "                   metric=keras.metrics.SparseCategoricalAccuracy(name='accuracy')\n",
    "                  )"
   ]
  },
  {
   "cell_type": "code",
   "execution_count": 44,
   "id": "e8070f6d",
   "metadata": {},
   "outputs": [
    {
     "name": "stdout",
     "output_type": "stream",
     "text": [
      "Epoch 1/2\n",
      "training_vars: [<tf.Variable 'custom_cnn/conv2d/kernel:0' shape=(3, 3, 1, 32) dtype=float32>, <tf.Variable 'custom_cnn/conv2d/bias:0' shape=(32,) dtype=float32>, <tf.Variable 'custom_cnn/batch_normalization/gamma:0' shape=(32,) dtype=float32>, <tf.Variable 'custom_cnn/batch_normalization/beta:0' shape=(32,) dtype=float32>, <tf.Variable 'custom_cnn_1/conv2d_1/kernel:0' shape=(3, 3, 32, 64) dtype=float32>, <tf.Variable 'custom_cnn_1/conv2d_1/bias:0' shape=(64,) dtype=float32>, <tf.Variable 'custom_cnn_1/batch_normalization_1/gamma:0' shape=(64,) dtype=float32>, <tf.Variable 'custom_cnn_1/batch_normalization_1/beta:0' shape=(64,) dtype=float32>, <tf.Variable 'custom_cnn_2/conv2d_2/kernel:0' shape=(3, 3, 64, 128) dtype=float32>, <tf.Variable 'custom_cnn_2/conv2d_2/bias:0' shape=(128,) dtype=float32>, <tf.Variable 'custom_cnn_2/batch_normalization_2/gamma:0' shape=(128,) dtype=float32>, <tf.Variable 'custom_cnn_2/batch_normalization_2/beta:0' shape=(128,) dtype=float32>, <tf.Variable 'dense/kernel:0' shape=(100352, 10) dtype=float32>, <tf.Variable 'dense/bias:0' shape=(10,) dtype=float32>]\n",
      "training_vars: [<tf.Variable 'custom_cnn/conv2d/kernel:0' shape=(3, 3, 1, 32) dtype=float32>, <tf.Variable 'custom_cnn/conv2d/bias:0' shape=(32,) dtype=float32>, <tf.Variable 'custom_cnn/batch_normalization/gamma:0' shape=(32,) dtype=float32>, <tf.Variable 'custom_cnn/batch_normalization/beta:0' shape=(32,) dtype=float32>, <tf.Variable 'custom_cnn_1/conv2d_1/kernel:0' shape=(3, 3, 32, 64) dtype=float32>, <tf.Variable 'custom_cnn_1/conv2d_1/bias:0' shape=(64,) dtype=float32>, <tf.Variable 'custom_cnn_1/batch_normalization_1/gamma:0' shape=(64,) dtype=float32>, <tf.Variable 'custom_cnn_1/batch_normalization_1/beta:0' shape=(64,) dtype=float32>, <tf.Variable 'custom_cnn_2/conv2d_2/kernel:0' shape=(3, 3, 64, 128) dtype=float32>, <tf.Variable 'custom_cnn_2/conv2d_2/bias:0' shape=(128,) dtype=float32>, <tf.Variable 'custom_cnn_2/batch_normalization_2/gamma:0' shape=(128,) dtype=float32>, <tf.Variable 'custom_cnn_2/batch_normalization_2/beta:0' shape=(128,) dtype=float32>, <tf.Variable 'dense/kernel:0' shape=(100352, 10) dtype=float32>, <tf.Variable 'dense/bias:0' shape=(10,) dtype=float32>]\n",
      "1875/1875 [==============================] - 270s 143ms/step - Train loss for custom train: 0.2962 - Train accuracy for custom train: 0.9076\n",
      "Epoch 2/2\n",
      "1875/1875 [==============================] - 288s 154ms/step - Train loss for custom train: 0.1164 - Train accuracy for custom train: 0.9778\n"
     ]
    },
    {
     "data": {
      "text/plain": [
       "<keras.callbacks.History at 0x1093b6239a0>"
      ]
     },
     "execution_count": 44,
     "metadata": {},
     "output_type": "execute_result"
    }
   ],
   "source": [
    "cust_train.fit(train_dataset, batch_size=32, epochs=2)"
   ]
  },
  {
   "cell_type": "code",
   "execution_count": null,
   "id": "963bc02e",
   "metadata": {},
   "outputs": [],
   "source": []
  },
  {
   "cell_type": "code",
   "execution_count": null,
   "id": "7f18d449",
   "metadata": {},
   "outputs": [],
   "source": []
  }
 ],
 "metadata": {
  "kernelspec": {
   "display_name": "Python 3 (ipykernel)",
   "language": "python",
   "name": "python3"
  },
  "language_info": {
   "codemirror_mode": {
    "name": "ipython",
    "version": 3
   },
   "file_extension": ".py",
   "mimetype": "text/x-python",
   "name": "python",
   "nbconvert_exporter": "python",
   "pygments_lexer": "ipython3",
   "version": "3.10.9"
  }
 },
 "nbformat": 4,
 "nbformat_minor": 5
}
