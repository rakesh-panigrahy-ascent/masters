{
 "cells": [
  {
   "cell_type": "code",
   "execution_count": 1,
   "id": "a795531a",
   "metadata": {},
   "outputs": [],
   "source": [
    "import tensorflow as tf\n",
    "from tensorflow import keras\n",
    "import numpy as np\n",
    "import pandas as pd\n",
    "from tensorflow.keras.datasets import mnist"
   ]
  },
  {
   "cell_type": "code",
   "execution_count": 6,
   "id": "df23226e",
   "metadata": {},
   "outputs": [],
   "source": [
    "class MyModel(keras.Model):\n",
    "    def __init__(self, output=10):\n",
    "        super().__init__()\n",
    "        self.dense1 = keras.layers.CustomDense(64)\n",
    "        self.dense2 = keras.layers.CustomDense(output)\n",
    "        self.flatten = keras.layers.Flatten()\n",
    "    def call(self, x):\n",
    "        x = self.flatten(x)\n",
    "        x = tf.cast(x, dtype=float)\n",
    "        x = x/255.\n",
    "        print('X Shape:')\n",
    "        print(x.shape)\n",
    "        x = tf.nn.relu(self.dense1(x))\n",
    "        return self.dense2(x)\n",
    "    \n",
    "    def model(self):\n",
    "        x = keras.layers.Input(shape=(28*28))\n",
    "        return keras.Model(inputs=[x], outputs=self.call(x))"
   ]
  },
  {
   "cell_type": "code",
   "execution_count": 7,
   "id": "01762000",
   "metadata": {},
   "outputs": [
    {
     "name": "stdout",
     "output_type": "stream",
     "text": [
      "X Shape:\n",
      "(None, 784)\n",
      "Model: \"model_2\"\n",
      "_________________________________________________________________\n",
      " Layer (type)                Output Shape              Param #   \n",
      "=================================================================\n",
      " input_3 (InputLayer)        [(None, 784)]             0         \n",
      "                                                                 \n",
      " flatten_1 (Flatten)         (None, 784)               0         \n",
      "                                                                 \n",
      " tf.cast_1 (TFOpLambda)      (None, 784)               0         \n",
      "                                                                 \n",
      " tf.math.truediv_1 (TFOpLamb  (None, 784)              0         \n",
      " da)                                                             \n",
      "                                                                 \n",
      " dense_4 (Dense)             (None, 64)                50240     \n",
      "                                                                 \n",
      " tf.nn.relu_2 (TFOpLambda)   (None, 64)                0         \n",
      "                                                                 \n",
      " dense_5 (Dense)             (None, 10)                650       \n",
      "                                                                 \n",
      "=================================================================\n",
      "Total params: 50,890\n",
      "Trainable params: 50,890\n",
      "Non-trainable params: 0\n",
      "_________________________________________________________________\n"
     ]
    }
   ],
   "source": [
    "model = MyModel(10)\n",
    "model.model().summary()"
   ]
  },
  {
   "cell_type": "code",
   "execution_count": 31,
   "id": "147ae7b2",
   "metadata": {},
   "outputs": [],
   "source": [
    "(x_train, y_train), (x_test, y_test) = mnist.load_data()\n",
    "val_dataset = tf.data.Dataset.from_tensor_slices((x_test, y_test)).batch(32)"
   ]
  },
  {
   "cell_type": "code",
   "execution_count": 33,
   "id": "1bc49ad5",
   "metadata": {},
   "outputs": [],
   "source": [
    "model.compile(optimizer=keras.optimizers.Adam(learning_rate=0.01),\n",
    "              loss=keras.losses.SparseCategoricalCrossentropy(from_logits=True),\n",
    "              metrics=['accuracy'])"
   ]
  },
  {
   "cell_type": "code",
   "execution_count": 34,
   "id": "de0cf6af",
   "metadata": {},
   "outputs": [
    {
     "name": "stdout",
     "output_type": "stream",
     "text": [
      "Epoch 1/5\n",
      "X Shape:\n",
      "(32, 784)\n",
      "X Shape:\n",
      "(32, 784)\n",
      "1872/1875 [============================>.] - ETA: 0s - loss: 0.1279 - accuracy: 0.9672X Shape:\n",
      "(None, 784)\n",
      "1875/1875 [==============================] - 14s 6ms/step - loss: 0.1279 - accuracy: 0.9672 - val_loss: 0.1998 - val_accuracy: 0.9573\n",
      "Epoch 2/5\n",
      "1875/1875 [==============================] - 11s 6ms/step - loss: 0.1148 - accuracy: 0.9696 - val_loss: 0.1886 - val_accuracy: 0.9601\n",
      "Epoch 3/5\n",
      "1875/1875 [==============================] - 10s 5ms/step - loss: 0.1134 - accuracy: 0.9708 - val_loss: 0.1934 - val_accuracy: 0.9590\n",
      "Epoch 4/5\n",
      "1875/1875 [==============================] - 10s 5ms/step - loss: 0.1038 - accuracy: 0.9724 - val_loss: 0.1981 - val_accuracy: 0.9597\n",
      "Epoch 5/5\n",
      "1875/1875 [==============================] - 11s 6ms/step - loss: 0.1042 - accuracy: 0.9734 - val_loss: 0.2489 - val_accuracy: 0.9580\n"
     ]
    },
    {
     "data": {
      "text/plain": [
       "<keras.callbacks.History at 0x28a31c0cf40>"
      ]
     },
     "execution_count": 34,
     "metadata": {},
     "output_type": "execute_result"
    }
   ],
   "source": [
    "model.fit(x_train, y_train, batch_size=32, validation_data=val_dataset, verbose=1, epochs=5)"
   ]
  },
  {
   "cell_type": "code",
   "execution_count": 35,
   "id": "9ee237c6",
   "metadata": {},
   "outputs": [],
   "source": [
    "class CustomDense(keras.layers.Layer):\n",
    "    def __init__(self, units, input_shape):\n",
    "        super().__init__()\n",
    "        self.w = self.add_weight(\n",
    "            name='w',\n",
    "            shape=(input_shape, units),\n",
    "            initializer='random_normal',\n",
    "            trainable=True)\n",
    "        \n",
    "        self.b = self.add_weight(\n",
    "            name='b',\n",
    "            initializer='zeros',\n",
    "            shape=(units,),\n",
    "            trainable=True)\n",
    "        \n",
    "    def call(self, x):\n",
    "        return tf.matmul(x, self.w) + self.b"
   ]
  },
  {
   "cell_type": "code",
   "execution_count": 36,
   "id": "5f87da7b",
   "metadata": {},
   "outputs": [],
   "source": [
    "dense = CustomDense(10, 784)"
   ]
  },
  {
   "cell_type": "code",
   "execution_count": 40,
   "id": "45ebe06c",
   "metadata": {},
   "outputs": [
    {
     "data": {
      "text/plain": [
       "<tf.Variable 'b:0' shape=(10,) dtype=float32, numpy=array([0., 0., 0., 0., 0., 0., 0., 0., 0., 0.], dtype=float32)>"
      ]
     },
     "execution_count": 40,
     "metadata": {},
     "output_type": "execute_result"
    }
   ],
   "source": [
    "dense.b"
   ]
  }
 ],
 "metadata": {
  "kernelspec": {
   "display_name": "Python 3 (ipykernel)",
   "language": "python",
   "name": "python3"
  },
  "language_info": {
   "codemirror_mode": {
    "name": "ipython",
    "version": 3
   },
   "file_extension": ".py",
   "mimetype": "text/x-python",
   "name": "python",
   "nbconvert_exporter": "python",
   "pygments_lexer": "ipython3",
   "version": "3.10.9"
  }
 },
 "nbformat": 4,
 "nbformat_minor": 5
}
