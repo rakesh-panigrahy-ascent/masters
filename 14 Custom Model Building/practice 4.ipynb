{
 "cells": [
  {
   "cell_type": "code",
   "execution_count": 112,
   "id": "c6fb2ff4",
   "metadata": {},
   "outputs": [],
   "source": [
    "import tensorflow as tf\n",
    "from tensorflow.keras.datasets import mnist\n",
    "from tensorflow import keras"
   ]
  },
  {
   "cell_type": "code",
   "execution_count": 113,
   "id": "a7e9a07c",
   "metadata": {},
   "outputs": [
    {
     "data": {
      "text/plain": [
       "((60000, 28, 28), (60000,), (10000, 28, 28), (10000,))"
      ]
     },
     "execution_count": 113,
     "metadata": {},
     "output_type": "execute_result"
    }
   ],
   "source": [
    "(x_train, y_train), (x_test, y_test) = mnist.load_data()\n",
    "x_train.shape, y_train.shape, x_test.shape, y_test.shape"
   ]
  },
  {
   "cell_type": "code",
   "execution_count": 103,
   "id": "b9be3b35",
   "metadata": {},
   "outputs": [
    {
     "data": {
      "text/plain": [
       "(TensorShape([60000, 28, 28, 1]),\n",
       " (60000,),\n",
       " TensorShape([10000, 28, 28, 1]),\n",
       " (10000,))"
      ]
     },
     "execution_count": 103,
     "metadata": {},
     "output_type": "execute_result"
    }
   ],
   "source": [
    "# x_train = tf.expand_dims(x_train, -1)\n",
    "# x_test = tf.expand_dims(x_test, -1)\n",
    "# x_train.shape,y_train.shape, x_test.shape, y_test.shape"
   ]
  },
  {
   "cell_type": "code",
   "execution_count": 114,
   "id": "ae798fe4",
   "metadata": {},
   "outputs": [],
   "source": [
    "train_dataset = tf.data.Dataset.from_tensor_slices((x_train, y_train)).batch(64).prefetch(tf.data.AUTOTUNE)\n",
    "test_dataset = tf.data.Dataset.from_tensor_slices((x_test, y_test)).batch(64).prefetch(tf.data.AUTOTUNE)"
   ]
  },
  {
   "cell_type": "code",
   "execution_count": 106,
   "id": "0cb5ac8d",
   "metadata": {},
   "outputs": [],
   "source": [
    "class CustomDense(keras.layers.Layer):\n",
    "    def __init__(self, input_shape, units):\n",
    "        super().__init__()\n",
    "        self.w = self.add_weight(name='w', initializer='random_normal', trainable=True, shape=(input_shape, units))\n",
    "        self.b = self.add_weight(name='b', initializer='zeros', trainable=True, shape=(units,))\n",
    "        \n",
    "    def call(self, x):\n",
    "        return tf.matmul(x, self.w) + self.b"
   ]
  },
  {
   "cell_type": "code",
   "execution_count": 115,
   "id": "e766e162",
   "metadata": {},
   "outputs": [],
   "source": [
    "# class CustomCNN(keras.layers.Layer):\n",
    "#     def __init__(self, filters, kernel_size=3):\n",
    "#         super().__init__()\n",
    "#         self.cnn = keras.layers.Conv2D(filters=filters, kernel_size=kernel_size, padding='same')\n",
    "#         self.bn = keras.layers.BatchNormalization()\n",
    "        \n",
    "#     def call(self, x, training=False):\n",
    "#         x = self.cnn(x)\n",
    "#         x = self.bn(x, training=training)\n",
    "#         return tf.nn.relu(x)\n",
    "\n",
    "class CustomCNN(keras.layers.Layer):\n",
    "    def __init__(self, filters, kernel_size=3):\n",
    "        super().__init__()\n",
    "        self.conv = keras.layers.Conv2D(filters, kernel_size=kernel_size, padding='same')\n",
    "        self.bn = keras.layers.BatchNormalization()\n",
    "        \n",
    "    def call(self, input_tensor, training=False):\n",
    "        x = self.conv(input_tensor)\n",
    "        x = self.bn(x, training=training)\n",
    "        x = tf.nn.relu(x)\n",
    "        return x\n",
    "    def model(self):\n",
    "        x = keras.Input()\n",
    "        return keras.Model(inputs=[x], outputs=self.call(x))"
   ]
  },
  {
   "cell_type": "code",
   "execution_count": 117,
   "id": "d3adeb63",
   "metadata": {},
   "outputs": [],
   "source": [
    "class MyModel(keras.Model):\n",
    "    def __init__(self):\n",
    "        super().__init__()\n",
    "        self.cnn1 = CustomCNN(32)\n",
    "        self.cnn2 = CustomCNN(64)\n",
    "        self.cnn3 = CustomCNN(128)\n",
    "        self.flatten = keras.layers.Flatten()\n",
    "        self.dense1 = CustomDense(28*28, 64)\n",
    "        self.dense2 = keras.layers.Dense(10)\n",
    "#         self.input_data_shape = \n",
    "        \n",
    "    def call(self, x):\n",
    "#         x = keras.Input(shape=(28,28, 1))(x)\n",
    "#         x = self.cnn1(x)\n",
    "#         x = self.cnn2(x)\n",
    "#         x = self.cnn3(x)\n",
    "        x = self.flatten(x)\n",
    "        x = tf.cast(x, dtype=float)\n",
    "        x = x/255.\n",
    "        x = tf.nn.relu(self.dense1(x))\n",
    "        return self.dense2(x)\n",
    "    \n",
    "    def model(self):\n",
    "        x = keras.layers.Input(shape=(28*28))\n",
    "        return keras.Model(inputs=[x], outputs=self.call(x))"
   ]
  },
  {
   "cell_type": "code",
   "execution_count": 118,
   "id": "c650fe91",
   "metadata": {},
   "outputs": [],
   "source": [
    "model = MyModel()"
   ]
  },
  {
   "cell_type": "code",
   "execution_count": 119,
   "id": "614dc842",
   "metadata": {},
   "outputs": [
    {
     "name": "stdout",
     "output_type": "stream",
     "text": [
      "Model: \"model_5\"\n",
      "_________________________________________________________________\n",
      " Layer (type)                Output Shape              Param #   \n",
      "=================================================================\n",
      " input_18 (InputLayer)       [(None, 784)]             0         \n",
      "                                                                 \n",
      " flatten_16 (Flatten)        (None, 784)               0         \n",
      "                                                                 \n",
      " tf.cast_5 (TFOpLambda)      (None, 784)               0         \n",
      "                                                                 \n",
      " tf.math.truediv_5 (TFOpLamb  (None, 784)              0         \n",
      " da)                                                             \n",
      "                                                                 \n",
      " custom_dense_14 (CustomDens  (None, 64)               50240     \n",
      " e)                                                              \n",
      "                                                                 \n",
      " tf.nn.relu_5 (TFOpLambda)   (None, 64)                0         \n",
      "                                                                 \n",
      " dense_24 (Dense)            (None, 10)                650       \n",
      "                                                                 \n",
      "=================================================================\n",
      "Total params: 50,890\n",
      "Trainable params: 50,890\n",
      "Non-trainable params: 0\n",
      "_________________________________________________________________\n"
     ]
    }
   ],
   "source": [
    "model.model().summary()"
   ]
  },
  {
   "cell_type": "code",
   "execution_count": 120,
   "id": "ac7aad21",
   "metadata": {},
   "outputs": [],
   "source": [
    "# model.compile(optimizer=keras.optimizers.Adam(), loss=keras.losses.SparseCategoricalCrossentropy(from_logits=True), \n",
    "#               metrics=['accuracy'])"
   ]
  },
  {
   "cell_type": "code",
   "execution_count": 121,
   "id": "eb1594e7",
   "metadata": {},
   "outputs": [
    {
     "name": "stdout",
     "output_type": "stream",
     "text": [
      "Epoch 1/5\n",
      "938/938 [==============================] - 3s 3ms/step - loss: 0.3656 - accuracy: 0.8978 - val_loss: 0.2051 - val_accuracy: 0.9380\n",
      "Epoch 2/5\n",
      "938/938 [==============================] - 3s 3ms/step - loss: 0.1788 - accuracy: 0.9479 - val_loss: 0.1542 - val_accuracy: 0.9535\n",
      "Epoch 3/5\n",
      "938/938 [==============================] - 3s 3ms/step - loss: 0.1328 - accuracy: 0.9617 - val_loss: 0.1301 - val_accuracy: 0.9617\n",
      "Epoch 4/5\n",
      "938/938 [==============================] - 3s 3ms/step - loss: 0.1061 - accuracy: 0.9693 - val_loss: 0.1152 - val_accuracy: 0.9665\n",
      "Epoch 5/5\n",
      "938/938 [==============================] - 3s 3ms/step - loss: 0.0878 - accuracy: 0.9746 - val_loss: 0.1080 - val_accuracy: 0.9682\n"
     ]
    },
    {
     "data": {
      "text/plain": [
       "<keras.callbacks.History at 0x21c03cdb400>"
      ]
     },
     "execution_count": 121,
     "metadata": {},
     "output_type": "execute_result"
    }
   ],
   "source": [
    "# model.fit(train_dataset, validation_data=test_dataset, epochs=5, batch_size=32, verbose=1)"
   ]
  },
  {
   "cell_type": "code",
   "execution_count": 175,
   "id": "956082a2",
   "metadata": {},
   "outputs": [],
   "source": [
    "class CustomFit(keras.Model):\n",
    "    def __init__(self, model):\n",
    "        super().__init__()\n",
    "        self.model = model\n",
    "        \n",
    "    def compile(self, loss, optimizer, metric):\n",
    "        super(CustomFit, self).compile()\n",
    "        self.optimizer = optimizer\n",
    "        self.metric = metric\n",
    "        self.loss = loss\n",
    "        \n",
    "    def train_step(self, data):\n",
    "        x, y = data\n",
    "        \n",
    "        with tf.GradientTape() as tape:\n",
    "            y_pred = self.model(x, training=True)\n",
    "            y_pred = tf.cast(y_pred, tf.float16)\n",
    "            y = tf.cast(y, tf.float16)\n",
    "#             print('y type:', type(y))\n",
    "#             print(y)\n",
    "#             print('y pred type:', type(y_pred))\n",
    "#             print(y_pred)\n",
    "            loss = self.loss(y, y_pred)\n",
    "        trainable_variables = self.trainable_variables\n",
    "        grad = tape.gradient(loss, trainable_variables)\n",
    "        \n",
    "        self.optimizer.apply_gradients(zip(grad, trainable_variables))\n",
    "        self.metric.update_state(y, y_pred)\n",
    "        \n",
    "        return {'train loss:':loss, 'train accuracy:':self.metric.result()}\n",
    "    \n",
    "    def test_step(self, data):\n",
    "        x, y = data\n",
    "        y_pred = self.model(x, training=False)\n",
    "        loss = self.loss(y, y_pred)\n",
    "        self.metric.update_state(y, y_pred)\n",
    "        return {'test loss:':loss, 'test accuracy:':self.metric.result()}\n",
    "        \n",
    "        "
   ]
  },
  {
   "cell_type": "code",
   "execution_count": 176,
   "id": "c9d30831",
   "metadata": {},
   "outputs": [],
   "source": [
    "cust_train = CustomFit(model)"
   ]
  },
  {
   "cell_type": "code",
   "execution_count": 177,
   "id": "36946533",
   "metadata": {},
   "outputs": [],
   "source": [
    "cust_train.compile(optimizer=keras.optimizers.Adam(learning_rate=3e-4),\n",
    "                   loss=keras.losses.SparseCategoricalCrossentropy(from_logits=True),\n",
    "                   metric=keras.metrics.SparseCategoricalAccuracy(name='accuracy')\n",
    "                  )"
   ]
  },
  {
   "cell_type": "code",
   "execution_count": 178,
   "id": "f4685549",
   "metadata": {},
   "outputs": [
    {
     "name": "stdout",
     "output_type": "stream",
     "text": [
      "Epoch 1/2\n",
      "938/938 [==============================] - 3s 3ms/step - train loss:: 0.0362 - train accuracy:: 0.9901 - val_test loss:: 9.4706e-04 - val_test accuracy:: 0.9733\n",
      "Epoch 2/2\n",
      "938/938 [==============================] - 3s 3ms/step - train loss:: 0.0342 - train accuracy:: 0.9911 - val_test loss:: 8.8050e-04 - val_test accuracy:: 0.9736\n"
     ]
    },
    {
     "data": {
      "text/plain": [
       "<keras.callbacks.History at 0x21c12037070>"
      ]
     },
     "execution_count": 178,
     "metadata": {},
     "output_type": "execute_result"
    }
   ],
   "source": [
    "cust_train.fit(train_dataset, validation_data=test_dataset, batch_size=32, epochs=2)"
   ]
  }
 ],
 "metadata": {
  "kernelspec": {
   "display_name": "Python 3 (ipykernel)",
   "language": "python",
   "name": "python3"
  },
  "language_info": {
   "codemirror_mode": {
    "name": "ipython",
    "version": 3
   },
   "file_extension": ".py",
   "mimetype": "text/x-python",
   "name": "python",
   "nbconvert_exporter": "python",
   "pygments_lexer": "ipython3",
   "version": "3.10.9"
  }
 },
 "nbformat": 4,
 "nbformat_minor": 5
}
