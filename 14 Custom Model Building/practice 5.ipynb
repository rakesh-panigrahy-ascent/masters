{
 "cells": [
  {
   "cell_type": "code",
   "execution_count": 164,
   "id": "1e2c3093",
   "metadata": {},
   "outputs": [],
   "source": [
    "import tensorflow as tf\n",
    "from tensorflow import keras\n",
    "from tensorflow.keras.datasets import mnist\n",
    "import matplotlib.pyplot as plt"
   ]
  },
  {
   "cell_type": "code",
   "execution_count": 158,
   "id": "c8b8b201",
   "metadata": {},
   "outputs": [],
   "source": [
    "class CustomDense(keras.layers.Layer):\n",
    "    def __init__(self, input_shape, units):\n",
    "        super().__init__()\n",
    "        self.w = self.add_weight(name='w', shape=(input_shape, units), trainable=True, initializer='random_normal')\n",
    "        self.b = self.add_weight(name='b', shape=(units,), trainable=True, initializer='zeros')\n",
    "        \n",
    "    def call(self, x):\n",
    "        return tf.matmul(x, self.w) + self.b\n",
    "    \n",
    "class Relu(keras.layers.Layer):\n",
    "    def __init__(self):\n",
    "        super().__init__()\n",
    "        \n",
    "    def call(self, x):\n",
    "        return tf.maximum(x, 0.1*x)\n",
    "    \n",
    "class CustomNormalize(keras.layers.Layer):\n",
    "    def __init__(self):\n",
    "        super().__init__()\n",
    "        \n",
    "    def call(self, x):\n",
    "        x = tf.cast(x, dtype=float)\n",
    "        return x/255.0"
   ]
  },
  {
   "cell_type": "code",
   "execution_count": 159,
   "id": "2cdf19b9",
   "metadata": {},
   "outputs": [],
   "source": [
    "class MyModel(keras.Model):\n",
    "    def __init__(self):\n",
    "        super().__init__()\n",
    "        self.dense1 = CustomDense((28*28), 64)\n",
    "        self.dense2 = CustomDense(64, 10)\n",
    "        self.relu = Relu()\n",
    "        self.flatten = keras.layers.Flatten()\n",
    "        self.normalize = CustomNormalize()\n",
    "    def call(self, x):\n",
    "        x = self.flatten(x)\n",
    "        x = self.normalize(x)\n",
    "        x = self.relu(self.dense1(x))\n",
    "        return self.dense2(x)\n",
    "    def model(self):\n",
    "        x = keras.layers.Input(shape=(28*28))\n",
    "        return keras.Model(inputs=[x], outputs=self.call(x))"
   ]
  },
  {
   "cell_type": "code",
   "execution_count": 160,
   "id": "7c748e0a",
   "metadata": {},
   "outputs": [],
   "source": [
    "(x_train, y_train), (x_test, y_test) = mnist.load_data()\n",
    "x_train.shape, y_train.shape, x_test.shape, y_test.shape\n",
    "\n",
    "validation_dataset = tf.data.Dataset.from_tensor_slices((x_test, y_test)).batch(32)"
   ]
  },
  {
   "cell_type": "code",
   "execution_count": 161,
   "id": "36d495dc",
   "metadata": {},
   "outputs": [
    {
     "name": "stdout",
     "output_type": "stream",
     "text": [
      "Model: \"model_8\"\n",
      "_________________________________________________________________\n",
      " Layer (type)                Output Shape              Param #   \n",
      "=================================================================\n",
      " input_12 (InputLayer)       [(None, 784)]             0         \n",
      "                                                                 \n",
      " flatten_30 (Flatten)        (None, 784)               0         \n",
      "                                                                 \n",
      " custom_normalize_2 (CustomN  (None, 784)              0         \n",
      " ormalize)                                                       \n",
      "                                                                 \n",
      " custom_dense_15 (CustomDens  (None, 64)               50240     \n",
      " e)                                                              \n",
      "                                                                 \n",
      " relu_5 (Relu)               (None, 64)                0         \n",
      "                                                                 \n",
      " custom_dense_16 (CustomDens  (None, 10)               650       \n",
      " e)                                                              \n",
      "                                                                 \n",
      "=================================================================\n",
      "Total params: 50,890\n",
      "Trainable params: 50,890\n",
      "Non-trainable params: 0\n",
      "_________________________________________________________________\n"
     ]
    }
   ],
   "source": [
    "model = MyModel()\n",
    "model.model().summary()"
   ]
  },
  {
   "cell_type": "code",
   "execution_count": 162,
   "id": "ca7ee499",
   "metadata": {},
   "outputs": [],
   "source": [
    "model.compile(optimizer=keras.optimizers.Adam(learning_rate=0.001), \n",
    "              loss=keras.losses.SparseCategoricalCrossentropy(from_logits=True),\n",
    "              metrics=['accuracy']\n",
    "             )\n"
   ]
  },
  {
   "cell_type": "code",
   "execution_count": 163,
   "id": "ec59fcfa",
   "metadata": {},
   "outputs": [
    {
     "name": "stdout",
     "output_type": "stream",
     "text": [
      "Epoch 1/5\n",
      "1875/1875 [==============================] - 6s 3ms/step - loss: 0.3698 - accuracy: 0.8974 - val_loss: 0.2339 - val_accuracy: 0.9315\n",
      "Epoch 2/5\n",
      "1875/1875 [==============================] - 5s 3ms/step - loss: 0.2092 - accuracy: 0.9395 - val_loss: 0.1717 - val_accuracy: 0.9484\n",
      "Epoch 3/5\n",
      "1875/1875 [==============================] - 4s 2ms/step - loss: 0.1578 - accuracy: 0.9544 - val_loss: 0.1458 - val_accuracy: 0.9588\n",
      "Epoch 4/5\n",
      "1875/1875 [==============================] - 5s 3ms/step - loss: 0.1285 - accuracy: 0.9625 - val_loss: 0.1309 - val_accuracy: 0.9593\n",
      "Epoch 5/5\n",
      "1875/1875 [==============================] - 5s 3ms/step - loss: 0.1085 - accuracy: 0.9677 - val_loss: 0.1149 - val_accuracy: 0.9661\n"
     ]
    },
    {
     "data": {
      "text/plain": [
       "<keras.callbacks.History at 0x2a1d61622f0>"
      ]
     },
     "execution_count": 163,
     "metadata": {},
     "output_type": "execute_result"
    }
   ],
   "source": [
    "model.fit(x_train, y_train, validation_data=validation_dataset, epochs=5, batch_size=32)"
   ]
  },
  {
   "cell_type": "code",
   "execution_count": 187,
   "id": "4e48c033",
   "metadata": {},
   "outputs": [
    {
     "name": "stdout",
     "output_type": "stream",
     "text": [
      "1/1 [==============================] - 0s 29ms/step\n"
     ]
    },
    {
     "data": {
      "text/plain": [
       "6"
      ]
     },
     "execution_count": 187,
     "metadata": {},
     "output_type": "execute_result"
    },
    {
     "data": {
      "image/png": "[encoded data removed]",
      "text/plain": [
       "<Figure size 640x480 with 1 Axes>"
      ]
     },
     "metadata": {},
     "output_type": "display_data"
    }
   ],
   "source": [
    "img = x_test[11]\n",
    "plt.imshow(img)\n",
    "tf.argmax(model.predict(img.reshape(1,28,28))[0]).numpy()"
   ]
  },
  {
   "cell_type": "code",
   "execution_count": null,
   "id": "87d2625c",
   "metadata": {},
   "outputs": [],
   "source": []
  },
  {
   "cell_type": "code",
   "execution_count": null,
   "id": "2caf0e56",
   "metadata": {},
   "outputs": [],
   "source": []
  },
  {
   "cell_type": "code",
   "execution_count": null,
   "id": "a80e794a",
   "metadata": {},
   "outputs": [],
   "source": []
  },
  {
   "cell_type": "code",
   "execution_count": null,
   "id": "caa88aa0",
   "metadata": {},
   "outputs": [],
   "source": []
  },
  {
   "cell_type": "code",
   "execution_count": null,
   "id": "c97f6137",
   "metadata": {},
   "outputs": [],
   "source": []
  }
 ],
 "metadata": {
  "kernelspec": {
   "display_name": "Python 3 (ipykernel)",
   "language": "python",
   "name": "python3"
  },
  "language_info": {
   "codemirror_mode": {
    "name": "ipython",
    "version": 3
   },
   "file_extension": ".py",
   "mimetype": "text/x-python",
   "name": "python",
   "nbconvert_exporter": "python",
   "pygments_lexer": "ipython3",
   "version": "3.10.9"
  }
 },
 "nbformat": 4,
 "nbformat_minor": 5
}
