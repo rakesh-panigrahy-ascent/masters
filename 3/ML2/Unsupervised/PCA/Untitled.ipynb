{
 "cells": [
  {
   "cell_type": "code",
   "execution_count": 78,
   "id": "405af2ca",
   "metadata": {},
   "outputs": [],
   "source": [
    "import numpy as np"
   ]
  },
  {
   "cell_type": "code",
   "execution_count": 94,
   "id": "87e2b9e8",
   "metadata": {},
   "outputs": [],
   "source": [
    "v1 = np.array([[3], [2]])"
   ]
  },
  {
   "cell_type": "code",
   "execution_count": 95,
   "id": "c5121df2",
   "metadata": {},
   "outputs": [],
   "source": [
    "b1 = np.array([[1,0], [0,1]])"
   ]
  },
  {
   "cell_type": "code",
   "execution_count": 97,
   "id": "d75fcae2",
   "metadata": {},
   "outputs": [],
   "source": [
    "# M = inv(b2) * b1 \n",
    "b2 = np.array([[3,-3], [4,-5]])"
   ]
  },
  {
   "cell_type": "code",
   "execution_count": 98,
   "id": "af1b9a69",
   "metadata": {},
   "outputs": [],
   "source": [
    "m = np.linalg.inv(b2)"
   ]
  },
  {
   "cell_type": "code",
   "execution_count": 99,
   "id": "7a3187c8",
   "metadata": {},
   "outputs": [
    {
     "data": {
      "text/plain": [
       "array([[ 1.66666667, -1.        ],\n",
       "       [ 1.33333333, -1.        ]])"
      ]
     },
     "execution_count": 99,
     "metadata": {},
     "output_type": "execute_result"
    }
   ],
   "source": [
    "m"
   ]
  },
  {
   "cell_type": "code",
   "execution_count": 84,
   "id": "2f72374a",
   "metadata": {},
   "outputs": [],
   "source": [
    "# v2 = m * v1"
   ]
  },
  {
   "cell_type": "code",
   "execution_count": 102,
   "id": "71a47819",
   "metadata": {},
   "outputs": [],
   "source": [
    "v2 = m @ v1"
   ]
  },
  {
   "cell_type": "code",
   "execution_count": 103,
   "id": "951bdceb",
   "metadata": {},
   "outputs": [
    {
     "data": {
      "text/plain": [
       "array([[3.],\n",
       "       [2.]])"
      ]
     },
     "execution_count": 103,
     "metadata": {},
     "output_type": "execute_result"
    }
   ],
   "source": [
    "v2"
   ]
  }
 ],
 "metadata": {
  "kernelspec": {
   "display_name": "Python 3 (ipykernel)",
   "language": "python",
   "name": "python3"
  },
  "language_info": {
   "codemirror_mode": {
    "name": "ipython",
    "version": 3
   },
   "file_extension": ".py",
   "mimetype": "text/x-python",
   "name": "python",
   "nbconvert_exporter": "python",
   "pygments_lexer": "ipython3",
   "version": "3.9.12"
  }
 },
 "nbformat": 4,
 "nbformat_minor": 5
}
