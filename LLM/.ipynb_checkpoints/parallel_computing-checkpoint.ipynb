{
 "cells": [
  {
   "cell_type": "code",
   "execution_count": 2,
   "id": "51f34b8c-77e9-4721-9010-86cf6592b443",
   "metadata": {
    "tags": []
   },
   "outputs": [],
   "source": [
    "import time\n",
    "import ray"
   ]
  },
  {
   "cell_type": "code",
   "execution_count": 3,
   "id": "4734f911-0b19-467b-9fbe-899225ef9115",
   "metadata": {
    "tags": []
   },
   "outputs": [
    {
     "name": "stdout",
     "output_type": "stream",
     "text": [
      "Results: [0, 1, 4, 9, 16, 25, 36, 49, 64, 81]\n",
      "Total time: 10.015208005905151 seconds\n",
      "Average time per task: 1.0015208005905152 seconds\n"
     ]
    }
   ],
   "source": [
    "# Running on single core\n",
    "def example_function(x):\n",
    "    # Simulate some computation\n",
    "    time.sleep(1)\n",
    "    return x * x\n",
    "\n",
    "# Number of tasks to execute\n",
    "num_tasks = 10\n",
    "\n",
    "# Perform the tasks in sequential\n",
    "start_time = time.time()\n",
    "results = [example_function(i) for i in range(num_tasks)]\n",
    "end_time = time.time()\n",
    "\n",
    "# Calculate the total time taken\n",
    "total_time = end_time - start_time\n",
    "\n",
    "# Print results and performance metrics\n",
    "print(\"Results:\", results)\n",
    "print(\"Total time:\", total_time, \"seconds\")\n",
    "print(\"Average time per task:\", total_time / num_tasks, \"seconds\")"
   ]
  },
  {
   "cell_type": "code",
   "execution_count": 4,
   "id": "ad4b3647-1d1a-43f7-848d-d78eee124b77",
   "metadata": {
    "tags": []
   },
   "outputs": [
    {
     "name": "stderr",
     "output_type": "stream",
     "text": [
      "2024-03-02 23:25:23,954\tINFO worker.py:1715 -- Started a local Ray instance. View the dashboard at \u001b[1m\u001b[32mhttp://127.0.0.1:8266 \u001b[39m\u001b[22m\n"
     ]
    },
    {
     "name": "stdout",
     "output_type": "stream",
     "text": [
      "Results: [0, 1, 4, 9, 16, 25, 36, 49, 64, 81]\n",
      "Total time: 3.8222968578338623 seconds\n",
      "Average time per task: 0.38222968578338623 seconds\n"
     ]
    }
   ],
   "source": [
    "# Distributed parallel computing using Ray on mutlicore\n",
    "# Initialize Ray\n",
    "ray.init()\n",
    "\n",
    "# Define a simple function that will be executed remotely\n",
    "@ray.remote\n",
    "def example_function(x):\n",
    "    # Simulate some computation\n",
    "    time.sleep(1)\n",
    "    return x * x\n",
    "\n",
    "# Number of tasks to execute\n",
    "num_tasks = 10\n",
    "\n",
    "# Perform the tasks in parallel\n",
    "start_time = time.time()\n",
    "result_ids = [example_function.remote(i) for i in range(num_tasks)]\n",
    "results = ray.get(result_ids)\n",
    "end_time = time.time()\n",
    "\n",
    "# Calculate the total time taken\n",
    "total_time = end_time - start_time\n",
    "\n",
    "# Print results and performance metrics\n",
    "print(\"Results:\", results)\n",
    "print(\"Total time:\", total_time, \"seconds\")\n",
    "print(\"Average time per task:\", total_time / num_tasks, \"seconds\")\n",
    "\n",
    "# Shutdown Ray\n",
    "ray.shutdown()"
   ]
  }
 ],
 "metadata": {
  "kernelspec": {
   "display_name": "Python 3 (ipykernel)",
   "language": "python",
   "name": "python3"
  },
  "language_info": {
   "codemirror_mode": {
    "name": "ipython",
    "version": 3
   },
   "file_extension": ".py",
   "mimetype": "text/x-python",
   "name": "python",
   "nbconvert_exporter": "python",
   "pygments_lexer": "ipython3",
   "version": "3.11.5"
  }
 },
 "nbformat": 4,
 "nbformat_minor": 5
}
