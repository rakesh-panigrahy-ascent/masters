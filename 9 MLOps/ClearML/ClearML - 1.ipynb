{
 "cells": [
  {
   "cell_type": "code",
   "execution_count": 1,
   "id": "3863486c",
   "metadata": {},
   "outputs": [
    {
     "name": "stdout",
     "output_type": "stream",
     "text": [
      "Collecting clearml\n",
      "  Downloading clearml-1.10.3-py2.py3-none-any.whl (1.1 MB)\n",
      "Collecting pathlib2>=2.3.0\n",
      "  Downloading pathlib2-2.3.7.post1-py2.py3-none-any.whl (18 kB)\n",
      "Requirement already satisfied: Pillow>=4.1.1 in c:\\users\\rakesh panigrahy\\anaconda3\\lib\\site-packages (from clearml) (9.0.1)\n",
      "Requirement already satisfied: urllib3>=1.21.1 in c:\\users\\rakesh panigrahy\\anaconda3\\lib\\site-packages (from clearml) (1.26.9)\n",
      "Collecting furl>=2.0.0\n",
      "  Downloading furl-2.1.3-py2.py3-none-any.whl (20 kB)\n",
      "Collecting pyjwt<2.5.0,>=2.4.0\n",
      "  Downloading PyJWT-2.4.0-py3-none-any.whl (18 kB)\n",
      "Requirement already satisfied: attrs>=18.0 in c:\\users\\rakesh panigrahy\\anaconda3\\lib\\site-packages (from clearml) (21.4.0)\n",
      "Requirement already satisfied: psutil>=3.4.2 in c:\\users\\rakesh panigrahy\\anaconda3\\lib\\site-packages (from clearml) (5.8.0)\n",
      "Requirement already satisfied: jsonschema>=2.6.0 in c:\\users\\rakesh panigrahy\\anaconda3\\lib\\site-packages (from clearml) (4.4.0)\n",
      "Requirement already satisfied: pyparsing>=2.0.3 in c:\\users\\rakesh panigrahy\\anaconda3\\lib\\site-packages (from clearml) (3.0.4)\n",
      "Requirement already satisfied: numpy>=1.10 in c:\\users\\rakesh panigrahy\\anaconda3\\lib\\site-packages (from clearml) (1.21.5)\n",
      "Requirement already satisfied: requests>=2.20.0 in c:\\users\\rakesh panigrahy\\anaconda3\\lib\\site-packages (from clearml) (2.27.1)\n",
      "Requirement already satisfied: six>=1.13.0 in c:\\users\\rakesh panigrahy\\anaconda3\\lib\\site-packages (from clearml) (1.16.0)\n",
      "Requirement already satisfied: python-dateutil>=2.6.1 in c:\\users\\rakesh panigrahy\\anaconda3\\lib\\site-packages (from clearml) (2.8.2)\n",
      "Requirement already satisfied: PyYAML>=3.12 in c:\\users\\rakesh panigrahy\\anaconda3\\lib\\site-packages (from clearml) (6.0)\n",
      "Collecting orderedmultidict>=1.0.1\n",
      "  Downloading orderedmultidict-1.0.1-py2.py3-none-any.whl (11 kB)\n",
      "Requirement already satisfied: pyrsistent!=0.17.0,!=0.17.1,!=0.17.2,>=0.14.0 in c:\\users\\rakesh panigrahy\\anaconda3\\lib\\site-packages (from jsonschema>=2.6.0->clearml) (0.18.0)\n",
      "Requirement already satisfied: charset-normalizer~=2.0.0 in c:\\users\\rakesh panigrahy\\anaconda3\\lib\\site-packages (from requests>=2.20.0->clearml) (2.0.4)\n",
      "Requirement already satisfied: certifi>=2017.4.17 in c:\\users\\rakesh panigrahy\\anaconda3\\lib\\site-packages (from requests>=2.20.0->clearml) (2021.10.8)\n",
      "Requirement already satisfied: idna<4,>=2.5 in c:\\users\\rakesh panigrahy\\anaconda3\\lib\\site-packages (from requests>=2.20.0->clearml) (3.3)\n",
      "Installing collected packages: orderedmultidict, pyjwt, pathlib2, furl, clearml\n",
      "  Attempting uninstall: pyjwt\n",
      "    Found existing installation: PyJWT 2.1.0\n",
      "    Uninstalling PyJWT-2.1.0:\n",
      "      Successfully uninstalled PyJWT-2.1.0\n",
      "Successfully installed clearml-1.10.3 furl-2.1.3 orderedmultidict-1.0.1 pathlib2-2.3.7.post1 pyjwt-2.4.0\n"
     ]
    }
   ],
   "source": [
    "!pip install clearml"
   ]
  },
  {
   "cell_type": "code",
   "execution_count": 9,
   "id": "2ca34a95",
   "metadata": {},
   "outputs": [
    {
     "name": "stdout",
     "output_type": "stream",
     "text": [
      "env: CLEARML_WEB_HOST=https://app.clear.ml\n",
      "env: CLEARML_API_HOST=https://api.clear.ml\n",
      "env: CLEARML_FILES_HOST=https://files.clear.ml\n",
      "env: CLEARML_API_ACCESS_KEY=794OAMW2M3BP0CFCPGCL\n",
      "env: CLEARML_API_SECRET_KEY=TjhZeRCdfooq0uNTVFfwSLIraulg0qN2JqYUejkNavebHqqPLb\n"
     ]
    }
   ],
   "source": [
    "# clearml-init\n",
    "%env CLEARML_WEB_HOST=https://app.clear.ml\n",
    "%env CLEARML_API_HOST=https://api.clear.ml\n",
    "%env CLEARML_FILES_HOST=https://files.clear.ml\n",
    "%env CLEARML_API_ACCESS_KEY=794OAMW2M3BP0CFCPGCL\n",
    "%env CLEARML_API_SECRET_KEY=TjhZeRCdfooq0uNTVFfwSLIraulg0qN2JqYUejkNavebHqqPLb"
   ]
  },
  {
   "cell_type": "code",
   "execution_count": 8,
   "id": "799353ba",
   "metadata": {},
   "outputs": [],
   "source": [
    "# api {\n",
    "#   # Rakesh Panigrahy's workspace\n",
    "#   web_server: https://app.clear.ml\n",
    "#   api_server: https://api.clear.ml\n",
    "#   files_server: https://files.clear.ml\n",
    "#   credentials {\n",
    "#     \"access_key\" = \"794OAMW2M3BP0CFCPGCL\"\n",
    "#     \"secret_key\" = \"TjhZeRCdfooq0uNTVFfwSLIraulg0qN2JqYUejkNavebHqqPLb\"\n",
    "#   }\n",
    "# }"
   ]
  },
  {
   "cell_type": "code",
   "execution_count": 10,
   "id": "6434e536",
   "metadata": {},
   "outputs": [
    {
     "name": "stdout",
     "output_type": "stream",
     "text": [
      "ClearML Task: created new task id=1b976947dbe845538d51d3bba19350ec\n",
      "2023-05-06 14:54:17,312 - clearml.Task - INFO - No repository found, storing script code instead\n",
      "ClearML results page: https://app.clear.ml/projects/004a65d2c19943cbbac5b1543706bae1/experiments/1b976947dbe845538d51d3bba19350ec/output/log\n",
      "ClearML Monitor: GPU monitoring failed getting GPU reading, switching off GPU monitoring\n",
      "ClearML Monitor: Could not detect iteration reporting, falling back to iterations as seconds-from-start\n"
     ]
    }
   ],
   "source": [
    "from clearml import Task\n",
    "task = Task.init(project_name=\"my project\", task_name=\"my task\")"
   ]
  },
  {
   "cell_type": "code",
   "execution_count": 11,
   "id": "b48bbe1e",
   "metadata": {},
   "outputs": [
    {
     "name": "stdout",
     "output_type": "stream",
     "text": [
      "WARNING:tensorflow:Please fix your imports. Module tensorflow.python.training.tracking.util has been moved to tensorflow.python.checkpoint.checkpoint. The old module will be deleted in version 2.11.\n"
     ]
    }
   ],
   "source": [
    "import numpy as np\n",
    "from tensorflow import keras\n",
    "from tensorflow.keras import layers"
   ]
  },
  {
   "cell_type": "code",
   "execution_count": 12,
   "id": "0527c90e",
   "metadata": {},
   "outputs": [
    {
     "name": "stdout",
     "output_type": "stream",
     "text": [
      "x_train shape: (60000, 28, 28, 1)\n",
      "60000 train samples\n",
      "10000 test samples\n"
     ]
    }
   ],
   "source": [
    "# Model / data parameters\n",
    "num_classes = 10\n",
    "input_shape = (28, 28, 1)\n",
    "\n",
    "# Load the data and split it between train and test sets\n",
    "(x_train, y_train), (x_test, y_test) = keras.datasets.mnist.load_data()\n",
    "\n",
    "# Scale images to the [0, 1] range\n",
    "x_train = x_train.astype(\"float32\") / 255\n",
    "x_test = x_test.astype(\"float32\") / 255\n",
    "# Make sure images have shape (28, 28, 1)\n",
    "x_train = np.expand_dims(x_train, -1)\n",
    "x_test = np.expand_dims(x_test, -1)\n",
    "print(\"x_train shape:\", x_train.shape)\n",
    "print(x_train.shape[0], \"train samples\")\n",
    "print(x_test.shape[0], \"test samples\")\n",
    "\n",
    "\n",
    "# convert class vectors to binary class matrices\n",
    "y_train = keras.utils.to_categorical(y_train, num_classes)\n",
    "y_test = keras.utils.to_categorical(y_test, num_classes)"
   ]
  },
  {
   "cell_type": "code",
   "execution_count": 13,
   "id": "a34016b7",
   "metadata": {},
   "outputs": [
    {
     "name": "stdout",
     "output_type": "stream",
     "text": [
      "Model: \"sequential\"\n",
      "_________________________________________________________________\n",
      " Layer (type)                Output Shape              Param #   \n",
      "=================================================================\n",
      " conv2d (Conv2D)             (None, 26, 26, 32)        320       \n",
      "                                                                 \n",
      " max_pooling2d (MaxPooling2D  (None, 13, 13, 32)       0         \n",
      " )                                                               \n",
      "                                                                 \n",
      " conv2d_1 (Conv2D)           (None, 11, 11, 64)        18496     \n",
      "                                                                 \n",
      " max_pooling2d_1 (MaxPooling  (None, 5, 5, 64)         0         \n",
      " 2D)                                                             \n",
      "                                                                 \n",
      " flatten (Flatten)           (None, 1600)              0         \n",
      "                                                                 \n",
      " dropout (Dropout)           (None, 1600)              0         \n",
      "                                                                 \n",
      " dense (Dense)               (None, 10)                16010     \n",
      "                                                                 \n",
      "=================================================================\n",
      "Total params: 34,826\n",
      "Trainable params: 34,826\n",
      "Non-trainable params: 0\n",
      "_________________________________________________________________\n"
     ]
    }
   ],
   "source": [
    "model = keras.Sequential(\n",
    "    [\n",
    "        keras.Input(shape=input_shape),\n",
    "        layers.Conv2D(32, kernel_size=(3, 3), activation=\"relu\"),\n",
    "        layers.MaxPooling2D(pool_size=(2, 2)),\n",
    "        layers.Conv2D(64, kernel_size=(3, 3), activation=\"relu\"),\n",
    "        layers.MaxPooling2D(pool_size=(2, 2)),\n",
    "        layers.Flatten(),\n",
    "        layers.Dropout(0.5),\n",
    "        layers.Dense(num_classes, activation=\"softmax\"),\n",
    "    ]\n",
    ")\n",
    "\n",
    "model.summary()"
   ]
  },
  {
   "cell_type": "code",
   "execution_count": 14,
   "id": "fe991373",
   "metadata": {},
   "outputs": [
    {
     "name": "stdout",
     "output_type": "stream",
     "text": [
      "Epoch 1/15\n",
      "422/422 [==============================] - 29s 66ms/step - loss: 0.3493 - accuracy: 0.8943 - val_loss: 0.0894 - val_accuracy: 0.9765\n",
      "Epoch 2/15\n",
      "422/422 [==============================] - 30s 72ms/step - loss: 0.1109 - accuracy: 0.9656 - val_loss: 0.0584 - val_accuracy: 0.9838\n",
      "Epoch 3/15\n",
      "422/422 [==============================] - 27s 63ms/step - loss: 0.0854 - accuracy: 0.9735 - val_loss: 0.0467 - val_accuracy: 0.9877\n",
      "Epoch 4/15\n",
      "422/422 [==============================] - 28s 67ms/step - loss: 0.0704 - accuracy: 0.9782 - val_loss: 0.0428 - val_accuracy: 0.9887\n",
      "Epoch 5/15\n",
      "422/422 [==============================] - 30s 72ms/step - loss: 0.0633 - accuracy: 0.9805 - val_loss: 0.0399 - val_accuracy: 0.9887\n",
      "Epoch 6/15\n",
      "422/422 [==============================] - 27s 63ms/step - loss: 0.0572 - accuracy: 0.9821 - val_loss: 0.0352 - val_accuracy: 0.9900\n",
      "Epoch 7/15\n",
      "422/422 [==============================] - 27s 63ms/step - loss: 0.0509 - accuracy: 0.9846 - val_loss: 0.0377 - val_accuracy: 0.9898\n",
      "Epoch 8/15\n",
      "422/422 [==============================] - 27s 64ms/step - loss: 0.0482 - accuracy: 0.9844 - val_loss: 0.0335 - val_accuracy: 0.9908\n",
      "Epoch 9/15\n",
      "422/422 [==============================] - 27s 65ms/step - loss: 0.0451 - accuracy: 0.9854 - val_loss: 0.0318 - val_accuracy: 0.9917\n",
      "Epoch 10/15\n",
      "422/422 [==============================] - 28s 66ms/step - loss: 0.0420 - accuracy: 0.9868 - val_loss: 0.0319 - val_accuracy: 0.9910\n",
      "Epoch 11/15\n",
      "422/422 [==============================] - 29s 69ms/step - loss: 0.0398 - accuracy: 0.9872 - val_loss: 0.0314 - val_accuracy: 0.9913\n",
      "Epoch 12/15\n",
      "422/422 [==============================] - 29s 68ms/step - loss: 0.0374 - accuracy: 0.9872 - val_loss: 0.0284 - val_accuracy: 0.9922\n",
      "Epoch 13/15\n",
      "422/422 [==============================] - 28s 65ms/step - loss: 0.0368 - accuracy: 0.9885 - val_loss: 0.0306 - val_accuracy: 0.9902\n",
      "Epoch 14/15\n",
      "422/422 [==============================] - 27s 64ms/step - loss: 0.0343 - accuracy: 0.9890 - val_loss: 0.0275 - val_accuracy: 0.9928\n",
      "Epoch 15/15\n",
      "422/422 [==============================] - 27s 63ms/step - loss: 0.0323 - accuracy: 0.9894 - val_loss: 0.0282 - val_accuracy: 0.9917\n"
     ]
    },
    {
     "data": {
      "text/plain": [
       "<keras.callbacks.History at 0x1f738b2bdf0>"
      ]
     },
     "execution_count": 14,
     "metadata": {},
     "output_type": "execute_result"
    }
   ],
   "source": [
    "batch_size = 128\n",
    "epochs = 15\n",
    "\n",
    "model.compile(loss=\"categorical_crossentropy\", optimizer=\"adam\", metrics=[\"accuracy\"])\n",
    "\n",
    "model.fit(x_train, y_train, batch_size=batch_size, epochs=epochs, validation_split=0.1)"
   ]
  },
  {
   "cell_type": "code",
   "execution_count": 15,
   "id": "9b2569d8",
   "metadata": {},
   "outputs": [
    {
     "name": "stdout",
     "output_type": "stream",
     "text": [
      "Test loss: 0.024571942165493965\n",
      "Test accuracy: 0.991100013256073\n"
     ]
    }
   ],
   "source": [
    "score = model.evaluate(x_test, y_test, verbose=0)\n",
    "print(\"Test loss:\", score[0])\n",
    "print(\"Test accuracy:\", score[1])"
   ]
  },
  {
   "cell_type": "code",
   "execution_count": 17,
   "id": "b95a3e5d",
   "metadata": {},
   "outputs": [
    {
     "name": "stderr",
     "output_type": "stream",
     "text": [
      "ERROR: pip's dependency resolver does not currently take into account all the packages that are installed. This behaviour is the source of the following dependency conflicts.\n",
      "anaconda-project 0.10.2 requires ruamel-yaml, which is not installed.\n",
      "pandas-profiling 3.2.0 requires markupsafe~=2.1.1, but you have markupsafe 2.0.1 which is incompatible.\n",
      "jupyter-server 1.13.5 requires pywinpty<2; os_name == \"nt\", but you have pywinpty 2.0.2 which is incompatible.\n"
     ]
    },
    {
     "name": "stdout",
     "output_type": "stream",
     "text": [
      "Collecting mlflow\n",
      "  Downloading mlflow-2.3.1-py3-none-any.whl (17.7 MB)\n",
      "Requirement already satisfied: pytz<2024 in c:\\users\\rakesh panigrahy\\anaconda3\\lib\\site-packages (from mlflow) (2021.3)\n",
      "Collecting gitpython<4,>=2.1.0\n",
      "  Downloading GitPython-3.1.31-py3-none-any.whl (184 kB)\n",
      "Requirement already satisfied: cloudpickle<3 in c:\\users\\rakesh panigrahy\\anaconda3\\lib\\site-packages (from mlflow) (2.0.0)\n",
      "Requirement already satisfied: protobuf<5,>=3.12.0 in c:\\users\\rakesh panigrahy\\anaconda3\\lib\\site-packages (from mlflow) (3.19.5)\n",
      "Requirement already satisfied: docker<7,>=4.0.0 in c:\\users\\rakesh panigrahy\\anaconda3\\lib\\site-packages (from mlflow) (6.0.0)\n",
      "Requirement already satisfied: markdown<4,>=3.3 in c:\\users\\rakesh panigrahy\\anaconda3\\lib\\site-packages (from mlflow) (3.3.4)\n",
      "Requirement already satisfied: importlib-metadata!=4.7.0,<7,>=3.7.0 in c:\\users\\rakesh panigrahy\\anaconda3\\lib\\site-packages (from mlflow) (4.11.3)\n",
      "Requirement already satisfied: entrypoints<1 in c:\\users\\rakesh panigrahy\\anaconda3\\lib\\site-packages (from mlflow) (0.4)\n",
      "Requirement already satisfied: scipy<2 in c:\\users\\rakesh panigrahy\\anaconda3\\lib\\site-packages (from mlflow) (1.7.3)\n",
      "Collecting querystring-parser<2\n",
      "  Downloading querystring_parser-1.2.4-py2.py3-none-any.whl (7.9 kB)\n",
      "Requirement already satisfied: pandas<3 in c:\\users\\rakesh panigrahy\\anaconda3\\lib\\site-packages (from mlflow) (1.4.2)\n",
      "Collecting waitress<3\n",
      "  Downloading waitress-2.1.2-py3-none-any.whl (57 kB)\n",
      "Requirement already satisfied: sqlalchemy<3,>=1.4.0 in c:\\users\\rakesh panigrahy\\anaconda3\\lib\\site-packages (from mlflow) (1.4.32)\n",
      "Collecting alembic!=1.10.0,<2\n",
      "  Downloading alembic-1.10.4-py3-none-any.whl (212 kB)\n",
      "Collecting databricks-cli<1,>=0.8.7\n",
      "  Downloading databricks-cli-0.17.6.tar.gz (82 kB)\n",
      "Requirement already satisfied: numpy<2 in c:\\users\\rakesh panigrahy\\anaconda3\\lib\\site-packages (from mlflow) (1.21.5)\n",
      "Requirement already satisfied: matplotlib<4 in c:\\users\\rakesh panigrahy\\anaconda3\\lib\\site-packages (from mlflow) (3.5.1)\n",
      "Requirement already satisfied: Flask<3 in c:\\users\\rakesh panigrahy\\anaconda3\\lib\\site-packages (from mlflow) (1.1.2)\n",
      "Collecting pyarrow<12,>=4.0.0\n",
      "  Downloading pyarrow-11.0.0-cp39-cp39-win_amd64.whl (20.6 MB)\n",
      "Requirement already satisfied: requests<3,>=2.17.3 in c:\\users\\rakesh panigrahy\\anaconda3\\lib\\site-packages (from mlflow) (2.27.1)\n",
      "Collecting Jinja2<4,>=3.0\n",
      "  Using cached Jinja2-3.1.2-py3-none-any.whl (133 kB)\n",
      "Requirement already satisfied: pyyaml<7,>=5.1 in c:\\users\\rakesh panigrahy\\anaconda3\\lib\\site-packages (from mlflow) (6.0)\n",
      "Collecting sqlparse<1,>=0.4.0\n",
      "  Downloading sqlparse-0.4.4-py3-none-any.whl (41 kB)\n",
      "Requirement already satisfied: scikit-learn<2 in c:\\users\\rakesh panigrahy\\appdata\\roaming\\python\\python39\\site-packages (from mlflow) (1.1.1)\n",
      "Requirement already satisfied: packaging<24 in c:\\users\\rakesh panigrahy\\anaconda3\\lib\\site-packages (from mlflow) (21.3)\n",
      "Requirement already satisfied: click<9,>=7.0 in c:\\users\\rakesh panigrahy\\anaconda3\\lib\\site-packages (from mlflow) (8.0.4)\n",
      "Requirement already satisfied: typing-extensions>=4 in c:\\users\\rakesh panigrahy\\anaconda3\\lib\\site-packages (from alembic!=1.10.0,<2->mlflow) (4.1.1)\n",
      "Collecting Mako\n",
      "  Using cached Mako-1.2.4-py3-none-any.whl (78 kB)\n",
      "Requirement already satisfied: colorama in c:\\users\\rakesh panigrahy\\anaconda3\\lib\\site-packages (from click<9,>=7.0->mlflow) (0.4.6)\n",
      "Requirement already satisfied: pyjwt>=1.7.0 in c:\\users\\rakesh panigrahy\\anaconda3\\lib\\site-packages (from databricks-cli<1,>=0.8.7->mlflow) (2.4.0)\n",
      "Requirement already satisfied: oauthlib>=3.1.0 in c:\\users\\rakesh panigrahy\\anaconda3\\lib\\site-packages (from databricks-cli<1,>=0.8.7->mlflow) (3.2.0)\n",
      "Requirement already satisfied: tabulate>=0.7.7 in c:\\users\\rakesh panigrahy\\anaconda3\\lib\\site-packages (from databricks-cli<1,>=0.8.7->mlflow) (0.8.9)\n",
      "Requirement already satisfied: six>=1.10.0 in c:\\users\\rakesh panigrahy\\anaconda3\\lib\\site-packages (from databricks-cli<1,>=0.8.7->mlflow) (1.16.0)\n",
      "Requirement already satisfied: urllib3>=1.26.0 in c:\\users\\rakesh panigrahy\\anaconda3\\lib\\site-packages (from docker<7,>=4.0.0->mlflow) (1.26.9)\n",
      "Requirement already satisfied: pywin32>=304 in c:\\users\\rakesh panigrahy\\anaconda3\\lib\\site-packages (from docker<7,>=4.0.0->mlflow) (304)\n",
      "Requirement already satisfied: websocket-client>=0.32.0 in c:\\users\\rakesh panigrahy\\anaconda3\\lib\\site-packages (from docker<7,>=4.0.0->mlflow) (0.58.0)\n",
      "Requirement already satisfied: Werkzeug>=0.15 in c:\\users\\rakesh panigrahy\\anaconda3\\lib\\site-packages (from Flask<3->mlflow) (2.0.3)\n",
      "Requirement already satisfied: itsdangerous>=0.24 in c:\\users\\rakesh panigrahy\\anaconda3\\lib\\site-packages (from Flask<3->mlflow) (2.0.1)\n",
      "Collecting gitdb<5,>=4.0.1\n",
      "  Downloading gitdb-4.0.10-py3-none-any.whl (62 kB)\n",
      "Collecting smmap<6,>=3.0.1\n",
      "  Downloading smmap-5.0.0-py3-none-any.whl (24 kB)\n",
      "Requirement already satisfied: zipp>=0.5 in c:\\users\\rakesh panigrahy\\anaconda3\\lib\\site-packages (from importlib-metadata!=4.7.0,<7,>=3.7.0->mlflow) (3.7.0)\n",
      "Requirement already satisfied: MarkupSafe>=2.0 in c:\\users\\rakesh panigrahy\\anaconda3\\lib\\site-packages (from Jinja2<4,>=3.0->mlflow) (2.0.1)\n",
      "Requirement already satisfied: cycler>=0.10 in c:\\users\\rakesh panigrahy\\anaconda3\\lib\\site-packages (from matplotlib<4->mlflow) (0.11.0)\n",
      "Requirement already satisfied: pillow>=6.2.0 in c:\\users\\rakesh panigrahy\\anaconda3\\lib\\site-packages (from matplotlib<4->mlflow) (9.0.1)\n",
      "Requirement already satisfied: fonttools>=4.22.0 in c:\\users\\rakesh panigrahy\\anaconda3\\lib\\site-packages (from matplotlib<4->mlflow) (4.25.0)\n",
      "Requirement already satisfied: python-dateutil>=2.7 in c:\\users\\rakesh panigrahy\\anaconda3\\lib\\site-packages (from matplotlib<4->mlflow) (2.8.2)\n",
      "Requirement already satisfied: kiwisolver>=1.0.1 in c:\\users\\rakesh panigrahy\\anaconda3\\lib\\site-packages (from matplotlib<4->mlflow) (1.3.2)\n",
      "Requirement already satisfied: pyparsing>=2.2.1 in c:\\users\\rakesh panigrahy\\anaconda3\\lib\\site-packages (from matplotlib<4->mlflow) (3.0.4)\n",
      "Requirement already satisfied: charset-normalizer~=2.0.0 in c:\\users\\rakesh panigrahy\\anaconda3\\lib\\site-packages (from requests<3,>=2.17.3->mlflow) (2.0.4)\n",
      "Requirement already satisfied: certifi>=2017.4.17 in c:\\users\\rakesh panigrahy\\anaconda3\\lib\\site-packages (from requests<3,>=2.17.3->mlflow) (2021.10.8)\n",
      "Requirement already satisfied: idna<4,>=2.5 in c:\\users\\rakesh panigrahy\\anaconda3\\lib\\site-packages (from requests<3,>=2.17.3->mlflow) (3.3)\n",
      "Requirement already satisfied: threadpoolctl>=2.0.0 in c:\\users\\rakesh panigrahy\\anaconda3\\lib\\site-packages (from scikit-learn<2->mlflow) (2.2.0)\n",
      "Requirement already satisfied: joblib>=1.0.0 in c:\\users\\rakesh panigrahy\\anaconda3\\lib\\site-packages (from scikit-learn<2->mlflow) (1.1.0)\n",
      "Requirement already satisfied: greenlet!=0.4.17 in c:\\users\\rakesh panigrahy\\anaconda3\\lib\\site-packages (from sqlalchemy<3,>=1.4.0->mlflow) (1.1.1)\n",
      "Building wheels for collected packages: databricks-cli\n",
      "  Building wheel for databricks-cli (setup.py): started\n",
      "  Building wheel for databricks-cli (setup.py): finished with status 'done'\n",
      "  Created wheel for databricks-cli: filename=databricks_cli-0.17.6-py3-none-any.whl size=143236 sha256=b8451f6bbdd1bfa3d17f5516ab6b9b4e3fda3dd5c8569e98e7e993d32ddac87c\n",
      "  Stored in directory: c:\\users\\rakesh panigrahy\\appdata\\local\\pip\\cache\\wheels\\06\\d9\\cb\\1cdc0826334cb600957db0b5a8448db02a8995daeab2556745\n",
      "Successfully built databricks-cli\n",
      "Installing collected packages: smmap, Mako, Jinja2, gitdb, waitress, sqlparse, querystring-parser, pyarrow, gitpython, databricks-cli, alembic, mlflow\n",
      "  Attempting uninstall: Jinja2\n",
      "    Found existing installation: Jinja2 2.11.3\n",
      "    Uninstalling Jinja2-2.11.3:\n",
      "      Successfully uninstalled Jinja2-2.11.3\n",
      "Successfully installed Jinja2-3.1.2 Mako-1.2.4 alembic-1.10.4 databricks-cli-0.17.6 gitdb-4.0.10 gitpython-3.1.31 mlflow-2.3.1 pyarrow-11.0.0 querystring-parser-1.2.4 smmap-5.0.0 sqlparse-0.4.4 waitress-2.1.2\n",
      "Collecting mlflow\n",
      "  Using cached mlflow-2.3.1-py3-none-any.whl (17.7 MB)\n",
      "Requirement already satisfied: scipy<2 in c:\\users\\rakesh panigrahy\\anaconda3\\lib\\site-packages (from mlflow) (1.7.3)\n",
      "Requirement already satisfied: numpy<2 in c:\\users\\rakesh panigrahy\\anaconda3\\lib\\site-packages (from mlflow) (1.21.5)\n",
      "Requirement already satisfied: Jinja2<4,>=3.0 in c:\\users\\rakesh panigrahy\\anaconda3\\lib\\site-packages (from mlflow) (3.1.2)\n",
      "Requirement already satisfied: Flask<3 in c:\\users\\rakesh panigrahy\\anaconda3\\lib\\site-packages (from mlflow) (1.1.2)\n",
      "Requirement already satisfied: entrypoints<1 in c:\\users\\rakesh panigrahy\\anaconda3\\lib\\site-packages (from mlflow) (0.4)\n",
      "Collecting pyarrow<12,>=4.0.0\n",
      "  Using cached pyarrow-11.0.0-cp39-cp39-win_amd64.whl (20.6 MB)\n",
      "Collecting gitpython<4,>=2.1.0\n",
      "  Using cached GitPython-3.1.31-py3-none-any.whl (184 kB)\n",
      "Requirement already satisfied: sqlparse<1,>=0.4.0 in c:\\users\\rakesh panigrahy\\anaconda3\\lib\\site-packages (from mlflow) (0.4.4)\n",
      "Requirement already satisfied: protobuf<5,>=3.12.0 in c:\\users\\rakesh panigrahy\\anaconda3\\lib\\site-packages (from mlflow) (3.19.5)\n",
      "Requirement already satisfied: pandas<3 in c:\\users\\rakesh panigrahy\\anaconda3\\lib\\site-packages (from mlflow) (1.4.2)\n",
      "Requirement already satisfied: pyyaml<7,>=5.1 in c:\\users\\rakesh panigrahy\\anaconda3\\lib\\site-packages (from mlflow) (6.0)\n",
      "Requirement already satisfied: scikit-learn<2 in c:\\users\\rakesh panigrahy\\appdata\\roaming\\python\\python39\\site-packages (from mlflow) (1.1.1)\n",
      "Requirement already satisfied: importlib-metadata!=4.7.0,<7,>=3.7.0 in c:\\users\\rakesh panigrahy\\anaconda3\\lib\\site-packages (from mlflow) (4.11.3)\n",
      "Requirement already satisfied: cloudpickle<3 in c:\\users\\rakesh panigrahy\\anaconda3\\lib\\site-packages (from mlflow) (2.0.0)\n",
      "Requirement already satisfied: click<9,>=7.0 in c:\\users\\rakesh panigrahy\\anaconda3\\lib\\site-packages (from mlflow) (8.0.4)\n",
      "Requirement already satisfied: packaging<24 in c:\\users\\rakesh panigrahy\\anaconda3\\lib\\site-packages (from mlflow) (21.3)\n",
      "Requirement already satisfied: markdown<4,>=3.3 in c:\\users\\rakesh panigrahy\\anaconda3\\lib\\site-packages (from mlflow) (3.3.4)\n",
      "Requirement already satisfied: pytz<2024 in c:\\users\\rakesh panigrahy\\anaconda3\\lib\\site-packages (from mlflow) (2021.3)\n",
      "Requirement already satisfied: requests<3,>=2.17.3 in c:\\users\\rakesh panigrahy\\anaconda3\\lib\\site-packages (from mlflow) (2.27.1)\n",
      "Collecting alembic!=1.10.0,<2\n",
      "  Using cached alembic-1.10.4-py3-none-any.whl (212 kB)\n",
      "Collecting databricks-cli<1,>=0.8.7\n",
      "  Using cached databricks_cli-0.17.6-py3-none-any.whl\n",
      "Requirement already satisfied: matplotlib<4 in c:\\users\\rakesh panigrahy\\anaconda3\\lib\\site-packages (from mlflow) (3.5.1)\n",
      "Requirement already satisfied: querystring-parser<2 in c:\\users\\rakesh panigrahy\\anaconda3\\lib\\site-packages (from mlflow) (1.2.4)\n",
      "Requirement already satisfied: sqlalchemy<3,>=1.4.0 in c:\\users\\rakesh panigrahy\\anaconda3\\lib\\site-packages (from mlflow) (1.4.32)\n",
      "Requirement already satisfied: waitress<3 in c:\\users\\rakesh panigrahy\\anaconda3\\lib\\site-packages (from mlflow) (2.1.2)\n",
      "Requirement already satisfied: docker<7,>=4.0.0 in c:\\users\\rakesh panigrahy\\anaconda3\\lib\\site-packages (from mlflow) (6.0.0)\n",
      "Requirement already satisfied: typing-extensions>=4 in c:\\users\\rakesh panigrahy\\anaconda3\\lib\\site-packages (from alembic!=1.10.0,<2->mlflow) (4.1.1)\n",
      "Requirement already satisfied: Mako in c:\\users\\rakesh panigrahy\\anaconda3\\lib\\site-packages (from alembic!=1.10.0,<2->mlflow) (1.2.4)\n",
      "Requirement already satisfied: colorama in c:\\users\\rakesh panigrahy\\anaconda3\\lib\\site-packages (from click<9,>=7.0->mlflow) (0.4.6)\n",
      "Requirement already satisfied: oauthlib>=3.1.0 in c:\\users\\rakesh panigrahy\\anaconda3\\lib\\site-packages (from databricks-cli<1,>=0.8.7->mlflow) (3.2.0)\n",
      "Requirement already satisfied: pyjwt>=1.7.0 in c:\\users\\rakesh panigrahy\\anaconda3\\lib\\site-packages (from databricks-cli<1,>=0.8.7->mlflow) (2.4.0)\n",
      "Requirement already satisfied: tabulate>=0.7.7 in c:\\users\\rakesh panigrahy\\anaconda3\\lib\\site-packages (from databricks-cli<1,>=0.8.7->mlflow) (0.8.9)\n",
      "Requirement already satisfied: six>=1.10.0 in c:\\users\\rakesh panigrahy\\anaconda3\\lib\\site-packages (from databricks-cli<1,>=0.8.7->mlflow) (1.16.0)\n",
      "Requirement already satisfied: pywin32>=304 in c:\\users\\rakesh panigrahy\\anaconda3\\lib\\site-packages (from docker<7,>=4.0.0->mlflow) (304)\n",
      "Requirement already satisfied: websocket-client>=0.32.0 in c:\\users\\rakesh panigrahy\\anaconda3\\lib\\site-packages (from docker<7,>=4.0.0->mlflow) (0.58.0)\n",
      "Requirement already satisfied: urllib3>=1.26.0 in c:\\users\\rakesh panigrahy\\anaconda3\\lib\\site-packages (from docker<7,>=4.0.0->mlflow) (1.26.9)\n",
      "Requirement already satisfied: itsdangerous>=0.24 in c:\\users\\rakesh panigrahy\\anaconda3\\lib\\site-packages (from Flask<3->mlflow) (2.0.1)\n",
      "Requirement already satisfied: Werkzeug>=0.15 in c:\\users\\rakesh panigrahy\\anaconda3\\lib\\site-packages (from Flask<3->mlflow) (2.0.3)\n",
      "Requirement already satisfied: gitdb<5,>=4.0.1 in c:\\users\\rakesh panigrahy\\anaconda3\\lib\\site-packages (from gitpython<4,>=2.1.0->mlflow) (4.0.10)\n",
      "Requirement already satisfied: smmap<6,>=3.0.1 in c:\\users\\rakesh panigrahy\\anaconda3\\lib\\site-packages (from gitdb<5,>=4.0.1->gitpython<4,>=2.1.0->mlflow) (5.0.0)\n",
      "Requirement already satisfied: zipp>=0.5 in c:\\users\\rakesh panigrahy\\anaconda3\\lib\\site-packages (from importlib-metadata!=4.7.0,<7,>=3.7.0->mlflow) (3.7.0)\n",
      "Requirement already satisfied: MarkupSafe>=2.0 in c:\\users\\rakesh panigrahy\\anaconda3\\lib\\site-packages (from Jinja2<4,>=3.0->mlflow) (2.0.1)\n",
      "Requirement already satisfied: kiwisolver>=1.0.1 in c:\\users\\rakesh panigrahy\\anaconda3\\lib\\site-packages (from matplotlib<4->mlflow) (1.3.2)\n",
      "Requirement already satisfied: fonttools>=4.22.0 in c:\\users\\rakesh panigrahy\\anaconda3\\lib\\site-packages (from matplotlib<4->mlflow) (4.25.0)\n",
      "Requirement already satisfied: pillow>=6.2.0 in c:\\users\\rakesh panigrahy\\anaconda3\\lib\\site-packages (from matplotlib<4->mlflow) (9.0.1)\n",
      "Requirement already satisfied: cycler>=0.10 in c:\\users\\rakesh panigrahy\\anaconda3\\lib\\site-packages (from matplotlib<4->mlflow) (0.11.0)\n",
      "Requirement already satisfied: pyparsing>=2.2.1 in c:\\users\\rakesh panigrahy\\anaconda3\\lib\\site-packages (from matplotlib<4->mlflow) (3.0.4)\n",
      "Requirement already satisfied: python-dateutil>=2.7 in c:\\users\\rakesh panigrahy\\anaconda3\\lib\\site-packages (from matplotlib<4->mlflow) (2.8.2)\n"
     ]
    },
    {
     "name": "stdout",
     "output_type": "stream",
     "text": [
      "Requirement already satisfied: charset-normalizer~=2.0.0 in c:\\users\\rakesh panigrahy\\anaconda3\\lib\\site-packages (from requests<3,>=2.17.3->mlflow) (2.0.4)\n",
      "Requirement already satisfied: certifi>=2017.4.17 in c:\\users\\rakesh panigrahy\\anaconda3\\lib\\site-packages (from requests<3,>=2.17.3->mlflow) (2021.10.8)\n",
      "Requirement already satisfied: idna<4,>=2.5 in c:\\users\\rakesh panigrahy\\anaconda3\\lib\\site-packages (from requests<3,>=2.17.3->mlflow) (3.3)\n",
      "Requirement already satisfied: threadpoolctl>=2.0.0 in c:\\users\\rakesh panigrahy\\anaconda3\\lib\\site-packages (from scikit-learn<2->mlflow) (2.2.0)\n",
      "Requirement already satisfied: joblib>=1.0.0 in c:\\users\\rakesh panigrahy\\anaconda3\\lib\\site-packages (from scikit-learn<2->mlflow) (1.1.0)\n",
      "Requirement already satisfied: greenlet!=0.4.17 in c:\\users\\rakesh panigrahy\\anaconda3\\lib\\site-packages (from sqlalchemy<3,>=1.4.0->mlflow) (1.1.1)\n",
      "Installing collected packages: pyarrow, gitpython, databricks-cli, alembic, mlflow\n",
      "Successfully installed alembic-1.10.4 databricks-cli-0.17.6 gitpython-3.1.31 mlflow-2.3.1 pyarrow-11.0.0\n"
     ]
    }
   ],
   "source": [
    "!pip install mlflow"
   ]
  },
  {
   "cell_type": "code",
   "execution_count": 23,
   "id": "bce2a47a",
   "metadata": {},
   "outputs": [
    {
     "name": "stderr",
     "output_type": "stream",
     "text": [
      "2023/05/06 15:24:30 INFO mlflow.tracking.fluent: Autologging successfully enabled for sklearn.\n",
      "2023/05/06 15:24:30 INFO mlflow.tracking.fluent: Autologging successfully enabled for tensorflow.\n"
     ]
    }
   ],
   "source": [
    "import mlflow\n",
    "\n",
    "from sklearn.model_selection import train_test_split\n",
    "from sklearn.datasets import load_diabetes\n",
    "from sklearn.ensemble import RandomForestRegressor\n",
    "\n",
    "mlflow.autolog()\n",
    "\n",
    "db = load_diabetes()\n",
    "X_train, X_test, y_train, y_test = train_test_split(db.data, db.target)\n",
    "\n",
    "# Create and train models.\n",
    "rf = RandomForestRegressor(n_estimators=100, max_depth=6, max_features=3)\n",
    "rf.fit(X_train, y_train)\n",
    "\n",
    "# Use the model to make predictions on the test dataset.\n",
    "predictions = rf.predict(X_test)"
   ]
  },
  {
   "cell_type": "code",
   "execution_count": 20,
   "id": "4d800349",
   "metadata": {},
   "outputs": [],
   "source": [
    "import os\n",
    "from random import random, randint\n",
    "from mlflow import log_metric, log_param, log_params, log_artifacts\n",
    "\n",
    "if __name__ == \"__main__\":\n",
    "    # Log a parameter (key-value pair)\n",
    "    log_param(\"config_value\", randint(0, 100))\n",
    "\n",
    "    # Log a dictionary of parameters\n",
    "    log_params({\"param1\": randint(0, 100), \"param2\": randint(0, 100)})\n",
    "\n",
    "    # Log a metric; metrics can be updated throughout the run\n",
    "    log_metric(\"accuracy\", random() / 2.0)\n",
    "    log_metric(\"accuracy\", random() + 0.1)\n",
    "    log_metric(\"accuracy\", random() + 0.2)\n",
    "\n",
    "    # Log an artifact (output file)\n",
    "    if not os.path.exists(\"outputs\"):\n",
    "        os.makedirs(\"outputs\")\n",
    "    with open(\"outputs/test.txt\", \"w\") as f:\n",
    "        f.write(\"hello world!\")\n",
    "    log_artifacts(\"outputs\")"
   ]
  },
  {
   "cell_type": "code",
   "execution_count": 24,
   "id": "c6d881a7",
   "metadata": {},
   "outputs": [
    {
     "ename": "Exception",
     "evalue": "Run with UUID d2ed30684fde4ea88b9d70e8b1c4148c is already active. To start a new run, first end the current run with mlflow.end_run(). To start a nested run, call start_run with nested=True",
     "output_type": "error",
     "traceback": [
      "\u001b[1;31m---------------------------------------------------------------------------\u001b[0m",
      "\u001b[1;31mException\u001b[0m                                 Traceback (most recent call last)",
      "Input \u001b[1;32mIn [24]\u001b[0m, in \u001b[0;36m<cell line: 5>\u001b[1;34m()\u001b[0m\n\u001b[0;32m      2\u001b[0m \u001b[38;5;28;01mfrom\u001b[39;00m \u001b[38;5;21;01msklearn\u001b[39;00m\u001b[38;5;21;01m.\u001b[39;00m\u001b[38;5;21;01mdatasets\u001b[39;00m \u001b[38;5;28;01mimport\u001b[39;00m load_diabetes\n\u001b[0;32m      3\u001b[0m \u001b[38;5;28;01mfrom\u001b[39;00m \u001b[38;5;21;01msklearn\u001b[39;00m\u001b[38;5;21;01m.\u001b[39;00m\u001b[38;5;21;01mensemble\u001b[39;00m \u001b[38;5;28;01mimport\u001b[39;00m RandomForestRegressor\n\u001b[1;32m----> 5\u001b[0m \u001b[38;5;28;01mwith\u001b[39;00m \u001b[43mmlflow\u001b[49m\u001b[38;5;241;43m.\u001b[39;49m\u001b[43mstart_run\u001b[49m\u001b[43m(\u001b[49m\u001b[43m)\u001b[49m \u001b[38;5;28;01mas\u001b[39;00m run:\n\u001b[0;32m      6\u001b[0m     \u001b[38;5;66;03m# Load the diabetes dataset.\u001b[39;00m\n\u001b[0;32m      7\u001b[0m     db \u001b[38;5;241m=\u001b[39m load_diabetes()\n\u001b[0;32m      8\u001b[0m     X_train, X_test, y_train, y_test \u001b[38;5;241m=\u001b[39m train_test_split(db\u001b[38;5;241m.\u001b[39mdata, db\u001b[38;5;241m.\u001b[39mtarget)\n",
      "File \u001b[1;32m~\\anaconda3\\lib\\site-packages\\mlflow\\tracking\\fluent.py:272\u001b[0m, in \u001b[0;36mstart_run\u001b[1;34m(run_id, experiment_id, run_name, nested, tags, description)\u001b[0m\n\u001b[0;32m    270\u001b[0m experiment_id \u001b[38;5;241m=\u001b[39m \u001b[38;5;28mstr\u001b[39m(experiment_id) \u001b[38;5;28;01mif\u001b[39;00m \u001b[38;5;28misinstance\u001b[39m(experiment_id, \u001b[38;5;28mint\u001b[39m) \u001b[38;5;28;01melse\u001b[39;00m experiment_id\n\u001b[0;32m    271\u001b[0m \u001b[38;5;28;01mif\u001b[39;00m \u001b[38;5;28mlen\u001b[39m(_active_run_stack) \u001b[38;5;241m>\u001b[39m \u001b[38;5;241m0\u001b[39m \u001b[38;5;129;01mand\u001b[39;00m \u001b[38;5;129;01mnot\u001b[39;00m nested:\n\u001b[1;32m--> 272\u001b[0m     \u001b[38;5;28;01mraise\u001b[39;00m \u001b[38;5;167;01mException\u001b[39;00m(\n\u001b[0;32m    273\u001b[0m         (\n\u001b[0;32m    274\u001b[0m             \u001b[38;5;124m\"\u001b[39m\u001b[38;5;124mRun with UUID \u001b[39m\u001b[38;5;132;01m{}\u001b[39;00m\u001b[38;5;124m is already active. To start a new run, first end the \u001b[39m\u001b[38;5;124m\"\u001b[39m\n\u001b[0;32m    275\u001b[0m             \u001b[38;5;241m+\u001b[39m \u001b[38;5;124m\"\u001b[39m\u001b[38;5;124mcurrent run with mlflow.end_run(). To start a nested \u001b[39m\u001b[38;5;124m\"\u001b[39m\n\u001b[0;32m    276\u001b[0m             \u001b[38;5;241m+\u001b[39m \u001b[38;5;124m\"\u001b[39m\u001b[38;5;124mrun, call start_run with nested=True\u001b[39m\u001b[38;5;124m\"\u001b[39m\n\u001b[0;32m    277\u001b[0m         )\u001b[38;5;241m.\u001b[39mformat(_active_run_stack[\u001b[38;5;241m0\u001b[39m]\u001b[38;5;241m.\u001b[39minfo\u001b[38;5;241m.\u001b[39mrun_id)\n\u001b[0;32m    278\u001b[0m     )\n\u001b[0;32m    279\u001b[0m client \u001b[38;5;241m=\u001b[39m MlflowClient()\n\u001b[0;32m    280\u001b[0m \u001b[38;5;28;01mif\u001b[39;00m run_id:\n",
      "\u001b[1;31mException\u001b[0m: Run with UUID d2ed30684fde4ea88b9d70e8b1c4148c is already active. To start a new run, first end the current run with mlflow.end_run(). To start a nested run, call start_run with nested=True"
     ]
    }
   ],
   "source": [
    "from sklearn.model_selection import train_test_split\n",
    "from sklearn.datasets import load_diabetes\n",
    "from sklearn.ensemble import RandomForestRegressor\n",
    "\n",
    "with mlflow.start_run() as run:\n",
    "    # Load the diabetes dataset.\n",
    "    db = load_diabetes()\n",
    "    X_train, X_test, y_train, y_test = train_test_split(db.data, db.target)\n",
    "\n",
    "    # Create and train models.\n",
    "    rf = RandomForestRegressor(n_estimators=100, max_depth=6, max_features=3)\n",
    "    rf.fit(X_train, y_train)\n",
    "\n",
    "    # Use the model to make predictions on the test dataset.\n",
    "    predictions = rf.predict(X_test)\n",
    "    print(predictions)\n",
    "\n",
    "    mlflow.sklearn.log_model(rf, \"model\")\n",
    "\n",
    "    print(\"Run ID: {}\".format(run.info.run_id))\n"
   ]
  }
 ],
 "metadata": {
  "kernelspec": {
   "display_name": "Python 3 (ipykernel)",
   "language": "python",
   "name": "python3"
  },
  "language_info": {
   "codemirror_mode": {
    "name": "ipython",
    "version": 3
   },
   "file_extension": ".py",
   "mimetype": "text/x-python",
   "name": "python",
   "nbconvert_exporter": "python",
   "pygments_lexer": "ipython3",
   "version": "3.9.12"
  }
 },
 "nbformat": 4,
 "nbformat_minor": 5
}
