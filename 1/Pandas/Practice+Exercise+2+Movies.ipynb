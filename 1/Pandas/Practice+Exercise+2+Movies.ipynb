{
 "cells": [
  {
   "cell_type": "markdown",
   "metadata": {},
   "source": [
    "## Practice Exercise 2"
   ]
  },
  {
   "cell_type": "markdown",
   "metadata": {},
   "source": [
    "In this assignment, you will try to find some interesting insights into a few movies released between 1916 and 2016, using Python. You will have to download a movie dataset, write Python code to explore the data, gain insights into the movies, actors, directors, and collections, and submit the code."
   ]
  },
  {
   "cell_type": "markdown",
   "metadata": {},
   "source": [
    "#### Some tips before starting the assignment\n",
    "\n",
    "1. Identify the task to be performed correctly, and only then proceed to write the required code. Don’t perform any incorrect analysis or look for information that isn’t required for the assignment.\n",
    "2. In some cases, the variable names have already been assigned, and you just need to write code against them. In other cases, the names to be given are mentioned in the instructions. We strongly advise you to use the mentioned names only.\n",
    "3. Always keep inspecting your data frame after you have performed a particular set of operations.\n",
    "4. There are some checkpoints given in the IPython notebook provided. They're just useful pieces of information you can use to check if the result you have obtained after performing a particular task is correct or not.\n",
    "5. Note that you will be asked to refer to documentation for solving some of the questions. That is done on purpose for you to learn new commands and also how to use the documentation."
   ]
  },
  {
   "cell_type": "code",
   "execution_count": 1,
   "metadata": {},
   "outputs": [],
   "source": [
    "# Import the numpy and pandas packages\n",
    "\n",
    "import numpy as np\n",
    "import pandas as pd"
   ]
  },
  {
   "cell_type": "markdown",
   "metadata": {},
   "source": [
    "### Task 1: Reading and Inspection\n",
    "\n",
    "**Subtask 1.1: Import and read**\n",
    "\n",
    "Import and read the movie database. Store it in a variable called `movies`."
   ]
  },
  {
   "cell_type": "code",
   "execution_count": 9,
   "metadata": {},
   "outputs": [
    {
     "data": {
      "text/html": [
       "<div>\n",
       "<style scoped>\n",
       "    .dataframe tbody tr th:only-of-type {\n",
       "        vertical-align: middle;\n",
       "    }\n",
       "\n",
       "    .dataframe tbody tr th {\n",
       "        vertical-align: top;\n",
       "    }\n",
       "\n",
       "    .dataframe thead th {\n",
       "        text-align: right;\n",
       "    }\n",
       "</style>\n",
       "<table border=\"1\" class=\"dataframe\">\n",
       "  <thead>\n",
       "    <tr style=\"text-align: right;\">\n",
       "      <th></th>\n",
       "      <th>color</th>\n",
       "      <th>director_name</th>\n",
       "      <th>num_critic_for_reviews</th>\n",
       "      <th>duration</th>\n",
       "      <th>director_facebook_likes</th>\n",
       "      <th>actor_3_facebook_likes</th>\n",
       "      <th>actor_2_name</th>\n",
       "      <th>actor_1_facebook_likes</th>\n",
       "      <th>gross</th>\n",
       "      <th>genres</th>\n",
       "      <th>...</th>\n",
       "      <th>num_user_for_reviews</th>\n",
       "      <th>language</th>\n",
       "      <th>country</th>\n",
       "      <th>content_rating</th>\n",
       "      <th>budget</th>\n",
       "      <th>title_year</th>\n",
       "      <th>actor_2_facebook_likes</th>\n",
       "      <th>imdb_score</th>\n",
       "      <th>aspect_ratio</th>\n",
       "      <th>movie_facebook_likes</th>\n",
       "    </tr>\n",
       "  </thead>\n",
       "  <tbody>\n",
       "    <tr>\n",
       "      <th>0</th>\n",
       "      <td>Color</td>\n",
       "      <td>James Cameron</td>\n",
       "      <td>723.0</td>\n",
       "      <td>178.0</td>\n",
       "      <td>0.0</td>\n",
       "      <td>855.0</td>\n",
       "      <td>Joel David Moore</td>\n",
       "      <td>1000.0</td>\n",
       "      <td>760505847.0</td>\n",
       "      <td>Action|Adventure|Fantasy|Sci-Fi</td>\n",
       "      <td>...</td>\n",
       "      <td>3054.0</td>\n",
       "      <td>English</td>\n",
       "      <td>USA</td>\n",
       "      <td>PG-13</td>\n",
       "      <td>237000000.0</td>\n",
       "      <td>2009.0</td>\n",
       "      <td>936.0</td>\n",
       "      <td>7.9</td>\n",
       "      <td>1.78</td>\n",
       "      <td>33000</td>\n",
       "    </tr>\n",
       "    <tr>\n",
       "      <th>1</th>\n",
       "      <td>Color</td>\n",
       "      <td>Gore Verbinski</td>\n",
       "      <td>302.0</td>\n",
       "      <td>169.0</td>\n",
       "      <td>563.0</td>\n",
       "      <td>1000.0</td>\n",
       "      <td>Orlando Bloom</td>\n",
       "      <td>40000.0</td>\n",
       "      <td>309404152.0</td>\n",
       "      <td>Action|Adventure|Fantasy</td>\n",
       "      <td>...</td>\n",
       "      <td>1238.0</td>\n",
       "      <td>English</td>\n",
       "      <td>USA</td>\n",
       "      <td>PG-13</td>\n",
       "      <td>300000000.0</td>\n",
       "      <td>2007.0</td>\n",
       "      <td>5000.0</td>\n",
       "      <td>7.1</td>\n",
       "      <td>2.35</td>\n",
       "      <td>0</td>\n",
       "    </tr>\n",
       "    <tr>\n",
       "      <th>2</th>\n",
       "      <td>Color</td>\n",
       "      <td>Sam Mendes</td>\n",
       "      <td>602.0</td>\n",
       "      <td>148.0</td>\n",
       "      <td>0.0</td>\n",
       "      <td>161.0</td>\n",
       "      <td>Rory Kinnear</td>\n",
       "      <td>11000.0</td>\n",
       "      <td>200074175.0</td>\n",
       "      <td>Action|Adventure|Thriller</td>\n",
       "      <td>...</td>\n",
       "      <td>994.0</td>\n",
       "      <td>English</td>\n",
       "      <td>UK</td>\n",
       "      <td>PG-13</td>\n",
       "      <td>245000000.0</td>\n",
       "      <td>2015.0</td>\n",
       "      <td>393.0</td>\n",
       "      <td>6.8</td>\n",
       "      <td>2.35</td>\n",
       "      <td>85000</td>\n",
       "    </tr>\n",
       "    <tr>\n",
       "      <th>3</th>\n",
       "      <td>Color</td>\n",
       "      <td>Christopher Nolan</td>\n",
       "      <td>813.0</td>\n",
       "      <td>164.0</td>\n",
       "      <td>22000.0</td>\n",
       "      <td>23000.0</td>\n",
       "      <td>Christian Bale</td>\n",
       "      <td>27000.0</td>\n",
       "      <td>448130642.0</td>\n",
       "      <td>Action|Thriller</td>\n",
       "      <td>...</td>\n",
       "      <td>2701.0</td>\n",
       "      <td>English</td>\n",
       "      <td>USA</td>\n",
       "      <td>PG-13</td>\n",
       "      <td>250000000.0</td>\n",
       "      <td>2012.0</td>\n",
       "      <td>23000.0</td>\n",
       "      <td>8.5</td>\n",
       "      <td>2.35</td>\n",
       "      <td>164000</td>\n",
       "    </tr>\n",
       "    <tr>\n",
       "      <th>4</th>\n",
       "      <td>Color</td>\n",
       "      <td>Andrew Stanton</td>\n",
       "      <td>462.0</td>\n",
       "      <td>132.0</td>\n",
       "      <td>475.0</td>\n",
       "      <td>530.0</td>\n",
       "      <td>Samantha Morton</td>\n",
       "      <td>640.0</td>\n",
       "      <td>73058679.0</td>\n",
       "      <td>Action|Adventure|Sci-Fi</td>\n",
       "      <td>...</td>\n",
       "      <td>738.0</td>\n",
       "      <td>English</td>\n",
       "      <td>USA</td>\n",
       "      <td>PG-13</td>\n",
       "      <td>263700000.0</td>\n",
       "      <td>2012.0</td>\n",
       "      <td>632.0</td>\n",
       "      <td>6.6</td>\n",
       "      <td>2.35</td>\n",
       "      <td>24000</td>\n",
       "    </tr>\n",
       "    <tr>\n",
       "      <th>...</th>\n",
       "      <td>...</td>\n",
       "      <td>...</td>\n",
       "      <td>...</td>\n",
       "      <td>...</td>\n",
       "      <td>...</td>\n",
       "      <td>...</td>\n",
       "      <td>...</td>\n",
       "      <td>...</td>\n",
       "      <td>...</td>\n",
       "      <td>...</td>\n",
       "      <td>...</td>\n",
       "      <td>...</td>\n",
       "      <td>...</td>\n",
       "      <td>...</td>\n",
       "      <td>...</td>\n",
       "      <td>...</td>\n",
       "      <td>...</td>\n",
       "      <td>...</td>\n",
       "      <td>...</td>\n",
       "      <td>...</td>\n",
       "      <td>...</td>\n",
       "    </tr>\n",
       "    <tr>\n",
       "      <th>3848</th>\n",
       "      <td>Color</td>\n",
       "      <td>Shane Carruth</td>\n",
       "      <td>143.0</td>\n",
       "      <td>77.0</td>\n",
       "      <td>291.0</td>\n",
       "      <td>8.0</td>\n",
       "      <td>David Sullivan</td>\n",
       "      <td>291.0</td>\n",
       "      <td>424760.0</td>\n",
       "      <td>Drama|Sci-Fi|Thriller</td>\n",
       "      <td>...</td>\n",
       "      <td>371.0</td>\n",
       "      <td>English</td>\n",
       "      <td>USA</td>\n",
       "      <td>PG-13</td>\n",
       "      <td>7000.0</td>\n",
       "      <td>2004.0</td>\n",
       "      <td>45.0</td>\n",
       "      <td>7.0</td>\n",
       "      <td>1.85</td>\n",
       "      <td>19000</td>\n",
       "    </tr>\n",
       "    <tr>\n",
       "      <th>3849</th>\n",
       "      <td>Color</td>\n",
       "      <td>Neill Dela Llana</td>\n",
       "      <td>35.0</td>\n",
       "      <td>80.0</td>\n",
       "      <td>0.0</td>\n",
       "      <td>0.0</td>\n",
       "      <td>Edgar Tancangco</td>\n",
       "      <td>0.0</td>\n",
       "      <td>70071.0</td>\n",
       "      <td>Thriller</td>\n",
       "      <td>...</td>\n",
       "      <td>35.0</td>\n",
       "      <td>English</td>\n",
       "      <td>Philippines</td>\n",
       "      <td>Not Rated</td>\n",
       "      <td>7000.0</td>\n",
       "      <td>2005.0</td>\n",
       "      <td>0.0</td>\n",
       "      <td>6.3</td>\n",
       "      <td>NaN</td>\n",
       "      <td>74</td>\n",
       "    </tr>\n",
       "    <tr>\n",
       "      <th>3850</th>\n",
       "      <td>Color</td>\n",
       "      <td>Robert Rodriguez</td>\n",
       "      <td>56.0</td>\n",
       "      <td>81.0</td>\n",
       "      <td>0.0</td>\n",
       "      <td>6.0</td>\n",
       "      <td>Peter Marquardt</td>\n",
       "      <td>121.0</td>\n",
       "      <td>2040920.0</td>\n",
       "      <td>Action|Crime|Drama|Romance|Thriller</td>\n",
       "      <td>...</td>\n",
       "      <td>130.0</td>\n",
       "      <td>Spanish</td>\n",
       "      <td>USA</td>\n",
       "      <td>R</td>\n",
       "      <td>7000.0</td>\n",
       "      <td>1992.0</td>\n",
       "      <td>20.0</td>\n",
       "      <td>6.9</td>\n",
       "      <td>1.37</td>\n",
       "      <td>0</td>\n",
       "    </tr>\n",
       "    <tr>\n",
       "      <th>3851</th>\n",
       "      <td>Color</td>\n",
       "      <td>Edward Burns</td>\n",
       "      <td>14.0</td>\n",
       "      <td>95.0</td>\n",
       "      <td>0.0</td>\n",
       "      <td>133.0</td>\n",
       "      <td>Caitlin FitzGerald</td>\n",
       "      <td>296.0</td>\n",
       "      <td>4584.0</td>\n",
       "      <td>Comedy|Drama</td>\n",
       "      <td>...</td>\n",
       "      <td>14.0</td>\n",
       "      <td>English</td>\n",
       "      <td>USA</td>\n",
       "      <td>Not Rated</td>\n",
       "      <td>9000.0</td>\n",
       "      <td>2011.0</td>\n",
       "      <td>205.0</td>\n",
       "      <td>6.4</td>\n",
       "      <td>NaN</td>\n",
       "      <td>413</td>\n",
       "    </tr>\n",
       "    <tr>\n",
       "      <th>3852</th>\n",
       "      <td>Color</td>\n",
       "      <td>Jon Gunn</td>\n",
       "      <td>43.0</td>\n",
       "      <td>90.0</td>\n",
       "      <td>16.0</td>\n",
       "      <td>16.0</td>\n",
       "      <td>Brian Herzlinger</td>\n",
       "      <td>86.0</td>\n",
       "      <td>85222.0</td>\n",
       "      <td>Documentary</td>\n",
       "      <td>...</td>\n",
       "      <td>84.0</td>\n",
       "      <td>English</td>\n",
       "      <td>USA</td>\n",
       "      <td>PG</td>\n",
       "      <td>1100.0</td>\n",
       "      <td>2004.0</td>\n",
       "      <td>23.0</td>\n",
       "      <td>6.6</td>\n",
       "      <td>1.85</td>\n",
       "      <td>456</td>\n",
       "    </tr>\n",
       "  </tbody>\n",
       "</table>\n",
       "<p>3853 rows × 28 columns</p>\n",
       "</div>"
      ],
      "text/plain": [
       "      color      director_name  num_critic_for_reviews  duration  \\\n",
       "0     Color      James Cameron                   723.0     178.0   \n",
       "1     Color     Gore Verbinski                   302.0     169.0   \n",
       "2     Color         Sam Mendes                   602.0     148.0   \n",
       "3     Color  Christopher Nolan                   813.0     164.0   \n",
       "4     Color     Andrew Stanton                   462.0     132.0   \n",
       "...     ...                ...                     ...       ...   \n",
       "3848  Color      Shane Carruth                   143.0      77.0   \n",
       "3849  Color   Neill Dela Llana                    35.0      80.0   \n",
       "3850  Color   Robert Rodriguez                    56.0      81.0   \n",
       "3851  Color       Edward Burns                    14.0      95.0   \n",
       "3852  Color           Jon Gunn                    43.0      90.0   \n",
       "\n",
       "      director_facebook_likes  actor_3_facebook_likes        actor_2_name  \\\n",
       "0                         0.0                   855.0    Joel David Moore   \n",
       "1                       563.0                  1000.0       Orlando Bloom   \n",
       "2                         0.0                   161.0        Rory Kinnear   \n",
       "3                     22000.0                 23000.0      Christian Bale   \n",
       "4                       475.0                   530.0     Samantha Morton   \n",
       "...                       ...                     ...                 ...   \n",
       "3848                    291.0                     8.0      David Sullivan   \n",
       "3849                      0.0                     0.0     Edgar Tancangco   \n",
       "3850                      0.0                     6.0     Peter Marquardt   \n",
       "3851                      0.0                   133.0  Caitlin FitzGerald   \n",
       "3852                     16.0                    16.0    Brian Herzlinger   \n",
       "\n",
       "      actor_1_facebook_likes        gross  \\\n",
       "0                     1000.0  760505847.0   \n",
       "1                    40000.0  309404152.0   \n",
       "2                    11000.0  200074175.0   \n",
       "3                    27000.0  448130642.0   \n",
       "4                      640.0   73058679.0   \n",
       "...                      ...          ...   \n",
       "3848                   291.0     424760.0   \n",
       "3849                     0.0      70071.0   \n",
       "3850                   121.0    2040920.0   \n",
       "3851                   296.0       4584.0   \n",
       "3852                    86.0      85222.0   \n",
       "\n",
       "                                   genres  ... num_user_for_reviews language  \\\n",
       "0         Action|Adventure|Fantasy|Sci-Fi  ...               3054.0  English   \n",
       "1                Action|Adventure|Fantasy  ...               1238.0  English   \n",
       "2               Action|Adventure|Thriller  ...                994.0  English   \n",
       "3                         Action|Thriller  ...               2701.0  English   \n",
       "4                 Action|Adventure|Sci-Fi  ...                738.0  English   \n",
       "...                                   ...  ...                  ...      ...   \n",
       "3848                Drama|Sci-Fi|Thriller  ...                371.0  English   \n",
       "3849                             Thriller  ...                 35.0  English   \n",
       "3850  Action|Crime|Drama|Romance|Thriller  ...                130.0  Spanish   \n",
       "3851                         Comedy|Drama  ...                 14.0  English   \n",
       "3852                          Documentary  ...                 84.0  English   \n",
       "\n",
       "          country  content_rating       budget  title_year  \\\n",
       "0             USA           PG-13  237000000.0      2009.0   \n",
       "1             USA           PG-13  300000000.0      2007.0   \n",
       "2              UK           PG-13  245000000.0      2015.0   \n",
       "3             USA           PG-13  250000000.0      2012.0   \n",
       "4             USA           PG-13  263700000.0      2012.0   \n",
       "...           ...             ...          ...         ...   \n",
       "3848          USA           PG-13       7000.0      2004.0   \n",
       "3849  Philippines       Not Rated       7000.0      2005.0   \n",
       "3850          USA               R       7000.0      1992.0   \n",
       "3851          USA       Not Rated       9000.0      2011.0   \n",
       "3852          USA              PG       1100.0      2004.0   \n",
       "\n",
       "     actor_2_facebook_likes imdb_score  aspect_ratio movie_facebook_likes  \n",
       "0                     936.0        7.9          1.78                33000  \n",
       "1                    5000.0        7.1          2.35                    0  \n",
       "2                     393.0        6.8          2.35                85000  \n",
       "3                   23000.0        8.5          2.35               164000  \n",
       "4                     632.0        6.6          2.35                24000  \n",
       "...                     ...        ...           ...                  ...  \n",
       "3848                   45.0        7.0          1.85                19000  \n",
       "3849                    0.0        6.3           NaN                   74  \n",
       "3850                   20.0        6.9          1.37                    0  \n",
       "3851                  205.0        6.4           NaN                  413  \n",
       "3852                   23.0        6.6          1.85                  456  \n",
       "\n",
       "[3853 rows x 28 columns]"
      ]
     },
     "execution_count": 9,
     "metadata": {},
     "output_type": "execute_result"
    }
   ],
   "source": [
    "# Write your code for importing the csv file here\n",
    "movies = pd.read_csv('Movies.csv')\n",
    "movies"
   ]
  },
  {
   "cell_type": "markdown",
   "metadata": {},
   "source": [
    "**Subtask 1.2: Inspect the dataframe**\n",
    "\n",
    "Inspect the dataframe's columns, shapes, variable types etc."
   ]
  },
  {
   "cell_type": "code",
   "execution_count": 30,
   "metadata": {},
   "outputs": [
    {
     "name": "stdout",
     "output_type": "stream",
     "text": [
      "(3853, 28)\n",
      "12\n"
     ]
    }
   ],
   "source": [
    "# Write your code for inspection here\n",
    "print(movies.shape)\n",
    "print((movies.isnull().sum()>0).sum())"
   ]
  },
  {
   "cell_type": "markdown",
   "metadata": {},
   "source": [
    "#### <font color='red'>Question 1: How many rows and columns are present in the dataframe? </font>\n",
    "-  <font color='red'>(3821, 26)</font>\n",
    "-  <font color='red'>(3879, 28)</font>\n",
    "-  <font color='red'>(3853, 28)</font>\n",
    "-  <font color='red'>(3866, 26)</font>"
   ]
  },
  {
   "cell_type": "markdown",
   "metadata": {},
   "source": [
    "#### <font color='red'>Question 2: How many columns have null values present in them? Try writing a code for this instead of counting them manually.</font>\n",
    "\n",
    "-  <font color='red'>3</font>\n",
    "-  <font color='red'>6</font>\n",
    "-  <font color='red'>9</font>\n",
    "-  <font color='red'>12</font>"
   ]
  },
  {
   "cell_type": "markdown",
   "metadata": {},
   "source": [
    "### Task 2: Cleaning the Data\n",
    "\n",
    "**Subtask 2.1: Drop unecessary columns**\n",
    "\n",
    "For this assignment, you will mostly be analyzing the movies with respect to the ratings, gross collection, popularity of movies, etc. So many of the columns in this dataframe are not required. So it is advised to drop the following columns.\n",
    "-  color\n",
    "-  director_facebook_likes\n",
    "-  actor_1_facebook_likes\n",
    "-  actor_2_facebook_likes\n",
    "-  actor_3_facebook_likes\n",
    "-  actor_2_name\n",
    "-  cast_total_facebook_likes\n",
    "-  actor_3_name\n",
    "-  duration\n",
    "-  facenumber_in_poster\n",
    "-  content_rating\n",
    "-  country\n",
    "-  movie_imdb_link\n",
    "-  aspect_ratio\n",
    "-  plot_keywords"
   ]
  },
  {
   "cell_type": "code",
   "execution_count": 34,
   "metadata": {},
   "outputs": [],
   "source": [
    "# Check the 'drop' function in the Pandas library - dataframe.drop(list_of_unnecessary_columns, axis = )\n",
    "# Write your code for dropping the columns here. It is advised to keep inspecting the dataframe after each set of operations\n",
    "\n",
    "movies = movies.drop(columns=['color', 'director_facebook_likes', 'actor_1_facebook_likes', \n",
    "                     'actor_2_facebook_likes', 'actor_3_facebook_likes', 'actor_2_name', \n",
    "                     'cast_total_facebook_likes', 'actor_3_name', 'duration', \n",
    "                     'facenumber_in_poster', 'content_rating', 'country', 'movie_imdb_link', \n",
    "                     'aspect_ratio', 'plot_keywords'])\n"
   ]
  },
  {
   "cell_type": "markdown",
   "metadata": {},
   "source": [
    "#### <font color='red'>Question 3: What is the count of columns in the new dataframe? </font>\n",
    "-  <font color='red'>10</font>\n",
    "-  <font color='red'>13</font>\n",
    "-  <font color='red'>15</font>\n",
    "-  <font color='red'>17</font>"
   ]
  },
  {
   "cell_type": "markdown",
   "metadata": {},
   "source": [
    "**Subtask 2.2: Inspect Null values**\n",
    "\n",
    "As you have seen above, there are null values in multiple columns of the dataframe 'movies'. Find out the percentage of null values in each column of the dataframe 'movies'. "
   ]
  },
  {
   "cell_type": "code",
   "execution_count": 37,
   "metadata": {},
   "outputs": [
    {
     "name": "stdout",
     "output_type": "stream",
     "text": [
      "num_critic_for_reviews 1 3852 0.02596053997923157\n"
     ]
    }
   ],
   "source": [
    "# Write you code here\n",
    "for cl in movies.columns:\n",
    "    if movies[cl].isna().sum() > 0:\n",
    "        print(cl, movies[cl].isna().sum(), movies[cl].count(), (movies[cl].isna().sum()/movies[cl].count())*100)"
   ]
  },
  {
   "cell_type": "markdown",
   "metadata": {},
   "source": [
    "#### <font color='red'>Question 4: Which column has the highest percentage of null values? </font>\n",
    "-  <font color='red'>language</font>\n",
    "-  <font color='red'>genres</font>\n",
    "-  <font color='red'>num_critic_for_reviews</font>\n",
    "-  <font color='red'>imdb_score</font>"
   ]
  },
  {
   "cell_type": "markdown",
   "metadata": {},
   "source": [
    "**Subtask 2.3: Fill NaN values**\n",
    "\n",
    "You might notice that the `language` column has some NaN values. Here, on inspection, you will see that it is safe to replace all the missing values with `'English'`."
   ]
  },
  {
   "cell_type": "code",
   "execution_count": 38,
   "metadata": {},
   "outputs": [
    {
     "data": {
      "text/plain": [
       "English       3674\n",
       "French          37\n",
       "Spanish         26\n",
       "Mandarin        14\n",
       "German          13\n",
       "Japanese        12\n",
       "Hindi           10\n",
       "Cantonese        8\n",
       "Italian          7\n",
       "Portuguese       5\n",
       "Korean           5\n",
       "Norwegian        4\n",
       "Dutch            3\n",
       "Persian          3\n",
       "Thai             3\n",
       "Danish           3\n",
       "Aboriginal       2\n",
       "Dari             2\n",
       "Indonesian       2\n",
       "Hebrew           2\n",
       "Russian          1\n",
       "Romanian         1\n",
       "Vietnamese       1\n",
       "Arabic           1\n",
       "Dzongkha         1\n",
       "Zulu             1\n",
       "None             1\n",
       "Aramaic          1\n",
       "Czech            1\n",
       "Telugu           1\n",
       "Icelandic        1\n",
       "Filipino         1\n",
       "Hungarian        1\n",
       "Maya             1\n",
       "Bosnian          1\n",
       "Mongolian        1\n",
       "Kazakh           1\n",
       "Swedish          1\n",
       "Name: language, dtype: int64"
      ]
     },
     "execution_count": 38,
     "metadata": {},
     "output_type": "execute_result"
    }
   ],
   "source": [
    "# Write your code for filling the NaN values in the 'language' column here\n",
    "movies['language'].fillna('English', inplace=True)\n",
    "movies['language'].value_counts()"
   ]
  },
  {
   "cell_type": "markdown",
   "metadata": {},
   "source": [
    "#### <font color='red'>Question 5: What is the count of movies made in English language after replacing the NaN values with English? </font>\n",
    "-  <font color='red'>3670</font>\n",
    "-  <font color='red'>3674</font>\n",
    "-  <font color='red'>3668</font>\n",
    "-  <font color='red'>3672</font>"
   ]
  },
  {
   "cell_type": "markdown",
   "metadata": {},
   "source": [
    "### Task 3: Data Analysis\n",
    "\n",
    "**Subtask 3.1: Change the unit of columns**\n",
    "\n",
    "Convert the unit of the `budget` and `gross` columns from `$` to `million $`."
   ]
  },
  {
   "cell_type": "code",
   "execution_count": 41,
   "metadata": {},
   "outputs": [],
   "source": [
    "# Write your code for unit conversion here\n",
    "movies['gross'] = movies['gross']/1000000\n",
    "movies['budget'] = movies['budget']/1000000"
   ]
  },
  {
   "cell_type": "markdown",
   "metadata": {},
   "source": [
    "**Subtask 3.2: Find the movies with highest profit**\n",
    "\n",
    "   1. Create a new column called `profit` which contains the difference of the two columns: `gross` and `budget`.\n",
    "   2. Sort the dataframe using the `profit` column as reference. (Find which command can be used here to sort entries from the documentation)\n",
    "   3. Extract the top ten profiting movies in descending order and store them in a new dataframe - `top10`"
   ]
  },
  {
   "cell_type": "code",
   "execution_count": null,
   "metadata": {},
   "outputs": [],
   "source": [
    "# Write your code for creating the profit column here\n",
    "movies['profit'] = movies['gross'] - movies['budget']"
   ]
  },
  {
   "cell_type": "code",
   "execution_count": 43,
   "metadata": {},
   "outputs": [],
   "source": [
    "# Write your code for sorting the dataframe here\n",
    "movies.sort_values(by='profit', ascending=False, inplace=True)"
   ]
  },
  {
   "cell_type": "code",
   "execution_count": 45,
   "metadata": {},
   "outputs": [
    {
     "data": {
      "text/html": [
       "<div>\n",
       "<style scoped>\n",
       "    .dataframe tbody tr th:only-of-type {\n",
       "        vertical-align: middle;\n",
       "    }\n",
       "\n",
       "    .dataframe tbody tr th {\n",
       "        vertical-align: top;\n",
       "    }\n",
       "\n",
       "    .dataframe thead th {\n",
       "        text-align: right;\n",
       "    }\n",
       "</style>\n",
       "<table border=\"1\" class=\"dataframe\">\n",
       "  <thead>\n",
       "    <tr style=\"text-align: right;\">\n",
       "      <th></th>\n",
       "      <th>director_name</th>\n",
       "      <th>num_critic_for_reviews</th>\n",
       "      <th>gross</th>\n",
       "      <th>genres</th>\n",
       "      <th>actor_1_name</th>\n",
       "      <th>movie_title</th>\n",
       "      <th>num_voted_users</th>\n",
       "      <th>num_user_for_reviews</th>\n",
       "      <th>language</th>\n",
       "      <th>budget</th>\n",
       "      <th>title_year</th>\n",
       "      <th>imdb_score</th>\n",
       "      <th>movie_facebook_likes</th>\n",
       "      <th>profit</th>\n",
       "    </tr>\n",
       "  </thead>\n",
       "  <tbody>\n",
       "    <tr>\n",
       "      <th>0</th>\n",
       "      <td>James Cameron</td>\n",
       "      <td>723.0</td>\n",
       "      <td>760.505847</td>\n",
       "      <td>Action|Adventure|Fantasy|Sci-Fi</td>\n",
       "      <td>CCH Pounder</td>\n",
       "      <td>Avatar</td>\n",
       "      <td>886204</td>\n",
       "      <td>3054.0</td>\n",
       "      <td>English</td>\n",
       "      <td>237.0</td>\n",
       "      <td>2009.0</td>\n",
       "      <td>7.9</td>\n",
       "      <td>33000</td>\n",
       "      <td>523.505847</td>\n",
       "    </tr>\n",
       "    <tr>\n",
       "      <th>28</th>\n",
       "      <td>Colin Trevorrow</td>\n",
       "      <td>644.0</td>\n",
       "      <td>652.177271</td>\n",
       "      <td>Action|Adventure|Sci-Fi|Thriller</td>\n",
       "      <td>Bryce Dallas Howard</td>\n",
       "      <td>Jurassic World</td>\n",
       "      <td>418214</td>\n",
       "      <td>1290.0</td>\n",
       "      <td>English</td>\n",
       "      <td>150.0</td>\n",
       "      <td>2015.0</td>\n",
       "      <td>7.0</td>\n",
       "      <td>150000</td>\n",
       "      <td>502.177271</td>\n",
       "    </tr>\n",
       "    <tr>\n",
       "      <th>25</th>\n",
       "      <td>James Cameron</td>\n",
       "      <td>315.0</td>\n",
       "      <td>658.672302</td>\n",
       "      <td>Drama|Romance</td>\n",
       "      <td>Leonardo DiCaprio</td>\n",
       "      <td>Titanic</td>\n",
       "      <td>793059</td>\n",
       "      <td>2528.0</td>\n",
       "      <td>English</td>\n",
       "      <td>200.0</td>\n",
       "      <td>1997.0</td>\n",
       "      <td>7.7</td>\n",
       "      <td>26000</td>\n",
       "      <td>458.672302</td>\n",
       "    </tr>\n",
       "    <tr>\n",
       "      <th>2704</th>\n",
       "      <td>George Lucas</td>\n",
       "      <td>282.0</td>\n",
       "      <td>460.935665</td>\n",
       "      <td>Action|Adventure|Fantasy|Sci-Fi</td>\n",
       "      <td>Harrison Ford</td>\n",
       "      <td>Star Wars: Episode IV - A New Hope</td>\n",
       "      <td>911097</td>\n",
       "      <td>1470.0</td>\n",
       "      <td>English</td>\n",
       "      <td>11.0</td>\n",
       "      <td>1977.0</td>\n",
       "      <td>8.7</td>\n",
       "      <td>33000</td>\n",
       "      <td>449.935665</td>\n",
       "    </tr>\n",
       "    <tr>\n",
       "      <th>2748</th>\n",
       "      <td>Steven Spielberg</td>\n",
       "      <td>215.0</td>\n",
       "      <td>434.949459</td>\n",
       "      <td>Family|Sci-Fi</td>\n",
       "      <td>Henry Thomas</td>\n",
       "      <td>E.T. the Extra-Terrestrial</td>\n",
       "      <td>281842</td>\n",
       "      <td>515.0</td>\n",
       "      <td>English</td>\n",
       "      <td>10.5</td>\n",
       "      <td>1982.0</td>\n",
       "      <td>7.9</td>\n",
       "      <td>34000</td>\n",
       "      <td>424.449459</td>\n",
       "    </tr>\n",
       "    <tr>\n",
       "      <th>16</th>\n",
       "      <td>Joss Whedon</td>\n",
       "      <td>703.0</td>\n",
       "      <td>623.279547</td>\n",
       "      <td>Action|Adventure|Sci-Fi</td>\n",
       "      <td>Chris Hemsworth</td>\n",
       "      <td>The Avengers</td>\n",
       "      <td>995415</td>\n",
       "      <td>1722.0</td>\n",
       "      <td>English</td>\n",
       "      <td>220.0</td>\n",
       "      <td>2012.0</td>\n",
       "      <td>8.1</td>\n",
       "      <td>123000</td>\n",
       "      <td>403.279547</td>\n",
       "    </tr>\n",
       "    <tr>\n",
       "      <th>482</th>\n",
       "      <td>Roger Allers</td>\n",
       "      <td>186.0</td>\n",
       "      <td>422.783777</td>\n",
       "      <td>Adventure|Animation|Drama|Family|Musical</td>\n",
       "      <td>Matthew Broderick</td>\n",
       "      <td>The Lion King</td>\n",
       "      <td>644348</td>\n",
       "      <td>656.0</td>\n",
       "      <td>English</td>\n",
       "      <td>45.0</td>\n",
       "      <td>1994.0</td>\n",
       "      <td>8.5</td>\n",
       "      <td>17000</td>\n",
       "      <td>377.783777</td>\n",
       "    </tr>\n",
       "    <tr>\n",
       "      <th>230</th>\n",
       "      <td>George Lucas</td>\n",
       "      <td>320.0</td>\n",
       "      <td>474.544677</td>\n",
       "      <td>Action|Adventure|Fantasy|Sci-Fi</td>\n",
       "      <td>Natalie Portman</td>\n",
       "      <td>Star Wars: Episode I - The Phantom Menace</td>\n",
       "      <td>534658</td>\n",
       "      <td>3597.0</td>\n",
       "      <td>English</td>\n",
       "      <td>115.0</td>\n",
       "      <td>1999.0</td>\n",
       "      <td>6.5</td>\n",
       "      <td>13000</td>\n",
       "      <td>359.544677</td>\n",
       "    </tr>\n",
       "    <tr>\n",
       "      <th>64</th>\n",
       "      <td>Christopher Nolan</td>\n",
       "      <td>645.0</td>\n",
       "      <td>533.316061</td>\n",
       "      <td>Action|Crime|Drama|Thriller</td>\n",
       "      <td>Christian Bale</td>\n",
       "      <td>The Dark Knight</td>\n",
       "      <td>1676169</td>\n",
       "      <td>4667.0</td>\n",
       "      <td>English</td>\n",
       "      <td>185.0</td>\n",
       "      <td>2008.0</td>\n",
       "      <td>9.0</td>\n",
       "      <td>37000</td>\n",
       "      <td>348.316061</td>\n",
       "    </tr>\n",
       "    <tr>\n",
       "      <th>419</th>\n",
       "      <td>Gary Ross</td>\n",
       "      <td>673.0</td>\n",
       "      <td>407.999255</td>\n",
       "      <td>Adventure|Drama|Sci-Fi|Thriller</td>\n",
       "      <td>Jennifer Lawrence</td>\n",
       "      <td>The Hunger Games</td>\n",
       "      <td>701607</td>\n",
       "      <td>1959.0</td>\n",
       "      <td>English</td>\n",
       "      <td>78.0</td>\n",
       "      <td>2012.0</td>\n",
       "      <td>7.3</td>\n",
       "      <td>140000</td>\n",
       "      <td>329.999255</td>\n",
       "    </tr>\n",
       "  </tbody>\n",
       "</table>\n",
       "</div>"
      ],
      "text/plain": [
       "          director_name  num_critic_for_reviews       gross  \\\n",
       "0         James Cameron                   723.0  760.505847   \n",
       "28      Colin Trevorrow                   644.0  652.177271   \n",
       "25        James Cameron                   315.0  658.672302   \n",
       "2704       George Lucas                   282.0  460.935665   \n",
       "2748   Steven Spielberg                   215.0  434.949459   \n",
       "16          Joss Whedon                   703.0  623.279547   \n",
       "482        Roger Allers                   186.0  422.783777   \n",
       "230        George Lucas                   320.0  474.544677   \n",
       "64    Christopher Nolan                   645.0  533.316061   \n",
       "419           Gary Ross                   673.0  407.999255   \n",
       "\n",
       "                                        genres         actor_1_name  \\\n",
       "0              Action|Adventure|Fantasy|Sci-Fi          CCH Pounder   \n",
       "28            Action|Adventure|Sci-Fi|Thriller  Bryce Dallas Howard   \n",
       "25                               Drama|Romance    Leonardo DiCaprio   \n",
       "2704           Action|Adventure|Fantasy|Sci-Fi        Harrison Ford   \n",
       "2748                             Family|Sci-Fi         Henry Thomas   \n",
       "16                     Action|Adventure|Sci-Fi      Chris Hemsworth   \n",
       "482   Adventure|Animation|Drama|Family|Musical    Matthew Broderick   \n",
       "230            Action|Adventure|Fantasy|Sci-Fi      Natalie Portman   \n",
       "64                 Action|Crime|Drama|Thriller       Christian Bale   \n",
       "419            Adventure|Drama|Sci-Fi|Thriller    Jennifer Lawrence   \n",
       "\n",
       "                                     movie_title  num_voted_users  \\\n",
       "0                                        Avatar            886204   \n",
       "28                               Jurassic World            418214   \n",
       "25                                      Titanic            793059   \n",
       "2704         Star Wars: Episode IV - A New Hope            911097   \n",
       "2748                 E.T. the Extra-Terrestrial            281842   \n",
       "16                                 The Avengers            995415   \n",
       "482                               The Lion King            644348   \n",
       "230   Star Wars: Episode I - The Phantom Menace            534658   \n",
       "64                              The Dark Knight           1676169   \n",
       "419                            The Hunger Games            701607   \n",
       "\n",
       "      num_user_for_reviews language  budget  title_year  imdb_score  \\\n",
       "0                   3054.0  English   237.0      2009.0         7.9   \n",
       "28                  1290.0  English   150.0      2015.0         7.0   \n",
       "25                  2528.0  English   200.0      1997.0         7.7   \n",
       "2704                1470.0  English    11.0      1977.0         8.7   \n",
       "2748                 515.0  English    10.5      1982.0         7.9   \n",
       "16                  1722.0  English   220.0      2012.0         8.1   \n",
       "482                  656.0  English    45.0      1994.0         8.5   \n",
       "230                 3597.0  English   115.0      1999.0         6.5   \n",
       "64                  4667.0  English   185.0      2008.0         9.0   \n",
       "419                 1959.0  English    78.0      2012.0         7.3   \n",
       "\n",
       "      movie_facebook_likes      profit  \n",
       "0                    33000  523.505847  \n",
       "28                  150000  502.177271  \n",
       "25                   26000  458.672302  \n",
       "2704                 33000  449.935665  \n",
       "2748                 34000  424.449459  \n",
       "16                  123000  403.279547  \n",
       "482                  17000  377.783777  \n",
       "230                  13000  359.544677  \n",
       "64                   37000  348.316061  \n",
       "419                 140000  329.999255  "
      ]
     },
     "execution_count": 45,
     "metadata": {},
     "output_type": "execute_result"
    }
   ],
   "source": [
    "top10 = movies.head(10)\n",
    "top10"
   ]
  },
  {
   "cell_type": "markdown",
   "metadata": {},
   "source": [
    "**Checkpoint:** You might spot two movies directed by `James Cameron` in the list."
   ]
  },
  {
   "cell_type": "markdown",
   "metadata": {},
   "source": [
    "#### <font color='red'>Question 6: Which movie is ranked 5th from the top in the list obtained? </font>\n",
    "-  <font color='red'>E.T. the Extra-Terrestrial</font>\n",
    "-  <font color='red'>The Avengers</font>\n",
    "-  <font color='red'>The Dark Knight</font>\n",
    "-  <font color='red'>Titanic</font>"
   ]
  },
  {
   "cell_type": "markdown",
   "metadata": {},
   "source": [
    "**Subtask 3.3: Find IMDb Top 250**\n",
    "\n",
    "Create a new dataframe `IMDb_Top_250` and store the top 250 movies with the highest IMDb Rating (corresponding to the column: `imdb_score`). Also make sure that for all of these movies, the `num_voted_users` is greater than 25,000. \n",
    "\n",
    "Also add a `Rank` column containing the values 1 to 250 indicating the ranks of the corresponding films."
   ]
  },
  {
   "cell_type": "code",
   "execution_count": 54,
   "metadata": {},
   "outputs": [
    {
     "data": {
      "text/plain": [
       "7.5 to 8    482\n",
       "8 to 8.5    132\n",
       "8.5 to 9     26\n",
       "9 to 9.5      2\n",
       "Name: bucket, dtype: int64"
      ]
     },
     "execution_count": 54,
     "metadata": {},
     "output_type": "execute_result"
    }
   ],
   "source": [
    "# Write your code for extracting the top 250 movies as per the IMDb score here. Make sure that you store it in a new dataframe \n",
    "# and name that dataframe as 'IMDb_Top_250'\n",
    "IMDb_Top_250 = movies.sort_values('imdb_score', ascending=False)\n",
    "\n",
    "def bucket(x):\n",
    "    if x >= 7.5 and x<= 8:\n",
    "        return '7.5 to 8'\n",
    "    elif x >= 8 and x<= 8.5:\n",
    "        return '8 to 8.5'\n",
    "    if x >= 8.5 and x<= 9:\n",
    "        return '8.5 to 9'\n",
    "    if x >= 9 and x<= 9.5:\n",
    "        return '9 to 9.5'\n",
    "    if x >= 9.5 and x<= 10:\n",
    "        return '9.5 to 10'\n",
    "\n",
    "movies['bucket'] = movies['imdb_score'].apply(bucket)\n",
    "movies['bucket'].value_counts()"
   ]
  },
  {
   "cell_type": "code",
   "execution_count": 63,
   "metadata": {},
   "outputs": [
    {
     "data": {
      "image/png": "[encoded data removed]",
      "text/plain": [
       "<Figure size 432x288 with 1 Axes>"
      ]
     },
     "metadata": {
      "needs_background": "light"
     },
     "output_type": "display_data"
    }
   ],
   "source": [
    "IMDb_Top_250 = movies.sort_values(by = 'imdb_score', ascending = False)\n",
    "IMDb_Top_250 = IMDb_Top_250.loc[IMDb_Top_250.num_voted_users > 25000]\n",
    "IMDb_Top_250 = IMDb_Top_250.iloc[:250, ]\n",
    "IMDb_Top_250['Rank'] = range(1,251)\n",
    "\n",
    "import matplotlib.pyplot as plt\n",
    "plt.hist(IMDb_Top_250['imdb_score'], bins = 5, range = (7.5,10), edgecolor = 'cyan')\n",
    "plt.show()"
   ]
  },
  {
   "cell_type": "code",
   "execution_count": 64,
   "metadata": {},
   "outputs": [
    {
     "data": {
      "image/png": "[encoded data removed]",
      "text/plain": [
       "<Figure size 432x288 with 1 Axes>"
      ]
     },
     "metadata": {
      "needs_background": "light"
     },
     "output_type": "display_data"
    }
   ],
   "source": [
    "import matplotlib.pyplot as plt\n",
    "plt.hist(IMDb_Top_250['actor_1_name'], bins = 5, range = (7.5,10), edgecolor = 'cyan')\n",
    "plt.show()"
   ]
  },
  {
   "cell_type": "code",
   "execution_count": 65,
   "metadata": {},
   "outputs": [
    {
     "data": {
      "text/plain": [
       "actor_1_name\n",
       "Brad Pitt            742.352941\n",
       "Leonardo DiCaprio    914.476190\n",
       "Meryl Streep         297.181818\n",
       "Name: num_user_for_reviews, dtype: float64"
      ]
     },
     "execution_count": 65,
     "metadata": {},
     "output_type": "execute_result"
    }
   ],
   "source": [
    "Meryl_Streep = movies.loc[movies.actor_1_name == 'Meryl Streep']\n",
    "Leo_Caprio = movies.loc[movies.actor_1_name == 'Leonardo DiCaprio']\n",
    "Brad_Pitt = movies.loc[movies.actor_1_name == 'Brad Pitt']\n",
    "Combined = pd.concat([Meryl_Streep, Brad_Pitt, Leo_Caprio])\n",
    "Combined_by_segment = Combined.groupby('actor_1_name')\n",
    "\n",
    "Combined_by_segment['num_user_for_reviews'].mean()"
   ]
  },
  {
   "cell_type": "code",
   "execution_count": 66,
   "metadata": {},
   "outputs": [
    {
     "data": {
      "text/plain": [
       "actor_1_name\n",
       "Brad Pitt            245.000000\n",
       "Leonardo DiCaprio    330.190476\n",
       "Meryl Streep         181.454545\n",
       "Name: num_critic_for_reviews, dtype: float64"
      ]
     },
     "execution_count": 66,
     "metadata": {},
     "output_type": "execute_result"
    }
   ],
   "source": [
    "Meryl_Streep = movies.loc[movies.actor_1_name == 'Meryl Streep']\n",
    "Leo_Caprio = movies.loc[movies.actor_1_name == 'Leonardo DiCaprio']\n",
    "Brad_Pitt = movies.loc[movies.actor_1_name == 'Brad Pitt']\n",
    "Combined = pd.concat([Meryl_Streep, Brad_Pitt, Leo_Caprio])\n",
    "Combined_by_segment = Combined.groupby('actor_1_name')\n",
    "\n",
    "Combined_by_segment['num_critic_for_reviews'].mean()"
   ]
  },
  {
   "cell_type": "markdown",
   "metadata": {},
   "source": [
    "#### <font color='red'>Question 7: Suppose movies are divided into 5 buckets based on the IMDb ratings: </font>\n",
    "-  <font color='red'>7.5 to 8</font>\n",
    "-  <font color='red'>8 to 8.5</font>\n",
    "-  <font color='red'>8.5 to 9</font>\n",
    "-  <font color='red'>9 to 9.5</font>\n",
    "-  <font color='red'>9.5 to 10</font>\n",
    "\n",
    "<font color = 'red'> Which bucket holds the maximum number of movies from *IMDb_Top_250*? </font>"
   ]
  },
  {
   "cell_type": "markdown",
   "metadata": {},
   "source": [
    "**Subtask 3.4: Find the critic-favorite and audience-favorite actors**\n",
    "\n",
    "   1. Create three new dataframes namely, `Meryl_Streep`, `Leo_Caprio`, and `Brad_Pitt` which contain the movies in which the actors: 'Meryl Streep', 'Leonardo DiCaprio', and 'Brad Pitt' are the lead actors. Use only the `actor_1_name` column for extraction. Also, make sure that you use the names 'Meryl Streep', 'Leonardo DiCaprio', and 'Brad Pitt' for the said extraction.\n",
    "   2. Append the rows of all these dataframes and store them in a new dataframe named `Combined`.\n",
    "   3. Group the combined dataframe using the `actor_1_name` column.\n",
    "   4. Find the mean of the `num_critic_for_reviews` and `num_user_for_review` and identify the actors which have the highest mean."
   ]
  },
  {
   "cell_type": "code",
   "execution_count": null,
   "metadata": {},
   "outputs": [],
   "source": [
    "# Write your code for creating three new dataframes here\n",
    "Meryl_Streep = # Include all movies in which Meryl_Streep is the lead"
   ]
  },
  {
   "cell_type": "code",
   "execution_count": null,
   "metadata": {},
   "outputs": [],
   "source": [
    "Leo_Caprio = # Include all movies in which Leo_Caprio is the lead"
   ]
  },
  {
   "cell_type": "code",
   "execution_count": null,
   "metadata": {},
   "outputs": [],
   "source": [
    "Brad_Pitt = # Include all movies in which Brad_Pitt is the lead"
   ]
  },
  {
   "cell_type": "code",
   "execution_count": null,
   "metadata": {},
   "outputs": [],
   "source": [
    "# Write your code for combining the three dataframes here\n",
    "Combined = "
   ]
  },
  {
   "cell_type": "code",
   "execution_count": null,
   "metadata": {},
   "outputs": [],
   "source": [
    "# Write your code for grouping the combined dataframe here\n"
   ]
  },
  {
   "cell_type": "code",
   "execution_count": null,
   "metadata": {},
   "outputs": [],
   "source": [
    "# Write the code for finding the mean of critic reviews and audience reviews here\n"
   ]
  },
  {
   "cell_type": "markdown",
   "metadata": {},
   "source": [
    "#### <font color='red'>Question 8: Which actor is highest rated among the three actors according to the user reviews? </font>\n",
    "-  <font color='red'>Meryl Streep</font>\n",
    "-  <font color='red'>Leonardo DiCaprio</font>\n",
    "-  <font color='red'>Brad Pitt</font>"
   ]
  },
  {
   "cell_type": "markdown",
   "metadata": {},
   "source": [
    "#### <font color='red'>Question 9: Which actor is highest rated among the three actors according to the critics?</font>\n",
    "-  <font color='red'>Meryl Streep</font>\n",
    "-  <font color='red'>Leonardo DiCaprio</font>\n",
    "-  <font color='red'>Brad Pitt</font>"
   ]
  },
  {
   "cell_type": "code",
   "execution_count": null,
   "metadata": {},
   "outputs": [],
   "source": []
  }
 ],
 "metadata": {
  "kernelspec": {
   "display_name": "Python 3 (ipykernel)",
   "language": "python",
   "name": "python3"
  },
  "language_info": {
   "codemirror_mode": {
    "name": "ipython",
    "version": 3
   },
   "file_extension": ".py",
   "mimetype": "text/x-python",
   "name": "python",
   "nbconvert_exporter": "python",
   "pygments_lexer": "ipython3",
   "version": "3.9.12"
  }
 },
 "nbformat": 4,
 "nbformat_minor": 2
}
