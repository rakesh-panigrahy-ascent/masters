{
 "cells": [
  {
   "cell_type": "code",
   "execution_count": 63,
   "id": "dc7787bc",
   "metadata": {},
   "outputs": [],
   "source": [
    "from tensorflow.keras.layers import TextVectorization\n",
    "import numpy as np\n",
    "import matplotlib.pyplot as plt\n",
    "import tensorflow as tf"
   ]
  },
  {
   "cell_type": "code",
   "execution_count": 12,
   "id": "169f4e6e",
   "metadata": {},
   "outputs": [],
   "source": [
    "# Example training data, of dtype `string`.\n",
    "training_data = np.array([[\"This is the 1st sample.\"], [\"And here's the 2nd sample.\"]])"
   ]
  },
  {
   "cell_type": "code",
   "execution_count": 13,
   "id": "76dab66e",
   "metadata": {},
   "outputs": [
    {
     "data": {
      "text/plain": [
       "array([['This is the 1st sample.'],\n",
       "       [\"And here's the 2nd sample.\"]], dtype='<U26')"
      ]
     },
     "execution_count": 13,
     "metadata": {},
     "output_type": "execute_result"
    }
   ],
   "source": [
    "training_data\n",
    "# Create a TextVectorization layer instance. It can be configured to either\n",
    "# return integer token indices, or a dense token representation (e.g. multi-hot\n",
    "# or TF-IDF). The text standardization and text splitting algorithms are fully\n",
    "# configurable."
   ]
  },
  {
   "cell_type": "code",
   "execution_count": 44,
   "id": "973fe0ea",
   "metadata": {},
   "outputs": [],
   "source": [
    "vectorizer = TextVectorization(output_mode=\"binary\", ngrams=2)\n",
    "\n",
    "# Calling `adapt` on an array or dataset makes the layer generate a vocabulary\n",
    "# index for the data, which can then be reused when seeing new data.\n",
    "vectorizer.adapt(training_data)"
   ]
  },
  {
   "cell_type": "code",
   "execution_count": 45,
   "id": "3bf7fc59",
   "metadata": {},
   "outputs": [
    {
     "data": {
      "text/plain": [
       "['[UNK]',\n",
       " 'the',\n",
       " 'sample',\n",
       " 'this is',\n",
       " 'this',\n",
       " 'the 2nd',\n",
       " 'the 1st',\n",
       " 'is the',\n",
       " 'is',\n",
       " 'heres the',\n",
       " 'heres',\n",
       " 'and heres',\n",
       " 'and',\n",
       " '2nd sample',\n",
       " '2nd',\n",
       " '1st sample',\n",
       " '1st']"
      ]
     },
     "execution_count": 45,
     "metadata": {},
     "output_type": "execute_result"
    }
   ],
   "source": [
    "vectorizer.get_vocabulary()"
   ]
  },
  {
   "cell_type": "code",
   "execution_count": 46,
   "id": "0d04e74b",
   "metadata": {},
   "outputs": [
    {
     "name": "stdout",
     "output_type": "stream",
     "text": [
      "tf.Tensor(\n",
      "[[0. 1. 1. 1. 1. 0. 1. 1. 1. 0. 0. 0. 0. 0. 0. 1. 1.]\n",
      " [0. 1. 1. 0. 0. 1. 0. 0. 0. 1. 1. 1. 1. 1. 1. 0. 0.]], shape=(2, 17), dtype=float32)\n"
     ]
    }
   ],
   "source": [
    "# After calling adapt, the layer is able to encode any n-gram it has seen before\n",
    "# in the `adapt()` data. Unknown n-grams are encoded via an \"out-of-vocabulary\"\n",
    "# token.\n",
    "integer_data = vectorizer(training_data)\n",
    "print(integer_data)"
   ]
  },
  {
   "cell_type": "code",
   "execution_count": 48,
   "id": "1f9eb2ad",
   "metadata": {},
   "outputs": [
    {
     "data": {
      "text/plain": [
       "(2, 17)"
      ]
     },
     "execution_count": 48,
     "metadata": {},
     "output_type": "execute_result"
    }
   ],
   "source": [
    "integer_data.numpy().shape"
   ]
  },
  {
   "cell_type": "code",
   "execution_count": 49,
   "id": "6eeed9fa",
   "metadata": {},
   "outputs": [],
   "source": [
    "training_data = np.random.randint(0, 256, size=(64, 200, 200, 3)).astype(\"float32\")"
   ]
  },
  {
   "cell_type": "code",
   "execution_count": 62,
   "id": "c7593ce7",
   "metadata": {},
   "outputs": [],
   "source": [
    "#Layers\n",
    "\n",
    "from tensorflow.keras import layers\n",
    "from tensorflow.keras import activations"
   ]
  },
  {
   "cell_type": "code",
   "execution_count": 64,
   "id": "41f5d08d",
   "metadata": {},
   "outputs": [
    {
     "data": {
      "text/plain": [
       "<tf.Tensor: shape=(5,), dtype=float32, numpy=array([-10.,  -5.,   0.,   5.,  10.], dtype=float32)>"
      ]
     },
     "execution_count": 64,
     "metadata": {},
     "output_type": "execute_result"
    }
   ],
   "source": [
    "foo = tf.constant([-10, -5, 0.0, 5, 10], dtype = tf.float32)\n",
    "foo"
   ]
  },
  {
   "cell_type": "code",
   "execution_count": 75,
   "id": "c79464ee",
   "metadata": {},
   "outputs": [
    {
     "data": {
      "text/plain": [
       "<tf.Tensor: shape=(5,), dtype=float32, numpy=array([-0., -5.,  0.,  5., 10.], dtype=float32)>"
      ]
     },
     "execution_count": 75,
     "metadata": {},
     "output_type": "execute_result"
    }
   ],
   "source": [
    "tf.keras.activations.relu(foo, threshold=-6)"
   ]
  },
  {
   "cell_type": "code",
   "execution_count": 77,
   "id": "ddf19385",
   "metadata": {},
   "outputs": [
    {
     "data": {
      "text/plain": [
       "<tf.Tensor: shape=(5,), dtype=float32, numpy=\n",
       "array([4.539787e-05, 6.692851e-03, 5.000000e-01, 9.933072e-01,\n",
       "       9.999546e-01], dtype=float32)>"
      ]
     },
     "execution_count": 77,
     "metadata": {},
     "output_type": "execute_result"
    }
   ],
   "source": [
    "tf.keras.activations.sigmoid(foo)"
   ]
  },
  {
   "cell_type": "code",
   "execution_count": 84,
   "id": "b8e0becb",
   "metadata": {},
   "outputs": [
    {
     "data": {
      "text/plain": [
       "<tf.Tensor: shape=(2, 3), dtype=float32, numpy=\n",
       "array([[0.06187875, 0.07020846, 0.86791277],\n",
       "       [0.01577533, 0.13397506, 0.8502495 ]], dtype=float32)>"
      ]
     },
     "execution_count": 84,
     "metadata": {},
     "output_type": "execute_result"
    }
   ],
   "source": [
    "inputs = tf.random.normal(shape=(2, 3))\n",
    "output = tf.keras.activations.softmax(inputs, axis=-1)\n",
    "# inputs\n",
    "output"
   ]
  },
  {
   "cell_type": "code",
   "execution_count": 85,
   "id": "3387148c",
   "metadata": {},
   "outputs": [],
   "source": [
    "layer = tf.keras.layers.Dense(32, activation=tf.keras.activations.softmax)"
   ]
  },
  {
   "cell_type": "code",
   "execution_count": 89,
   "id": "b15c0410",
   "metadata": {},
   "outputs": [
    {
     "data": {
      "text/plain": [
       "<tf.Tensor: shape=(5,), dtype=float32, numpy=array([1., 2., 3., 4., 5.], dtype=float32)>"
      ]
     },
     "execution_count": 89,
     "metadata": {},
     "output_type": "execute_result"
    }
   ],
   "source": [
    "#Poolings\n",
    "x = tf.constant([1., 2., 3., 4., 5.])\n",
    "x"
   ]
  },
  {
   "cell_type": "code",
   "execution_count": 93,
   "id": "68b1b628",
   "metadata": {},
   "outputs": [
    {
     "data": {
      "text/plain": [
       "<tf.Tensor: shape=(1, 5, 1), dtype=float32, numpy=\n",
       "array([[[1.],\n",
       "        [2.],\n",
       "        [3.],\n",
       "        [4.],\n",
       "        [5.]]], dtype=float32)>"
      ]
     },
     "execution_count": 93,
     "metadata": {},
     "output_type": "execute_result"
    }
   ],
   "source": [
    "x = tf.reshape(x, [1, 5, 1])\n",
    "x"
   ]
  },
  {
   "cell_type": "code",
   "execution_count": 103,
   "id": "54c5166b",
   "metadata": {},
   "outputs": [],
   "source": [
    "max_pool_1d = tf.keras.layers.MaxPooling1D(pool_size=2,strides=1, padding='valid')"
   ]
  },
  {
   "cell_type": "code",
   "execution_count": 104,
   "id": "24f228a1",
   "metadata": {},
   "outputs": [
    {
     "data": {
      "text/plain": [
       "<tf.Tensor: shape=(1, 4, 1), dtype=float32, numpy=\n",
       "array([[[2.],\n",
       "        [3.],\n",
       "        [4.],\n",
       "        [5.]]], dtype=float32)>"
      ]
     },
     "execution_count": 104,
     "metadata": {},
     "output_type": "execute_result"
    }
   ],
   "source": [
    "max_pool_1d(x)"
   ]
  },
  {
   "cell_type": "code",
   "execution_count": 105,
   "id": "06077b30",
   "metadata": {},
   "outputs": [],
   "source": [
    "max_pool_1d = tf.keras.layers.MaxPooling1D(pool_size=2,strides=1, padding='valid')"
   ]
  },
  {
   "cell_type": "code",
   "execution_count": 117,
   "id": "75e695aa",
   "metadata": {},
   "outputs": [],
   "source": [
    "x = tf.constant([[1., 2., 3.], [4., 5., 6.],[7., 8., 9.]])"
   ]
  },
  {
   "cell_type": "code",
   "execution_count": 118,
   "id": "aa4dd638",
   "metadata": {},
   "outputs": [
    {
     "data": {
      "text/plain": [
       "<tf.Tensor: shape=(1, 3, 3, 1), dtype=float32, numpy=\n",
       "array([[[[1.],\n",
       "         [2.],\n",
       "         [3.]],\n",
       "\n",
       "        [[4.],\n",
       "         [5.],\n",
       "         [6.]],\n",
       "\n",
       "        [[7.],\n",
       "         [8.],\n",
       "         [9.]]]], dtype=float32)>"
      ]
     },
     "execution_count": 118,
     "metadata": {},
     "output_type": "execute_result"
    }
   ],
   "source": [
    "x = tf.reshape(x, [1, 3, 3, 1])\n",
    "x"
   ]
  },
  {
   "cell_type": "code",
   "execution_count": 110,
   "id": "f76248e5",
   "metadata": {},
   "outputs": [],
   "source": [
    "max_pool_2d = tf.keras.layers.MaxPooling2D(pool_size=(2, 2), strides=(1, 1), padding='valid')"
   ]
  },
  {
   "cell_type": "code",
   "execution_count": 111,
   "id": "aa493d22",
   "metadata": {},
   "outputs": [
    {
     "data": {
      "text/plain": [
       "<tf.Tensor: shape=(1, 2, 2, 1), dtype=float32, numpy=\n",
       "array([[[[5.],\n",
       "         [6.]],\n",
       "\n",
       "        [[8.],\n",
       "         [9.]]]], dtype=float32)>"
      ]
     },
     "execution_count": 111,
     "metadata": {},
     "output_type": "execute_result"
    }
   ],
   "source": [
    "max_pool_2d(x)"
   ]
  },
  {
   "cell_type": "code",
   "execution_count": 112,
   "id": "dd85729d",
   "metadata": {},
   "outputs": [
    {
     "data": {
      "text/plain": [
       "<tf.Tensor: shape=(2, 4, 5, 3), dtype=float32, numpy=\n",
       "array([[[[ 1.151908  ,  0.73197025,  0.60676116],\n",
       "         [-0.7270176 , -1.0644354 , -0.7019978 ],\n",
       "         [-1.3141625 ,  0.35292605, -0.2118673 ],\n",
       "         [ 0.7213064 ,  2.4865227 , -0.69563836],\n",
       "         [-0.7972146 ,  0.7661949 ,  0.25465742]],\n",
       "\n",
       "        [[ 1.161866  ,  1.0511738 ,  1.2748348 ],\n",
       "         [ 0.9310628 , -1.3338273 ,  1.7616367 ],\n",
       "         [-0.30589047,  0.93164253, -0.5975304 ],\n",
       "         [ 0.9608474 ,  1.0251048 , -1.0439398 ],\n",
       "         [-0.9179695 , -0.37616038, -0.7189862 ]],\n",
       "\n",
       "        [[ 0.95430464, -0.86915636, -0.88413996],\n",
       "         [-0.43447548,  0.65850645, -1.2216039 ],\n",
       "         [ 0.26395795, -0.5973517 ,  0.80025613],\n",
       "         [-1.5184633 , -0.38722223,  0.86517745],\n",
       "         [ 0.03613742,  0.9416531 ,  1.8126674 ]],\n",
       "\n",
       "        [[ 0.7236268 , -0.54822224, -1.6190277 ],\n",
       "         [ 1.7952847 ,  0.48501176,  0.8191651 ],\n",
       "         [-0.19737953,  0.52802294,  1.9227908 ],\n",
       "         [ 1.5114888 ,  0.663335  ,  0.24153754],\n",
       "         [-0.50653166,  2.2748165 , -1.5983803 ]]],\n",
       "\n",
       "\n",
       "       [[[-0.49551985,  0.84621066,  0.35810718],\n",
       "         [ 1.0399102 ,  0.13204595,  0.5586525 ],\n",
       "         [ 0.6782787 , -0.7025278 , -0.33698502],\n",
       "         [-1.4669441 ,  1.68256   , -0.17305294],\n",
       "         [ 1.7521698 ,  0.45998904, -0.92259514]],\n",
       "\n",
       "        [[ 0.96077025, -2.189524  ,  0.38097253],\n",
       "         [-0.83535117, -0.4402427 , -0.01292353],\n",
       "         [-0.61093104, -0.02554525,  1.5585245 ],\n",
       "         [-0.87369925,  0.03369063,  1.2659113 ],\n",
       "         [ 1.2739165 ,  2.2386606 , -0.4165474 ]],\n",
       "\n",
       "        [[ 0.9972542 ,  0.53127575, -0.4195278 ],\n",
       "         [-0.8343798 , -0.5046374 , -1.119658  ],\n",
       "         [-1.65739   , -1.2159815 ,  2.1241138 ],\n",
       "         [-0.01614888,  0.68735933, -1.5947914 ],\n",
       "         [ 0.41324878, -2.3541963 , -1.1458677 ]],\n",
       "\n",
       "        [[-0.54450303, -2.6101427 , -2.4983542 ],\n",
       "         [-0.65663505, -1.8543499 , -0.4581951 ],\n",
       "         [-0.27134117,  0.22088526,  0.64713734],\n",
       "         [ 1.165121  ,  1.9648339 ,  0.63669497],\n",
       "         [ 0.08016865, -0.6095754 ,  0.93850136]]]], dtype=float32)>"
      ]
     },
     "execution_count": 112,
     "metadata": {},
     "output_type": "execute_result"
    }
   ],
   "source": [
    "input_shape = (2, 4, 5, 3)\n",
    "x = tf.random.normal(input_shape)\n",
    "x"
   ]
  },
  {
   "cell_type": "code",
   "execution_count": 123,
   "id": "3c1250cd",
   "metadata": {},
   "outputs": [
    {
     "data": {
      "text/plain": [
       "<tf.Tensor: shape=(1, 1), dtype=float32, numpy=array([[9.]], dtype=float32)>"
      ]
     },
     "execution_count": 123,
     "metadata": {},
     "output_type": "execute_result"
    }
   ],
   "source": [
    "y = tf.keras.layers.GlobalMaxPool2D()(x)\n",
    "y"
   ]
  },
  {
   "cell_type": "code",
   "execution_count": 115,
   "id": "e140e437",
   "metadata": {},
   "outputs": [
    {
     "data": {
      "text/plain": [
       "TensorShape([2, 3])"
      ]
     },
     "execution_count": 115,
     "metadata": {},
     "output_type": "execute_result"
    }
   ],
   "source": [
    "y.shape"
   ]
  }
 ],
 "metadata": {
  "kernelspec": {
   "display_name": "Python 3 (ipykernel)",
   "language": "python",
   "name": "python3"
  },
  "language_info": {
   "codemirror_mode": {
    "name": "ipython",
    "version": 3
   },
   "file_extension": ".py",
   "mimetype": "text/x-python",
   "name": "python",
   "nbconvert_exporter": "python",
   "pygments_lexer": "ipython3",
   "version": "3.9.12"
  }
 },
 "nbformat": 4,
 "nbformat_minor": 5
}
