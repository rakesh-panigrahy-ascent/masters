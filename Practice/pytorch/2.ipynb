{
 "cells": [
  {
   "cell_type": "code",
   "execution_count": 1,
   "id": "66ce04ae-c2e1-4c4b-a1ef-fbdefc4edc1d",
   "metadata": {
    "tags": []
   },
   "outputs": [],
   "source": [
    "import torch"
   ]
  },
  {
   "cell_type": "code",
   "execution_count": 19,
   "id": "ac89904b-9c3d-43cf-bc1d-17db64ba4645",
   "metadata": {
    "tags": []
   },
   "outputs": [
    {
     "name": "stdout",
     "output_type": "stream",
     "text": [
      "tensor([[1., 2., 3.],\n",
      "        [4., 5., 6.]], requires_grad=True)\n",
      "tensor(91., grad_fn=<SumBackward0>)\n",
      "tensor([[ 2.,  4.,  6.],\n",
      "        [ 8., 10., 12.]])\n"
     ]
    }
   ],
   "source": [
    "x = torch.tensor([[1,2,3],[4,5,6]], \n",
    "         dtype=torch.float, requires_grad=True)\n",
    "print(x)\n",
    "# out:\n",
    "# tensor([[1., 2., 3.],\n",
    "#         [4., 5., 6.]], requires_grad=True)\n",
    "\n",
    "f = x.pow(2).sum()\n",
    "print(f)\n",
    "# tensor(91., grad_fn=<SumBackward0>)\n",
    "\n",
    "f.backward()\n",
    "print(x.grad) # df/dx = 2x \n",
    "# tensor([[ 2.,  4.,  6.],\n",
    "#         [ 8., 10., 12.]])"
   ]
  },
  {
   "cell_type": "code",
   "execution_count": 33,
   "id": "a8048283-2d66-4d50-8a53-95791eadaf85",
   "metadata": {
    "tags": []
   },
   "outputs": [
    {
     "data": {
      "text/plain": [
       "tensor([[1., 2., 3.],\n",
       "        [4., 5., 6.]], requires_grad=True)"
      ]
     },
     "execution_count": 33,
     "metadata": {},
     "output_type": "execute_result"
    }
   ],
   "source": [
    "x = torch.tensor([[1,2,3], [4,5,6]], dtype=torch.float, requires_grad=True)\n",
    "x"
   ]
  },
  {
   "cell_type": "code",
   "execution_count": 34,
   "id": "6dcc5de6-a6a2-4f7c-8f57-6887ea2c4f3d",
   "metadata": {
    "tags": []
   },
   "outputs": [
    {
     "data": {
      "text/plain": [
       "tensor(182., grad_fn=<MulBackward0>)"
      ]
     },
     "execution_count": 34,
     "metadata": {},
     "output_type": "execute_result"
    }
   ],
   "source": [
    "y = 2*x.pow(2).sum()\n",
    "y"
   ]
  },
  {
   "cell_type": "code",
   "execution_count": 35,
   "id": "e342b30c-d213-4933-a573-340eea443118",
   "metadata": {
    "tags": []
   },
   "outputs": [],
   "source": [
    "y.backward()"
   ]
  },
  {
   "cell_type": "code",
   "execution_count": 36,
   "id": "e433cb27-d91e-4181-8ee7-63385d685012",
   "metadata": {
    "tags": []
   },
   "outputs": [
    {
     "data": {
      "text/plain": [
       "tensor([[ 4.,  8., 12.],\n",
       "        [16., 20., 24.]])"
      ]
     },
     "execution_count": 36,
     "metadata": {},
     "output_type": "execute_result"
    }
   ],
   "source": [
    "x.grad"
   ]
  }
 ],
 "metadata": {
  "kernelspec": {
   "display_name": "Python 3 (ipykernel)",
   "language": "python",
   "name": "python3"
  },
  "language_info": {
   "codemirror_mode": {
    "name": "ipython",
    "version": 3
   },
   "file_extension": ".py",
   "mimetype": "text/x-python",
   "name": "python",
   "nbconvert_exporter": "python",
   "pygments_lexer": "ipython3",
   "version": "3.11.5"
  }
 },
 "nbformat": 4,
 "nbformat_minor": 5
}
