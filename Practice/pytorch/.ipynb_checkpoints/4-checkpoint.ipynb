{
 "cells": [
  {
   "cell_type": "code",
   "execution_count": 194,
   "id": "88aadcd9-bf76-47ac-b99e-a8cc6af43279",
   "metadata": {
    "tags": []
   },
   "outputs": [],
   "source": [
    "from torchvision.datasets import CIFAR10\n",
    "from torchvision import transforms, models\n",
    "import torch\n",
    "from torch import nn\n",
    "from torch.nn import functional as F\n",
    "from torch import optim\n",
    "from torch.utils.data import random_split"
   ]
  },
  {
   "cell_type": "code",
   "execution_count": 4,
   "id": "a9747ba4-5d24-41e4-a240-095224f550fe",
   "metadata": {
    "tags": []
   },
   "outputs": [],
   "source": [
    "train_transform = transforms.Compose([\n",
    "    transforms.RandomCrop(size=32, padding=4),\n",
    "    transforms.RandomHorizontalFlip(),\n",
    "    transforms.ToTensor(),\n",
    "    transforms.Normalize(mean=[0.4914, 0.4822, 0.4465], std=[0.2023, 0.1994, 0.2010])\n",
    "])"
   ]
  },
  {
   "cell_type": "code",
   "execution_count": 5,
   "id": "4990531c-ce89-4e13-acba-ea6a512a882b",
   "metadata": {
    "tags": []
   },
   "outputs": [],
   "source": [
    "test_transform = transforms.Compose([\n",
    "    transforms.ToTensor(),\n",
    "    transforms.Normalize(mean=[0.4914, 0.4822, 0.4465], std=[0.2023, 0.1994, 0.2010])\n",
    "])"
   ]
  },
  {
   "cell_type": "code",
   "execution_count": 6,
   "id": "239f0eaf-fed0-4a0a-a47b-1e0266be0fbf",
   "metadata": {
    "tags": []
   },
   "outputs": [
    {
     "name": "stdout",
     "output_type": "stream",
     "text": [
      "Files already downloaded and verified\n"
     ]
    }
   ],
   "source": [
    "train_data = CIFAR10(root='./train/', download=True, train=True, transform=train_transform)"
   ]
  },
  {
   "cell_type": "code",
   "execution_count": 8,
   "id": "aa5c02ea-25c9-47b0-9353-5d70bd089d28",
   "metadata": {
    "tags": []
   },
   "outputs": [
    {
     "name": "stdout",
     "output_type": "stream",
     "text": [
      "Downloading https://www.cs.toronto.edu/~kriz/cifar-10-python.tar.gz to ./test/cifar-10-python.tar.gz\n"
     ]
    },
    {
     "name": "stderr",
     "output_type": "stream",
     "text": [
      "100%|██████████| 170498071/170498071 [03:26<00:00, 824757.41it/s] \n"
     ]
    },
    {
     "name": "stdout",
     "output_type": "stream",
     "text": [
      "Extracting ./test/cifar-10-python.tar.gz to ./test/\n"
     ]
    }
   ],
   "source": [
    "test_data = CIFAR10(root='./test/', download=True, train=False, transform=test_transform)"
   ]
  },
  {
   "cell_type": "code",
   "execution_count": 10,
   "id": "ac5c101d-79d2-405d-b639-57c62b764e62",
   "metadata": {
    "tags": []
   },
   "outputs": [
    {
     "data": {
      "text/plain": [
       "Dataset CIFAR10\n",
       "    Number of datapoints: 50000\n",
       "    Root location: ./train/\n",
       "    Split: Train\n",
       "    StandardTransform\n",
       "Transform: Compose(\n",
       "               RandomCrop(size=(32, 32), padding=4)\n",
       "               RandomHorizontalFlip(p=0.5)\n",
       "               ToTensor()\n",
       "               Normalize(mean=[0.4914, 0.4822, 0.4465], std=[0.2023, 0.1994, 0.201])\n",
       "           )"
      ]
     },
     "execution_count": 10,
     "metadata": {},
     "output_type": "execute_result"
    }
   ],
   "source": [
    "train_data"
   ]
  },
  {
   "cell_type": "code",
   "execution_count": 13,
   "id": "f6ecd274-91ae-4b13-90d0-effb885a2034",
   "metadata": {
    "tags": []
   },
   "outputs": [],
   "source": [
    "#data loader\n",
    "train_data_loader = torch.utils.data.DataLoader(train_data, batch_size=16, shuffle=True)"
   ]
  },
  {
   "cell_type": "code",
   "execution_count": 17,
   "id": "88effeb5-2766-4d47-b1da-6094ad626ff6",
   "metadata": {
    "tags": []
   },
   "outputs": [
    {
     "name": "stdout",
     "output_type": "stream",
     "text": [
      "tensor([[[[ 0.0716, -0.0060, -0.1998,  ..., -0.5293, -0.6069, -0.5681],\n",
      "          [-0.0641,  0.2848,  0.5174,  ..., -0.6844, -0.6263, -0.5293],\n",
      "          [ 0.1491,  0.2073,  0.4593,  ..., -0.4518, -0.3355, -0.0060],\n",
      "          ...,\n",
      "          [-1.1884, -1.1109, -0.9946,  ..., -0.8201, -0.8395, -0.5487],\n",
      "          [-0.9946, -0.7038, -0.7813,  ..., -0.8589, -0.9752, -0.8589],\n",
      "          [-0.8395, -0.7813, -0.7620,  ..., -0.9364, -1.0721, -1.0721]],\n",
      "\n",
      "         [[ 0.1188, -0.2746, -0.6089,  ..., -0.2746, -0.3336, -0.2942],\n",
      "          [-0.1172, -0.1566, -0.0976,  ..., -0.5302, -0.4516, -0.3729],\n",
      "          [-0.0976, -0.0582,  0.0991,  ..., -0.4909, -0.3139, -0.1566],\n",
      "          ...,\n",
      "          [-0.6679, -0.5302, -0.5302,  ..., -0.2942, -0.2352,  0.0204],\n",
      "          [-0.5892, -0.1172, -0.2549,  ..., -0.2549, -0.3139, -0.2746],\n",
      "          [-0.2942, -0.0976, -0.1566,  ..., -0.3532, -0.3926, -0.4516]],\n",
      "\n",
      "         [[-0.5045, -0.5825, -0.8947,  ..., -0.8557, -0.9142, -0.8947],\n",
      "          [-0.6996, -0.4655, -0.3874,  ..., -1.0703, -1.0898, -0.9532],\n",
      "          [-0.6411, -0.5825, -0.3484,  ..., -0.9922, -0.9532, -0.6411],\n",
      "          ...,\n",
      "          [-1.4995, -1.4605, -1.2069,  ..., -0.9142, -0.8947, -0.6411],\n",
      "          [-1.3044, -1.0118, -1.1483,  ..., -0.9532, -1.0313, -1.0118],\n",
      "          [-1.0703, -1.0118, -1.0898,  ..., -1.0508, -1.1288, -1.3044]]],\n",
      "\n",
      "\n",
      "        [[[-0.0641, -0.0641, -0.3355,  ..., -2.4291, -2.4291, -2.4291],\n",
      "          [-0.1610, -0.6650, -0.5293,  ..., -2.4291, -2.4291, -2.4291],\n",
      "          [ 0.1879, -0.3743, -0.4518,  ..., -2.4291, -2.4291, -2.4291],\n",
      "          ...,\n",
      "          [-2.4291, -2.4291, -2.4291,  ..., -2.4291, -2.4291, -2.4291],\n",
      "          [-2.4291, -2.4291, -2.4291,  ..., -2.4291, -2.4291, -2.4291],\n",
      "          [-2.4291, -2.4291, -2.4291,  ..., -2.4291, -2.4291, -2.4291]],\n",
      "\n",
      "         [[ 0.3941,  0.3351, -0.0189,  ..., -2.4183, -2.4183, -2.4183],\n",
      "          [ 0.3154, -0.1959, -0.4319,  ..., -2.4183, -2.4183, -2.4183],\n",
      "          [ 0.4138, -0.1566, -0.4319,  ..., -2.4183, -2.4183, -2.4183],\n",
      "          ...,\n",
      "          [-2.4183, -2.4183, -2.4183,  ..., -2.4183, -2.4183, -2.4183],\n",
      "          [-2.4183, -2.4183, -2.4183,  ..., -2.4183, -2.4183, -2.4183],\n",
      "          [-2.4183, -2.4183, -2.4183,  ..., -2.4183, -2.4183, -2.4183]],\n",
      "\n",
      "         [[ 1.0368,  0.9393,  0.5881,  ..., -2.2214, -2.2214, -2.2214],\n",
      "          [ 0.8807,  0.2759,  0.0418,  ..., -2.2214, -2.2214, -2.2214],\n",
      "          [ 0.8612,  0.2174, -0.0948,  ..., -2.2214, -2.2214, -2.2214],\n",
      "          ...,\n",
      "          [-2.2214, -2.2214, -2.2214,  ..., -2.2214, -2.2214, -2.2214],\n",
      "          [-2.2214, -2.2214, -2.2214,  ..., -2.2214, -2.2214, -2.2214],\n",
      "          [-2.2214, -2.2214, -2.2214,  ..., -2.2214, -2.2214, -2.2214]]],\n",
      "\n",
      "\n",
      "        [[[-0.4130, -0.4130, -0.7426,  ...,  1.3704,  1.4091, -2.4291],\n",
      "          [-0.4324, -0.3355, -0.4712,  ...,  1.3898,  1.4091, -2.4291],\n",
      "          [-0.4906, -0.8395, -1.1303,  ...,  1.4091,  1.4479, -2.4291],\n",
      "          ...,\n",
      "          [-0.3355,  0.0328,  0.4981,  ...,  0.7307,  0.7307, -2.4291],\n",
      "          [-2.4291, -2.4291, -2.4291,  ..., -2.4291, -2.4291, -2.4291],\n",
      "          [-2.4291, -2.4291, -2.4291,  ..., -2.4291, -2.4291, -2.4291]],\n",
      "\n",
      "         [[-0.1959, -0.1762, -0.5106,  ...,  1.5938,  1.6134, -2.4183],\n",
      "          [-0.1959, -0.0976, -0.2156,  ...,  1.5938,  1.6134, -2.4183],\n",
      "          [-0.2549, -0.6089, -0.8449,  ...,  1.5938,  1.6724, -2.4183],\n",
      "          ...,\n",
      "          [-0.2746,  0.0598,  0.4728,  ...,  0.7088,  0.7088, -2.4183],\n",
      "          [-2.4183, -2.4183, -2.4183,  ..., -2.4183, -2.4183, -2.4183],\n",
      "          [-2.4183, -2.4183, -2.4183,  ..., -2.4183, -2.4183, -2.4183]],\n",
      "\n",
      "         [[-0.1338, -0.1143, -0.4655,  ...,  1.8563,  1.9148, -2.2214],\n",
      "          [-0.1728, -0.0948, -0.2509,  ...,  1.8953,  1.8953, -2.2214],\n",
      "          [-0.2509, -0.6606, -0.9727,  ...,  1.9538,  1.8758, -2.2214],\n",
      "          ...,\n",
      "          [-0.2509,  0.0418,  0.3540,  ...,  0.6466,  0.6466, -2.2214],\n",
      "          [-2.2214, -2.2214, -2.2214,  ..., -2.2214, -2.2214, -2.2214],\n",
      "          [-2.2214, -2.2214, -2.2214,  ..., -2.2214, -2.2214, -2.2214]]],\n",
      "\n",
      "\n",
      "        ...,\n",
      "\n",
      "\n",
      "        [[[-2.4291, -2.4291, -2.4291,  ..., -2.4291, -2.4291, -2.4291],\n",
      "          [-2.4291, -2.4291, -2.4291,  ..., -2.4291, -2.4291, -2.4291],\n",
      "          [-2.4291, -2.4291, -2.4291,  ..., -2.4291, -2.4291, -2.4291],\n",
      "          ...,\n",
      "          [-2.4291, -0.4906, -0.6650,  ...,  1.3510,  1.5642,  1.0602],\n",
      "          [-2.4291, -0.3549, -0.3161,  ...,  0.6531,  1.1571,  1.4091],\n",
      "          [-2.4291, -0.2580, -0.2192,  ..., -0.1804,  0.1104,  0.3624]],\n",
      "\n",
      "         [[-2.4183, -2.4183, -2.4183,  ..., -2.4183, -2.4183, -2.4183],\n",
      "          [-2.4183, -2.4183, -2.4183,  ..., -2.4183, -2.4183, -2.4183],\n",
      "          [-2.4183, -2.4183, -2.4183,  ..., -2.4183, -2.4183, -2.4183],\n",
      "          ...,\n",
      "          [-2.4183,  0.0794, -0.1566,  ...,  1.4168,  1.7314,  1.2201],\n",
      "          [-2.4183,  0.4334,  0.4531,  ...,  0.5514,  1.3184,  1.5544],\n",
      "          [-2.4183,  0.5318,  0.6104,  ..., -0.0386,  0.0794,  0.3548]],\n",
      "\n",
      "         [[-2.2214, -2.2214, -2.2214,  ..., -2.2214, -2.2214, -2.2214],\n",
      "          [-2.2214, -2.2214, -2.2214,  ..., -2.2214, -2.2214, -2.2214],\n",
      "          [-2.2214, -2.2214, -2.2214,  ..., -2.2214, -2.2214, -2.2214],\n",
      "          ...,\n",
      "          [-2.2214, -0.5630, -0.8167,  ...,  0.6661,  0.9198,  0.6271],\n",
      "          [-2.2214, -0.6215, -0.5630,  ..., -0.0362,  0.4320,  0.9588],\n",
      "          [-2.2214, -0.5630, -0.4655,  ..., -0.7386, -0.7191, -0.0948]]],\n",
      "\n",
      "\n",
      "        [[[ 2.4559,  2.4365,  2.3590,  ...,  2.4172,  2.3978,  2.4365],\n",
      "          [ 2.4365,  2.4172,  2.3590,  ...,  2.4172,  2.3978,  2.4365],\n",
      "          [ 2.4559,  2.4172,  2.3590,  ...,  2.4172,  2.3978,  2.4365],\n",
      "          ...,\n",
      "          [-2.4291, -2.4291, -2.4291,  ..., -2.4291, -2.4291, -2.4291],\n",
      "          [-2.4291, -2.4291, -2.4291,  ..., -2.4291, -2.4291, -2.4291],\n",
      "          [-2.4291, -2.4291, -2.4291,  ..., -2.4291, -2.4291, -2.4291]],\n",
      "\n",
      "         [[ 2.4788,  2.4985,  2.5181,  ...,  2.4985,  2.4788,  2.5181],\n",
      "          [ 2.4788,  2.4985,  2.5181,  ...,  2.4985,  2.4788,  2.5181],\n",
      "          [ 2.4788,  2.4985,  2.4985,  ...,  2.4985,  2.4788,  2.5181],\n",
      "          ...,\n",
      "          [-2.4183, -2.4183, -2.4183,  ..., -2.4183, -2.4183, -2.4183],\n",
      "          [-2.4183, -2.4183, -2.4183,  ..., -2.4183, -2.4183, -2.4183],\n",
      "          [-2.4183, -2.4183, -2.4183,  ..., -2.4183, -2.4183, -2.4183]],\n",
      "\n",
      "         [[ 2.6757,  2.6562,  2.6172,  ...,  2.6562,  2.6367,  2.6757],\n",
      "          [ 2.6757,  2.6562,  2.5976,  ...,  2.6562,  2.6367,  2.6757],\n",
      "          [ 2.6757,  2.6562,  2.5976,  ...,  2.6562,  2.6367,  2.6757],\n",
      "          ...,\n",
      "          [-2.2214, -2.2214, -2.2214,  ..., -2.2214, -2.2214, -2.2214],\n",
      "          [-2.2214, -2.2214, -2.2214,  ..., -2.2214, -2.2214, -2.2214],\n",
      "          [-2.2214, -2.2214, -2.2214,  ..., -2.2214, -2.2214, -2.2214]]],\n",
      "\n",
      "\n",
      "        [[[-2.4291, -2.4291, -2.4291,  ..., -2.4291, -2.4291, -2.4291],\n",
      "          [-2.4291, -2.4291, -2.4291,  ...,  2.5141,  2.5141,  2.5141],\n",
      "          [-2.4291, -2.4291, -2.4291,  ...,  2.5141,  2.5141,  2.5141],\n",
      "          ...,\n",
      "          [-2.4291, -2.4291, -2.4291,  ...,  0.4981,  0.4981,  0.4981],\n",
      "          [-2.4291, -2.4291, -2.4291,  ...,  2.4365,  2.4365,  2.4559],\n",
      "          [-2.4291, -2.4291, -2.4291,  ...,  2.5141,  2.4947,  2.4753]],\n",
      "\n",
      "         [[-2.4183, -2.4183, -2.4183,  ..., -2.4183, -2.4183, -2.4183],\n",
      "          [-2.4183, -2.4183, -2.4183,  ...,  2.5968,  2.5968,  2.5968],\n",
      "          [-2.4183, -2.4183, -2.4183,  ...,  2.5771,  2.5771,  2.5771],\n",
      "          ...,\n",
      "          [-2.4183, -2.4183, -2.4183,  ...,  1.0824,  1.0824,  1.0824],\n",
      "          [-2.4183, -2.4183, -2.4183,  ...,  2.5968,  2.5968,  2.5968],\n",
      "          [-2.4183, -2.4183, -2.4183,  ...,  2.5771,  2.5771,  2.5575]],\n",
      "\n",
      "         [[-2.2214, -2.2214, -2.2214,  ..., -2.2214, -2.2214, -2.2214],\n",
      "          [-2.2214, -2.2214, -2.2214,  ...,  2.7537,  2.7537,  2.7537],\n",
      "          [-2.2214, -2.2214, -2.2214,  ...,  2.6757,  2.6757,  2.6757],\n",
      "          ...,\n",
      "          [-2.2214, -2.2214, -2.2214,  ...,  1.6807,  1.6807,  1.6807],\n",
      "          [-2.2214, -2.2214, -2.2214,  ...,  2.7537,  2.7537,  2.7537],\n",
      "          [-2.2214, -2.2214, -2.2214,  ...,  2.7342,  2.7342,  2.7147]]]]) tensor([3, 9, 1, 5, 6, 7, 1, 7, 6, 3, 2, 1, 1, 5, 3, 0])\n"
     ]
    }
   ],
   "source": [
    "data_batch, label_batch = next(iter(train_data_loader))\n",
    "print(data_batch, label_batch)"
   ]
  },
  {
   "cell_type": "code",
   "execution_count": 24,
   "id": "bcee6106-2299-4750-9c4e-fa1ce9226d3c",
   "metadata": {
    "tags": []
   },
   "outputs": [
    {
     "name": "stdout",
     "output_type": "stream",
     "text": [
      "torch.Size([16, 3, 32, 32]) torch.Size([16])\n"
     ]
    }
   ],
   "source": [
    "print(data_batch.size(), label_batch.size())"
   ]
  },
  {
   "cell_type": "code",
   "execution_count": 27,
   "id": "741d445d-a4e0-4f91-aa7a-4f30c5fad7ef",
   "metadata": {
    "tags": []
   },
   "outputs": [],
   "source": [
    "testloader = torch.utils.data.DataLoader(test_data, batch_size=16, shuffle=False)"
   ]
  },
  {
   "cell_type": "code",
   "execution_count": 29,
   "id": "fdcd985d-340b-49ca-8d48-fc55f8d2d4c6",
   "metadata": {
    "tags": []
   },
   "outputs": [
    {
     "data": {
      "text/plain": [
       "Dataset CIFAR10\n",
       "    Number of datapoints: 10000\n",
       "    Root location: ./test/\n",
       "    Split: Test\n",
       "    StandardTransform\n",
       "Transform: Compose(\n",
       "               ToTensor()\n",
       "               Normalize(mean=[0.4914, 0.4822, 0.4465], std=[0.2023, 0.1994, 0.201])\n",
       "           )"
      ]
     },
     "execution_count": 29,
     "metadata": {},
     "output_type": "execute_result"
    }
   ],
   "source": [
    "test_data"
   ]
  },
  {
   "cell_type": "code",
   "execution_count": 31,
   "id": "7bb4cc0f-e105-4f53-80ee-0d8637a21210",
   "metadata": {
    "tags": []
   },
   "outputs": [
    {
     "name": "stderr",
     "output_type": "stream",
     "text": [
      "/Users/rakesh.panigrahy/anaconda3/lib/python3.11/site-packages/torchvision/models/_utils.py:208: UserWarning: The parameter 'pretrained' is deprecated since 0.13 and may be removed in the future, please use 'weights' instead.\n",
      "  warnings.warn(\n",
      "/Users/rakesh.panigrahy/anaconda3/lib/python3.11/site-packages/torchvision/models/_utils.py:223: UserWarning: Arguments other than a weight enum or `None` for 'weights' are deprecated since 0.13 and may be removed in the future. The current behavior is equivalent to passing `weights=VGG16_Weights.IMAGENET1K_V1`. You can also use `weights=VGG16_Weights.DEFAULT` to get the most up-to-date weights.\n",
      "  warnings.warn(msg)\n",
      "Downloading: \"https://download.pytorch.org/models/vgg16-397923af.pth\" to /Users/rakesh.panigrahy/.cache/torch/hub/checkpoints/vgg16-397923af.pth\n",
      "100%|██████████| 528M/528M [02:23<00:00, 3.86MB/s] \n"
     ]
    },
    {
     "data": {
      "text/plain": [
       "VGG(\n",
       "  (features): Sequential(\n",
       "    (0): Conv2d(3, 64, kernel_size=(3, 3), stride=(1, 1), padding=(1, 1))\n",
       "    (1): ReLU(inplace=True)\n",
       "    (2): Conv2d(64, 64, kernel_size=(3, 3), stride=(1, 1), padding=(1, 1))\n",
       "    (3): ReLU(inplace=True)\n",
       "    (4): MaxPool2d(kernel_size=2, stride=2, padding=0, dilation=1, ceil_mode=False)\n",
       "    (5): Conv2d(64, 128, kernel_size=(3, 3), stride=(1, 1), padding=(1, 1))\n",
       "    (6): ReLU(inplace=True)\n",
       "    (7): Conv2d(128, 128, kernel_size=(3, 3), stride=(1, 1), padding=(1, 1))\n",
       "    (8): ReLU(inplace=True)\n",
       "    (9): MaxPool2d(kernel_size=2, stride=2, padding=0, dilation=1, ceil_mode=False)\n",
       "    (10): Conv2d(128, 256, kernel_size=(3, 3), stride=(1, 1), padding=(1, 1))\n",
       "    (11): ReLU(inplace=True)\n",
       "    (12): Conv2d(256, 256, kernel_size=(3, 3), stride=(1, 1), padding=(1, 1))\n",
       "    (13): ReLU(inplace=True)\n",
       "    (14): Conv2d(256, 256, kernel_size=(3, 3), stride=(1, 1), padding=(1, 1))\n",
       "    (15): ReLU(inplace=True)\n",
       "    (16): MaxPool2d(kernel_size=2, stride=2, padding=0, dilation=1, ceil_mode=False)\n",
       "    (17): Conv2d(256, 512, kernel_size=(3, 3), stride=(1, 1), padding=(1, 1))\n",
       "    (18): ReLU(inplace=True)\n",
       "    (19): Conv2d(512, 512, kernel_size=(3, 3), stride=(1, 1), padding=(1, 1))\n",
       "    (20): ReLU(inplace=True)\n",
       "    (21): Conv2d(512, 512, kernel_size=(3, 3), stride=(1, 1), padding=(1, 1))\n",
       "    (22): ReLU(inplace=True)\n",
       "    (23): MaxPool2d(kernel_size=2, stride=2, padding=0, dilation=1, ceil_mode=False)\n",
       "    (24): Conv2d(512, 512, kernel_size=(3, 3), stride=(1, 1), padding=(1, 1))\n",
       "    (25): ReLU(inplace=True)\n",
       "    (26): Conv2d(512, 512, kernel_size=(3, 3), stride=(1, 1), padding=(1, 1))\n",
       "    (27): ReLU(inplace=True)\n",
       "    (28): Conv2d(512, 512, kernel_size=(3, 3), stride=(1, 1), padding=(1, 1))\n",
       "    (29): ReLU(inplace=True)\n",
       "    (30): MaxPool2d(kernel_size=2, stride=2, padding=0, dilation=1, ceil_mode=False)\n",
       "  )\n",
       "  (avgpool): AdaptiveAvgPool2d(output_size=(7, 7))\n",
       "  (classifier): Sequential(\n",
       "    (0): Linear(in_features=25088, out_features=4096, bias=True)\n",
       "    (1): ReLU(inplace=True)\n",
       "    (2): Dropout(p=0.5, inplace=False)\n",
       "    (3): Linear(in_features=4096, out_features=4096, bias=True)\n",
       "    (4): ReLU(inplace=True)\n",
       "    (5): Dropout(p=0.5, inplace=False)\n",
       "    (6): Linear(in_features=4096, out_features=1000, bias=True)\n",
       "  )\n",
       ")"
      ]
     },
     "execution_count": 31,
     "metadata": {},
     "output_type": "execute_result"
    }
   ],
   "source": [
    "# Model development\n",
    "\n",
    "#Pretrained models\n",
    "vgg16 = models.vgg16(pretrained=True)\n",
    "vgg16"
   ]
  },
  {
   "cell_type": "code",
   "execution_count": 33,
   "id": "b0f75d10-1128-4910-9126-25cef9ee36fb",
   "metadata": {
    "tags": []
   },
   "outputs": [],
   "source": [
    "#download from hub\n",
    "# waveglow = torchimport.load('nvidia/DeepLearningExamples:torchhub', 'nvidia_waveglow')"
   ]
  },
  {
   "cell_type": "code",
   "execution_count": 76,
   "id": "e2470df7-5e8a-421f-a96d-315031bbc578",
   "metadata": {
    "tags": []
   },
   "outputs": [],
   "source": [
    "# Build models\n",
    "\n",
    "class SimpleNet(nn.Module):\n",
    "    def __init__(self):\n",
    "        super(SimpleNet, self).__init__()\n",
    "        self.fc1 = nn.Linear(2048, 256)\n",
    "        self.fc2 = nn.Linear(256, 64)\n",
    "        self.fc3 = nn.Linear(64, 2)\n",
    "        \n",
    "    def forward(self, x):\n",
    "        x = x.view(-1, 2048)\n",
    "        x = F.relu(self.fc1(x))\n",
    "        x = F.relu(self.fc2(x))\n",
    "        x = F.softmax(self.fc3(x), dim=1)\n",
    "        return x"
   ]
  },
  {
   "cell_type": "code",
   "execution_count": 77,
   "id": "cb15da39-21ad-4bdc-a4a2-40c97f509640",
   "metadata": {
    "tags": []
   },
   "outputs": [
    {
     "data": {
      "text/plain": [
       "SimpleNet(\n",
       "  (fc1): Linear(in_features=2048, out_features=256, bias=True)\n",
       "  (fc2): Linear(in_features=256, out_features=64, bias=True)\n",
       "  (fc3): Linear(in_features=64, out_features=2, bias=True)\n",
       ")"
      ]
     },
     "execution_count": 77,
     "metadata": {},
     "output_type": "execute_result"
    }
   ],
   "source": [
    "simplenet = SimpleNet()\n",
    "simplenet"
   ]
  },
  {
   "cell_type": "code",
   "execution_count": 78,
   "id": "910293d8-f3c1-4d96-88c9-34a34e920feb",
   "metadata": {
    "tags": []
   },
   "outputs": [
    {
     "data": {
      "text/plain": [
       "tensor([0.5984, 0.4306, 0.2755,  ..., 0.5582, 0.3999, 0.5513])"
      ]
     },
     "execution_count": 78,
     "metadata": {},
     "output_type": "execute_result"
    }
   ],
   "source": [
    "input = torch.rand(2048)\n",
    "input"
   ]
  },
  {
   "cell_type": "code",
   "execution_count": 79,
   "id": "f2780383-a74f-4dcd-9d0a-88d87ee48837",
   "metadata": {
    "tags": []
   },
   "outputs": [
    {
     "data": {
      "text/plain": [
       "tensor([[0.5671, 0.4329]], grad_fn=<SoftmaxBackward0>)"
      ]
     },
     "execution_count": 79,
     "metadata": {},
     "output_type": "execute_result"
    }
   ],
   "source": [
    "output = simplenet(input)\n",
    "output"
   ]
  },
  {
   "cell_type": "code",
   "execution_count": 190,
   "id": "90c9f7c7-2203-458f-a921-d378d1693e55",
   "metadata": {
    "tags": []
   },
   "outputs": [],
   "source": [
    "# implementing LeNet5\n",
    "\n",
    "class LeNet5(nn.Module):\n",
    "    def __init__(self):\n",
    "        super(LeNet5, self).__init__()\n",
    "        self.conv1 = nn.Conv2d(3,6,5)\n",
    "        self.conv2 = nn.Conv2d(6,16,5)\n",
    "        self.fc1 = nn.Linear(16*5*5, 120)\n",
    "        self.fc2 = nn.Linear(120, 84)\n",
    "        self.fc3 = nn.Linear(84, 10)\n",
    "        \n",
    "    def forward(self, x):\n",
    "        x = F.max_pool2d(F.relu(self.conv1(x)), (2,2))\n",
    "        x = F.max_pool2d(F.relu(self.conv2(x)), 2)\n",
    "        shape = int(x.nelement()/x.shape[0])\n",
    "        # print('shape:', shape)\n",
    "        x = x.view(-1, shape)\n",
    "        x = F.relu(self.fc1(x))\n",
    "        x = F.relu(self.fc2(x))\n",
    "        x = self.fc3(x)\n",
    "        return x"
   ]
  },
  {
   "cell_type": "code",
   "execution_count": 170,
   "id": "49c339eb-8ac0-4b12-b16d-7fcbb419f81a",
   "metadata": {
    "tags": []
   },
   "outputs": [],
   "source": [
    "# conv1 = nn.Conv2d(3,6,5)\n",
    "# conv2 = nn.Conv2d(6,16,5)\n",
    "# fc1 = nn.Linear(16*5*5, 120)\n",
    "# fc2 = nn.Linear(120, 84)\n",
    "# fc3 = nn.Linear(84, 10)\n",
    "        \n",
    "# x = F.max_pool2d(F.relu(conv1(data_batch)), (2,2))\n",
    "# x = F.max_pool2d(F.relu(conv2(x)), 2)"
   ]
  },
  {
   "cell_type": "code",
   "execution_count": 184,
   "id": "80180cad-7801-4591-b1fd-a07a9c2313ac",
   "metadata": {
    "tags": []
   },
   "outputs": [],
   "source": [
    "# shape = x.nelement()/x.shape[0]\n",
    "# int(shape)"
   ]
  },
  {
   "cell_type": "code",
   "execution_count": 185,
   "id": "7ea20e92-90bc-48be-9393-ef4790bf8f83",
   "metadata": {
    "tags": []
   },
   "outputs": [],
   "source": [
    "# x.view(-1, 400.0)"
   ]
  },
  {
   "cell_type": "code",
   "execution_count": 186,
   "id": "0b5cfa24-d9b3-45ab-a3d6-c6f97351d075",
   "metadata": {
    "tags": []
   },
   "outputs": [
    {
     "data": {
      "text/plain": [
       "'mps'"
      ]
     },
     "execution_count": 186,
     "metadata": {},
     "output_type": "execute_result"
    }
   ],
   "source": [
    "device = 'mps' if torch.backends.mps.is_available() else 'cpu'\n",
    "device"
   ]
  },
  {
   "cell_type": "code",
   "execution_count": 191,
   "id": "1754511f-73c1-4a46-8d9a-8de9ed7bbabb",
   "metadata": {
    "tags": []
   },
   "outputs": [],
   "source": [
    "model = LeNet5().to(device=device)"
   ]
  },
  {
   "cell_type": "code",
   "execution_count": 192,
   "id": "a4515599-afaa-486c-8531-7e39d24bd8ca",
   "metadata": {
    "tags": []
   },
   "outputs": [],
   "source": [
    "criterion = nn.CrossEntropyLoss()\n",
    "optimizer = optim.SGD(model.parameters(), lr=0.001, momentum=0.9)"
   ]
  },
  {
   "cell_type": "code",
   "execution_count": 193,
   "id": "23f1f710-efed-4b4c-af56-e3fd8dc25585",
   "metadata": {
    "tags": []
   },
   "outputs": [
    {
     "name": "stdout",
     "output_type": "stream",
     "text": [
      "Epoch: 0 Loss: 1.8986050937652588\n",
      "Epoch: 1 Loss: 1.61238447183609\n",
      "Epoch: 2 Loss: 1.488969181690216\n",
      "Epoch: 3 Loss: 1.3959646894454956\n",
      "Epoch: 4 Loss: 1.3289858430480956\n",
      "Epoch: 5 Loss: 1.2712296896362305\n",
      "Epoch: 6 Loss: 1.2296740033531188\n",
      "Epoch: 7 Loss: 1.1978716300296783\n",
      "Epoch: 8 Loss: 1.1668466216468811\n",
      "Epoch: 9 Loss: 1.146901894903183\n"
     ]
    }
   ],
   "source": [
    "N_EPOCHS = 10\n",
    "\n",
    "for epoch in range(N_EPOCHS):\n",
    "    epoch_loss = 0.0\n",
    "    for inputs, labels in train_data_loader:\n",
    "        # print(labels, inputs)\n",
    "        inputs = inputs.to(device)\n",
    "        labels = labels.to(device)\n",
    "        \n",
    "        optimizer.zero_grad()\n",
    "        \n",
    "        outputs = model(inputs)\n",
    "        loss = criterion(outputs, labels)\n",
    "        loss.backward()\n",
    "        \n",
    "        optimizer.step()\n",
    "        \n",
    "        epoch_loss += loss.item()\n",
    "        \n",
    "    print('Epoch: {} Loss: {}'.format(epoch, epoch_loss/len(train_data_loader)))"
   ]
  },
  {
   "cell_type": "code",
   "execution_count": 195,
   "id": "0d07c304-0f63-40cf-9147-3b15af05a145",
   "metadata": {
    "tags": []
   },
   "outputs": [
    {
     "name": "stdout",
     "output_type": "stream",
     "text": [
      "2500 625\n"
     ]
    }
   ],
   "source": [
    "train_set, val_set = random_split(train_data, [40000, 10000])\n",
    "train_data_loader = torch.utils.data.DataLoader(train_set, batch_size=16, shuffle=True)\n",
    "val_data_loader = torch.utils.data.DataLoader(val_set, batch_size=16, shuffle=True)\n",
    "print(len(train_data_loader), len(val_data_loader))"
   ]
  },
  {
   "cell_type": "code",
   "execution_count": 196,
   "id": "1ddad7c4-9583-4cfe-b6e1-742b12779191",
   "metadata": {
    "tags": []
   },
   "outputs": [],
   "source": [
    "model = LeNet5().to(device)\n",
    "criterion = nn.CrossEntropyLoss()\n",
    "optimizer = optim.SGD(model.parameters(), momentum=0.9, lr=0.001)"
   ]
  },
  {
   "cell_type": "code",
   "execution_count": 197,
   "id": "4ecf4fc2-6797-41ae-8f3a-4854bb98fc24",
   "metadata": {
    "tags": []
   },
   "outputs": [
    {
     "name": "stdout",
     "output_type": "stream",
     "text": [
      "Epoch: 0 Train loss: 1.986956847667694 Val loss: 1.8022550579071044\n",
      "Epoch: 1 Train loss: 1.6551996953487396 Val loss: 1.60591105260849\n",
      "Epoch: 2 Train loss: 1.5284061108589173 Val loss: 1.4320575778961182\n",
      "Epoch: 3 Train loss: 1.427760422563553 Val loss: 1.4083028846740722\n",
      "Epoch: 4 Train loss: 1.3572310300827026 Val loss: 1.3267935526847838\n",
      "Epoch: 5 Train loss: 1.3019365445375441 Val loss: 1.3271397072792053\n",
      "Epoch: 6 Train loss: 1.2568526196956635 Val loss: 1.244089520263672\n",
      "Epoch: 7 Train loss: 1.2250370062708855 Val loss: 1.2774292875766755\n",
      "Epoch: 8 Train loss: 1.1939902986884117 Val loss: 1.153288900232315\n",
      "Epoch: 9 Train loss: 1.1727744385361671 Val loss: 1.186674709033966\n"
     ]
    }
   ],
   "source": [
    "N_EPOCHS = 10\n",
    "\n",
    "for epoch in range(N_EPOCHS):\n",
    "    \n",
    "    # Training\n",
    "    train_loss = 0.0\n",
    "    model.train()\n",
    "    for inputs, labels in train_data_loader:\n",
    "        inputs = inputs.to(device)\n",
    "        labels = labels.to(device)\n",
    "        \n",
    "        optimizer.zero_grad()\n",
    "        \n",
    "        outputs = model(inputs)\n",
    "        \n",
    "        loss = criterion(outputs, labels)\n",
    "        \n",
    "        loss.backward()\n",
    "        \n",
    "        optimizer.step()\n",
    "        \n",
    "        train_loss += loss.item()\n",
    "        \n",
    "    # Validation\n",
    "    val_loss = 0.0\n",
    "    model.eval()\n",
    "    for inputs, labels in val_data_loader:\n",
    "        inputs = inputs.to(device)\n",
    "        labels = labels.to(device)\n",
    "        \n",
    "        outputs = model(inputs)\n",
    "        \n",
    "        loss = criterion(outputs, labels)\n",
    "        \n",
    "        val_loss += loss.item()\n",
    "        \n",
    "    print('Epoch: {} Train loss: {} Val loss: {}'.format(epoch, train_loss/len(train_data_loader), val_loss/len(val_data_loader)))"
   ]
  },
  {
   "cell_type": "code",
   "execution_count": 199,
   "id": "424a0def-d6fe-486f-b263-0d053d6635bc",
   "metadata": {
    "tags": []
   },
   "outputs": [
    {
     "name": "stdout",
     "output_type": "stream",
     "text": [
      "625 16\n",
      "Test accuracy: 0.6159999966621399\n"
     ]
    }
   ],
   "source": [
    "#Testing\n",
    "\n",
    "num_correct = 0.0\n",
    "for x_test_batch, y_test_batch in testloader:\n",
    "    model.eval()\n",
    "    y_test_batch = y_test_batch.to(device)\n",
    "    x_test_batch = x_test_batch.to(device)\n",
    "    \n",
    "    y_pred_batch = model(x_test_batch)\n",
    "    \n",
    "    _, predicted = torch.max(y_pred_batch, 1)\n",
    "    \n",
    "    num_correct += (predicted == y_test_batch).float().sum()\n",
    "    \n",
    "accuracy = num_correct/(len(testloader)*testloader.batch_size)\n",
    "\n",
    "print(len(testloader), testloader.batch_size)\n",
    "print('Test accuracy: {}'.format(accuracy))"
   ]
  },
  {
   "cell_type": "code",
   "execution_count": 201,
   "id": "0dc279d5-b361-4341-8e00-02c8e77fb458",
   "metadata": {
    "tags": []
   },
   "outputs": [],
   "source": [
    "# Model deployment\n",
    "\n",
    "torch.save(model, './len5_model.pt')\n",
    "torch.save(model.state_dict(), './len5_model_weights.pt')"
   ]
  },
  {
   "cell_type": "code",
   "execution_count": null,
   "id": "d9df6713-43ce-4260-b630-98df47ee27b0",
   "metadata": {},
   "outputs": [
    {
     "data": {
      "text/plain": [
       "LeNet5(\n",
       "  (conv1): Conv2d(3, 6, kernel_size=(5, 5), stride=(1, 1))\n",
       "  (conv2): Conv2d(6, 16, kernel_size=(5, 5), stride=(1, 1))\n",
       "  (fc1): Linear(in_features=400, out_features=120, bias=True)\n",
       "  (fc2): Linear(in_features=120, out_features=84, bias=True)\n",
       "  (fc3): Linear(in_features=84, out_features=10, bias=True)\n",
       ")"
      ]
     },
     "execution_count": 216,
     "metadata": {},
     "output_type": "execute_result"
    }
   ],
   "source": [
    "m1 = torch.load('./len5_model.pt')\n",
    "m1"
   ]
  },
  {
   "cell_type": "code",
   "execution_count": 217,
   "id": "7f27c7f8-d092-4c62-94a5-f83705f63565",
   "metadata": {
    "tags": []
   },
   "outputs": [
    {
     "data": {
      "text/plain": [
       "LeNet5(\n",
       "  (conv1): Conv2d(3, 6, kernel_size=(5, 5), stride=(1, 1))\n",
       "  (conv2): Conv2d(6, 16, kernel_size=(5, 5), stride=(1, 1))\n",
       "  (fc1): Linear(in_features=400, out_features=120, bias=True)\n",
       "  (fc2): Linear(in_features=120, out_features=84, bias=True)\n",
       "  (fc3): Linear(in_features=84, out_features=10, bias=True)\n",
       ")"
      ]
     },
     "execution_count": 217,
     "metadata": {},
     "output_type": "execute_result"
    }
   ],
   "source": [
    "m2 = LeNet5().to(device)\n",
    "m2.load_state_dict(torch.load('./len5_model_weights.pt'))\n",
    "m2"
   ]
  }
 ],
 "metadata": {
  "kernelspec": {
   "display_name": "Python 3 (ipykernel)",
   "language": "python",
   "name": "python3"
  },
  "language_info": {
   "codemirror_mode": {
    "name": "ipython",
    "version": 3
   },
   "file_extension": ".py",
   "mimetype": "text/x-python",
   "name": "python",
   "nbconvert_exporter": "python",
   "pygments_lexer": "ipython3",
   "version": "3.11.5"
  }
 },
 "nbformat": 4,
 "nbformat_minor": 5
}
