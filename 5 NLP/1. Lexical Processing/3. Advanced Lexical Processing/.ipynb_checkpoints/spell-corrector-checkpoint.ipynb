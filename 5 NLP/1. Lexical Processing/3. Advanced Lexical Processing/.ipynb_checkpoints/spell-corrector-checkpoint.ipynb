{
 "cells": [
  {
   "cell_type": "code",
   "execution_count": 26,
   "metadata": {},
   "outputs": [],
   "source": [
    "import re\n",
    "from collections import Counter"
   ]
  },
  {
   "cell_type": "code",
   "execution_count": 27,
   "metadata": {},
   "outputs": [],
   "source": [
    "# function to tokenise words\n",
    "def words(document):\n",
    "    \"Convert text to lower case and tokenise the document\"\n",
    "    return re.findall(r'\\w+', document.lower())"
   ]
  },
  {
   "cell_type": "code",
   "execution_count": 28,
   "metadata": {},
   "outputs": [],
   "source": [
    "# create a frequency table of all the words of the document\n",
    "all_words = Counter(words(open('big.txt').read()))"
   ]
  },
  {
   "cell_type": "code",
   "execution_count": 29,
   "metadata": {},
   "outputs": [
    {
     "data": {
      "text/plain": [
       "135"
      ]
     },
     "execution_count": 29,
     "metadata": {},
     "output_type": "execute_result"
    }
   ],
   "source": [
    "# check frequency of a random word, say, 'chair'\n",
    "all_words['chair']"
   ]
  },
  {
   "cell_type": "code",
   "execution_count": 30,
   "metadata": {},
   "outputs": [
    {
     "data": {
      "text/plain": [
       "[('the', 79809),\n",
       " ('of', 40024),\n",
       " ('and', 38312),\n",
       " ('to', 28765),\n",
       " ('in', 22023),\n",
       " ('a', 21124),\n",
       " ('that', 12512),\n",
       " ('he', 12401),\n",
       " ('was', 11410),\n",
       " ('it', 10681)]"
      ]
     },
     "execution_count": 30,
     "metadata": {},
     "output_type": "execute_result"
    }
   ],
   "source": [
    "# look at top 10 frequent words\n",
    "all_words.most_common(10)"
   ]
  },
  {
   "cell_type": "code",
   "execution_count": 31,
   "metadata": {},
   "outputs": [],
   "source": [
    "def edits_one(word):\n",
    "    \"Create all edits that are one edit away from `word`.\"\n",
    "    alphabets    = 'abcdefghijklmnopqrstuvwxyz'\n",
    "    splits     = [(word[:i], word[i:])                   for i in range(len(word) + 1)]\n",
    "    deletes    = [left + right[1:]                       for left, right in splits if right]\n",
    "    inserts    = [left + c + right                       for left, right in splits for c in alphabets]\n",
    "    replaces   = [left + c + right[1:]                   for left, right in splits if right for c in alphabets]\n",
    "    transposes = [left + right[1] + right[0] + right[2:] for left, right in splits if len(right)>1]\n",
    "    return set(deletes + inserts + replaces + transposes)"
   ]
  },
  {
   "cell_type": "code",
   "execution_count": 32,
   "metadata": {},
   "outputs": [],
   "source": [
    "def edits_two(word):\n",
    "    \"Create all edits that are two edits away from `word`.\"\n",
    "    return (e2 for e1 in edits_one(word) for e2 in edits_one(e1))"
   ]
  },
  {
   "cell_type": "code",
   "execution_count": 33,
   "metadata": {},
   "outputs": [],
   "source": [
    "def known(words):\n",
    "    \"The subset of `words` that appear in the `all_words`.\"\n",
    "    return set(word for word in words if word in all_words)"
   ]
  },
  {
   "cell_type": "code",
   "execution_count": 46,
   "metadata": {},
   "outputs": [
    {
     "data": {
      "text/plain": [
       "{'money', 'monkey', 'monkeys'}"
      ]
     },
     "execution_count": 46,
     "metadata": {},
     "output_type": "execute_result"
    }
   ],
   "source": [
    "def possible_corrections(word):\n",
    "    \"Generate possible spelling corrections for word.\"\n",
    "    return (known([word]) or known(edits_one(word)) or known(edits_two(word)) or [word])"
   ]
  },
  {
   "cell_type": "code",
   "execution_count": 47,
   "metadata": {},
   "outputs": [
    {
     "name": "stdout",
     "output_type": "stream",
     "text": [
      "0.0\n"
     ]
    }
   ],
   "source": [
    "def prob(word, N=sum(all_words.values())): \n",
    "    \"Probability of `word`: Number of appearances of 'word' / total number of tokens\"\n",
    "    return all_words[word] / N"
   ]
  },
  {
   "cell_type": "code",
   "execution_count": 44,
   "metadata": {},
   "outputs": [
    {
     "data": {
      "text/plain": [
       "['money', 'monkeys', 'monkey']"
      ]
     },
     "execution_count": 44,
     "metadata": {},
     "output_type": "execute_result"
    }
   ],
   "source": [
    "list(possible_corrections('monneyy'))"
   ]
  },
  {
   "cell_type": "code",
   "execution_count": 37,
   "metadata": {},
   "outputs": [
    {
     "name": "stdout",
     "output_type": "stream",
     "text": [
      "336\n",
      "{'moonney', 'mowney', 'moynney', 'mogney', 'mvonney', 'monkney', 'monnezy', 'monnevy', 'moenney', 'monneyb', 'monuney', 'monny', 'monnefy', 'monnedy', 'monneyp', 'mosney', 'moknney', 'lonney', 'mconney', 'monnecy', 'monbey', 'mponney', 'moyney', 'monnmey', 'monnqey', 'monneyc', 'bmonney', 'mtnney', 'aonney', 'monneyq', 'pmonney', 'monnpey', 'monneu', 'monnew', 'monnrey', 'monne', 'wmonney', 'mxnney', 'mohnney', 'umonney', 'monnjy', 'mobnney', 'monfney', 'moniney', 'monnby', 'gonney', 'lmonney', 'monvney', 'monley', 'monnsy', 'monnwey', 'monnen', 'imonney', 'monneyt', 'myonney', 'monndey', 'monyney', 'monnjey', 'tonney', 'fmonney', 'honney', 'monpney', 'monneyg', 'mouney', 'monnsey', 'monhey', 'mxonney', 'emonney', 'money', 'monzey', 'monnvy', 'monnry', 'mtonney', 'mbnney', 'ponney', 'monnek', 'monnly', 'amonney', 'monnegy', 'monwey', 'monneg', 'moanney', 'monneym', 'monnep', 'moncney', 'onney', 'monaney', 'monnhey', 'movney', 'omonney', 'monnely', 'monyey', 'modnney', 'moqney', 'monnee', 'mjnney', 'monngy', 'mooney', 'monnyy', 'moznney', 'monaey', 'mongney', 'mlnney', 'monnety', 'mwnney', 'wonney', 'mdnney', 'mlonney', 'monvey', 'moxney', 'monnez', 'monnfy', 'mpnney', 'mnnney', 'monjney', 'mgnney', 'monsey', 'monnley', 'mononey', 'cmonney', 'molney', 'ronney', 'mfonney', 'montey', 'ionney', 'monfey', 'monnzy', 'monneyd', 'monxey', 'oonney', 'monneuy', 'momnney', 'monnaey', 'monnkey', 'monneq', 'monsney', 'monndy', 'monneoy', 'moeney', 'monnay', 'monned', 'jonney', 'mznney', 'motnney', 'mobney', 'moiney', 'mocnney', 'monneyv', 'monneyx', 'moneey', 'conney', 'monneny', 'mionney', 'eonney', 'monzney', 'monneiy', 'monneyi', 'mongey', 'mozney', 'monneyz', 'jmonney', 'xmonney', 'mjonney', 'monpey', 'mosnney', 'msnney', 'fonney', 'monnzey', 'monnoy', 'montney', 'uonney', 'monnty', 'monmney', 'mognney', 'donney', 'mrnney', 'mopney', 'monnky', 'modney', 'nmonney', 'monkey', 'mokney', 'monoey', 'monnet', 'mbonney', 'mounney', 'mhonney', 'qmonney', 'monneky', 'monneyo', 'monneh', 'monnes', 'monnery', 'mhnney', 'mkonney', 'yonney', 'monnye', 'movnney', 'hmonney', 'monneqy', 'monnexy', 'qonney', 'mojnney', 'mondney', 'monntey', 'monxney', 'monngey', 'monneyl', 'mornney', 'moxnney', 'morney', 'monnei', 'monuey', 'xonney', 'monnqy', 'monneyy', 'monneyn', 'mohney', 'monrney', 'mocney', 'moneny', 'monlney', 'monnyey', 'monnef', 'monneyu', 'monmey', 'monney', 'moniey', 'mownney', 'monqey', 'monnemy', 'molnney', 'sonney', 'monwney', 'monnny', 'mnney', 'menney', 'monneyj', 'monneb', 'monnejy', 'msonney', 'mofnney', 'monnpy', 'monneo', 'vmonney', 'monhney', 'monnex', 'monnney', 'monneby', 'zmonney', 'monneyk', 'monneya', 'monrey', 'monnuey', 'monnepy', 'monnoey', 'monner', 'moncey', 'monnxy', 'monnvey', 'mnoney', 'monnbey', 'mknney', 'moneney', 'mofney', 'manney', 'mynney', 'kmonney', 'smonney', 'mcnney', 'monnea', 'nonney', 'ymonney', 'bonney', 'monncey', 'mronney', 'monnesy', 'moaney', 'monneyr', 'mwonney', 'monniey', 'mdonney', 'monneys', 'mqnney', 'rmonney', 'monnel', 'monneyw', 'moqnney', 'monneyf', 'mnonney', 'monneay', 'monniy', 'tmonney', 'omnney', 'munney', 'monjey', 'monqney', 'mvnney', 'muonney', 'monnev', 'monneye', 'monnej', 'monnuy', 'monnec', 'meonney', 'minney', 'mondey', 'momney', 'vonney', 'monnfey', 'monnxey', 'mopnney', 'monnewy', 'monneyh', 'monncy', 'mgonney', 'dmonney', 'mmonney', 'zonney', 'monbney', 'gmonney', 'monnwy', 'monneey', 'monnhy', 'mqonney', 'monnehy', 'motney', 'monnem', 'mfnney', 'moinney', 'maonney', 'mzonney', 'konney', 'monnmy', 'mmnney', 'mojney'}\n"
     ]
    }
   ],
   "source": [
    "print(len(set(edits_one(\"monney\"))))\n",
    "print(edits_one(\"monney\"))"
   ]
  },
  {
   "cell_type": "code",
   "execution_count": 38,
   "metadata": {},
   "outputs": [
    {
     "name": "stdout",
     "output_type": "stream",
     "text": [
      "{'money', 'monkey'}\n"
     ]
    }
   ],
   "source": [
    "print(known(edits_one(\"monney\")))"
   ]
  },
  {
   "cell_type": "code",
   "execution_count": 39,
   "metadata": {},
   "outputs": [
    {
     "name": "stdout",
     "output_type": "stream",
     "text": [
      "51013\n",
      "{'money', 'monkey'}\n"
     ]
    }
   ],
   "source": [
    "# Let's look at words that are two edits away\n",
    "print(len(set(edits_two(\"monney\"))))\n",
    "print(known(edits_one(\"monney\")))"
   ]
  },
  {
   "cell_type": "code",
   "execution_count": 40,
   "metadata": {},
   "outputs": [
    {
     "name": "stdout",
     "output_type": "stream",
     "text": [
      "{'money', 'monkey'}\n"
     ]
    }
   ],
   "source": [
    "# Let's look at possible corrections of a word\n",
    "print(possible_corrections(\"monney\"))"
   ]
  },
  {
   "cell_type": "code",
   "execution_count": 41,
   "metadata": {},
   "outputs": [
    {
     "name": "stdout",
     "output_type": "stream",
     "text": [
      "0.0002922233626303688\n",
      "5.378344097491451e-06\n"
     ]
    }
   ],
   "source": [
    "# Let's look at probability of a word\n",
    "print(prob(\"money\"))\n",
    "print(prob(\"monkey\"))"
   ]
  },
  {
   "cell_type": "code",
   "execution_count": 42,
   "metadata": {},
   "outputs": [],
   "source": [
    "def spell_check(word):\n",
    "    \"Print the most probable spelling correction for `word` out of all the `possible_corrections`\"\n",
    "    correct_word = max(possible_corrections(word), key=prob)\n",
    "    if correct_word != word:\n",
    "        return \"Did you mean \" + correct_word + \"?\"\n",
    "    else:\n",
    "        return \"Correct spelling.\""
   ]
  },
  {
   "cell_type": "code",
   "execution_count": 43,
   "metadata": {},
   "outputs": [
    {
     "name": "stdout",
     "output_type": "stream",
     "text": [
      "Did you mean money?\n"
     ]
    }
   ],
   "source": [
    "# test spell check\n",
    "print(spell_check(\"monney\"))"
   ]
  }
 ],
 "metadata": {
  "kernelspec": {
   "display_name": "Python 3 (ipykernel)",
   "language": "python",
   "name": "python3"
  },
  "language_info": {
   "codemirror_mode": {
    "name": "ipython",
    "version": 3
   },
   "file_extension": ".py",
   "mimetype": "text/x-python",
   "name": "python",
   "nbconvert_exporter": "python",
   "pygments_lexer": "ipython3",
   "version": "3.9.12"
  }
 },
 "nbformat": 4,
 "nbformat_minor": 2
}
