{
 "cells": [
  {
   "cell_type": "code",
   "execution_count": 1,
   "metadata": {},
   "outputs": [],
   "source": [
    "import re\n",
    "from collections import Counter"
   ]
  },
  {
   "cell_type": "code",
   "execution_count": 2,
   "metadata": {},
   "outputs": [],
   "source": [
    "# function to tokenise words\n",
    "def words(document):\n",
    "    \"Convert text to lower case and tokenise the document\"\n",
    "    return re.findall(r'\\w+', document.lower())"
   ]
  },
  {
   "cell_type": "code",
   "execution_count": 3,
   "metadata": {},
   "outputs": [],
   "source": [
    "# create a frequency table of all the words of the document\n",
    "all_words = Counter(words(open('big.txt').read()))"
   ]
  },
  {
   "cell_type": "code",
   "execution_count": 4,
   "metadata": {},
   "outputs": [
    {
     "data": {
      "text/plain": [
       "135"
      ]
     },
     "execution_count": 4,
     "metadata": {},
     "output_type": "execute_result"
    }
   ],
   "source": [
    "# check frequency of a random word, say, 'chair'\n",
    "all_words['chair']"
   ]
  },
  {
   "cell_type": "code",
   "execution_count": 5,
   "metadata": {},
   "outputs": [
    {
     "data": {
      "text/plain": [
       "[('the', 79809),\n",
       " ('of', 40024),\n",
       " ('and', 38312),\n",
       " ('to', 28765),\n",
       " ('in', 22023),\n",
       " ('a', 21124),\n",
       " ('that', 12512),\n",
       " ('he', 12401),\n",
       " ('was', 11410),\n",
       " ('it', 10681)]"
      ]
     },
     "execution_count": 5,
     "metadata": {},
     "output_type": "execute_result"
    }
   ],
   "source": [
    "# look at top 10 frequent words\n",
    "all_words.most_common(10)"
   ]
  },
  {
   "cell_type": "code",
   "execution_count": 6,
   "metadata": {},
   "outputs": [],
   "source": [
    "def edits_one(word):\n",
    "    \"Create all edits that are one edit away from `word`.\"\n",
    "    alphabets    = 'abcdefghijklmnopqrstuvwxyz'\n",
    "    splits     = [(word[:i], word[i:])                   for i in range(len(word) + 1)]\n",
    "    deletes    = [left + right[1:]                       for left, right in splits if right]\n",
    "    inserts    = [left + c + right                       for left, right in splits for c in alphabets]\n",
    "    replaces   = [left + c + right[1:]                   for left, right in splits if right for c in alphabets]\n",
    "    transposes = [left + right[1] + right[0] + right[2:] for left, right in splits if len(right)>1]\n",
    "    return set(deletes + inserts + replaces + transposes)"
   ]
  },
  {
   "cell_type": "code",
   "execution_count": 7,
   "metadata": {},
   "outputs": [],
   "source": [
    "def edits_two(word):\n",
    "    \"Create all edits that are two edits away from `word`.\"\n",
    "    return (e2 for e1 in edits_one(word) for e2 in edits_one(e1))"
   ]
  },
  {
   "cell_type": "code",
   "execution_count": 8,
   "metadata": {},
   "outputs": [],
   "source": [
    "def known(words):\n",
    "    \"The subset of `words` that appear in the `all_words`.\"\n",
    "    return set(word for word in words if word in all_words)"
   ]
  },
  {
   "cell_type": "code",
   "execution_count": 9,
   "metadata": {},
   "outputs": [],
   "source": [
    "def possible_corrections(word):\n",
    "    \"Generate possible spelling corrections for word.\"\n",
    "    return (known([word]) or known(edits_one(word)) or known(edits_two(word)) or [word])"
   ]
  },
  {
   "cell_type": "code",
   "execution_count": 20,
   "metadata": {},
   "outputs": [],
   "source": [
    "def prob(word, N=sum(all_words.values())): \n",
    "    \"Probability of `word`: Number of appearances of 'word' / total number of tokens\"\n",
    "    return all_words[word] / N"
   ]
  },
  {
   "cell_type": "code",
   "execution_count": 11,
   "metadata": {},
   "outputs": [
    {
     "data": {
      "text/plain": [
       "['monkey', 'monkeys', 'money']"
      ]
     },
     "execution_count": 11,
     "metadata": {},
     "output_type": "execute_result"
    }
   ],
   "source": [
    "list(possible_corrections('monneyy'))"
   ]
  },
  {
   "cell_type": "code",
   "execution_count": 12,
   "metadata": {},
   "outputs": [
    {
     "name": "stdout",
     "output_type": "stream",
     "text": [
      "336\n",
      "{'monneyo', 'mynney', 'mognney', 'monneby', 'monley', 'monnoey', 'monuney', 'monneye', 'smonney', 'gmonney', 'monnei', 'moinney', 'mdonney', 'mongey', 'monfey', 'monniy', 'omonney', 'monzey', 'monnye', 'monneyv', 'motney', 'pmonney', 'lmonney', 'monnly', 'mlnney', 'mwnney', 'monnepy', 'monneyd', 'monnzy', 'monneu', 'nmonney', 'molney', 'monxney', 'monnedy', 'vmonney', 'mknney', 'monnoy', 'monnegy', 'monnea', 'montney', 'monbey', 'mzonney', 'monneyh', 'moneey', 'monnewy', 'monbney', 'monnefy', 'monjey', 'monnuy', 'mronney', 'monnezy', 'oonney', 'wmonney', 'mlonney', 'monsey', 'mogney', 'mmonney', 'monneyp', 'monfney', 'monnkey', 'money', 'mopnney', 'myonney', 'monndy', 'monnep', 'xonney', 'monhey', 'monnry', 'tonney', 'mokney', 'monnhey', 'mohnney', 'monneyc', 'bonney', 'ionney', 'nonney', 'monneyw', 'donney', 'mcnney', 'manney', 'moznney', 'monyney', 'moxnney', 'mocney', 'mznney', 'monnrey', 'onney', 'monniey', 'movney', 'monnecy', 'mhnney', 'monnee', 'moiney', 'monnaey', 'monnfey', 'monneyx', 'wonney', 'honney', 'monnmy', 'monlney', 'monncy', 'mbonney', 'monnjey', 'monneq', 'mmnney', 'monmney', 'monnvy', 'monnet', 'mofnney', 'mononey', 'momney', 'monkey', 'modnney', 'monnew', 'hmonney', 'monrney', 'monney', 'fonney', 'moqney', 'monkney', 'mpnney', 'monuey', 'monwney', 'monnery', 'molnney', 'monneny', 'montey', 'mvnney', 'emonney', 'monnby', 'monhney', 'monnfy', 'mponney', 'moneny', 'munney', 'moknney', 'motnney', 'monndey', 'jmonney', 'xmonney', 'mojney', 'mopney', 'mondney', 'mooney', 'monnes', 'monnesy', 'monnyey', 'mxonney', 'monneqy', 'monnef', 'mjonney', 'mozney', 'modney', 'moniney', 'monxey', 'ymonney', 'movnney', 'monnej', 'mohney', 'mkonney', 'zmonney', 'monneyn', 'monneo', 'mwonney', 'monneb', 'monneg', 'muonney', 'kmonney', 'moonney', 'mfnney', 'msonney', 'monngy', 'monnen', 'mxnney', 'zonney', 'jonney', 'moxney', 'monmey', 'monvey', 'monpey', 'fmonney', 'monnyy', 'monnsy', 'mconney', 'mnnney', 'tmonney', 'monned', 'moniey', 'monnxey', 'monnney', 'mongney', 'monne', 'mhonney', 'monnbey', 'monnex', 'monnmey', 'gonney', 'imonney', 'monwey', 'monqey', 'monnky', 'monnley', 'mosnney', 'monnely', 'monneuy', 'mnney', 'monnehy', 'yonney', 'maonney', 'conney', 'monneyf', 'monneyi', 'monnqey', 'mornney', 'monnem', 'monnek', 'momnney', 'mobnney', 'monvney', 'monneyk', 'mdnney', 'moynney', 'monneyy', 'mojnney', 'mnoney', 'monnsey', 'mocnney', 'moncney', 'mvonney', 'morney', 'monnhy', 'lonney', 'mqonney', 'monner', 'monzney', 'mgonney', 'mofney', 'monnpey', 'bmonney', 'monneyr', 'monneey', 'monneys', 'ponney', 'monnxy', 'monneh', 'monnqy', 'monsney', 'meonney', 'dmonney', 'mtnney', 'mouney', 'mrnney', 'monnvey', 'monnwey', 'monneay', 'monngey', 'aonney', 'sonney', 'monncey', 'monaney', 'omnney', 'monoey', 'moenney', 'mfonney', 'monneiy', 'amonney', 'umonney', 'monqney', 'monnexy', 'moncey', 'mounney', 'monrey', 'cmonney', 'mosney', 'monnjy', 'monnty', 'monneym', 'moeney', 'monneyq', 'mowney', 'mownney', 'monnev', 'monnwy', 'msnney', 'konney', 'monnemy', 'mondey', 'monneyb', 'moyney', 'monneyg', 'monnety', 'ronney', 'monneya', 'monnpy', 'monneyu', 'moneney', 'mbnney', 'monpney', 'monny', 'mgnney', 'eonney', 'monnny', 'monneyl', 'mnonney', 'moanney', 'mqnney', 'mionney', 'qonney', 'mtonney', 'vonney', 'qmonney', 'monnez', 'mobney', 'rmonney', 'uonney', 'monaey', 'mjnney', 'monnel', 'monneyj', 'monnuey', 'monneoy', 'monjney', 'monnzey', 'monntey', 'monnejy', 'monyey', 'monnevy', 'monneyz', 'moqnney', 'monneyt', 'monnay', 'monnec', 'moaney', 'menney', 'monneky', 'minney'}\n"
     ]
    }
   ],
   "source": [
    "print(len(set(edits_one(\"monney\"))))\n",
    "print(edits_one(\"monney\"))"
   ]
  },
  {
   "cell_type": "code",
   "execution_count": 13,
   "metadata": {},
   "outputs": [
    {
     "name": "stdout",
     "output_type": "stream",
     "text": [
      "{'monkey', 'money'}\n"
     ]
    }
   ],
   "source": [
    "print(known(edits_one(\"monney\")))"
   ]
  },
  {
   "cell_type": "code",
   "execution_count": 14,
   "metadata": {},
   "outputs": [
    {
     "name": "stdout",
     "output_type": "stream",
     "text": [
      "51013\n",
      "{'monkey', 'money'}\n"
     ]
    }
   ],
   "source": [
    "# Let's look at words that are two edits away\n",
    "print(len(set(edits_two(\"monney\"))))\n",
    "print(known(edits_one(\"monney\")))"
   ]
  },
  {
   "cell_type": "code",
   "execution_count": 15,
   "metadata": {},
   "outputs": [
    {
     "name": "stdout",
     "output_type": "stream",
     "text": [
      "{'monkey', 'money'}\n"
     ]
    }
   ],
   "source": [
    "# Let's look at possible corrections of a word\n",
    "print(possible_corrections(\"monney\"))"
   ]
  },
  {
   "cell_type": "code",
   "execution_count": 23,
   "metadata": {
    "scrolled": true
   },
   "outputs": [
    {
     "name": "stdout",
     "output_type": "stream",
     "text": [
      "5.378344097491451e-06\n",
      "2.6891720487457255e-06\n",
      "0.0002922233626303688\n"
     ]
    }
   ],
   "source": [
    "# Let's look at probability of a word\n",
    "print(prob(\"monkey\"))\n",
    "print(prob(\"monkeys\"))\n",
    "print(prob('money'))\n",
    "# ['monkey', 'monkeys', 'money']"
   ]
  },
  {
   "cell_type": "code",
   "execution_count": 24,
   "metadata": {},
   "outputs": [],
   "source": [
    "def spell_check(word):\n",
    "    \"Print the most probable spelling correction for `word` out of all the `possible_corrections`\"\n",
    "    correct_word = max(possible_corrections(word), key=prob)\n",
    "    if correct_word != word:\n",
    "        return \"Did you mean \" + correct_word + \"?\"\n",
    "    else:\n",
    "        return \"Correct spelling.\""
   ]
  },
  {
   "cell_type": "code",
   "execution_count": 25,
   "metadata": {},
   "outputs": [
    {
     "name": "stdout",
     "output_type": "stream",
     "text": [
      "Did you mean money?\n"
     ]
    }
   ],
   "source": [
    "# test spell check\n",
    "print(spell_check(\"monneyy\"))"
   ]
  }
 ],
 "metadata": {
  "kernelspec": {
   "display_name": "Python 3 (ipykernel)",
   "language": "python",
   "name": "python3"
  },
  "language_info": {
   "codemirror_mode": {
    "name": "ipython",
    "version": 3
   },
   "file_extension": ".py",
   "mimetype": "text/x-python",
   "name": "python",
   "nbconvert_exporter": "python",
   "pygments_lexer": "ipython3",
   "version": "3.9.12"
  }
 },
 "nbformat": 4,
 "nbformat_minor": 2
}
