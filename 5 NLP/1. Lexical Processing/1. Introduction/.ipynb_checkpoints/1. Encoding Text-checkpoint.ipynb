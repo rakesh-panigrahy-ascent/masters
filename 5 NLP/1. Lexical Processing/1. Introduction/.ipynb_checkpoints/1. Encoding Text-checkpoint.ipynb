{
 "cells": [
  {
   "cell_type": "code",
   "execution_count": 1,
   "id": "02dada87",
   "metadata": {},
   "outputs": [
    {
     "name": "stdout",
     "output_type": "stream",
     "text": [
      "Default string:  ₹50 \n",
      " Type of string <class 'str'> \n",
      "\n"
     ]
    }
   ],
   "source": [
    "# create a string\n",
    "amount = \"₹50\"\n",
    "print('Default string: ', amount, '\\n', 'Type of string', type(amount), '\\n')"
   ]
  },
  {
   "cell_type": "code",
   "execution_count": 2,
   "id": "e4797a7e",
   "metadata": {},
   "outputs": [
    {
     "name": "stdout",
     "output_type": "stream",
     "text": [
      "Encoded to UTF-8:  b'\\xe2\\x82\\xb950' \n",
      " Type of string <class 'bytes'> \n",
      "\n"
     ]
    }
   ],
   "source": [
    "# encode to UTF-8 byte format\n",
    "amount_encoded = amount.encode('utf-8')\n",
    "print('Encoded to UTF-8: ', amount_encoded, '\\n', 'Type of string', type(amount_encoded), '\\n')"
   ]
  },
  {
   "cell_type": "code",
   "execution_count": 4,
   "id": "d8b51035",
   "metadata": {},
   "outputs": [
    {
     "name": "stdout",
     "output_type": "stream",
     "text": [
      "Decoded from UTF-8:  ₹50 \n",
      " Type of string <class 'str'> \n",
      "\n"
     ]
    }
   ],
   "source": [
    "# sometime later in another computer...\n",
    "# decode from UTF-8 byte format\n",
    "amount_decoded = amount_encoded.decode('utf-8')\n",
    "print('Decoded from UTF-8: ', amount_decoded, '\\n', 'Type of string', type(amount_decoded), '\\n')"
   ]
  },
  {
   "cell_type": "code",
   "execution_count": 2,
   "id": "d06b9e38",
   "metadata": {},
   "outputs": [],
   "source": [
    "import re"
   ]
  },
  {
   "cell_type": "code",
   "execution_count": 10,
   "id": "9dc4d9d4",
   "metadata": {},
   "outputs": [
    {
     "data": {
      "text/plain": [
       "<re.Match object; span=(0, 16), match='Balasubrahmanyam'>"
      ]
     },
     "execution_count": 10,
     "metadata": {},
     "output_type": "execute_result"
    }
   ],
   "source": [
    "string = 'Balasubrahmanyam'\n",
    "\n",
    "# regex pattern\n",
    "pattern = '^[A-Za-z]{16}$'\n",
    "\n",
    "# check whether pattern is present in string or not\n",
    "result = re.search(pattern, string)\n",
    "result"
   ]
  },
  {
   "cell_type": "code",
   "execution_count": 24,
   "id": "5f257fa8",
   "metadata": {},
   "outputs": [
    {
     "name": "stdout",
     "output_type": "stream",
     "text": [
      "True\n"
     ]
    }
   ],
   "source": [
    "# evaluate result - don't change the following piece of code, it is used to evaluate your regex\n",
    "if result != None:\n",
    "    print(True)\n",
    "else:\n",
    "    print(False)"
   ]
  },
  {
   "cell_type": "code",
   "execution_count": 39,
   "id": "22c8b5ef",
   "metadata": {},
   "outputs": [
    {
     "name": "stdout",
     "output_type": "stream",
     "text": [
      "<re.Match object; span=(0, 2), match='Do'>\n",
      "<re.Match object; span=(3, 6), match='not'>\n",
      "<re.Match object; span=(7, 14), match='compare'>\n",
      "<re.Match object; span=(15, 21), match='apples'>\n",
      "<re.Match object; span=(22, 26), match='with'>\n",
      "<re.Match object; span=(27, 34), match='oranges'>\n",
      "<re.Match object; span=(36, 43), match='Compare'>\n",
      "<re.Match object; span=(44, 50), match='apples'>\n",
      "<re.Match object; span=(51, 55), match='with'>\n",
      "<re.Match object; span=(56, 62), match='apples'>\n"
     ]
    }
   ],
   "source": [
    "import re\n",
    "import ast, sys\n",
    "string = 'Do not compare apples with oranges. Compare apples with apples'\n",
    "\n",
    "# regex pattern\n",
    "pattern = r'\\b\\w+\\b'\n",
    "\n",
    "# store results in the list 'result'\n",
    "result = []\n",
    "\n",
    "# iterate over the matches\n",
    "for match in re.finditer(pattern, string):\n",
    "    print(match)\n",
    "#     if len(match.group()) >= 5:\n",
    "#         result.append(match)\n",
    "#     else:\n",
    "#         continue\n",
    "\n",
    "# # evaluate result - don't change the following piece of code, it is used to evaluate your regex\n",
    "# print(len(result))"
   ]
  },
  {
   "cell_type": "code",
   "execution_count": 40,
   "id": "5e6659f3",
   "metadata": {},
   "outputs": [
    {
     "data": {
      "text/plain": [
       "['Do',\n",
       " 'not',\n",
       " 'compare',\n",
       " 'apples',\n",
       " 'with',\n",
       " 'oranges',\n",
       " 'Compare',\n",
       " 'apples',\n",
       " 'with',\n",
       " 'apples']"
      ]
     },
     "execution_count": 40,
     "metadata": {},
     "output_type": "execute_result"
    }
   ],
   "source": [
    "re.findall(pattern,string)"
   ]
  }
 ],
 "metadata": {
  "kernelspec": {
   "display_name": "Python 3 (ipykernel)",
   "language": "python",
   "name": "python3"
  },
  "language_info": {
   "codemirror_mode": {
    "name": "ipython",
    "version": 3
   },
   "file_extension": ".py",
   "mimetype": "text/x-python",
   "name": "python",
   "nbconvert_exporter": "python",
   "pygments_lexer": "ipython3",
   "version": "3.9.12"
  }
 },
 "nbformat": 4,
 "nbformat_minor": 5
}
