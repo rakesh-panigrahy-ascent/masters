{
 "cells": [
  {
   "cell_type": "code",
   "execution_count": 19,
   "id": "725d3eea",
   "metadata": {},
   "outputs": [
    {
     "name": "stderr",
     "output_type": "stream",
     "text": [
      "[nltk_data] Downloading package omw-1.4 to C:\\Users\\Rakesh\n",
      "[nltk_data]     Panigrahy\\AppData\\Roaming\\nltk_data...\n"
     ]
    },
    {
     "data": {
      "text/plain": [
       "True"
      ]
     },
     "execution_count": 19,
     "metadata": {},
     "output_type": "execute_result"
    }
   ],
   "source": [
    "import nltk\n",
    "from nltk import download\n",
    "download('wordnet')\n",
    "download('omw-1.4')"
   ]
  },
  {
   "cell_type": "code",
   "execution_count": 17,
   "id": "de99f579",
   "metadata": {},
   "outputs": [],
   "source": [
    "from nltk.corpus import wordnet"
   ]
  },
  {
   "cell_type": "code",
   "execution_count": 20,
   "id": "3c5b28ca",
   "metadata": {},
   "outputs": [
    {
     "data": {
      "text/plain": [
       "[Synset('tractor.n.01'), Synset('tractor.n.02')]"
      ]
     },
     "execution_count": 20,
     "metadata": {},
     "output_type": "execute_result"
    }
   ],
   "source": [
    "tractor = wordnet.synsets('tractor')\n",
    "tractor"
   ]
  },
  {
   "cell_type": "code",
   "execution_count": 28,
   "id": "747afd7b",
   "metadata": {},
   "outputs": [
    {
     "data": {
      "text/plain": [
       "['a wheeled vehicle with large wheels; used in farming and other applications',\n",
       " 'a truck that has a cab but no body; used for pulling large trailers or vans']"
      ]
     },
     "execution_count": 28,
     "metadata": {},
     "output_type": "execute_result"
    }
   ],
   "source": [
    "#Definitions of senses\n",
    "[sys.definition() for sys in tractor]"
   ]
  },
  {
   "cell_type": "code",
   "execution_count": 33,
   "id": "067febfc",
   "metadata": {},
   "outputs": [
    {
     "name": "stdout",
     "output_type": "stream",
     "text": [
      "Hypernym: [Synset('self-propelled_vehicle.n.01')]\n"
     ]
    },
    {
     "data": {
      "text/plain": [
       "'a wheeled vehicle that carries in itself a means of propulsion'"
      ]
     },
     "execution_count": 33,
     "metadata": {},
     "output_type": "execute_result"
    }
   ],
   "source": [
    "#Hypernyms: Relation between a concept and its superordinate\n",
    "\n",
    "\n",
    "tractor = wordnet.synset('tractor.n.01')\n",
    "print('Hypernym:', tractor.hypernyms())\n",
    "tractor.hypernyms()[0].definition()"
   ]
  },
  {
   "cell_type": "code",
   "execution_count": 36,
   "id": "e493e4fc",
   "metadata": {},
   "outputs": [
    {
     "data": {
      "text/plain": [
       "Synset('wheeled_vehicle.n.01')"
      ]
     },
     "execution_count": 36,
     "metadata": {},
     "output_type": "execute_result"
    }
   ],
   "source": [
    "self_propelled_vehicle = wordnet.synset('self-propelled_vehicle.n.01')\n",
    "self_propelled_vehicle.hypernyms()[0]"
   ]
  },
  {
   "cell_type": "code",
   "execution_count": 38,
   "id": "3341bd5b",
   "metadata": {},
   "outputs": [
    {
     "data": {
      "text/plain": [
       "[Synset('axle.n.01'),\n",
       " Synset('brake.n.01'),\n",
       " Synset('splasher.n.01'),\n",
       " Synset('wheel.n.01')]"
      ]
     },
     "execution_count": 38,
     "metadata": {},
     "output_type": "execute_result"
    }
   ],
   "source": [
    "#Meronyms: Relation between a parts and its whole\n",
    "\n",
    "wheeled_vehicle = wordnet.synset('wheeled_vehicle.n.01')\n",
    "wheeled_vehicle.part_meronyms()"
   ]
  },
  {
   "cell_type": "code",
   "execution_count": 40,
   "id": "b887a63b",
   "metadata": {},
   "outputs": [
    {
     "data": {
      "text/plain": [
       "[Synset('container.n.01'), Synset('vehicle.n.01')]"
      ]
     },
     "execution_count": 40,
     "metadata": {},
     "output_type": "execute_result"
    }
   ],
   "source": [
    "wheeled_vehicle.hypernyms()"
   ]
  },
  {
   "cell_type": "code",
   "execution_count": 41,
   "id": "8d570815",
   "metadata": {},
   "outputs": [
    {
     "data": {
      "text/plain": [
       "[Synset('baby_buggy.n.01'),\n",
       " Synset('bicycle.n.01'),\n",
       " Synset('boneshaker.n.01'),\n",
       " Synset('car.n.02'),\n",
       " Synset('handcart.n.01'),\n",
       " Synset('horse-drawn_vehicle.n.01'),\n",
       " Synset('motor_scooter.n.01'),\n",
       " Synset('rolling_stock.n.01'),\n",
       " Synset('scooter.n.02'),\n",
       " Synset('self-propelled_vehicle.n.01'),\n",
       " Synset('skateboard.n.01'),\n",
       " Synset('trailer.n.04'),\n",
       " Synset('tricycle.n.01'),\n",
       " Synset('unicycle.n.01'),\n",
       " Synset('wagon.n.01'),\n",
       " Synset('wagon.n.04'),\n",
       " Synset('welcome_wagon.n.01')]"
      ]
     },
     "execution_count": 41,
     "metadata": {},
     "output_type": "execute_result"
    }
   ],
   "source": [
    "#Hyponyms\n",
    "\n",
    "wheeled_vehicle.hyponyms()"
   ]
  },
  {
   "cell_type": "code",
   "execution_count": 42,
   "id": "2891c95d",
   "metadata": {},
   "outputs": [
    {
     "data": {
      "text/plain": [
       "[Synset('wheeled_vehicle.n.01')]"
      ]
     },
     "execution_count": 42,
     "metadata": {},
     "output_type": "execute_result"
    }
   ],
   "source": [
    "#Holonyms: Relation between whole and its parts\n",
    "\n",
    "axle = wordnet.synset('wheel.n.01')\n",
    "axle.part_holonyms()"
   ]
  },
  {
   "cell_type": "code",
   "execution_count": 43,
   "id": "a4709dd9",
   "metadata": {},
   "outputs": [
    {
     "data": {
      "text/plain": [
       "[Synset('armored_vehicle.n.01'),\n",
       " Synset('carrier.n.02'),\n",
       " Synset('forklift.n.01'),\n",
       " Synset('locomotive.n.01'),\n",
       " Synset('motor_vehicle.n.01'),\n",
       " Synset('personnel_carrier.n.01'),\n",
       " Synset('reconnaissance_vehicle.n.01'),\n",
       " Synset('recreational_vehicle.n.01'),\n",
       " Synset('streetcar.n.01'),\n",
       " Synset('tracked_vehicle.n.01'),\n",
       " Synset('tractor.n.01'),\n",
       " Synset('weapons_carrier.n.01')]"
      ]
     },
     "execution_count": 43,
     "metadata": {},
     "output_type": "execute_result"
    }
   ],
   "source": [
    "self_propelled_vehicle.hyponyms()"
   ]
  },
  {
   "cell_type": "code",
   "execution_count": 44,
   "id": "b2411359",
   "metadata": {},
   "outputs": [
    {
     "data": {
      "text/plain": [
       "[Synset('amphibian.n.01'),\n",
       " Synset('bloodmobile.n.01'),\n",
       " Synset('car.n.01'),\n",
       " Synset('doodlebug.n.01'),\n",
       " Synset('four-wheel_drive.n.01'),\n",
       " Synset('go-kart.n.01'),\n",
       " Synset('golfcart.n.01'),\n",
       " Synset('hearse.n.01'),\n",
       " Synset('motorcycle.n.01'),\n",
       " Synset('snowplow.n.01'),\n",
       " Synset('truck.n.01')]"
      ]
     },
     "execution_count": 44,
     "metadata": {},
     "output_type": "execute_result"
    }
   ],
   "source": [
    "motor_vehicle = wordnet.synset('motor_vehicle.n.01')\n",
    "motor_vehicle.hyponyms()"
   ]
  },
  {
   "cell_type": "code",
   "execution_count": 45,
   "id": "c03b3db4",
   "metadata": {},
   "outputs": [
    {
     "data": {
      "text/plain": [
       "[Synset('accelerator.n.01'),\n",
       " Synset('air_bag.n.01'),\n",
       " Synset('auto_accessory.n.01'),\n",
       " Synset('automobile_engine.n.01'),\n",
       " Synset('automobile_horn.n.01'),\n",
       " Synset('buffer.n.06'),\n",
       " Synset('bumper.n.02'),\n",
       " Synset('car_door.n.01'),\n",
       " Synset('car_mirror.n.01'),\n",
       " Synset('car_seat.n.01'),\n",
       " Synset('car_window.n.01'),\n",
       " Synset('fender.n.01'),\n",
       " Synset('first_gear.n.01'),\n",
       " Synset('floorboard.n.02'),\n",
       " Synset('gasoline_engine.n.01'),\n",
       " Synset('glove_compartment.n.01'),\n",
       " Synset('grille.n.02'),\n",
       " Synset('high_gear.n.01'),\n",
       " Synset('hood.n.09'),\n",
       " Synset('luggage_compartment.n.01'),\n",
       " Synset('rear_window.n.01'),\n",
       " Synset('reverse.n.02'),\n",
       " Synset('roof.n.02'),\n",
       " Synset('running_board.n.01'),\n",
       " Synset('stabilizer_bar.n.01'),\n",
       " Synset('sunroof.n.01'),\n",
       " Synset('tail_fin.n.02'),\n",
       " Synset('third_gear.n.01'),\n",
       " Synset('window.n.02')]"
      ]
     },
     "execution_count": 45,
     "metadata": {},
     "output_type": "execute_result"
    }
   ],
   "source": [
    "car = wordnet.synset('car.n.01')\n",
    "car.part_meronyms()"
   ]
  },
  {
   "cell_type": "code",
   "execution_count": null,
   "id": "e2404733",
   "metadata": {},
   "outputs": [],
   "source": []
  },
  {
   "cell_type": "code",
   "execution_count": 26,
   "id": "9413f3b1",
   "metadata": {},
   "outputs": [
    {
     "name": "stdout",
     "output_type": "stream",
     "text": [
      "[Synset('monetary_value.n.01'), Synset('price.n.02'), Synset('price.n.03'), Synset('price.n.04'), Synset('price.n.05'), Synset('price.n.06'), Synset('price.n.07')]\n",
      "the property of having material worth (often indicated by the amount of money something would bring if sold)\n",
      "[Lemma('monetary_value.n.01.monetary_value'), Lemma('monetary_value.n.01.price'), Lemma('monetary_value.n.01.cost'), Lemma('price.n.02.price'), Lemma('price.n.02.terms'), Lemma('price.n.02.damage'), Lemma('price.n.03.price'), Lemma('price.n.03.cost'), Lemma('price.n.03.toll'), Lemma('price.n.04.price'), Lemma('price.n.05.price'), Lemma('price.n.06.price'), Lemma('price.n.07.Price'), Lemma('price.n.07.Leontyne_Price'), Lemma('price.n.07.Mary_Leontyne_Price'), Lemma('price.v.01.price'), Lemma('price.v.02.price')]\n"
     ]
    },
    {
     "data": {
      "text/plain": [
       "['book_keeping',\n",
       " 'numismatics',\n",
       " 'betting',\n",
       " 'banking',\n",
       " 'insurance',\n",
       " 'racing',\n",
       " 'social',\n",
       " 'money',\n",
       " 'finance',\n",
       " 'post',\n",
       " 'law',\n",
       " 'commerce',\n",
       " 'enterprise',\n",
       " 'telegraphy',\n",
       " 'mathematics',\n",
       " 'industry',\n",
       " 'economy',\n",
       " 'tax',\n",
       " 'free_time',\n",
       " 'jewellery',\n",
       " 'statistics',\n",
       " 'exchange',\n",
       " 'buildings',\n",
       " 'diplomacy',\n",
       " 'book_keeping',\n",
       " 'factotum',\n",
       " 'agriculture',\n",
       " 'electrotechnology',\n",
       " 'numismatics',\n",
       " 'person',\n",
       " 'telephony',\n",
       " 'metrology',\n",
       " 'politics',\n",
       " 'betting',\n",
       " 'banking',\n",
       " 'sociology',\n",
       " 'insurance',\n",
       " 'racing',\n",
       " 'publishing',\n",
       " 'social',\n",
       " 'money',\n",
       " 'card',\n",
       " 'finance',\n",
       " 'post',\n",
       " 'law',\n",
       " 'topography',\n",
       " 'tourism',\n",
       " 'commerce',\n",
       " 'philology',\n",
       " 'telegraphy',\n",
       " 'enterprise',\n",
       " 'mathematics',\n",
       " 'time_period',\n",
       " 'town_planning',\n",
       " 'animal_husbandry',\n",
       " 'pure_science',\n",
       " 'computer_science',\n",
       " 'economy',\n",
       " 'industry',\n",
       " 'tax',\n",
       " 'quality',\n",
       " 'free_time',\n",
       " 'philately',\n",
       " 'railway',\n",
       " 'jewellery',\n",
       " 'telecommunication',\n",
       " 'statistics',\n",
       " 'exchange',\n",
       " 'economy',\n",
       " 'music',\n",
       " 'social',\n",
       " 'economy',\n",
       " 'commerce',\n",
       " 'social',\n",
       " 'commerce']"
      ]
     },
     "execution_count": 26,
     "metadata": {},
     "output_type": "execute_result"
    }
   ],
   "source": [
    "##Using Spacy\n",
    "# !pip install spacy-wordnet\n",
    "import spacy\n",
    "from spacy_wordnet.wordnet_annotator import WordnetAnnotator \n",
    "\n",
    "# Load a spaCy model (supported languages are \"es\" and \"en\") \n",
    "nlp = spacy.load('en_core_web_sm')\n",
    "# spaCy 3.x\n",
    "nlp.add_pipe(\"spacy_wordnet\", after='tagger')\n",
    "# spaCy 2.x\n",
    "# nlp.add_pipe(WordnetAnnotator(nlp.lang), after='tagger')\n",
    "token = nlp('prices')[0]\n",
    "\n",
    "# WordNet object links spaCy token with NLTK WordNet interface by giving access to\n",
    "# synsets and lemmas \n",
    "x = token._.wordnet.synsets()\n",
    "print(x)\n",
    "print(x[0].definition())\n",
    "\n",
    "print(token._.wordnet.lemmas())\n",
    "\n",
    "# And automatically add info about WordNet domains\n",
    "token._.wordnet.wordnet_domains()"
   ]
  },
  {
   "cell_type": "code",
   "execution_count": null,
   "id": "7b8b9af5",
   "metadata": {},
   "outputs": [],
   "source": []
  }
 ],
 "metadata": {
  "kernelspec": {
   "display_name": "Python 3 (ipykernel)",
   "language": "python",
   "name": "python3"
  },
  "language_info": {
   "codemirror_mode": {
    "name": "ipython",
    "version": 3
   },
   "file_extension": ".py",
   "mimetype": "text/x-python",
   "name": "python",
   "nbconvert_exporter": "python",
   "pygments_lexer": "ipython3",
   "version": "3.9.12"
  }
 },
 "nbformat": 4,
 "nbformat_minor": 5
}
