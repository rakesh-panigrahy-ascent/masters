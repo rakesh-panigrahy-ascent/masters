{
 "cells": [
  {
   "cell_type": "code",
   "execution_count": 39,
   "id": "805fc321",
   "metadata": {},
   "outputs": [],
   "source": [
    "# !python -m spacy download en_core_web_lg\n",
    "# !python -m spacy download en_core_web_sm\n",
    "# !pip install spacy"
   ]
  },
  {
   "cell_type": "code",
   "execution_count": 40,
   "id": "5426df2b",
   "metadata": {},
   "outputs": [
    {
     "name": "stdout",
     "output_type": "stream",
     "text": [
      "upGrad NOUN NN\n",
      "is AUX VBZ\n",
      "teaching VERB VBG\n",
      "Data PROPN NNP\n",
      "Science PROPN NNP\n",
      "courses NOUN NNS\n",
      "to ADP IN\n",
      "the DET DT\n",
      "working VERB VBG\n",
      "professionals NOUN NNS\n",
      ". PUNCT .\n"
     ]
    }
   ],
   "source": [
    "import spacy\n",
    "nlp = spacy.load(\"en_core_web_sm\")\n",
    "doc = nlp(\"upGrad is teaching Data Science courses to the working professionals.\")\n",
    "for token in doc:\n",
    "    print(token.text, token.pos_, token.tag_)"
   ]
  },
  {
   "cell_type": "code",
   "execution_count": 41,
   "id": "d6fdb4df",
   "metadata": {},
   "outputs": [
    {
     "data": {
      "text/html": [
       "<div>\n",
       "<style scoped>\n",
       "    .dataframe tbody tr th:only-of-type {\n",
       "        vertical-align: middle;\n",
       "    }\n",
       "\n",
       "    .dataframe tbody tr th {\n",
       "        vertical-align: top;\n",
       "    }\n",
       "\n",
       "    .dataframe thead th {\n",
       "        text-align: right;\n",
       "    }\n",
       "</style>\n",
       "<table border=\"1\" class=\"dataframe\">\n",
       "  <thead>\n",
       "    <tr style=\"text-align: right;\">\n",
       "      <th></th>\n",
       "      <th>word</th>\n",
       "      <th>tag</th>\n",
       "    </tr>\n",
       "  </thead>\n",
       "  <tbody>\n",
       "    <tr>\n",
       "      <th>0</th>\n",
       "      <td>the</td>\n",
       "      <td>DET</td>\n",
       "    </tr>\n",
       "    <tr>\n",
       "      <th>1</th>\n",
       "      <td>fulton</td>\n",
       "      <td>NOUN</td>\n",
       "    </tr>\n",
       "    <tr>\n",
       "      <th>2</th>\n",
       "      <td>county</td>\n",
       "      <td>NOUN</td>\n",
       "    </tr>\n",
       "    <tr>\n",
       "      <th>3</th>\n",
       "      <td>grand</td>\n",
       "      <td>ADJ</td>\n",
       "    </tr>\n",
       "    <tr>\n",
       "      <th>4</th>\n",
       "      <td>jury</td>\n",
       "      <td>NOUN</td>\n",
       "    </tr>\n",
       "  </tbody>\n",
       "</table>\n",
       "</div>"
      ],
      "text/plain": [
       "     word   tag\n",
       "0     the   DET\n",
       "1  fulton  NOUN\n",
       "2  county  NOUN\n",
       "3   grand   ADJ\n",
       "4    jury  NOUN"
      ]
     },
     "execution_count": 41,
     "metadata": {},
     "output_type": "execute_result"
    }
   ],
   "source": [
    "import pandas as pd\n",
    "import numpy as np\n",
    "df = pd.read_csv('tagged_words.csv')\n",
    "df.head()"
   ]
  },
  {
   "cell_type": "code",
   "execution_count": 42,
   "id": "e8037c55",
   "metadata": {},
   "outputs": [],
   "source": [
    "pv = df.pivot_table(index='word', columns='tag', values='word', aggfunc=np.count_nonzero).reset_index()"
   ]
  },
  {
   "cell_type": "code",
   "execution_count": 43,
   "id": "b356cd52",
   "metadata": {},
   "outputs": [
    {
     "data": {
      "text/html": [
       "<div>\n",
       "<style scoped>\n",
       "    .dataframe tbody tr th:only-of-type {\n",
       "        vertical-align: middle;\n",
       "    }\n",
       "\n",
       "    .dataframe tbody tr th {\n",
       "        vertical-align: top;\n",
       "    }\n",
       "\n",
       "    .dataframe thead th {\n",
       "        text-align: right;\n",
       "    }\n",
       "</style>\n",
       "<table border=\"1\" class=\"dataframe\">\n",
       "  <thead>\n",
       "    <tr style=\"text-align: right;\">\n",
       "      <th>tag</th>\n",
       "      <th>word</th>\n",
       "      <th>ADJ</th>\n",
       "      <th>ADP</th>\n",
       "      <th>ADV</th>\n",
       "      <th>CONJ</th>\n",
       "      <th>DET</th>\n",
       "      <th>NOUN</th>\n",
       "      <th>NUM</th>\n",
       "      <th>PRON</th>\n",
       "      <th>PRT</th>\n",
       "      <th>VERB</th>\n",
       "      <th>X</th>\n",
       "    </tr>\n",
       "  </thead>\n",
       "  <tbody>\n",
       "    <tr>\n",
       "      <th>38889</th>\n",
       "      <td>saw</td>\n",
       "      <td>NaN</td>\n",
       "      <td>NaN</td>\n",
       "      <td>NaN</td>\n",
       "      <td>NaN</td>\n",
       "      <td>NaN</td>\n",
       "      <td>10.0</td>\n",
       "      <td>NaN</td>\n",
       "      <td>NaN</td>\n",
       "      <td>NaN</td>\n",
       "      <td>694.0</td>\n",
       "      <td>NaN</td>\n",
       "    </tr>\n",
       "  </tbody>\n",
       "</table>\n",
       "</div>"
      ],
      "text/plain": [
       "tag   word  ADJ  ADP  ADV  CONJ  DET  NOUN  NUM  PRON  PRT   VERB   X\n",
       "38889  saw  NaN  NaN  NaN   NaN  NaN  10.0  NaN   NaN  NaN  694.0 NaN"
      ]
     },
     "execution_count": 43,
     "metadata": {},
     "output_type": "execute_result"
    }
   ],
   "source": [
    "pv[pv['word']=='saw']"
   ]
  },
  {
   "cell_type": "code",
   "execution_count": 44,
   "id": "a4e7db60",
   "metadata": {},
   "outputs": [
    {
     "name": "stdout",
     "output_type": "stream",
     "text": [
      "('He', 'PRON')\n",
      "('wished', 'VERB')\n",
      "('he', 'PRON')\n",
      "('was', 'VERB')\n",
      "('rich', 'ADJ')\n"
     ]
    }
   ],
   "source": [
    "sent = \"I saw him running away\"\n",
    "sent1 = \"He wished he was rich\"\n",
    "\n",
    "def get_common_tag(data,word):\n",
    "    if word.lower() in data['word'].unique():\n",
    "        q = f\"word=='{word.lower()}'\"\n",
    "        return word , data.query(q)['tag'].value_counts().head(1).index.tolist()[0]\n",
    "    else:\n",
    "        return f\"{word} not in data\"\n",
    "\n",
    "for word in sent1.split(\" \"):\n",
    "    print(get_common_tag(df,word))\n",
    " \n",
    "# df.query(\"word=='saw'\")['tag'].value_counts()"
   ]
  },
  {
   "cell_type": "code",
   "execution_count": 45,
   "id": "cd4b7478",
   "metadata": {},
   "outputs": [
    {
     "data": {
      "text/plain": [
       "98668.0"
      ]
     },
     "execution_count": 45,
     "metadata": {},
     "output_type": "execute_result"
    }
   ],
   "source": [
    "pv['PRON'].sum()"
   ]
  },
  {
   "cell_type": "code",
   "execution_count": 46,
   "id": "d690176a",
   "metadata": {},
   "outputs": [
    {
     "data": {
      "text/html": [
       "<div>\n",
       "<style scoped>\n",
       "    .dataframe tbody tr th:only-of-type {\n",
       "        vertical-align: middle;\n",
       "    }\n",
       "\n",
       "    .dataframe tbody tr th {\n",
       "        vertical-align: top;\n",
       "    }\n",
       "\n",
       "    .dataframe thead th {\n",
       "        text-align: right;\n",
       "    }\n",
       "</style>\n",
       "<table border=\"1\" class=\"dataframe\">\n",
       "  <thead>\n",
       "    <tr style=\"text-align: right;\">\n",
       "      <th>tag</th>\n",
       "      <th>word</th>\n",
       "      <th>ADJ</th>\n",
       "      <th>ADP</th>\n",
       "      <th>ADV</th>\n",
       "      <th>CONJ</th>\n",
       "      <th>DET</th>\n",
       "      <th>NOUN</th>\n",
       "      <th>NUM</th>\n",
       "      <th>PRON</th>\n",
       "      <th>PRT</th>\n",
       "      <th>VERB</th>\n",
       "      <th>X</th>\n",
       "    </tr>\n",
       "  </thead>\n",
       "  <tbody>\n",
       "    <tr>\n",
       "      <th>21950</th>\n",
       "      <td>his</td>\n",
       "      <td>NaN</td>\n",
       "      <td>NaN</td>\n",
       "      <td>NaN</td>\n",
       "      <td>NaN</td>\n",
       "      <td>13914.0</td>\n",
       "      <td>NaN</td>\n",
       "      <td>NaN</td>\n",
       "      <td>74.0</td>\n",
       "      <td>NaN</td>\n",
       "      <td>NaN</td>\n",
       "      <td>4.0</td>\n",
       "    </tr>\n",
       "  </tbody>\n",
       "</table>\n",
       "</div>"
      ],
      "text/plain": [
       "tag   word  ADJ  ADP  ADV  CONJ      DET  NOUN  NUM  PRON  PRT  VERB    X\n",
       "21950  his  NaN  NaN  NaN   NaN  13914.0   NaN  NaN  74.0  NaN   NaN  4.0"
      ]
     },
     "execution_count": 46,
     "metadata": {},
     "output_type": "execute_result"
    }
   ],
   "source": [
    "pv[pv['word']=='his']"
   ]
  },
  {
   "cell_type": "code",
   "execution_count": 47,
   "id": "30afe48e",
   "metadata": {},
   "outputs": [
    {
     "data": {
      "text/plain": [
       "0.0007499898650018244"
      ]
     },
     "execution_count": 47,
     "metadata": {},
     "output_type": "execute_result"
    }
   ],
   "source": [
    "74/98668"
   ]
  },
  {
   "cell_type": "code",
   "execution_count": 48,
   "id": "d9d47231",
   "metadata": {},
   "outputs": [
    {
     "data": {
      "text/plain": [
       "0.001"
      ]
     },
     "execution_count": 48,
     "metadata": {},
     "output_type": "execute_result"
    }
   ],
   "source": [
    "data = df.copy()\n",
    "emmission_matrix = pd.crosstab(data['word'],data['tag'],normalize='columns')\n",
    "\n",
    "word = 'his'\n",
    "emmission_matrix.loc[word][emmission_matrix.loc[word]>0].round(3)\n",
    "emmission_matrix['PRON'].loc['his'].round(3)"
   ]
  },
  {
   "cell_type": "code",
   "execution_count": 63,
   "id": "23b74db1",
   "metadata": {},
   "outputs": [
    {
     "data": {
      "text/html": [
       "<span class=\"tex2jax_ignore\"><svg xmlns=\"http://www.w3.org/2000/svg\" xmlns:xlink=\"http://www.w3.org/1999/xlink\" xml:lang=\"en\" id=\"cfda7efa07044200b2eda1c51ae4838c-0\" class=\"displacy\" width=\"1450\" height=\"487.0\" direction=\"ltr\" style=\"max-width: none; height: 487.0px; color: #000000; background: #ffffff; font-family: Arial; direction: ltr\">\n",
       "<text class=\"displacy-token\" fill=\"currentColor\" text-anchor=\"middle\" y=\"397.0\">\n",
       "    <tspan class=\"displacy-word\" fill=\"currentColor\" x=\"50\">Harry</tspan>\n",
       "    <tspan class=\"displacy-tag\" dy=\"2em\" fill=\"currentColor\" x=\"50\">PROPN</tspan>\n",
       "</text>\n",
       "\n",
       "<text class=\"displacy-token\" fill=\"currentColor\" text-anchor=\"middle\" y=\"397.0\">\n",
       "    <tspan class=\"displacy-word\" fill=\"currentColor\" x=\"225\">is</tspan>\n",
       "    <tspan class=\"displacy-tag\" dy=\"2em\" fill=\"currentColor\" x=\"225\">AUX</tspan>\n",
       "</text>\n",
       "\n",
       "<text class=\"displacy-token\" fill=\"currentColor\" text-anchor=\"middle\" y=\"397.0\">\n",
       "    <tspan class=\"displacy-word\" fill=\"currentColor\" x=\"400\">not</tspan>\n",
       "    <tspan class=\"displacy-tag\" dy=\"2em\" fill=\"currentColor\" x=\"400\">PART</tspan>\n",
       "</text>\n",
       "\n",
       "<text class=\"displacy-token\" fill=\"currentColor\" text-anchor=\"middle\" y=\"397.0\">\n",
       "    <tspan class=\"displacy-word\" fill=\"currentColor\" x=\"575\">gardening</tspan>\n",
       "    <tspan class=\"displacy-tag\" dy=\"2em\" fill=\"currentColor\" x=\"575\">VERB</tspan>\n",
       "</text>\n",
       "\n",
       "<text class=\"displacy-token\" fill=\"currentColor\" text-anchor=\"middle\" y=\"397.0\">\n",
       "    <tspan class=\"displacy-word\" fill=\"currentColor\" x=\"750\">as</tspan>\n",
       "    <tspan class=\"displacy-tag\" dy=\"2em\" fill=\"currentColor\" x=\"750\">SCONJ</tspan>\n",
       "</text>\n",
       "\n",
       "<text class=\"displacy-token\" fill=\"currentColor\" text-anchor=\"middle\" y=\"397.0\">\n",
       "    <tspan class=\"displacy-word\" fill=\"currentColor\" x=\"925\">it</tspan>\n",
       "    <tspan class=\"displacy-tag\" dy=\"2em\" fill=\"currentColor\" x=\"925\">PRON</tspan>\n",
       "</text>\n",
       "\n",
       "<text class=\"displacy-token\" fill=\"currentColor\" text-anchor=\"middle\" y=\"397.0\">\n",
       "    <tspan class=\"displacy-word\" fill=\"currentColor\" x=\"1100\">is</tspan>\n",
       "    <tspan class=\"displacy-tag\" dy=\"2em\" fill=\"currentColor\" x=\"1100\">AUX</tspan>\n",
       "</text>\n",
       "\n",
       "<text class=\"displacy-token\" fill=\"currentColor\" text-anchor=\"middle\" y=\"397.0\">\n",
       "    <tspan class=\"displacy-word\" fill=\"currentColor\" x=\"1275\">raining</tspan>\n",
       "    <tspan class=\"displacy-tag\" dy=\"2em\" fill=\"currentColor\" x=\"1275\">VERB</tspan>\n",
       "</text>\n",
       "\n",
       "<g class=\"displacy-arrow\">\n",
       "    <path class=\"displacy-arc\" id=\"arrow-cfda7efa07044200b2eda1c51ae4838c-0-0\" stroke-width=\"2px\" d=\"M70,352.0 C70,89.5 570.0,89.5 570.0,352.0\" fill=\"none\" stroke=\"currentColor\"/>\n",
       "    <text dy=\"1.25em\" style=\"font-size: 0.8em; letter-spacing: 1px\">\n",
       "        <textPath xlink:href=\"#arrow-cfda7efa07044200b2eda1c51ae4838c-0-0\" class=\"displacy-label\" startOffset=\"50%\" side=\"left\" fill=\"currentColor\" text-anchor=\"middle\">nsubj</textPath>\n",
       "    </text>\n",
       "    <path class=\"displacy-arrowhead\" d=\"M70,354.0 L62,342.0 78,342.0\" fill=\"currentColor\"/>\n",
       "</g>\n",
       "\n",
       "<g class=\"displacy-arrow\">\n",
       "    <path class=\"displacy-arc\" id=\"arrow-cfda7efa07044200b2eda1c51ae4838c-0-1\" stroke-width=\"2px\" d=\"M245,352.0 C245,177.0 565.0,177.0 565.0,352.0\" fill=\"none\" stroke=\"currentColor\"/>\n",
       "    <text dy=\"1.25em\" style=\"font-size: 0.8em; letter-spacing: 1px\">\n",
       "        <textPath xlink:href=\"#arrow-cfda7efa07044200b2eda1c51ae4838c-0-1\" class=\"displacy-label\" startOffset=\"50%\" side=\"left\" fill=\"currentColor\" text-anchor=\"middle\">aux</textPath>\n",
       "    </text>\n",
       "    <path class=\"displacy-arrowhead\" d=\"M245,354.0 L237,342.0 253,342.0\" fill=\"currentColor\"/>\n",
       "</g>\n",
       "\n",
       "<g class=\"displacy-arrow\">\n",
       "    <path class=\"displacy-arc\" id=\"arrow-cfda7efa07044200b2eda1c51ae4838c-0-2\" stroke-width=\"2px\" d=\"M420,352.0 C420,264.5 560.0,264.5 560.0,352.0\" fill=\"none\" stroke=\"currentColor\"/>\n",
       "    <text dy=\"1.25em\" style=\"font-size: 0.8em; letter-spacing: 1px\">\n",
       "        <textPath xlink:href=\"#arrow-cfda7efa07044200b2eda1c51ae4838c-0-2\" class=\"displacy-label\" startOffset=\"50%\" side=\"left\" fill=\"currentColor\" text-anchor=\"middle\">neg</textPath>\n",
       "    </text>\n",
       "    <path class=\"displacy-arrowhead\" d=\"M420,354.0 L412,342.0 428,342.0\" fill=\"currentColor\"/>\n",
       "</g>\n",
       "\n",
       "<g class=\"displacy-arrow\">\n",
       "    <path class=\"displacy-arc\" id=\"arrow-cfda7efa07044200b2eda1c51ae4838c-0-3\" stroke-width=\"2px\" d=\"M770,352.0 C770,89.5 1270.0,89.5 1270.0,352.0\" fill=\"none\" stroke=\"currentColor\"/>\n",
       "    <text dy=\"1.25em\" style=\"font-size: 0.8em; letter-spacing: 1px\">\n",
       "        <textPath xlink:href=\"#arrow-cfda7efa07044200b2eda1c51ae4838c-0-3\" class=\"displacy-label\" startOffset=\"50%\" side=\"left\" fill=\"currentColor\" text-anchor=\"middle\">mark</textPath>\n",
       "    </text>\n",
       "    <path class=\"displacy-arrowhead\" d=\"M770,354.0 L762,342.0 778,342.0\" fill=\"currentColor\"/>\n",
       "</g>\n",
       "\n",
       "<g class=\"displacy-arrow\">\n",
       "    <path class=\"displacy-arc\" id=\"arrow-cfda7efa07044200b2eda1c51ae4838c-0-4\" stroke-width=\"2px\" d=\"M945,352.0 C945,177.0 1265.0,177.0 1265.0,352.0\" fill=\"none\" stroke=\"currentColor\"/>\n",
       "    <text dy=\"1.25em\" style=\"font-size: 0.8em; letter-spacing: 1px\">\n",
       "        <textPath xlink:href=\"#arrow-cfda7efa07044200b2eda1c51ae4838c-0-4\" class=\"displacy-label\" startOffset=\"50%\" side=\"left\" fill=\"currentColor\" text-anchor=\"middle\">nsubj</textPath>\n",
       "    </text>\n",
       "    <path class=\"displacy-arrowhead\" d=\"M945,354.0 L937,342.0 953,342.0\" fill=\"currentColor\"/>\n",
       "</g>\n",
       "\n",
       "<g class=\"displacy-arrow\">\n",
       "    <path class=\"displacy-arc\" id=\"arrow-cfda7efa07044200b2eda1c51ae4838c-0-5\" stroke-width=\"2px\" d=\"M1120,352.0 C1120,264.5 1260.0,264.5 1260.0,352.0\" fill=\"none\" stroke=\"currentColor\"/>\n",
       "    <text dy=\"1.25em\" style=\"font-size: 0.8em; letter-spacing: 1px\">\n",
       "        <textPath xlink:href=\"#arrow-cfda7efa07044200b2eda1c51ae4838c-0-5\" class=\"displacy-label\" startOffset=\"50%\" side=\"left\" fill=\"currentColor\" text-anchor=\"middle\">aux</textPath>\n",
       "    </text>\n",
       "    <path class=\"displacy-arrowhead\" d=\"M1120,354.0 L1112,342.0 1128,342.0\" fill=\"currentColor\"/>\n",
       "</g>\n",
       "\n",
       "<g class=\"displacy-arrow\">\n",
       "    <path class=\"displacy-arc\" id=\"arrow-cfda7efa07044200b2eda1c51ae4838c-0-6\" stroke-width=\"2px\" d=\"M595,352.0 C595,2.0 1275.0,2.0 1275.0,352.0\" fill=\"none\" stroke=\"currentColor\"/>\n",
       "    <text dy=\"1.25em\" style=\"font-size: 0.8em; letter-spacing: 1px\">\n",
       "        <textPath xlink:href=\"#arrow-cfda7efa07044200b2eda1c51ae4838c-0-6\" class=\"displacy-label\" startOffset=\"50%\" side=\"left\" fill=\"currentColor\" text-anchor=\"middle\">advcl</textPath>\n",
       "    </text>\n",
       "    <path class=\"displacy-arrowhead\" d=\"M1275.0,354.0 L1283.0,342.0 1267.0,342.0\" fill=\"currentColor\"/>\n",
       "</g>\n",
       "</svg></span>"
      ],
      "text/plain": [
       "<IPython.core.display.HTML object>"
      ]
     },
     "metadata": {},
     "output_type": "display_data"
    }
   ],
   "source": [
    "import spacy\n",
    "from spacy import displacy\n",
    "nlp = spacy.load(\"en_core_web_sm\")\n",
    "\n",
    "doc = nlp('Harry is not gardening as it is raining')\n",
    "\n",
    "displacy.render(doc, style=\"dep\", jupyter = True)"
   ]
  },
  {
   "cell_type": "code",
   "execution_count": null,
   "id": "48dfe7f0",
   "metadata": {},
   "outputs": [],
   "source": []
  },
  {
   "cell_type": "code",
   "execution_count": 50,
   "id": "61ff836d",
   "metadata": {},
   "outputs": [
    {
     "data": {
      "text/plain": [
       "2"
      ]
     },
     "execution_count": 50,
     "metadata": {},
     "output_type": "execute_result"
    }
   ],
   "source": [
    "import spacy\n",
    "nlp = spacy.load(\"en_core_web_sm\")\n",
    "sent = \"It was the best of times and it was the worst of times.\"\n",
    "doc = nlp(sent)\n",
    "len(list(doc[3].children))"
   ]
  },
  {
   "cell_type": "code",
   "execution_count": 51,
   "id": "93250cbd",
   "metadata": {},
   "outputs": [],
   "source": [
    "import spacy\n",
    "from spacy.matcher import Matcher\n",
    "nlp = spacy.load(\"en_core_web_sm\")\n",
    "matcher = Matcher(nlp.vocab)\n",
    "pattern = [{\"DEP\":{\"IN\":[\"nsubj\",\"nsubjpass\",\"csubj\",\"csubjpass\"]}}]\n",
    "matcher.add(\"subject\", [pattern])"
   ]
  },
  {
   "cell_type": "code",
   "execution_count": 52,
   "id": "0c43617e",
   "metadata": {},
   "outputs": [
    {
     "data": {
      "text/plain": [
       "[(15643352692411922430, 0, 1)]"
      ]
     },
     "execution_count": 52,
     "metadata": {},
     "output_type": "execute_result"
    }
   ],
   "source": [
    "doc = nlp('Rakesh is going Berhampur.')\n",
    "matcher(doc)"
   ]
  },
  {
   "cell_type": "code",
   "execution_count": 53,
   "id": "0d642064",
   "metadata": {},
   "outputs": [
    {
     "data": {
      "text/plain": [
       "Rakesh"
      ]
     },
     "execution_count": 53,
     "metadata": {},
     "output_type": "execute_result"
    }
   ],
   "source": [
    "doc[0:1]"
   ]
  },
  {
   "cell_type": "code",
   "execution_count": 54,
   "id": "56a0c2fa",
   "metadata": {},
   "outputs": [
    {
     "data": {
      "text/html": [
       "<span class=\"tex2jax_ignore\"><svg xmlns=\"http://www.w3.org/2000/svg\" xmlns:xlink=\"http://www.w3.org/1999/xlink\" xml:lang=\"en\" id=\"ff3d3ea3b2ef4b59ba194bdd4996146c-0\" class=\"displacy\" width=\"925\" height=\"312.0\" direction=\"ltr\" style=\"max-width: none; height: 312.0px; color: #000000; background: #ffffff; font-family: Arial; direction: ltr\">\n",
       "<text class=\"displacy-token\" fill=\"currentColor\" text-anchor=\"middle\" y=\"222.0\">\n",
       "    <tspan class=\"displacy-word\" fill=\"currentColor\" x=\"50\">Dole</tspan>\n",
       "    <tspan class=\"displacy-tag\" dy=\"2em\" fill=\"currentColor\" x=\"50\">PROPN</tspan>\n",
       "</text>\n",
       "\n",
       "<text class=\"displacy-token\" fill=\"currentColor\" text-anchor=\"middle\" y=\"222.0\">\n",
       "    <tspan class=\"displacy-word\" fill=\"currentColor\" x=\"225\">was</tspan>\n",
       "    <tspan class=\"displacy-tag\" dy=\"2em\" fill=\"currentColor\" x=\"225\">AUX</tspan>\n",
       "</text>\n",
       "\n",
       "<text class=\"displacy-token\" fill=\"currentColor\" text-anchor=\"middle\" y=\"222.0\">\n",
       "    <tspan class=\"displacy-word\" fill=\"currentColor\" x=\"400\">defeated</tspan>\n",
       "    <tspan class=\"displacy-tag\" dy=\"2em\" fill=\"currentColor\" x=\"400\">VERB</tspan>\n",
       "</text>\n",
       "\n",
       "<text class=\"displacy-token\" fill=\"currentColor\" text-anchor=\"middle\" y=\"222.0\">\n",
       "    <tspan class=\"displacy-word\" fill=\"currentColor\" x=\"575\">by</tspan>\n",
       "    <tspan class=\"displacy-tag\" dy=\"2em\" fill=\"currentColor\" x=\"575\">ADP</tspan>\n",
       "</text>\n",
       "\n",
       "<text class=\"displacy-token\" fill=\"currentColor\" text-anchor=\"middle\" y=\"222.0\">\n",
       "    <tspan class=\"displacy-word\" fill=\"currentColor\" x=\"750\">Clinton</tspan>\n",
       "    <tspan class=\"displacy-tag\" dy=\"2em\" fill=\"currentColor\" x=\"750\">PROPN</tspan>\n",
       "</text>\n",
       "\n",
       "<g class=\"displacy-arrow\">\n",
       "    <path class=\"displacy-arc\" id=\"arrow-ff3d3ea3b2ef4b59ba194bdd4996146c-0-0\" stroke-width=\"2px\" d=\"M70,177.0 C70,2.0 400.0,2.0 400.0,177.0\" fill=\"none\" stroke=\"currentColor\"/>\n",
       "    <text dy=\"1.25em\" style=\"font-size: 0.8em; letter-spacing: 1px\">\n",
       "        <textPath xlink:href=\"#arrow-ff3d3ea3b2ef4b59ba194bdd4996146c-0-0\" class=\"displacy-label\" startOffset=\"50%\" side=\"left\" fill=\"currentColor\" text-anchor=\"middle\">nsubjpass</textPath>\n",
       "    </text>\n",
       "    <path class=\"displacy-arrowhead\" d=\"M70,179.0 L62,167.0 78,167.0\" fill=\"currentColor\"/>\n",
       "</g>\n",
       "\n",
       "<g class=\"displacy-arrow\">\n",
       "    <path class=\"displacy-arc\" id=\"arrow-ff3d3ea3b2ef4b59ba194bdd4996146c-0-1\" stroke-width=\"2px\" d=\"M245,177.0 C245,89.5 395.0,89.5 395.0,177.0\" fill=\"none\" stroke=\"currentColor\"/>\n",
       "    <text dy=\"1.25em\" style=\"font-size: 0.8em; letter-spacing: 1px\">\n",
       "        <textPath xlink:href=\"#arrow-ff3d3ea3b2ef4b59ba194bdd4996146c-0-1\" class=\"displacy-label\" startOffset=\"50%\" side=\"left\" fill=\"currentColor\" text-anchor=\"middle\">auxpass</textPath>\n",
       "    </text>\n",
       "    <path class=\"displacy-arrowhead\" d=\"M245,179.0 L237,167.0 253,167.0\" fill=\"currentColor\"/>\n",
       "</g>\n",
       "\n",
       "<g class=\"displacy-arrow\">\n",
       "    <path class=\"displacy-arc\" id=\"arrow-ff3d3ea3b2ef4b59ba194bdd4996146c-0-2\" stroke-width=\"2px\" d=\"M420,177.0 C420,89.5 570.0,89.5 570.0,177.0\" fill=\"none\" stroke=\"currentColor\"/>\n",
       "    <text dy=\"1.25em\" style=\"font-size: 0.8em; letter-spacing: 1px\">\n",
       "        <textPath xlink:href=\"#arrow-ff3d3ea3b2ef4b59ba194bdd4996146c-0-2\" class=\"displacy-label\" startOffset=\"50%\" side=\"left\" fill=\"currentColor\" text-anchor=\"middle\">agent</textPath>\n",
       "    </text>\n",
       "    <path class=\"displacy-arrowhead\" d=\"M570.0,179.0 L578.0,167.0 562.0,167.0\" fill=\"currentColor\"/>\n",
       "</g>\n",
       "\n",
       "<g class=\"displacy-arrow\">\n",
       "    <path class=\"displacy-arc\" id=\"arrow-ff3d3ea3b2ef4b59ba194bdd4996146c-0-3\" stroke-width=\"2px\" d=\"M595,177.0 C595,89.5 745.0,89.5 745.0,177.0\" fill=\"none\" stroke=\"currentColor\"/>\n",
       "    <text dy=\"1.25em\" style=\"font-size: 0.8em; letter-spacing: 1px\">\n",
       "        <textPath xlink:href=\"#arrow-ff3d3ea3b2ef4b59ba194bdd4996146c-0-3\" class=\"displacy-label\" startOffset=\"50%\" side=\"left\" fill=\"currentColor\" text-anchor=\"middle\">pobj</textPath>\n",
       "    </text>\n",
       "    <path class=\"displacy-arrowhead\" d=\"M745.0,179.0 L753.0,167.0 737.0,167.0\" fill=\"currentColor\"/>\n",
       "</g>\n",
       "</svg></span>"
      ],
      "text/plain": [
       "<IPython.core.display.HTML object>"
      ]
     },
     "metadata": {},
     "output_type": "display_data"
    },
    {
     "data": {
      "text/plain": [
       "3"
      ]
     },
     "execution_count": 54,
     "metadata": {},
     "output_type": "execute_result"
    }
   ],
   "source": [
    "import spacy\n",
    "from spacy import displacy\n",
    "sent = \"Dole was defeated by Clinton\"\n",
    "doc = nlp(sent)\n",
    "\n",
    "## Visualize\n",
    "displacy.render(doc,style=\"dep\")\n",
    "\n",
    "## Or use children attribute\n",
    "len(list(doc[2].children))"
   ]
  },
  {
   "cell_type": "code",
   "execution_count": 55,
   "id": "1dce37e2",
   "metadata": {},
   "outputs": [
    {
     "name": "stdout",
     "output_type": "stream",
     "text": [
      "Jaguar  --  19  --  25  --  ORG\n"
     ]
    }
   ],
   "source": [
    "import spacy # import spacy module\n",
    "model = spacy.load(\"en_core_web_sm\") #load pre-trained model\n",
    "doc = \"I drove away in my Jaguar.\"\n",
    "processed_doc = model(doc) #process input and perform NLP tasks\n",
    "\n",
    "for ent in processed_doc.ents:\n",
    "  print(ent.text, \" -- \", ent.start_char, \" -- \", ent.end_char, \" -- \", ent.label_)"
   ]
  },
  {
   "cell_type": "code",
   "execution_count": 56,
   "id": "2079700a",
   "metadata": {},
   "outputs": [],
   "source": [
    "import re"
   ]
  },
  {
   "cell_type": "code",
   "execution_count": 57,
   "id": "057a4cfd",
   "metadata": {},
   "outputs": [],
   "source": [
    "data = open('Graded/data.txt', mode='r').read()"
   ]
  },
  {
   "cell_type": "code",
   "execution_count": 58,
   "id": "fbcfae62",
   "metadata": {},
   "outputs": [
    {
     "data": {
      "text/plain": [
       "\"The stock price of a certain company was $100 a year ago, once this company came into boom phase then it's stock price rise to $200. On the other hand, when there was economic depression the stock price was $50. When the company had started the price of its stock was $10, which you can consider as the base price. The stock price of a certain company was $100 a year ago, once this company came into boom phase then it's stock price rise to $200. On the other hand, when there was economic depression the stock price was $50. When the company had started the price of its stock was $10, which you can consider as the base price. The stock price of a certain company was $100 a year ago, once this company came into boom phase then it's stock price rise to $200. On the other hand, when there was economic depression the stock price was $50. When the company had started the price of its stock was $10, which you can consider as the base price. The stock price of a certain company was $100 a year ago, once this company came into boom phase then it's stock price rise to $200. On the other hand, when there was economic depression the stock price was $50. When the company had started the price of its stock was $10, which you can consider as the base price. The stock price of a certain company was $100 a year ago, once this company came into boom phase then it's stock price rise to $200. On the other hand, when there was economic depression the stock price was $50. When the company had started the price of its stock was $10, which you can consider as the base price. The stock price of a certain company was $100 a year ago, once this company came into boom phase then it's stock price rise to $200. On the other hand, when there was economic depression the stock price was $50. When the company had started the price of its stock was $10, which you can consider as the base price. The stock price of a certain company was $100 a year ago, once this company came into boom phase then it's stock price rise to $200. On the other hand, when there was economic depression the stock price was $50. When the company had started the price of its stock was $10, which you can consider as the base price. The stock price of a certain company was $100 a year ago, once this company came into boom phase then it's stock price rise to $200. On the other hand, when there was economic depression the stock price was $50. When the company had started the price of its stock was $10, which you can consider as the base price. The stock price of a certain company was $100 a year ago, once this company came into boom phase then it's stock price rise to $200. On the other hand, when there was economic depression the stock price was $50. When the company had started the price of its stock was $10, which you can consider as the base price. The stock price of a certain company was $100 a year ago, once this company came into boom phase then it's stock price rise to $200. On the other hand, when there was economic depression the stock price was $50. When the company had started the price of its stock was $10, which you can consider as the base price. The stock price of a certain company was $100 a year ago, once this company came into boom phase then it's stock price rise to $200. On the other hand, when there was economic depression the stock price was $50. When the company had started the price of its stock was $10, which you can consider as the base price. The stock price of a certain company was $100 a year ago, once this company came into boom phase then it's stock price rise to $200. On the other hand, when there was economic depression the stock price was $50. When the company had started the price of its stock was $10, which you can consider as the base price. The stock price of a certain company was $100 a year ago, once this company came into boom phase then it's stock price rise to $200. On the other hand, when there was economic depression the stock price was $50. When the company had started the price of its stock was $10, which you can consider as the base price. The stock price of a certain company was $100 a year ago, once this company came into boom phase then it's stock price rise to $90. On the other hand, when there was economic depression the stock price was $50. When the company had started the price of its stock was $10, which you can consider as the base price. The stock price of a certain company was $100 a year ago, once this company came into boom phase then it's stock price rise to $200. On the other hand, when there was economic depression the stock price was $123. When the company had started the price of its stock was $10, which you can consider as the base price. The stock price of a certain company was $100 a year ago, once this company came into boom phase then it's stock price rise to $200. On the other hand, when there was economic depression the stock price was $50. When the company had started the price of its stock was $10, which you can consider as the base price. The stock price of a certain company was $100 a year ago, once this company came into boom phase then it's stock price rise to $200. On the other hand, when there was economic depression the stock price was $50. When the company had started the price of its stock was $10, which you can consider as the base price. The stock price of a certain company was $100 a year ago, once this company came into boom phase then it's stock price rise to $200. On the other hand, when there was economic depression the stock price was $50. When the company had started the price of its stock was $10, which you can consider as the base price. The stock price of a certain company was $100 a year ago, once this company came into boom phase then it's stock price rise to $200. On the other hand, when there was economic depression the stock price was $50. When the company had started the price of its stock was $10, which you can consider as the base price. The stock price of a certain company was $100 a year ago, once this company came into boom phase then it's stock price rise to $200. On the other hand, when there was economic depression the stock price was $53. When the company had started the price of its stock was $10, which you can consider as the base price. The stock price of a certain company was $100 a year ago, once this company came into boom phase then it's stock price rise to $200. On the other hand, when there was economic depression the stock price was $50. When the company had started the price of its stock was $10, which you can consider as the base price. The stock price of a certain company was $100 a year ago, once this company came into boom phase then it's stock price rise to $200. On the other hand, when there was economic depression the stock price was $50. When the company had started the price of its stock was $10, which you can consider as the base price. The stock price of a certain company was $100 a year ago, once this company came into boom phase then it's stock price rise to $200. On the other hand, when there was economic depression the stock price was $50. When the company had started the price of its stock was $10, which you can consider as the base price. The stock price of a certain company was $100 a year ago, once this company came into boom phase then it's stock price rise to $200. On the other hand, when there was economic depression the stock price was $50. When the company had started the price of its stock was $10, which you can consider as the base price. The stock price of a certain company was $100 a year ago, once this company came into boom phase then it's stock price rise to $87. On the other hand, when there was economic depression the stock price was $50. When the company had started the price of its stock was $10, which you can consider as the base price. The stock price of a certain company was $100 a year ago, once this company came into boom phase then it's stock price rise to $200. On the other hand, when there was economic depression the stock price was $50. When the company had started the price of its stock was $10, which you can consider as the base price. The stock price of a certain company was $100 a year ago, once this company came into boom phase then it's stock price rise to $200. On the other hand, when there was economic depression the stock price was $50. When the company had started the price of its stock was $10, which you can consider as the base price. The stock price of a certain company was $100 a year ago, once this company came into boom phase then it's stock price rise to $200. On the other hand, when there was economic depression the stock price was $50. When the company had started the price of its stock was $10, which you can consider as the base price. The stock price of a certain company was $100 a year ago, once this company came into boom phase then it's stock price rise to $200. On the other hand, when there was economic depression the stock price was $50. When the company had started the price of its stock was $10, which you can consider as the base price. The stock price of a certain company was $100 a year ago, once this company came into boom phase then it's stock price rise to $291. On the other hand, when there was economic depression the stock price was $50. When the company had started the price of its stock was $10, which you can consider as the base price. The stock price of a certain company was $100 a year ago, once this company came into boom phase then it's stock price rise to $200. On the other hand, when there was economic depression the stock price was $50. When the company had started the price of its stock was $10, which you can consider as the base price. The stock price of a certain company was $100 a year ago, once this company came into boom phase then it's stock price rise to $200. On the other hand, when there was economic depression the stock price was $50. When the company had started the price of its stock was $10, which you can consider as the base price. The stock price of a certain company was $100 a year ago, once this company came into boom phase then it's stock price rise to $200. On the other hand, when there was economic depression the stock price was $50. When the company had started the price of its stock was $10, which you can consider as the base price. The stock price of a certain company was $100 a year ago, once this company came into boom phase then it's stock price rise to $200. On the other hand, when there was economic depression the stock price was $50. When the company had started the price of its stock was $10, which you can consider as the base price. The stock price of a certain company was $100 a year ago, once this company came into boom phase then it's stock price rise to $200. On the other hand, when there was economic depression the stock price was $50. When the company had started the price of its stock was $10, which you can consider as the base price. The stock price of a certain company was $100 a year ago, once this company came into boom phase then it's stock price rise to $200. On the other hand, when there was economic depression the stock price was $50. When the company had started the price of its stock was $10, which you can consider as the base price. The stock price of a certain company was $100 a year ago, once this company came into boom phase then it's stock price rise to $200. On the other hand, when there was economic depression the stock price was $50. When the company had started the price of its stock was $10, which you can consider as the base price. The stock price of a certain company was $100 a year ago, once this company came into boom phase then it's stock price rise to $76. On the other hand, when there was economic depression the stock price was $50. When the company had started the price of its stock was $10, which you can consider as the base price. The stock price of a certain company was $100 a year ago, once this company came into boom phase then it's stock price rise to $200. On the other hand, when there was economic depression the stock price was $50. When the company had started the price of its stock was $10, which you can consider as the base price. The stock price of a certain company was $100 a year ago, once this company came into boom phase then it's stock price rise to $212. On the other hand, when there was economic depression the stock price was $50. When the company had started the price of its stock was $10, which you can consider as the base price. The stock price of a certain company was $100 a year ago, once this company came into boom phase then it's stock price rise to $200. On the other hand, when there was economic depression the stock price was $50. When the company had started the price of its stock was $10, which you can consider as the base price. The stock price of a certain company was $100 a year ago, once this company came into boom phase then it's stock price rise to $200. On the other hand, when there was economic depression the stock price was $50. When the company had started the price of its stock was $10, which you can consider as the base price. The stock price of a certain company was $100 a year ago, once this company came into boom phase then it's stock price rise to $200. On the other hand, when there was economic depression the stock price was $50. When the company had started the price of its stock was $10, which you can consider as the base price. The stock price of a certain company was $100 a year ago, once this company came into boom phase then it's stock price rise to $200. On the other hand, when there was economic depression the stock price was $50. When the company had started the price of its stock was $10, which you can consider as the base price. The stock price of a certain company was $100 a year ago, once this company came into boom phase then it's stock price rise to $200. On the other hand, when there was economic depression the stock price was $50. When the company had started the price of its stock was $10, which you can consider as the base price. The stock price of a certain company was $100 a year ago, once this company came into boom phase then it's stock price rise to $200. On the other hand, when there was economic depression the stock price was $50. When the company had started the price of its stock was $10, which you can consider as the base price. The stock price of a certain company was $100 a year ago, once this company came into boom phase then it's stock price rise to $200. On the other hand, when there was economic depression the stock price was $50. When the company had started the price of its stock was $10, which you can consider as the base price. The stock price of a certain company was $100 a year ago, once this company came into boom phase then it's stock price rise to $200. On the other hand, when there was economic depression the stock price was $50. When the company had started the price of its stock was $10, which you can consider as the base price. The stock price of a certain company was $100 a year ago, once this company came into boom phase then it's stock price rise to $200. On the other hand, when there was economic depression the stock price was $50. When the company had started the price of its stock was $10, which you can consider as the base price. The stock price of a certain company was $100 a year ago, once this company came into boom phase then it's stock price rise to $200. On the other hand, when there was economic depression the stock price was $50. When the company had started the price of its stock was $10, which you can consider as the base price. The stock price of a certain company was $100 a year ago, once this company came into boom phase then it's stock price rise to $200. On the other hand, when there was economic depression the stock price was $50. When the company had started the price of its stock was $10, which you can consider as the base price. The stock price of a certain company was $100 a year ago, once this company came into boom phase then it's stock price rise to $200. On the other hand, when there was economic depression the stock price was $50. When the company had started the price of its stock was $10, which you can consider as the base price. The stock price of a certain company was $100 a year ago, once this company came into boom phase then it's stock price rise to $512. On the other hand, when there was economic depression the stock price was $50. When the company had started the price of its stock was $10, which you can consider as the base price. The stock price of a certain company was $100 a year ago, once this company came into boom phase then it's stock price rise to $200. On the other hand, when there was economic depression the stock price was $50. When the company had started the price of its stock was $10, which you can consider as the base price. The stock price of a certain company was $100 a year ago, once this company came into boom phase then it's stock price rise to $200. On the other hand, when there was economic depression the stock price was $50. When the company had started the price of its stock was $10, which you can consider as the base price. The stock price of a certain company was $100 a year ago, once this company came into boom phase then it's stock price rise to $250. On the other hand, when there was economic depression the stock price was $520. When the company had started the price of its stock was $10, which you can consider as the base price. The stock price of a certain company was $100 a year ago, once this company came into boom phase then it's stock price rise to $200. On the other hand, when there was economic depression the stock price was $50. When the company had started the price of its stock was $10, which you can consider as the base price. The stock price of a certain company was $100 a year ago, once this company came into boom phase then it's stock price rise to $200. On the other hand, when there was economic depression the stock price was $50. When the company had started the price of its stock was $10, which you can consider as the base price. The stock price of a certain company was $100 a year ago, once this company came into boom phase then it's stock price rise to $200. On the other hand, when there was economic depression the stock price was $50. When the company had started the price of its stock was $145, which you can consider as the base price. The stock price of a certain company was $100 a year ago, once this company came into boom phase then it's stock price rise to $200. On the other hand, when there was economic depression the stock price was $50. When the company had started the price of its stock was $10, which you can consider as the base price. The stock price of a certain company was $100 a year ago, once this company came into boom phase then it's stock price rise to $200. On the other hand, when there was economic depression the stock price was $50. When the company had started the price of its stock was $10, which you can consider as the base price. The stock price of a certain company was $100 a year ago, once this company came into boom phase then it's stock price rise to $200. On the other hand, when there was economic depression the stock price was $50. When the company had started the price of its stock was $19, which you can consider as the base price. \""
      ]
     },
     "execution_count": 58,
     "metadata": {},
     "output_type": "execute_result"
    }
   ],
   "source": [
    "data"
   ]
  },
  {
   "cell_type": "code",
   "execution_count": 59,
   "id": "c60d4e99",
   "metadata": {},
   "outputs": [],
   "source": [
    "doc = nlp(data)"
   ]
  },
  {
   "cell_type": "code",
   "execution_count": 60,
   "id": "fb87ddb2",
   "metadata": {},
   "outputs": [
    {
     "name": "stdout",
     "output_type": "stream",
     "text": [
      "100\n",
      "200\n",
      "50\n",
      "10\n",
      "100\n",
      "200\n",
      "50\n",
      "10\n",
      "100\n",
      "200\n",
      "50\n",
      "10\n",
      "100\n",
      "200\n",
      "50\n",
      "10\n",
      "100\n",
      "200\n",
      "50\n",
      "10\n",
      "100\n",
      "200\n",
      "50\n",
      "10\n",
      "100\n",
      "200\n",
      "50\n",
      "10\n",
      "100\n",
      "200\n",
      "50\n",
      "10\n",
      "100\n",
      "200\n",
      "50\n",
      "10\n",
      "100\n",
      "200\n",
      "50\n",
      "10\n",
      "100\n",
      "200\n",
      "50\n",
      "10\n",
      "100\n",
      "200\n",
      "50\n",
      "10\n",
      "100\n",
      "200\n",
      "50\n",
      "10\n",
      "100\n",
      "90\n",
      "50\n",
      "10\n",
      "100\n",
      "200\n",
      "123\n",
      "10\n",
      "100\n",
      "200\n",
      "50\n",
      "10\n",
      "100\n",
      "200\n",
      "50\n",
      "10\n",
      "100\n",
      "200\n",
      "50\n",
      "10\n",
      "100\n",
      "200\n",
      "50\n",
      "10\n",
      "100\n",
      "200\n",
      "53\n",
      "10\n",
      "100\n",
      "200\n",
      "50\n",
      "10\n",
      "100\n",
      "200\n",
      "50\n",
      "10\n",
      "100\n",
      "200\n",
      "50\n",
      "10\n",
      "100\n",
      "200\n",
      "50\n",
      "10\n",
      "100\n",
      "87\n",
      "50\n",
      "10\n",
      "100\n",
      "200\n",
      "50\n",
      "10\n",
      "100\n",
      "200\n",
      "50\n",
      "10\n",
      "100\n",
      "200\n",
      "50\n",
      "10\n",
      "100\n",
      "200\n",
      "50\n",
      "10\n",
      "100\n",
      "291\n",
      "50\n",
      "10\n",
      "100\n",
      "200\n",
      "50\n",
      "10\n",
      "100\n",
      "200\n",
      "50\n",
      "10\n",
      "100\n",
      "200\n",
      "50\n",
      "10\n",
      "100\n",
      "200\n",
      "50\n",
      "10\n",
      "100\n",
      "200\n",
      "50\n",
      "10\n",
      "100\n",
      "200\n",
      "50\n",
      "10\n",
      "100\n",
      "200\n",
      "50\n",
      "10\n",
      "100\n",
      "76\n",
      "50\n",
      "10\n",
      "100\n",
      "200\n",
      "50\n",
      "10\n",
      "100\n",
      "212\n",
      "50\n",
      "10\n",
      "100\n",
      "200\n",
      "50\n",
      "10\n",
      "100\n",
      "200\n",
      "50\n",
      "10\n",
      "100\n",
      "200\n",
      "50\n",
      "10\n",
      "100\n",
      "200\n",
      "50\n",
      "10\n",
      "100\n",
      "200\n",
      "50\n",
      "10\n",
      "100\n",
      "200\n",
      "50\n",
      "10\n",
      "100\n",
      "200\n",
      "50\n",
      "10\n",
      "100\n",
      "200\n",
      "50\n",
      "10\n",
      "100\n",
      "200\n",
      "50\n",
      "10\n",
      "100\n",
      "200\n",
      "50\n",
      "10\n",
      "100\n",
      "200\n",
      "50\n",
      "10\n",
      "100\n",
      "200\n",
      "50\n",
      "10\n",
      "100\n",
      "512\n",
      "50\n",
      "10\n",
      "100\n",
      "200\n",
      "50\n",
      "10\n",
      "100\n",
      "200\n",
      "50\n",
      "10\n",
      "100\n",
      "250\n",
      "520\n",
      "10\n",
      "100\n",
      "200\n",
      "50\n",
      "10\n",
      "100\n",
      "200\n",
      "50\n",
      "10\n",
      "100\n",
      "200\n",
      "50\n",
      "145\n",
      "100\n",
      "200\n",
      "50\n",
      "10\n",
      "100\n",
      "200\n",
      "50\n",
      "10\n",
      "100\n",
      "200\n",
      "50\n",
      "19\n",
      "93.25806451612904\n"
     ]
    }
   ],
   "source": [
    "money = 0\n",
    "count = 0\n",
    "for en in doc.ents:\n",
    "    if en.label_ == 'MONEY':\n",
    "        print(en.text)\n",
    "        money += float(en.text)\n",
    "        count += 1\n",
    "print(money/count)"
   ]
  },
  {
   "cell_type": "code",
   "execution_count": 64,
   "id": "9f75f8a2",
   "metadata": {},
   "outputs": [
    {
     "data": {
      "text/plain": [
       "{'PERSON'}"
      ]
     },
     "execution_count": 64,
     "metadata": {},
     "output_type": "execute_result"
    }
   ],
   "source": [
    "labels = []\n",
    "for en in doc.ents:\n",
    "    if en.label_ == 'DATE':\n",
    "        print(en.text)\n",
    "    labels.append(en.label_)\n",
    "set(labels)"
   ]
  },
  {
   "cell_type": "code",
   "execution_count": 68,
   "id": "b0badd83",
   "metadata": {},
   "outputs": [],
   "source": [
    "doc = nlp('Harry is not gardening as it is raining')"
   ]
  },
  {
   "cell_type": "code",
   "execution_count": 71,
   "id": "a69048e5",
   "metadata": {},
   "outputs": [
    {
     "name": "stdout",
     "output_type": "stream",
     "text": [
      "Harry PERSON\n"
     ]
    }
   ],
   "source": [
    "for ent in doc.ents:\n",
    "    print(ent.text, ent.label_)"
   ]
  },
  {
   "cell_type": "code",
   "execution_count": 76,
   "id": "f849528e",
   "metadata": {},
   "outputs": [
    {
     "name": "stdout",
     "output_type": "stream",
     "text": [
      "('Harry', 'NOUN')\n",
      "('is', 'VERB')\n",
      "('not', 'ADV')\n",
      "('gardening', 'NOUN')\n",
      "('as', 'ADP')\n",
      "('it', 'PRON')\n",
      "('is', 'VERB')\n",
      "('raining', 'VERB')\n"
     ]
    }
   ],
   "source": [
    "sent = \"I saw him running away\"\n",
    "sent1 = \"Harry is not gardening as it is raining\"\n",
    "\n",
    "def get_common_tag(data,word):\n",
    "    if word.lower() in data['word'].unique():\n",
    "        q = f\"word=='{word.lower()}'\"\n",
    "        return word , data.query(q)['tag'].value_counts().head(1).index.tolist()[0]\n",
    "    else:\n",
    "        return f\"{word} not in data\"\n",
    "\n",
    "for word in sent1.split(\" \"):\n",
    "    print(get_common_tag(df,word))"
   ]
  },
  {
   "cell_type": "code",
   "execution_count": 78,
   "id": "2f663375",
   "metadata": {},
   "outputs": [
    {
     "data": {
      "text/html": [
       "<span class=\"tex2jax_ignore\"><svg xmlns=\"http://www.w3.org/2000/svg\" xmlns:xlink=\"http://www.w3.org/1999/xlink\" xml:lang=\"en\" id=\"50de0d43374b42eeacd62112d1751608-0\" class=\"displacy\" width=\"1450\" height=\"487.0\" direction=\"ltr\" style=\"max-width: none; height: 487.0px; color: #000000; background: #ffffff; font-family: Arial; direction: ltr\">\n",
       "<text class=\"displacy-token\" fill=\"currentColor\" text-anchor=\"middle\" y=\"397.0\">\n",
       "    <tspan class=\"displacy-word\" fill=\"currentColor\" x=\"50\">Harry</tspan>\n",
       "    <tspan class=\"displacy-tag\" dy=\"2em\" fill=\"currentColor\" x=\"50\">PROPN</tspan>\n",
       "</text>\n",
       "\n",
       "<text class=\"displacy-token\" fill=\"currentColor\" text-anchor=\"middle\" y=\"397.0\">\n",
       "    <tspan class=\"displacy-word\" fill=\"currentColor\" x=\"225\">is</tspan>\n",
       "    <tspan class=\"displacy-tag\" dy=\"2em\" fill=\"currentColor\" x=\"225\">AUX</tspan>\n",
       "</text>\n",
       "\n",
       "<text class=\"displacy-token\" fill=\"currentColor\" text-anchor=\"middle\" y=\"397.0\">\n",
       "    <tspan class=\"displacy-word\" fill=\"currentColor\" x=\"400\">not</tspan>\n",
       "    <tspan class=\"displacy-tag\" dy=\"2em\" fill=\"currentColor\" x=\"400\">PART</tspan>\n",
       "</text>\n",
       "\n",
       "<text class=\"displacy-token\" fill=\"currentColor\" text-anchor=\"middle\" y=\"397.0\">\n",
       "    <tspan class=\"displacy-word\" fill=\"currentColor\" x=\"575\">gardening</tspan>\n",
       "    <tspan class=\"displacy-tag\" dy=\"2em\" fill=\"currentColor\" x=\"575\">VERB</tspan>\n",
       "</text>\n",
       "\n",
       "<text class=\"displacy-token\" fill=\"currentColor\" text-anchor=\"middle\" y=\"397.0\">\n",
       "    <tspan class=\"displacy-word\" fill=\"currentColor\" x=\"750\">as</tspan>\n",
       "    <tspan class=\"displacy-tag\" dy=\"2em\" fill=\"currentColor\" x=\"750\">SCONJ</tspan>\n",
       "</text>\n",
       "\n",
       "<text class=\"displacy-token\" fill=\"currentColor\" text-anchor=\"middle\" y=\"397.0\">\n",
       "    <tspan class=\"displacy-word\" fill=\"currentColor\" x=\"925\">it</tspan>\n",
       "    <tspan class=\"displacy-tag\" dy=\"2em\" fill=\"currentColor\" x=\"925\">PRON</tspan>\n",
       "</text>\n",
       "\n",
       "<text class=\"displacy-token\" fill=\"currentColor\" text-anchor=\"middle\" y=\"397.0\">\n",
       "    <tspan class=\"displacy-word\" fill=\"currentColor\" x=\"1100\">is</tspan>\n",
       "    <tspan class=\"displacy-tag\" dy=\"2em\" fill=\"currentColor\" x=\"1100\">AUX</tspan>\n",
       "</text>\n",
       "\n",
       "<text class=\"displacy-token\" fill=\"currentColor\" text-anchor=\"middle\" y=\"397.0\">\n",
       "    <tspan class=\"displacy-word\" fill=\"currentColor\" x=\"1275\">raining</tspan>\n",
       "    <tspan class=\"displacy-tag\" dy=\"2em\" fill=\"currentColor\" x=\"1275\">VERB</tspan>\n",
       "</text>\n",
       "\n",
       "<g class=\"displacy-arrow\">\n",
       "    <path class=\"displacy-arc\" id=\"arrow-50de0d43374b42eeacd62112d1751608-0-0\" stroke-width=\"2px\" d=\"M70,352.0 C70,89.5 570.0,89.5 570.0,352.0\" fill=\"none\" stroke=\"currentColor\"/>\n",
       "    <text dy=\"1.25em\" style=\"font-size: 0.8em; letter-spacing: 1px\">\n",
       "        <textPath xlink:href=\"#arrow-50de0d43374b42eeacd62112d1751608-0-0\" class=\"displacy-label\" startOffset=\"50%\" side=\"left\" fill=\"currentColor\" text-anchor=\"middle\">nsubj</textPath>\n",
       "    </text>\n",
       "    <path class=\"displacy-arrowhead\" d=\"M70,354.0 L62,342.0 78,342.0\" fill=\"currentColor\"/>\n",
       "</g>\n",
       "\n",
       "<g class=\"displacy-arrow\">\n",
       "    <path class=\"displacy-arc\" id=\"arrow-50de0d43374b42eeacd62112d1751608-0-1\" stroke-width=\"2px\" d=\"M245,352.0 C245,177.0 565.0,177.0 565.0,352.0\" fill=\"none\" stroke=\"currentColor\"/>\n",
       "    <text dy=\"1.25em\" style=\"font-size: 0.8em; letter-spacing: 1px\">\n",
       "        <textPath xlink:href=\"#arrow-50de0d43374b42eeacd62112d1751608-0-1\" class=\"displacy-label\" startOffset=\"50%\" side=\"left\" fill=\"currentColor\" text-anchor=\"middle\">aux</textPath>\n",
       "    </text>\n",
       "    <path class=\"displacy-arrowhead\" d=\"M245,354.0 L237,342.0 253,342.0\" fill=\"currentColor\"/>\n",
       "</g>\n",
       "\n",
       "<g class=\"displacy-arrow\">\n",
       "    <path class=\"displacy-arc\" id=\"arrow-50de0d43374b42eeacd62112d1751608-0-2\" stroke-width=\"2px\" d=\"M420,352.0 C420,264.5 560.0,264.5 560.0,352.0\" fill=\"none\" stroke=\"currentColor\"/>\n",
       "    <text dy=\"1.25em\" style=\"font-size: 0.8em; letter-spacing: 1px\">\n",
       "        <textPath xlink:href=\"#arrow-50de0d43374b42eeacd62112d1751608-0-2\" class=\"displacy-label\" startOffset=\"50%\" side=\"left\" fill=\"currentColor\" text-anchor=\"middle\">neg</textPath>\n",
       "    </text>\n",
       "    <path class=\"displacy-arrowhead\" d=\"M420,354.0 L412,342.0 428,342.0\" fill=\"currentColor\"/>\n",
       "</g>\n",
       "\n",
       "<g class=\"displacy-arrow\">\n",
       "    <path class=\"displacy-arc\" id=\"arrow-50de0d43374b42eeacd62112d1751608-0-3\" stroke-width=\"2px\" d=\"M770,352.0 C770,89.5 1270.0,89.5 1270.0,352.0\" fill=\"none\" stroke=\"currentColor\"/>\n",
       "    <text dy=\"1.25em\" style=\"font-size: 0.8em; letter-spacing: 1px\">\n",
       "        <textPath xlink:href=\"#arrow-50de0d43374b42eeacd62112d1751608-0-3\" class=\"displacy-label\" startOffset=\"50%\" side=\"left\" fill=\"currentColor\" text-anchor=\"middle\">mark</textPath>\n",
       "    </text>\n",
       "    <path class=\"displacy-arrowhead\" d=\"M770,354.0 L762,342.0 778,342.0\" fill=\"currentColor\"/>\n",
       "</g>\n",
       "\n",
       "<g class=\"displacy-arrow\">\n",
       "    <path class=\"displacy-arc\" id=\"arrow-50de0d43374b42eeacd62112d1751608-0-4\" stroke-width=\"2px\" d=\"M945,352.0 C945,177.0 1265.0,177.0 1265.0,352.0\" fill=\"none\" stroke=\"currentColor\"/>\n",
       "    <text dy=\"1.25em\" style=\"font-size: 0.8em; letter-spacing: 1px\">\n",
       "        <textPath xlink:href=\"#arrow-50de0d43374b42eeacd62112d1751608-0-4\" class=\"displacy-label\" startOffset=\"50%\" side=\"left\" fill=\"currentColor\" text-anchor=\"middle\">nsubj</textPath>\n",
       "    </text>\n",
       "    <path class=\"displacy-arrowhead\" d=\"M945,354.0 L937,342.0 953,342.0\" fill=\"currentColor\"/>\n",
       "</g>\n",
       "\n",
       "<g class=\"displacy-arrow\">\n",
       "    <path class=\"displacy-arc\" id=\"arrow-50de0d43374b42eeacd62112d1751608-0-5\" stroke-width=\"2px\" d=\"M1120,352.0 C1120,264.5 1260.0,264.5 1260.0,352.0\" fill=\"none\" stroke=\"currentColor\"/>\n",
       "    <text dy=\"1.25em\" style=\"font-size: 0.8em; letter-spacing: 1px\">\n",
       "        <textPath xlink:href=\"#arrow-50de0d43374b42eeacd62112d1751608-0-5\" class=\"displacy-label\" startOffset=\"50%\" side=\"left\" fill=\"currentColor\" text-anchor=\"middle\">aux</textPath>\n",
       "    </text>\n",
       "    <path class=\"displacy-arrowhead\" d=\"M1120,354.0 L1112,342.0 1128,342.0\" fill=\"currentColor\"/>\n",
       "</g>\n",
       "\n",
       "<g class=\"displacy-arrow\">\n",
       "    <path class=\"displacy-arc\" id=\"arrow-50de0d43374b42eeacd62112d1751608-0-6\" stroke-width=\"2px\" d=\"M595,352.0 C595,2.0 1275.0,2.0 1275.0,352.0\" fill=\"none\" stroke=\"currentColor\"/>\n",
       "    <text dy=\"1.25em\" style=\"font-size: 0.8em; letter-spacing: 1px\">\n",
       "        <textPath xlink:href=\"#arrow-50de0d43374b42eeacd62112d1751608-0-6\" class=\"displacy-label\" startOffset=\"50%\" side=\"left\" fill=\"currentColor\" text-anchor=\"middle\">advcl</textPath>\n",
       "    </text>\n",
       "    <path class=\"displacy-arrowhead\" d=\"M1275.0,354.0 L1283.0,342.0 1267.0,342.0\" fill=\"currentColor\"/>\n",
       "</g>\n",
       "</svg></span>"
      ],
      "text/plain": [
       "<IPython.core.display.HTML object>"
      ]
     },
     "metadata": {},
     "output_type": "display_data"
    }
   ],
   "source": [
    "import spacy\n",
    "from spacy import displacy\n",
    "sent = \"Harry is not gardening as it is raining\"\n",
    "doc = nlp(sent)\n",
    "\n",
    "## Visualize\n",
    "displacy.render(doc,style=\"dep\")"
   ]
  },
  {
   "cell_type": "code",
   "execution_count": 80,
   "id": "000822d4",
   "metadata": {},
   "outputs": [
    {
     "name": "stdout",
     "output_type": "stream",
     "text": [
      "Harry nsubj\n",
      "is aux\n",
      "not neg\n",
      "gardening ROOT\n",
      "as mark\n",
      "it nsubj\n",
      "is aux\n",
      "raining advcl\n"
     ]
    },
    {
     "data": {
      "text/html": [
       "<span class=\"tex2jax_ignore\"><svg xmlns=\"http://www.w3.org/2000/svg\" xmlns:xlink=\"http://www.w3.org/1999/xlink\" xml:lang=\"en\" id=\"4705d1c0ad494152a4e6e6bf96d10292-0\" class=\"displacy\" width=\"1450\" height=\"487.0\" direction=\"ltr\" style=\"max-width: none; height: 487.0px; color: #000000; background: #ffffff; font-family: Arial; direction: ltr\">\n",
       "<text class=\"displacy-token\" fill=\"currentColor\" text-anchor=\"middle\" y=\"397.0\">\n",
       "    <tspan class=\"displacy-word\" fill=\"currentColor\" x=\"50\">Harry</tspan>\n",
       "    <tspan class=\"displacy-tag\" dy=\"2em\" fill=\"currentColor\" x=\"50\">PROPN</tspan>\n",
       "</text>\n",
       "\n",
       "<text class=\"displacy-token\" fill=\"currentColor\" text-anchor=\"middle\" y=\"397.0\">\n",
       "    <tspan class=\"displacy-word\" fill=\"currentColor\" x=\"225\">is</tspan>\n",
       "    <tspan class=\"displacy-tag\" dy=\"2em\" fill=\"currentColor\" x=\"225\">AUX</tspan>\n",
       "</text>\n",
       "\n",
       "<text class=\"displacy-token\" fill=\"currentColor\" text-anchor=\"middle\" y=\"397.0\">\n",
       "    <tspan class=\"displacy-word\" fill=\"currentColor\" x=\"400\">not</tspan>\n",
       "    <tspan class=\"displacy-tag\" dy=\"2em\" fill=\"currentColor\" x=\"400\">PART</tspan>\n",
       "</text>\n",
       "\n",
       "<text class=\"displacy-token\" fill=\"currentColor\" text-anchor=\"middle\" y=\"397.0\">\n",
       "    <tspan class=\"displacy-word\" fill=\"currentColor\" x=\"575\">gardening</tspan>\n",
       "    <tspan class=\"displacy-tag\" dy=\"2em\" fill=\"currentColor\" x=\"575\">VERB</tspan>\n",
       "</text>\n",
       "\n",
       "<text class=\"displacy-token\" fill=\"currentColor\" text-anchor=\"middle\" y=\"397.0\">\n",
       "    <tspan class=\"displacy-word\" fill=\"currentColor\" x=\"750\">as</tspan>\n",
       "    <tspan class=\"displacy-tag\" dy=\"2em\" fill=\"currentColor\" x=\"750\">SCONJ</tspan>\n",
       "</text>\n",
       "\n",
       "<text class=\"displacy-token\" fill=\"currentColor\" text-anchor=\"middle\" y=\"397.0\">\n",
       "    <tspan class=\"displacy-word\" fill=\"currentColor\" x=\"925\">it</tspan>\n",
       "    <tspan class=\"displacy-tag\" dy=\"2em\" fill=\"currentColor\" x=\"925\">PRON</tspan>\n",
       "</text>\n",
       "\n",
       "<text class=\"displacy-token\" fill=\"currentColor\" text-anchor=\"middle\" y=\"397.0\">\n",
       "    <tspan class=\"displacy-word\" fill=\"currentColor\" x=\"1100\">is</tspan>\n",
       "    <tspan class=\"displacy-tag\" dy=\"2em\" fill=\"currentColor\" x=\"1100\">AUX</tspan>\n",
       "</text>\n",
       "\n",
       "<text class=\"displacy-token\" fill=\"currentColor\" text-anchor=\"middle\" y=\"397.0\">\n",
       "    <tspan class=\"displacy-word\" fill=\"currentColor\" x=\"1275\">raining</tspan>\n",
       "    <tspan class=\"displacy-tag\" dy=\"2em\" fill=\"currentColor\" x=\"1275\">VERB</tspan>\n",
       "</text>\n",
       "\n",
       "<g class=\"displacy-arrow\">\n",
       "    <path class=\"displacy-arc\" id=\"arrow-4705d1c0ad494152a4e6e6bf96d10292-0-0\" stroke-width=\"2px\" d=\"M70,352.0 C70,89.5 570.0,89.5 570.0,352.0\" fill=\"none\" stroke=\"currentColor\"/>\n",
       "    <text dy=\"1.25em\" style=\"font-size: 0.8em; letter-spacing: 1px\">\n",
       "        <textPath xlink:href=\"#arrow-4705d1c0ad494152a4e6e6bf96d10292-0-0\" class=\"displacy-label\" startOffset=\"50%\" side=\"left\" fill=\"currentColor\" text-anchor=\"middle\">nsubj</textPath>\n",
       "    </text>\n",
       "    <path class=\"displacy-arrowhead\" d=\"M70,354.0 L62,342.0 78,342.0\" fill=\"currentColor\"/>\n",
       "</g>\n",
       "\n",
       "<g class=\"displacy-arrow\">\n",
       "    <path class=\"displacy-arc\" id=\"arrow-4705d1c0ad494152a4e6e6bf96d10292-0-1\" stroke-width=\"2px\" d=\"M245,352.0 C245,177.0 565.0,177.0 565.0,352.0\" fill=\"none\" stroke=\"currentColor\"/>\n",
       "    <text dy=\"1.25em\" style=\"font-size: 0.8em; letter-spacing: 1px\">\n",
       "        <textPath xlink:href=\"#arrow-4705d1c0ad494152a4e6e6bf96d10292-0-1\" class=\"displacy-label\" startOffset=\"50%\" side=\"left\" fill=\"currentColor\" text-anchor=\"middle\">aux</textPath>\n",
       "    </text>\n",
       "    <path class=\"displacy-arrowhead\" d=\"M245,354.0 L237,342.0 253,342.0\" fill=\"currentColor\"/>\n",
       "</g>\n",
       "\n",
       "<g class=\"displacy-arrow\">\n",
       "    <path class=\"displacy-arc\" id=\"arrow-4705d1c0ad494152a4e6e6bf96d10292-0-2\" stroke-width=\"2px\" d=\"M420,352.0 C420,264.5 560.0,264.5 560.0,352.0\" fill=\"none\" stroke=\"currentColor\"/>\n",
       "    <text dy=\"1.25em\" style=\"font-size: 0.8em; letter-spacing: 1px\">\n",
       "        <textPath xlink:href=\"#arrow-4705d1c0ad494152a4e6e6bf96d10292-0-2\" class=\"displacy-label\" startOffset=\"50%\" side=\"left\" fill=\"currentColor\" text-anchor=\"middle\">neg</textPath>\n",
       "    </text>\n",
       "    <path class=\"displacy-arrowhead\" d=\"M420,354.0 L412,342.0 428,342.0\" fill=\"currentColor\"/>\n",
       "</g>\n",
       "\n",
       "<g class=\"displacy-arrow\">\n",
       "    <path class=\"displacy-arc\" id=\"arrow-4705d1c0ad494152a4e6e6bf96d10292-0-3\" stroke-width=\"2px\" d=\"M770,352.0 C770,89.5 1270.0,89.5 1270.0,352.0\" fill=\"none\" stroke=\"currentColor\"/>\n",
       "    <text dy=\"1.25em\" style=\"font-size: 0.8em; letter-spacing: 1px\">\n",
       "        <textPath xlink:href=\"#arrow-4705d1c0ad494152a4e6e6bf96d10292-0-3\" class=\"displacy-label\" startOffset=\"50%\" side=\"left\" fill=\"currentColor\" text-anchor=\"middle\">mark</textPath>\n",
       "    </text>\n",
       "    <path class=\"displacy-arrowhead\" d=\"M770,354.0 L762,342.0 778,342.0\" fill=\"currentColor\"/>\n",
       "</g>\n",
       "\n",
       "<g class=\"displacy-arrow\">\n",
       "    <path class=\"displacy-arc\" id=\"arrow-4705d1c0ad494152a4e6e6bf96d10292-0-4\" stroke-width=\"2px\" d=\"M945,352.0 C945,177.0 1265.0,177.0 1265.0,352.0\" fill=\"none\" stroke=\"currentColor\"/>\n",
       "    <text dy=\"1.25em\" style=\"font-size: 0.8em; letter-spacing: 1px\">\n",
       "        <textPath xlink:href=\"#arrow-4705d1c0ad494152a4e6e6bf96d10292-0-4\" class=\"displacy-label\" startOffset=\"50%\" side=\"left\" fill=\"currentColor\" text-anchor=\"middle\">nsubj</textPath>\n",
       "    </text>\n",
       "    <path class=\"displacy-arrowhead\" d=\"M945,354.0 L937,342.0 953,342.0\" fill=\"currentColor\"/>\n",
       "</g>\n",
       "\n",
       "<g class=\"displacy-arrow\">\n",
       "    <path class=\"displacy-arc\" id=\"arrow-4705d1c0ad494152a4e6e6bf96d10292-0-5\" stroke-width=\"2px\" d=\"M1120,352.0 C1120,264.5 1260.0,264.5 1260.0,352.0\" fill=\"none\" stroke=\"currentColor\"/>\n",
       "    <text dy=\"1.25em\" style=\"font-size: 0.8em; letter-spacing: 1px\">\n",
       "        <textPath xlink:href=\"#arrow-4705d1c0ad494152a4e6e6bf96d10292-0-5\" class=\"displacy-label\" startOffset=\"50%\" side=\"left\" fill=\"currentColor\" text-anchor=\"middle\">aux</textPath>\n",
       "    </text>\n",
       "    <path class=\"displacy-arrowhead\" d=\"M1120,354.0 L1112,342.0 1128,342.0\" fill=\"currentColor\"/>\n",
       "</g>\n",
       "\n",
       "<g class=\"displacy-arrow\">\n",
       "    <path class=\"displacy-arc\" id=\"arrow-4705d1c0ad494152a4e6e6bf96d10292-0-6\" stroke-width=\"2px\" d=\"M595,352.0 C595,2.0 1275.0,2.0 1275.0,352.0\" fill=\"none\" stroke=\"currentColor\"/>\n",
       "    <text dy=\"1.25em\" style=\"font-size: 0.8em; letter-spacing: 1px\">\n",
       "        <textPath xlink:href=\"#arrow-4705d1c0ad494152a4e6e6bf96d10292-0-6\" class=\"displacy-label\" startOffset=\"50%\" side=\"left\" fill=\"currentColor\" text-anchor=\"middle\">advcl</textPath>\n",
       "    </text>\n",
       "    <path class=\"displacy-arrowhead\" d=\"M1275.0,354.0 L1283.0,342.0 1267.0,342.0\" fill=\"currentColor\"/>\n",
       "</g>\n",
       "</svg></span>"
      ],
      "text/plain": [
       "<IPython.core.display.HTML object>"
      ]
     },
     "metadata": {},
     "output_type": "display_data"
    }
   ],
   "source": [
    "import spacy\n",
    "from spacy import displacy\n",
    "import pandas as pd\n",
    "nlp = spacy.load(\"en_core_web_sm\")\n",
    "\n",
    "doc = nlp(\"Harry is not gardening as it is raining\")\n",
    "for tok in doc:\n",
    "    print(tok.text,tok.dep_)\n",
    "\n",
    "displacy.render(doc, style=\"dep\", jupyter = True)"
   ]
  },
  {
   "cell_type": "code",
   "execution_count": 86,
   "id": "18a810f3",
   "metadata": {},
   "outputs": [
    {
     "ename": "SyntaxError",
     "evalue": "invalid syntax (694934659.py, line 3)",
     "output_type": "error",
     "traceback": [
      "\u001b[1;36m  Input \u001b[1;32mIn [86]\u001b[1;36m\u001b[0m\n\u001b[1;33m    print(en, ent.)\u001b[0m\n\u001b[1;37m                  ^\u001b[0m\n\u001b[1;31mSyntaxError\u001b[0m\u001b[1;31m:\u001b[0m invalid syntax\n"
     ]
    }
   ],
   "source": [
    "doc = nlp('What is the price of American Airlines flight from New York to Los Angeles')\n",
    "for en in doc.ents:\n",
    "    print(en, ent.)"
   ]
  },
  {
   "cell_type": "code",
   "execution_count": 87,
   "id": "b5bd0bb2",
   "metadata": {},
   "outputs": [
    {
     "name": "stdout",
     "output_type": "stream",
     "text": [
      "Christmas  --  DATE\n"
     ]
    }
   ],
   "source": [
    "import spacy\n",
    "model = spacy.load(\"en_core_web_sm\")\n",
    "doc = \"Christmas\" \n",
    "processed_doc = model(doc);\n",
    "for ent in processed_doc.ents: \n",
    "  print(ent.text, \" -- \", ent.label_)"
   ]
  }
 ],
 "metadata": {
  "kernelspec": {
   "display_name": "Python 3 (ipykernel)",
   "language": "python",
   "name": "python3"
  },
  "language_info": {
   "codemirror_mode": {
    "name": "ipython",
    "version": 3
   },
   "file_extension": ".py",
   "mimetype": "text/x-python",
   "name": "python",
   "nbconvert_exporter": "python",
   "pygments_lexer": "ipython3",
   "version": "3.9.12"
  }
 },
 "nbformat": 4,
 "nbformat_minor": 5
}
