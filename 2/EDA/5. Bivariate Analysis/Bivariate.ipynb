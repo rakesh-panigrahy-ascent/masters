{
 "cells": [
  {
   "cell_type": "code",
   "execution_count": 1,
   "id": "d30dbcf3",
   "metadata": {},
   "outputs": [],
   "source": [
    "import pandas as pd\n",
    "import numpy as np\n",
    "import matplotlib.pyplot as plt\n",
    "import seaborn as sns"
   ]
  },
  {
   "cell_type": "code",
   "execution_count": 2,
   "id": "7e13dc00",
   "metadata": {},
   "outputs": [
    {
     "data": {
      "text/html": [
       "<div>\n",
       "<style scoped>\n",
       "    .dataframe tbody tr th:only-of-type {\n",
       "        vertical-align: middle;\n",
       "    }\n",
       "\n",
       "    .dataframe tbody tr th {\n",
       "        vertical-align: top;\n",
       "    }\n",
       "\n",
       "    .dataframe thead th {\n",
       "        text-align: right;\n",
       "    }\n",
       "</style>\n",
       "<table border=\"1\" class=\"dataframe\">\n",
       "  <thead>\n",
       "    <tr style=\"text-align: right;\">\n",
       "      <th></th>\n",
       "      <th>Month</th>\n",
       "      <th>SilverPrice</th>\n",
       "      <th>GoldPrice</th>\n",
       "    </tr>\n",
       "  </thead>\n",
       "  <tbody>\n",
       "    <tr>\n",
       "      <th>0</th>\n",
       "      <td>Mar-97</td>\n",
       "      <td>186.48</td>\n",
       "      <td>12619.24</td>\n",
       "    </tr>\n",
       "    <tr>\n",
       "      <th>1</th>\n",
       "      <td>Apr-97</td>\n",
       "      <td>170.65</td>\n",
       "      <td>12338.59</td>\n",
       "    </tr>\n",
       "    <tr>\n",
       "      <th>2</th>\n",
       "      <td>May-97</td>\n",
       "      <td>170.44</td>\n",
       "      <td>12314.94</td>\n",
       "    </tr>\n",
       "    <tr>\n",
       "      <th>3</th>\n",
       "      <td>Jun-97</td>\n",
       "      <td>169.96</td>\n",
       "      <td>12202.78</td>\n",
       "    </tr>\n",
       "    <tr>\n",
       "      <th>4</th>\n",
       "      <td>Jul-97</td>\n",
       "      <td>155.80</td>\n",
       "      <td>11582.07</td>\n",
       "    </tr>\n",
       "  </tbody>\n",
       "</table>\n",
       "</div>"
      ],
      "text/plain": [
       "    Month  SilverPrice  GoldPrice\n",
       "0  Mar-97       186.48   12619.24\n",
       "1  Apr-97       170.65   12338.59\n",
       "2  May-97       170.44   12314.94\n",
       "3  Jun-97       169.96   12202.78\n",
       "4  Jul-97       155.80   11582.07"
      ]
     },
     "execution_count": 2,
     "metadata": {},
     "output_type": "execute_result"
    }
   ],
   "source": [
    "df = pd.read_csv('EDA_Gold_Silver_prices.csv')\n",
    "df.head()"
   ]
  },
  {
   "cell_type": "code",
   "execution_count": 8,
   "id": "82eeebf4",
   "metadata": {},
   "outputs": [
    {
     "data": {
      "text/plain": [
       "<AxesSubplot:xlabel='SilverPrice', ylabel='GoldPrice'>"
      ]
     },
     "execution_count": 8,
     "metadata": {},
     "output_type": "execute_result"
    },
    {
     "data": {
      "image/png": "[encoded data removed]",
      "text/plain": [
       "<Figure size 432x288 with 1 Axes>"
      ]
     },
     "metadata": {
      "needs_background": "light"
     },
     "output_type": "display_data"
    }
   ],
   "source": [
    "sns.scatterplot(data=df, x='SilverPrice', y='GoldPrice')"
   ]
  },
  {
   "cell_type": "code",
   "execution_count": 17,
   "id": "b8827d95",
   "metadata": {},
   "outputs": [],
   "source": [
    "df['year'] = df['Month'].apply(lambda x:x[4:])"
   ]
  },
  {
   "cell_type": "code",
   "execution_count": 20,
   "id": "cdb990f3",
   "metadata": {},
   "outputs": [
    {
     "data": {
      "text/html": [
       "<div>\n",
       "<style scoped>\n",
       "    .dataframe tbody tr th:only-of-type {\n",
       "        vertical-align: middle;\n",
       "    }\n",
       "\n",
       "    .dataframe tbody tr th {\n",
       "        vertical-align: top;\n",
       "    }\n",
       "\n",
       "    .dataframe thead th {\n",
       "        text-align: right;\n",
       "    }\n",
       "</style>\n",
       "<table border=\"1\" class=\"dataframe\">\n",
       "  <thead>\n",
       "    <tr style=\"text-align: right;\">\n",
       "      <th></th>\n",
       "      <th>SilverPrice</th>\n",
       "      <th>GoldPrice</th>\n",
       "    </tr>\n",
       "  </thead>\n",
       "  <tbody>\n",
       "    <tr>\n",
       "      <th>SilverPrice</th>\n",
       "      <td>1.000000</td>\n",
       "      <td>0.009584</td>\n",
       "    </tr>\n",
       "    <tr>\n",
       "      <th>GoldPrice</th>\n",
       "      <td>0.009584</td>\n",
       "      <td>1.000000</td>\n",
       "    </tr>\n",
       "  </tbody>\n",
       "</table>\n",
       "</div>"
      ],
      "text/plain": [
       "             SilverPrice  GoldPrice\n",
       "SilverPrice     1.000000   0.009584\n",
       "GoldPrice       0.009584   1.000000"
      ]
     },
     "execution_count": 20,
     "metadata": {},
     "output_type": "execute_result"
    }
   ],
   "source": [
    "df[df['year']=='08'].corr()"
   ]
  },
  {
   "cell_type": "code",
   "execution_count": 28,
   "id": "7a1e36e8",
   "metadata": {},
   "outputs": [
    {
     "data": {
      "text/plain": [
       "<AxesSubplot:>"
      ]
     },
     "execution_count": 28,
     "metadata": {},
     "output_type": "execute_result"
    },
    {
     "data": {
      "image/png": "[encoded data removed]",
      "text/plain": [
       "<Figure size 432x288 with 2 Axes>"
      ]
     },
     "metadata": {
      "needs_background": "light"
     },
     "output_type": "display_data"
    }
   ],
   "source": [
    "sns.heatmap(df.corr(), annot=True, linecolor='green')"
   ]
  },
  {
   "cell_type": "code",
   "execution_count": 31,
   "id": "31a4da69",
   "metadata": {},
   "outputs": [
    {
     "data": {
      "text/html": [
       "<div>\n",
       "<style scoped>\n",
       "    .dataframe tbody tr th:only-of-type {\n",
       "        vertical-align: middle;\n",
       "    }\n",
       "\n",
       "    .dataframe tbody tr th {\n",
       "        vertical-align: top;\n",
       "    }\n",
       "\n",
       "    .dataframe thead th {\n",
       "        text-align: right;\n",
       "    }\n",
       "</style>\n",
       "<table border=\"1\" class=\"dataframe\">\n",
       "  <thead>\n",
       "    <tr style=\"text-align: right;\">\n",
       "      <th></th>\n",
       "      <th>Currency</th>\n",
       "      <th>Chinese Yuan</th>\n",
       "      <th>Euro</th>\n",
       "      <th>Japanese Yen</th>\n",
       "      <th>U.K. Pound Sterling</th>\n",
       "      <th>U.S. Dollar</th>\n",
       "      <th>Algerian Dinar</th>\n",
       "      <th>Australian Dollar</th>\n",
       "      <th>Bahrain Dinar</th>\n",
       "      <th>Botswana Pula</th>\n",
       "      <th>...</th>\n",
       "      <th>South African Rand</th>\n",
       "      <th>Sri Lanka Rupee</th>\n",
       "      <th>Swedish Krona</th>\n",
       "      <th>Swiss Franc</th>\n",
       "      <th>Thai Baht</th>\n",
       "      <th>Trinidad And Tobago Dollar</th>\n",
       "      <th>Tunisian Dinar</th>\n",
       "      <th>U.A.E. Dirham</th>\n",
       "      <th>Peso Uruguayo</th>\n",
       "      <th>Bolivar Fuerte</th>\n",
       "    </tr>\n",
       "  </thead>\n",
       "  <tbody>\n",
       "    <tr>\n",
       "      <th>0</th>\n",
       "      <td>July 01, 2016</td>\n",
       "      <td>9.29446</td>\n",
       "      <td>1.25367</td>\n",
       "      <td>143.645</td>\n",
       "      <td>1.05054</td>\n",
       "      <td>1.39596</td>\n",
       "      <td>NaN</td>\n",
       "      <td>1.87126</td>\n",
       "      <td>0.524882</td>\n",
       "      <td>NaN</td>\n",
       "      <td>...</td>\n",
       "      <td>20.3528</td>\n",
       "      <td>202.763</td>\n",
       "      <td>11.8246</td>\n",
       "      <td>1.36009</td>\n",
       "      <td>NaN</td>\n",
       "      <td>9.28428</td>\n",
       "      <td>3.06035</td>\n",
       "      <td>5.12668</td>\n",
       "      <td>NaN</td>\n",
       "      <td>13.9247</td>\n",
       "    </tr>\n",
       "    <tr>\n",
       "      <th>1</th>\n",
       "      <td>July 05, 2016</td>\n",
       "      <td>9.31515</td>\n",
       "      <td>1.25322</td>\n",
       "      <td>142.715</td>\n",
       "      <td>1.06143</td>\n",
       "      <td>1.39684</td>\n",
       "      <td>154.063</td>\n",
       "      <td>1.85825</td>\n",
       "      <td>0.525213</td>\n",
       "      <td>15.2162</td>\n",
       "      <td>...</td>\n",
       "      <td>20.6240</td>\n",
       "      <td>202.886</td>\n",
       "      <td>11.7627</td>\n",
       "      <td>1.35689</td>\n",
       "      <td>49.0655</td>\n",
       "      <td>9.26724</td>\n",
       "      <td>NaN</td>\n",
       "      <td>5.12992</td>\n",
       "      <td>42.9026</td>\n",
       "      <td>13.9335</td>\n",
       "    </tr>\n",
       "    <tr>\n",
       "      <th>2</th>\n",
       "      <td>July 06, 2016</td>\n",
       "      <td>9.31697</td>\n",
       "      <td>1.25834</td>\n",
       "      <td>140.540</td>\n",
       "      <td>1.07300</td>\n",
       "      <td>1.39286</td>\n",
       "      <td>154.094</td>\n",
       "      <td>1.87313</td>\n",
       "      <td>0.523717</td>\n",
       "      <td>15.2392</td>\n",
       "      <td>...</td>\n",
       "      <td>20.7232</td>\n",
       "      <td>NaN</td>\n",
       "      <td>11.8805</td>\n",
       "      <td>1.36208</td>\n",
       "      <td>49.0692</td>\n",
       "      <td>9.25643</td>\n",
       "      <td>NaN</td>\n",
       "      <td>5.11527</td>\n",
       "      <td>42.6425</td>\n",
       "      <td>13.8938</td>\n",
       "    </tr>\n",
       "    <tr>\n",
       "      <th>3</th>\n",
       "      <td>July 07, 2016</td>\n",
       "      <td>9.31315</td>\n",
       "      <td>1.25737</td>\n",
       "      <td>140.640</td>\n",
       "      <td>1.06911</td>\n",
       "      <td>1.39316</td>\n",
       "      <td>153.957</td>\n",
       "      <td>1.85236</td>\n",
       "      <td>0.523829</td>\n",
       "      <td>15.1430</td>\n",
       "      <td>...</td>\n",
       "      <td>20.4288</td>\n",
       "      <td>202.351</td>\n",
       "      <td>11.9192</td>\n",
       "      <td>1.36098</td>\n",
       "      <td>49.0295</td>\n",
       "      <td>NaN</td>\n",
       "      <td>NaN</td>\n",
       "      <td>5.11637</td>\n",
       "      <td>42.4176</td>\n",
       "      <td>13.8968</td>\n",
       "    </tr>\n",
       "    <tr>\n",
       "      <th>4</th>\n",
       "      <td>July 08, 2016</td>\n",
       "      <td>9.31350</td>\n",
       "      <td>1.25797</td>\n",
       "      <td>140.510</td>\n",
       "      <td>1.07261</td>\n",
       "      <td>1.39257</td>\n",
       "      <td>154.062</td>\n",
       "      <td>1.85974</td>\n",
       "      <td>0.523607</td>\n",
       "      <td>15.1202</td>\n",
       "      <td>...</td>\n",
       "      <td>20.6063</td>\n",
       "      <td>202.271</td>\n",
       "      <td>11.9327</td>\n",
       "      <td>1.36472</td>\n",
       "      <td>49.0408</td>\n",
       "      <td>9.26432</td>\n",
       "      <td>NaN</td>\n",
       "      <td>5.11423</td>\n",
       "      <td>42.2060</td>\n",
       "      <td>13.8909</td>\n",
       "    </tr>\n",
       "  </tbody>\n",
       "</table>\n",
       "<p>5 rows × 52 columns</p>\n",
       "</div>"
      ],
      "text/plain": [
       "        Currency  Chinese Yuan     Euro  Japanese Yen  U.K. Pound Sterling  \\\n",
       "0  July 01, 2016       9.29446  1.25367       143.645              1.05054   \n",
       "1  July 05, 2016       9.31515  1.25322       142.715              1.06143   \n",
       "2  July 06, 2016       9.31697  1.25834       140.540              1.07300   \n",
       "3  July 07, 2016       9.31315  1.25737       140.640              1.06911   \n",
       "4  July 08, 2016       9.31350  1.25797       140.510              1.07261   \n",
       "\n",
       "   U.S. Dollar  Algerian Dinar  Australian Dollar  Bahrain Dinar  \\\n",
       "0      1.39596             NaN            1.87126       0.524882   \n",
       "1      1.39684         154.063            1.85825       0.525213   \n",
       "2      1.39286         154.094            1.87313       0.523717   \n",
       "3      1.39316         153.957            1.85236       0.523829   \n",
       "4      1.39257         154.062            1.85974       0.523607   \n",
       "\n",
       "   Botswana Pula  ...  South African Rand  Sri Lanka Rupee  Swedish Krona  \\\n",
       "0            NaN  ...             20.3528          202.763        11.8246   \n",
       "1        15.2162  ...             20.6240          202.886        11.7627   \n",
       "2        15.2392  ...             20.7232              NaN        11.8805   \n",
       "3        15.1430  ...             20.4288          202.351        11.9192   \n",
       "4        15.1202  ...             20.6063          202.271        11.9327   \n",
       "\n",
       "   Swiss Franc Thai Baht  Trinidad And Tobago Dollar  Tunisian Dinar  \\\n",
       "0      1.36009       NaN                     9.28428         3.06035   \n",
       "1      1.35689   49.0655                     9.26724             NaN   \n",
       "2      1.36208   49.0692                     9.25643             NaN   \n",
       "3      1.36098   49.0295                         NaN             NaN   \n",
       "4      1.36472   49.0408                     9.26432             NaN   \n",
       "\n",
       "   U.A.E. Dirham  Peso Uruguayo  Bolivar Fuerte  \n",
       "0        5.12668            NaN         13.9247  \n",
       "1        5.12992        42.9026         13.9335  \n",
       "2        5.11527        42.6425         13.8938  \n",
       "3        5.11637        42.4176         13.8968  \n",
       "4        5.11423        42.2060         13.8909  \n",
       "\n",
       "[5 rows x 52 columns]"
      ]
     },
     "execution_count": 31,
     "metadata": {},
     "output_type": "execute_result"
    }
   ],
   "source": [
    "df = pd.read_csv('currencies.csv')\n",
    "df.head()"
   ]
  },
  {
   "cell_type": "code",
   "execution_count": 34,
   "id": "07308a91",
   "metadata": {},
   "outputs": [
    {
     "data": {
      "text/plain": [
       "Index(['Algerian Dinar', 'Australian Dollar', 'Bahrain Dinar',\n",
       "       'Bolivar Fuerte', 'Botswana Pula', 'Brazilian Real', 'Brunei Dollar',\n",
       "       'Canadian Dollar', 'Chilean Peso', 'Chinese Yuan', 'Colombian Peso',\n",
       "       'Currency', 'Czech Koruna', 'Danish Krone', 'Euro', 'Hungarian Forint',\n",
       "       'Icelandic Krona', 'Indian Rupee', 'Indonesian Rupiah', 'Iranian Rial',\n",
       "       'Israeli New Sheqel', 'Japanese Yen', 'Kazakhstani Tenge', 'Korean Won',\n",
       "       'Kuwaiti Dinar', 'Libyan Dinar', 'Malaysian Ringgit', 'Mauritian Rupee',\n",
       "       'Mexican Peso', 'Nepalese Rupee', 'New Zealand Dollar',\n",
       "       'Norwegian Krone', 'Nuevo Sol', 'Pakistani Rupee', 'Peso Uruguayo',\n",
       "       'Philippine Peso', 'Polish Zloty', 'Qatar Riyal', 'Rial Omani',\n",
       "       'Russian Ruble', 'Saudi Arabian Riyal', 'Singapore Dollar',\n",
       "       'South African Rand', 'Sri Lanka Rupee', 'Swedish Krona', 'Swiss Franc',\n",
       "       'Thai Baht', 'Trinidad And Tobago Dollar', 'Tunisian Dinar',\n",
       "       'U.A.E. Dirham', 'U.K. Pound Sterling', 'U.S. Dollar'],\n",
       "      dtype='object')"
      ]
     },
     "execution_count": 34,
     "metadata": {},
     "output_type": "execute_result"
    }
   ],
   "source": [
    "df.columns.sort_values()"
   ]
  },
  {
   "cell_type": "code",
   "execution_count": 35,
   "id": "b505f7e6",
   "metadata": {},
   "outputs": [],
   "source": [
    "df = df.loc[:, ['Currency', 'Chinese Yuan', 'Euro', 'Japanese Yen', 'U.K. Pound Sterling', 'U.S. Dollar', 'Australian Dollar', 'Indian Rupee']]"
   ]
  },
  {
   "cell_type": "code",
   "execution_count": 36,
   "id": "264588f4",
   "metadata": {},
   "outputs": [
    {
     "data": {
      "text/html": [
       "<div>\n",
       "<style scoped>\n",
       "    .dataframe tbody tr th:only-of-type {\n",
       "        vertical-align: middle;\n",
       "    }\n",
       "\n",
       "    .dataframe tbody tr th {\n",
       "        vertical-align: top;\n",
       "    }\n",
       "\n",
       "    .dataframe thead th {\n",
       "        text-align: right;\n",
       "    }\n",
       "</style>\n",
       "<table border=\"1\" class=\"dataframe\">\n",
       "  <thead>\n",
       "    <tr style=\"text-align: right;\">\n",
       "      <th></th>\n",
       "      <th>Currency</th>\n",
       "      <th>Chinese Yuan</th>\n",
       "      <th>Euro</th>\n",
       "      <th>Japanese Yen</th>\n",
       "      <th>U.K. Pound Sterling</th>\n",
       "      <th>U.S. Dollar</th>\n",
       "      <th>Australian Dollar</th>\n",
       "      <th>Indian Rupee</th>\n",
       "    </tr>\n",
       "  </thead>\n",
       "  <tbody>\n",
       "    <tr>\n",
       "      <th>0</th>\n",
       "      <td>July 01, 2016</td>\n",
       "      <td>9.29446</td>\n",
       "      <td>1.25367</td>\n",
       "      <td>143.645</td>\n",
       "      <td>1.05054</td>\n",
       "      <td>1.39596</td>\n",
       "      <td>1.87126</td>\n",
       "      <td>94.1451</td>\n",
       "    </tr>\n",
       "    <tr>\n",
       "      <th>1</th>\n",
       "      <td>July 05, 2016</td>\n",
       "      <td>9.31515</td>\n",
       "      <td>1.25322</td>\n",
       "      <td>142.715</td>\n",
       "      <td>1.06143</td>\n",
       "      <td>1.39684</td>\n",
       "      <td>1.85825</td>\n",
       "      <td>94.1513</td>\n",
       "    </tr>\n",
       "    <tr>\n",
       "      <th>2</th>\n",
       "      <td>July 06, 2016</td>\n",
       "      <td>9.31697</td>\n",
       "      <td>1.25834</td>\n",
       "      <td>140.540</td>\n",
       "      <td>1.07300</td>\n",
       "      <td>1.39286</td>\n",
       "      <td>1.87313</td>\n",
       "      <td>NaN</td>\n",
       "    </tr>\n",
       "    <tr>\n",
       "      <th>3</th>\n",
       "      <td>July 07, 2016</td>\n",
       "      <td>9.31315</td>\n",
       "      <td>1.25737</td>\n",
       "      <td>140.640</td>\n",
       "      <td>1.06911</td>\n",
       "      <td>1.39316</td>\n",
       "      <td>1.85236</td>\n",
       "      <td>94.0345</td>\n",
       "    </tr>\n",
       "    <tr>\n",
       "      <th>4</th>\n",
       "      <td>July 08, 2016</td>\n",
       "      <td>9.31350</td>\n",
       "      <td>1.25797</td>\n",
       "      <td>140.510</td>\n",
       "      <td>1.07261</td>\n",
       "      <td>1.39257</td>\n",
       "      <td>1.85974</td>\n",
       "      <td>93.9408</td>\n",
       "    </tr>\n",
       "  </tbody>\n",
       "</table>\n",
       "</div>"
      ],
      "text/plain": [
       "        Currency  Chinese Yuan     Euro  Japanese Yen  U.K. Pound Sterling  \\\n",
       "0  July 01, 2016       9.29446  1.25367       143.645              1.05054   \n",
       "1  July 05, 2016       9.31515  1.25322       142.715              1.06143   \n",
       "2  July 06, 2016       9.31697  1.25834       140.540              1.07300   \n",
       "3  July 07, 2016       9.31315  1.25737       140.640              1.06911   \n",
       "4  July 08, 2016       9.31350  1.25797       140.510              1.07261   \n",
       "\n",
       "   U.S. Dollar  Australian Dollar  Indian Rupee  \n",
       "0      1.39596            1.87126       94.1451  \n",
       "1      1.39684            1.85825       94.1513  \n",
       "2      1.39286            1.87313           NaN  \n",
       "3      1.39316            1.85236       94.0345  \n",
       "4      1.39257            1.85974       93.9408  "
      ]
     },
     "execution_count": 36,
     "metadata": {},
     "output_type": "execute_result"
    }
   ],
   "source": [
    "df.head()"
   ]
  },
  {
   "cell_type": "code",
   "execution_count": 49,
   "id": "e5dc0ef6",
   "metadata": {},
   "outputs": [
    {
     "data": {
      "text/plain": [
       "<AxesSubplot:>"
      ]
     },
     "execution_count": 49,
     "metadata": {},
     "output_type": "execute_result"
    },
    {
     "data": {
      "image/png": "[encoded data removed]",
      "text/plain": [
       "<Figure size 432x288 with 2 Axes>"
      ]
     },
     "metadata": {
      "needs_background": "light"
     },
     "output_type": "display_data"
    }
   ],
   "source": [
    "sns.heatmap(df.corr(), annot=True, cmap='YlGn')"
   ]
  },
  {
   "cell_type": "code",
   "execution_count": null,
   "id": "eb2c49d6",
   "metadata": {},
   "outputs": [],
   "source": []
  }
 ],
 "metadata": {
  "kernelspec": {
   "display_name": "Python 3 (ipykernel)",
   "language": "python",
   "name": "python3"
  },
  "language_info": {
   "codemirror_mode": {
    "name": "ipython",
    "version": 3
   },
   "file_extension": ".py",
   "mimetype": "text/x-python",
   "name": "python",
   "nbconvert_exporter": "python",
   "pygments_lexer": "ipython3",
   "version": "3.9.12"
  }
 },
 "nbformat": 4,
 "nbformat_minor": 5
}
