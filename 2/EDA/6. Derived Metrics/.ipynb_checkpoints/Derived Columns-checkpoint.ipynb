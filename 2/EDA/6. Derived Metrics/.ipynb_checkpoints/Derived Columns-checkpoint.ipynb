{
 "cells": [
  {
   "cell_type": "code",
   "execution_count": 22,
   "id": "86a2a709",
   "metadata": {},
   "outputs": [],
   "source": [
    "import pandas as pd\n",
    "import numpy as np\n",
    "import matplotlib.pyplot as plt\n",
    "import seaborn as sns\n",
    "import warnings\n",
    "warnings.filterwarnings(action='ignore')"
   ]
  },
  {
   "cell_type": "code",
   "execution_count": 2,
   "id": "59c8063b",
   "metadata": {},
   "outputs": [
    {
     "data": {
      "text/html": [
       "<div>\n",
       "<style scoped>\n",
       "    .dataframe tbody tr th:only-of-type {\n",
       "        vertical-align: middle;\n",
       "    }\n",
       "\n",
       "    .dataframe tbody tr th {\n",
       "        vertical-align: top;\n",
       "    }\n",
       "\n",
       "    .dataframe thead th {\n",
       "        text-align: right;\n",
       "    }\n",
       "</style>\n",
       "<table border=\"1\" class=\"dataframe\">\n",
       "  <thead>\n",
       "    <tr style=\"text-align: right;\">\n",
       "      <th></th>\n",
       "      <th>Country</th>\n",
       "      <th>Player</th>\n",
       "      <th>Runs</th>\n",
       "      <th>MatchDate</th>\n",
       "      <th>Weekday</th>\n",
       "      <th>Ground</th>\n",
       "      <th>Versus</th>\n",
       "      <th>Balls</th>\n",
       "    </tr>\n",
       "  </thead>\n",
       "  <tbody>\n",
       "    <tr>\n",
       "      <th>0</th>\n",
       "      <td>Afghanistan</td>\n",
       "      <td>Mohammad Shahzad</td>\n",
       "      <td>118</td>\n",
       "      <td>16-02-2010</td>\n",
       "      <td>Tue</td>\n",
       "      <td>Sharjah CA Stadium</td>\n",
       "      <td>Canada</td>\n",
       "      <td>121</td>\n",
       "    </tr>\n",
       "    <tr>\n",
       "      <th>1</th>\n",
       "      <td>Afghanistan</td>\n",
       "      <td>Mohammad Shahzad</td>\n",
       "      <td>110</td>\n",
       "      <td>01-09-2009</td>\n",
       "      <td>Tue</td>\n",
       "      <td>VRA Ground</td>\n",
       "      <td>Netherlands</td>\n",
       "      <td>111</td>\n",
       "    </tr>\n",
       "    <tr>\n",
       "      <th>2</th>\n",
       "      <td>Afghanistan</td>\n",
       "      <td>Mohammad Shahzad</td>\n",
       "      <td>100</td>\n",
       "      <td>16-08-2010</td>\n",
       "      <td>Mon</td>\n",
       "      <td>Cambusdoon New Ground</td>\n",
       "      <td>Scotland</td>\n",
       "      <td>72</td>\n",
       "    </tr>\n",
       "    <tr>\n",
       "      <th>3</th>\n",
       "      <td>Afghanistan</td>\n",
       "      <td>Mohammad Shahzad</td>\n",
       "      <td>82</td>\n",
       "      <td>10-07-2010</td>\n",
       "      <td>Sat</td>\n",
       "      <td>Hazelaarweg</td>\n",
       "      <td>Netherlands</td>\n",
       "      <td>108</td>\n",
       "    </tr>\n",
       "    <tr>\n",
       "      <th>4</th>\n",
       "      <td>Afghanistan</td>\n",
       "      <td>Mohammad Shahzad</td>\n",
       "      <td>57</td>\n",
       "      <td>01-07-2010</td>\n",
       "      <td>Thu</td>\n",
       "      <td>Sportpark Westvliet</td>\n",
       "      <td>Canada</td>\n",
       "      <td>57</td>\n",
       "    </tr>\n",
       "  </tbody>\n",
       "</table>\n",
       "</div>"
      ],
      "text/plain": [
       "       Country            Player  Runs   MatchDate Weekday  \\\n",
       "0  Afghanistan  Mohammad Shahzad   118  16-02-2010     Tue   \n",
       "1  Afghanistan  Mohammad Shahzad   110  01-09-2009     Tue   \n",
       "2  Afghanistan  Mohammad Shahzad   100  16-08-2010     Mon   \n",
       "3  Afghanistan  Mohammad Shahzad    82  10-07-2010     Sat   \n",
       "4  Afghanistan  Mohammad Shahzad    57  01-07-2010     Thu   \n",
       "\n",
       "                  Ground       Versus  Balls  \n",
       "0     Sharjah CA Stadium       Canada    121  \n",
       "1             VRA Ground  Netherlands    111  \n",
       "2  Cambusdoon New Ground     Scotland     72  \n",
       "3            Hazelaarweg  Netherlands    108  \n",
       "4    Sportpark Westvliet       Canada     57  "
      ]
     },
     "execution_count": 2,
     "metadata": {},
     "output_type": "execute_result"
    }
   ],
   "source": [
    "df = pd.read_csv('odi-batting.csv')\n",
    "df.head()"
   ]
  },
  {
   "cell_type": "code",
   "execution_count": 5,
   "id": "76aa6ca4",
   "metadata": {},
   "outputs": [],
   "source": [
    "df['century'] = df['Runs'].apply(lambda x: 1 if x>= 100 else 0)"
   ]
  },
  {
   "cell_type": "code",
   "execution_count": 10,
   "id": "decfad25",
   "metadata": {},
   "outputs": [
    {
     "data": {
      "text/plain": [
       "Player\n",
       "Sachin R Tendulkar     48\n",
       "Ricky T Ponting        30\n",
       "Sanath T Jayasuriya    28\n",
       "Sourav C Ganguly       22\n",
       "Herschelle H Gibbs     21\n",
       "                       ..\n",
       "Hasan Raza              0\n",
       "Hasan Jamil             0\n",
       "Hasan Durham            0\n",
       "Harvir S Baidwan        0\n",
       "Zulquarnain             0\n",
       "Name: century, Length: 1883, dtype: int64"
      ]
     },
     "execution_count": 10,
     "metadata": {},
     "output_type": "execute_result"
    }
   ],
   "source": [
    "df.groupby('Player').century.sum().sort_values(ascending=False)"
   ]
  },
  {
   "cell_type": "code",
   "execution_count": 11,
   "id": "052e18cd",
   "metadata": {},
   "outputs": [],
   "source": [
    "df['strike_rate'] = df['Runs']/df['Balls']"
   ]
  },
  {
   "cell_type": "code",
   "execution_count": 17,
   "id": "44fb6bbf",
   "metadata": {},
   "outputs": [
    {
     "data": {
      "text/plain": [
       "Player\n",
       "Shahid Afridi          2.550000\n",
       "Mark V Boucher         2.161765\n",
       "Sanath T Jayasuriya    2.061538\n",
       "Shane R Watson         1.927083\n",
       "Brian C Lara           1.887097\n",
       "                         ...   \n",
       "Bruce A Edgar          0.723404\n",
       "Stuart C Williams      0.704698\n",
       "Douglas A Marillier    0.680272\n",
       "David L Hemp           0.671053\n",
       "Tom L W Cooper         0.651613\n",
       "Name: strike_rate, Length: 280, dtype: float64"
      ]
     },
     "execution_count": 17,
     "metadata": {},
     "output_type": "execute_result"
    }
   ],
   "source": [
    "df[df['century'] == 1].groupby('Player').strike_rate.max().sort_values(ascending=False)"
   ]
  },
  {
   "cell_type": "code",
   "execution_count": 23,
   "id": "2ba45bab",
   "metadata": {},
   "outputs": [],
   "source": [
    "df['MatchDate'] = pd.to_datetime(df['MatchDate'])\n",
    "df['year'] = df['MatchDate'].dt.year"
   ]
  },
  {
   "cell_type": "code",
   "execution_count": 20,
   "id": "02307a67",
   "metadata": {},
   "outputs": [
    {
     "data": {
      "text/plain": [
       "Country       year\n",
       "India         1998    18\n",
       "              1999    15\n",
       "Australia     2007    15\n",
       "South Africa  2010    14\n",
       "Sri Lanka     2006    14\n",
       "                      ..\n",
       "Kenya         2005     0\n",
       "              2009     0\n",
       "              2010     0\n",
       "              2011     0\n",
       "India         1981     0\n",
       "Name: century, Length: 391, dtype: int64"
      ]
     },
     "execution_count": 20,
     "metadata": {},
     "output_type": "execute_result"
    }
   ],
   "source": [
    "df.groupby(['Country', 'year']).century.sum().sort_values(ascending=False)"
   ]
  },
  {
   "cell_type": "code",
   "execution_count": null,
   "id": "557d58da",
   "metadata": {},
   "outputs": [],
   "source": []
  }
 ],
 "metadata": {
  "kernelspec": {
   "display_name": "Python 3 (ipykernel)",
   "language": "python",
   "name": "python3"
  },
  "language_info": {
   "codemirror_mode": {
    "name": "ipython",
    "version": 3
   },
   "file_extension": ".py",
   "mimetype": "text/x-python",
   "name": "python",
   "nbconvert_exporter": "python",
   "pygments_lexer": "ipython3",
   "version": "3.9.12"
  }
 },
 "nbformat": 4,
 "nbformat_minor": 5
}
