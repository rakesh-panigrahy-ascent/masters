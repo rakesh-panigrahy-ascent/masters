{
 "cells": [
  {
   "cell_type": "code",
   "execution_count": 59,
   "id": "a9882713",
   "metadata": {},
   "outputs": [],
   "source": [
    "import tensorflow as tf\n",
    "import numpy as np\n",
    "import time"
   ]
  },
  {
   "cell_type": "code",
   "execution_count": 4,
   "id": "12d70459",
   "metadata": {},
   "outputs": [
    {
     "name": "stdout",
     "output_type": "stream",
     "text": [
      "tf.Tensor(\n",
      "[[ True False]\n",
      " [False False]], shape=(2, 2), dtype=bool)\n"
     ]
    }
   ],
   "source": [
    "q = tf.Variable([[True, False], [True, False]])\n",
    "r = tf.Variable([[True, True], [False, True]])\n",
    "p=tf.math.logical_and(q,r)\n",
    "print(p)"
   ]
  },
  {
   "cell_type": "code",
   "execution_count": 7,
   "id": "3034d9c0",
   "metadata": {},
   "outputs": [],
   "source": [
    "p = tf.Variable(np.random.randn(1,64))"
   ]
  },
  {
   "cell_type": "code",
   "execution_count": 10,
   "id": "a9a6aab2",
   "metadata": {},
   "outputs": [
    {
     "data": {
      "text/plain": [
       "<tf.Tensor: shape=(8, 8, 1), dtype=float64, numpy=\n",
       "array([[[-3.27146262e-02],\n",
       "        [-2.36778051e-03],\n",
       "        [ 1.09687288e-01],\n",
       "        [ 1.22593401e+00],\n",
       "        [ 8.59782850e-01],\n",
       "        [ 4.93691728e-01],\n",
       "        [-3.90356885e-01],\n",
       "        [-6.97547359e-01]],\n",
       "\n",
       "       [[-2.33716030e-01],\n",
       "        [ 7.19057999e-01],\n",
       "        [ 2.05338700e-02],\n",
       "        [ 1.32529227e+00],\n",
       "        [-1.29420661e+00],\n",
       "        [ 1.72325952e-01],\n",
       "        [ 4.55883695e-01],\n",
       "        [ 4.29423382e-01]],\n",
       "\n",
       "       [[ 2.56212135e-01],\n",
       "        [-4.11511116e-01],\n",
       "        [ 8.11033955e-01],\n",
       "        [-1.86764532e-01],\n",
       "        [ 8.58248269e-01],\n",
       "        [-1.32094937e+00],\n",
       "        [-6.29977263e-02],\n",
       "        [-1.39747142e+00]],\n",
       "\n",
       "       [[ 3.89692217e-01],\n",
       "        [-4.14769181e-01],\n",
       "        [-1.80376311e+00],\n",
       "        [-7.84547056e-01],\n",
       "        [ 1.75454114e+00],\n",
       "        [-1.29009014e-03],\n",
       "        [-8.31556109e-01],\n",
       "        [ 7.77392016e-01]],\n",
       "\n",
       "       [[-1.22913522e-02],\n",
       "        [-1.87520510e+00],\n",
       "        [-8.06817846e-01],\n",
       "        [-1.70779970e-01],\n",
       "        [-1.18531057e+00],\n",
       "        [-3.25979910e-01],\n",
       "        [ 1.15353762e+00],\n",
       "        [ 1.19497953e+00]],\n",
       "\n",
       "       [[ 1.83635612e-01],\n",
       "        [ 7.45213007e-01],\n",
       "        [ 7.62695785e-01],\n",
       "        [-1.89616819e-01],\n",
       "        [ 2.16374094e-01],\n",
       "        [-4.67533158e-01],\n",
       "        [-7.96556109e-01],\n",
       "        [ 1.41681910e+00]],\n",
       "\n",
       "       [[ 1.25656061e+00],\n",
       "        [-1.01474778e+00],\n",
       "        [-6.32510987e-01],\n",
       "        [ 1.06529417e+00],\n",
       "        [-7.43837322e-01],\n",
       "        [-1.89406036e-01],\n",
       "        [ 9.78871346e-01],\n",
       "        [ 4.58860589e-01]],\n",
       "\n",
       "       [[-2.46420773e-02],\n",
       "        [-3.51944443e-01],\n",
       "        [ 1.29030175e+00],\n",
       "        [ 6.71026541e-01],\n",
       "        [ 3.46569542e-01],\n",
       "        [-1.12130888e+00],\n",
       "        [ 5.82049447e-01],\n",
       "        [ 1.61454391e+00]]])>"
      ]
     },
     "execution_count": 10,
     "metadata": {},
     "output_type": "execute_result"
    }
   ],
   "source": [
    "p = tf.Variable(np.random.randn(1,64))\n",
    "reshaped_p = tf.reshape(p, (8,8,1))\n",
    "reshaped_p"
   ]
  },
  {
   "cell_type": "code",
   "execution_count": 15,
   "id": "380cd415",
   "metadata": {},
   "outputs": [
    {
     "data": {
      "text/plain": [
       "3"
      ]
     },
     "execution_count": 15,
     "metadata": {},
     "output_type": "execute_result"
    }
   ],
   "source": [
    "reshaped_p.ndim"
   ]
  },
  {
   "cell_type": "code",
   "execution_count": 16,
   "id": "16d85e69",
   "metadata": {},
   "outputs": [],
   "source": [
    "#Computational graph"
   ]
  },
  {
   "cell_type": "code",
   "execution_count": 21,
   "id": "db9f68b6",
   "metadata": {},
   "outputs": [
    {
     "name": "stdout",
     "output_type": "stream",
     "text": [
      "Gradient dy_dx: tf.Tensor(1.0, shape=(), dtype=float32)\n"
     ]
    }
   ],
   "source": [
    "#Automatic differentiation\n",
    "x = tf.Variable(3.0)\n",
    "\n",
    "with tf.GradientTape() as tape:\n",
    "    y = 3.0 * tf.math.log(x)\n",
    "\n",
    "dy_dx = tape.gradient(y, x) # dy/dx = 3.0 * 1/x\n",
    "print('Gradient dy_dx:', dy_dx)"
   ]
  },
  {
   "cell_type": "code",
   "execution_count": 23,
   "id": "70b81487",
   "metadata": {},
   "outputs": [
    {
     "name": "stdout",
     "output_type": "stream",
     "text": [
      "Gradient dy_dx: tf.Tensor(13.0, shape=(), dtype=float32)\n"
     ]
    }
   ],
   "source": [
    "#What is the slope of the curve y=3x3+5x2−3x+10 at x=−2? \n",
    "\n",
    "#Automatic differentiation\n",
    "x = tf.Variable(-2.0)\n",
    "\n",
    "with tf.GradientTape() as tape:\n",
    "    y = 3.0 * (x ** 3) + 5 * (x ** 2) - 3 * x + 10\n",
    "\n",
    "dy_dx = tape.gradient(y, x) # dy/dx = 3.0 * 1/x\n",
    "print('Gradient dy_dx:', dy_dx)"
   ]
  },
  {
   "cell_type": "code",
   "execution_count": 28,
   "id": "c1b5eb01",
   "metadata": {},
   "outputs": [
    {
     "name": "stdout",
     "output_type": "stream",
     "text": [
      "Gradient dy_dx: tf.Tensor(101.8775, shape=(), dtype=float32)\n"
     ]
    }
   ],
   "source": [
    "#Consider the function given below: y=30.2x+5x2−log(x)+tanh(x)\n",
    "#Using TensorFlow, at x=10, find out whether the function is increasing or decreasing.\n",
    "\n",
    "#Automatic differentiation\n",
    "x = tf.Variable(10.0)\n",
    "\n",
    "with tf.GradientTape() as tape:\n",
    "    y = 3.0 ** (0.2*x) + 5 * (x ** 2) - tf.math.log(x) + tf.math.tanh(x)\n",
    "\n",
    "dy_dx = tape.gradient(y, x) # dy/dx = 3.0 * 1/x\n",
    "print('Gradient dy_dx:', dy_dx)"
   ]
  },
  {
   "cell_type": "code",
   "execution_count": 30,
   "id": "b4532a82",
   "metadata": {},
   "outputs": [
    {
     "name": "stdout",
     "output_type": "stream",
     "text": [
      "Gradient dr_dx: 6.0\n",
      "Gradient dr_dy: 8.0\n"
     ]
    }
   ],
   "source": [
    "#For multivariate functions, gradients are partial derivatives\n",
    "\n",
    "x = tf.Variable(3.0)\n",
    "y = tf.Variable(4.0)\n",
    "\n",
    "\n",
    "with tf.GradientTape() as tape:\n",
    "    r = x ** 2 + y ** 2\n",
    "dr_dx, dr_dy = tape.gradient(r, [x,y])\n",
    "print('Gradient dr_dx:', dr_dx.numpy()) #2x\n",
    "print('Gradient dr_dy:', dr_dy.numpy()) #2y"
   ]
  },
  {
   "cell_type": "code",
   "execution_count": 35,
   "id": "4222e03d",
   "metadata": {},
   "outputs": [
    {
     "name": "stdout",
     "output_type": "stream",
     "text": [
      "Gradient dr_dx: 108.0\n"
     ]
    }
   ],
   "source": [
    "#It also supports chain rule of differentiation\n",
    "\n",
    "x = tf.Variable(3.0)\n",
    "\n",
    "\n",
    "with tf.GradientTape() as tape:\n",
    "    y = x ** 2\n",
    "    r = y ** 2\n",
    "dr_dx= tape.gradient(r, x)\n",
    "print('Gradient dr_dx:', dr_dx.numpy())"
   ]
  },
  {
   "cell_type": "code",
   "execution_count": 42,
   "id": "718587b4",
   "metadata": {},
   "outputs": [
    {
     "name": "stdout",
     "output_type": "stream",
     "text": [
      "Gradient dp_dx: 28.167446\n",
      "Gradient dq_dx: 10590.19\n"
     ]
    }
   ],
   "source": [
    "#To calculate the derivative of intermidiate variables wrt x we need add persistence = True parameter in the context\n",
    "x = tf.Variable(5.0)\n",
    "\n",
    "\n",
    "with tf.GradientTape(persistent=True) as tape:\n",
    "    t = tf.math.sqrt(((x ** 0.3) + 0.1))\n",
    "    p = tf.math.exp(4 * t)\n",
    "    q = p ** 2 - 4 * p\n",
    "dp_dx = tape.gradient(p, x)\n",
    "dq_dx = tape.gradient(q, x)\n",
    "print('Gradient dp_dx:', dp_dx.numpy()) #2x\n",
    "print('Gradient dq_dx:', dq_dx.numpy()) #2y"
   ]
  },
  {
   "cell_type": "code",
   "execution_count": 56,
   "id": "3e8ef643",
   "metadata": {},
   "outputs": [
    {
     "name": "stdout",
     "output_type": "stream",
     "text": [
      "Initial value of x: <tf.Variable 'Variable:0' shape=(1,) dtype=float32, numpy=array([-0.4420943], dtype=float32)>\n"
     ]
    }
   ],
   "source": [
    "#Minimising Functions\n",
    "# Find the minima of the function y = x ^ 2 - 4\n",
    "\n",
    "#Step 1: Initialize x\n",
    "x = tf.Variable(tf.random.normal((1,)))\n",
    "print('Initial value of x:', x)"
   ]
  },
  {
   "cell_type": "code",
   "execution_count": 58,
   "id": "8bff0ce0",
   "metadata": {},
   "outputs": [
    {
     "name": "stdout",
     "output_type": "stream",
     "text": [
      "Initial value of yprev: tf.Tensor(9.0, shape=(), dtype=float32)\n"
     ]
    }
   ],
   "source": [
    "#initial value of y\n",
    "y_prev = x ** 2 - 4\n",
    "print('Initial value of yprev:', y)"
   ]
  },
  {
   "cell_type": "code",
   "execution_count": 64,
   "id": "81e52872",
   "metadata": {},
   "outputs": [
    {
     "name": "stdout",
     "output_type": "stream",
     "text": [
      "x, yprev: [0.2857922] [-3.8045526]\n",
      "x, ynew: [0.22863376] [-3.9477265]\n",
      "x, yprev: [0.22863376] [-3.9477265]\n",
      "x, ynew: [0.18290702] [-3.966545]\n",
      "Exiting loop\n"
     ]
    }
   ],
   "source": [
    "num_iters = []\n",
    "x_values = []\n",
    "y_values = []\n",
    "\n",
    "lr = tf.constant(0.1)\n",
    "tolerance = 1\n",
    "\n",
    "#Step 2: loop the gradient descent\n",
    "i = 0\n",
    "while True:\n",
    "    i += 1\n",
    "    num_iters.append(i)\n",
    "    print('x, yprev:',x.numpy(), y_prev.numpy())\n",
    "    with tf.GradientTape() as tape:\n",
    "        y = x ** 2 - 4\n",
    "    dy_dx = tape.gradient(y, x)\n",
    "    x.assign(x - lr * dy_dx)\n",
    "    ynew = x ** 2 - 4\n",
    "    \n",
    "    print('x, ynew:',x.numpy(), ynew.numpy())\n",
    "    x_values.append(x.numpy()[0])\n",
    "    y_values.append(y.numpy()[0])\n",
    "    \n",
    "    delta = tf.abs((ynew - y_prev)*100./y_prev).numpy()[0]\n",
    "    \n",
    "    \n",
    "    if delta <= tolerance:\n",
    "        print('Exiting loop')\n",
    "        break\n",
    "    else:\n",
    "        y_prev = ynew\n",
    "        time.sleep(1)"
   ]
  },
  {
   "cell_type": "code",
   "execution_count": 65,
   "id": "15895537",
   "metadata": {},
   "outputs": [
    {
     "name": "stdout",
     "output_type": "stream",
     "text": [
      "Initial value of x: 0.5123543\n",
      "Initial value of y using initial value of x: 9.788132\n",
      "x, ynew: 0.19505829 9.486101\n",
      "x, ynew: 0.32197672 9.437777\n",
      "x, ynew: 0.2712093 9.430044\n",
      "x, ynew: 0.29151627 9.428807\n",
      "x, ynew: 0.2833935 9.428609\n",
      "x, ynew: 0.2866426 9.428577\n",
      "x, ynew: 0.28534293 9.428573\n",
      "x, ynew: 0.28586283 9.428572\n",
      "x, ynew: 0.28565487 9.428572\n",
      "x, ynew: 0.28573805 9.428572\n"
     ]
    }
   ],
   "source": [
    "import time\n",
    "import tensorflow as tf\n",
    " \n",
    "x = tf.Variable(tf.random.normal((1,)))\n",
    "print(\"Initial value of x:\", x.numpy()[0])\n",
    " \n",
    "yprev = 7 *x ** 2 - 4 * x + 10.\n",
    "print(\"Initial value of y using initial value of x:\", yprev.numpy()[0])\n",
    " \n",
    "iteration = 10\n",
    "lr = 0.1\n",
    " \n",
    "i = 0\n",
    "for i in range(iteration):\n",
    "  i += 1\n",
    " \n",
    "  with tf.GradientTape() as tape:\n",
    "    y = 7 *x ** 2 - 4 * x + 10.\n",
    "  \n",
    "  dy_dx = tape.gradient(y, x)\n",
    "  x.assign(x - lr * dy_dx) \n",
    " \n",
    "  ynew = 7 *x ** 2 - 4 * x + 10.\n",
    " \n",
    "  print(\"x, ynew:\", x.numpy()[0], ynew.numpy()[0])\n",
    "  \n",
    "  yprev = ynew\n",
    "  time.sleep(1)"
   ]
  }
 ],
 "metadata": {
  "kernelspec": {
   "display_name": "Python 3 (ipykernel)",
   "language": "python",
   "name": "python3"
  },
  "language_info": {
   "codemirror_mode": {
    "name": "ipython",
    "version": 3
   },
   "file_extension": ".py",
   "mimetype": "text/x-python",
   "name": "python",
   "nbconvert_exporter": "python",
   "pygments_lexer": "ipython3",
   "version": "3.9.12"
  }
 },
 "nbformat": 4,
 "nbformat_minor": 5
}
