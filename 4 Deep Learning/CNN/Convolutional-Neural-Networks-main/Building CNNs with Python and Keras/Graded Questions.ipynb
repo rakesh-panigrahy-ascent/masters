{
 "cells": [
  {
   "cell_type": "code",
   "execution_count": 1,
   "id": "60fed6fc",
   "metadata": {},
   "outputs": [],
   "source": [
    "import tensorflow as tf\n",
    "from tensorflow.keras.layers import Dense, Conv2D, Dropout, Flatten, BatchNormalization, MaxPooling2D\n",
    "from tensorflow.keras import Sequential"
   ]
  },
  {
   "cell_type": "code",
   "execution_count": 8,
   "id": "90fbf818",
   "metadata": {},
   "outputs": [],
   "source": [
    "input_shape = (512, 512, 3)\n",
    "batch_size = 32\n",
    "lr = 0.1\n",
    "num_classes = 10\n",
    "epochs = 20"
   ]
  },
  {
   "cell_type": "code",
   "execution_count": 44,
   "id": "e178c279",
   "metadata": {},
   "outputs": [
    {
     "name": "stdout",
     "output_type": "stream",
     "text": [
      "Model: \"sequential_35\"\n",
      "_________________________________________________________________\n",
      " Layer (type)                Output Shape              Param #   \n",
      "=================================================================\n",
      " conv2d_65 (Conv2D)          (None, 508, 508, 32)      2432      \n",
      "                                                                 \n",
      " conv2d_66 (Conv2D)          (None, 508, 508, 32)      9248      \n",
      "                                                                 \n",
      " max_pooling2d_13 (MaxPoolin  (None, 254, 254, 32)     0         \n",
      " g2D)                                                            \n",
      "                                                                 \n",
      " conv2d_67 (Conv2D)          (None, 254, 254, 64)      18496     \n",
      "                                                                 \n",
      " conv2d_68 (Conv2D)          (None, 254, 254, 64)      36928     \n",
      "                                                                 \n",
      " max_pooling2d_14 (MaxPoolin  (None, 127, 127, 64)     0         \n",
      " g2D)                                                            \n",
      "                                                                 \n",
      " flatten_5 (Flatten)         (None, 1032256)           0         \n",
      "                                                                 \n",
      " dense_2 (Dense)             (None, 512)               528515584 \n",
      "                                                                 \n",
      "=================================================================\n",
      "Total params: 528,582,688\n",
      "Trainable params: 528,582,688\n",
      "Non-trainable params: 0\n",
      "_________________________________________________________________\n"
     ]
    }
   ],
   "source": [
    "\n",
    "model = Sequential()\n",
    "model.add(Conv2D(32, kernel_size=(5,5), activation='relu', input_shape=input_shape, padding='valid', strides=(1,1)))\n",
    "model.add(Conv2D(32, kernel_size=(3,3), padding='SAME', strides=(1,1), activation='relu'))\n",
    "model.add(MaxPooling2D(strides=(2,2)))\n",
    "\n",
    "model.add(Conv2D(64, kernel_size=(3,3), padding='SAME', strides=(1,1), activation='relu'))\n",
    "model.add(Conv2D(64, kernel_size=(3,3), padding='SAME', strides=(1,1), activation='relu'))\n",
    "model.add(MaxPooling2D(strides=(2,2)))\n",
    "\n",
    "model.add(Flatten())\n",
    "model.add(Dense(512, activation='relu'))\n",
    "model.summary()"
   ]
  },
  {
   "cell_type": "code",
   "execution_count": 17,
   "id": "ac4710b7",
   "metadata": {},
   "outputs": [
    {
     "name": "stdout",
     "output_type": "stream",
     "text": [
      "Model: \"sequential_8\"\n",
      "_________________________________________________________________\n",
      " Layer (type)                Output Shape              Param #   \n",
      "=================================================================\n",
      " conv2d_5 (Conv2D)           (None, 508, 508, 32)      2432      \n",
      "                                                                 \n",
      "=================================================================\n",
      "Total params: 2,432\n",
      "Trainable params: 2,432\n",
      "Non-trainable params: 0\n",
      "_________________________________________________________________\n"
     ]
    }
   ],
   "source": []
  }
 ],
 "metadata": {
  "kernelspec": {
   "display_name": "Python 3 (ipykernel)",
   "language": "python",
   "name": "python3"
  },
  "language_info": {
   "codemirror_mode": {
    "name": "ipython",
    "version": 3
   },
   "file_extension": ".py",
   "mimetype": "text/x-python",
   "name": "python",
   "nbconvert_exporter": "python",
   "pygments_lexer": "ipython3",
   "version": "3.9.12"
  }
 },
 "nbformat": 4,
 "nbformat_minor": 5
}
