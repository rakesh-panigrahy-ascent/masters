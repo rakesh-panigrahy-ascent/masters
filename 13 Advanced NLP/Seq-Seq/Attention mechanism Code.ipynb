{
 "cells": [
  {
   "cell_type": "markdown",
   "id": "ybNzS6FL17yk",
   "metadata": {
    "id": "ybNzS6FL17yk"
   },
   "source": [
    "# **Library and Dataset Import**\n",
    "\n",
    "The examples uses tensorflow2.x for NLP Modelling. \n",
    "\n",
    "The indic-nlp-library is used for tokenization.\n",
    "\n",
    "Dataset used is for English Hindi translation, however can be easily adopted for 10 other major Indian language as available [here](http://lotus.kuee.kyoto-u.ac.jp/WAT/indic-multilingual/) or for any other language pair (adopt as per the tensorflow tutorial references used below). "
   ]
  },
  {
   "cell_type": "code",
   "execution_count": 1,
   "id": "liberal-cooperation",
   "metadata": {
    "id": "liberal-cooperation"
   },
   "outputs": [
    {
     "name": "stdout",
     "output_type": "stream",
     "text": [
      "Requirement already satisfied: indic-nlp-library in c:\\users\\rakesh panigrahy\\anaconda3\\lib\\site-packages (0.92)\n",
      "Requirement already satisfied: numpy in c:\\users\\rakesh panigrahy\\anaconda3\\lib\\site-packages (from indic-nlp-library) (1.23.5)\n",
      "Requirement already satisfied: sphinx-rtd-theme in c:\\users\\rakesh panigrahy\\anaconda3\\lib\\site-packages (from indic-nlp-library) (1.2.2)\n",
      "Requirement already satisfied: morfessor in c:\\users\\rakesh panigrahy\\anaconda3\\lib\\site-packages (from indic-nlp-library) (2.0.6)\n",
      "Requirement already satisfied: pandas in c:\\users\\rakesh panigrahy\\anaconda3\\lib\\site-packages (from indic-nlp-library) (1.5.3)\n",
      "Requirement already satisfied: sphinx-argparse in c:\\users\\rakesh panigrahy\\anaconda3\\lib\\site-packages (from indic-nlp-library) (0.4.0)\n",
      "Requirement already satisfied: python-dateutil>=2.8.1 in c:\\users\\rakesh panigrahy\\anaconda3\\lib\\site-packages (from pandas->indic-nlp-library) (2.8.2)\n",
      "Requirement already satisfied: pytz>=2020.1 in c:\\users\\rakesh panigrahy\\anaconda3\\lib\\site-packages (from pandas->indic-nlp-library) (2022.7)\n",
      "Requirement already satisfied: sphinx>=1.2.0 in c:\\users\\rakesh panigrahy\\anaconda3\\lib\\site-packages (from sphinx-argparse->indic-nlp-library) (5.0.2)\n",
      "Requirement already satisfied: docutils<0.19 in c:\\users\\rakesh panigrahy\\anaconda3\\lib\\site-packages (from sphinx-rtd-theme->indic-nlp-library) (0.18.1)\n",
      "Requirement already satisfied: sphinxcontrib-jquery<5,>=4 in c:\\users\\rakesh panigrahy\\anaconda3\\lib\\site-packages (from sphinx-rtd-theme->indic-nlp-library) (4.1)\n",
      "Requirement already satisfied: six>=1.5 in c:\\users\\rakesh panigrahy\\anaconda3\\lib\\site-packages (from python-dateutil>=2.8.1->pandas->indic-nlp-library) (1.16.0)\n",
      "Requirement already satisfied: Pygments>=2.0 in c:\\users\\rakesh panigrahy\\anaconda3\\lib\\site-packages (from sphinx>=1.2.0->sphinx-argparse->indic-nlp-library) (2.11.2)\n",
      "Requirement already satisfied: sphinxcontrib-jsmath in c:\\users\\rakesh panigrahy\\anaconda3\\lib\\site-packages (from sphinx>=1.2.0->sphinx-argparse->indic-nlp-library) (1.0.1)\n",
      "Requirement already satisfied: sphinxcontrib-serializinghtml>=1.1.5 in c:\\users\\rakesh panigrahy\\anaconda3\\lib\\site-packages (from sphinx>=1.2.0->sphinx-argparse->indic-nlp-library) (1.1.5)\n",
      "Requirement already satisfied: sphinxcontrib-applehelp in c:\\users\\rakesh panigrahy\\anaconda3\\lib\\site-packages (from sphinx>=1.2.0->sphinx-argparse->indic-nlp-library) (1.0.2)\n",
      "Requirement already satisfied: alabaster<0.8,>=0.7 in c:\\users\\rakesh panigrahy\\anaconda3\\lib\\site-packages (from sphinx>=1.2.0->sphinx-argparse->indic-nlp-library) (0.7.12)\n",
      "Requirement already satisfied: sphinxcontrib-qthelp in c:\\users\\rakesh panigrahy\\anaconda3\\lib\\site-packages (from sphinx>=1.2.0->sphinx-argparse->indic-nlp-library) (1.0.3)\n",
      "Requirement already satisfied: Jinja2>=2.3 in c:\\users\\rakesh panigrahy\\anaconda3\\lib\\site-packages (from sphinx>=1.2.0->sphinx-argparse->indic-nlp-library) (3.1.2)\n",
      "Requirement already satisfied: sphinxcontrib-devhelp in c:\\users\\rakesh panigrahy\\anaconda3\\lib\\site-packages (from sphinx>=1.2.0->sphinx-argparse->indic-nlp-library) (1.0.2)\n",
      "Requirement already satisfied: colorama>=0.3.5 in c:\\users\\rakesh panigrahy\\anaconda3\\lib\\site-packages (from sphinx>=1.2.0->sphinx-argparse->indic-nlp-library) (0.4.6)\n",
      "Requirement already satisfied: packaging in c:\\users\\rakesh panigrahy\\anaconda3\\lib\\site-packages (from sphinx>=1.2.0->sphinx-argparse->indic-nlp-library) (22.0)\n",
      "Requirement already satisfied: snowballstemmer>=1.1 in c:\\users\\rakesh panigrahy\\anaconda3\\lib\\site-packages (from sphinx>=1.2.0->sphinx-argparse->indic-nlp-library) (2.2.0)\n",
      "Requirement already satisfied: babel>=1.3 in c:\\users\\rakesh panigrahy\\anaconda3\\lib\\site-packages (from sphinx>=1.2.0->sphinx-argparse->indic-nlp-library) (2.11.0)\n",
      "Requirement already satisfied: imagesize in c:\\users\\rakesh panigrahy\\anaconda3\\lib\\site-packages (from sphinx>=1.2.0->sphinx-argparse->indic-nlp-library) (1.4.1)\n",
      "Requirement already satisfied: sphinxcontrib-htmlhelp>=2.0.0 in c:\\users\\rakesh panigrahy\\anaconda3\\lib\\site-packages (from sphinx>=1.2.0->sphinx-argparse->indic-nlp-library) (2.0.0)\n",
      "Requirement already satisfied: requests>=2.5.0 in c:\\users\\rakesh panigrahy\\anaconda3\\lib\\site-packages (from sphinx>=1.2.0->sphinx-argparse->indic-nlp-library) (2.28.1)\n",
      "Requirement already satisfied: MarkupSafe>=2.0 in c:\\users\\rakesh panigrahy\\anaconda3\\lib\\site-packages (from Jinja2>=2.3->sphinx>=1.2.0->sphinx-argparse->indic-nlp-library) (2.1.1)\n",
      "Requirement already satisfied: idna<4,>=2.5 in c:\\users\\rakesh panigrahy\\anaconda3\\lib\\site-packages (from requests>=2.5.0->sphinx>=1.2.0->sphinx-argparse->indic-nlp-library) (3.4)\n",
      "Requirement already satisfied: urllib3<1.27,>=1.21.1 in c:\\users\\rakesh panigrahy\\anaconda3\\lib\\site-packages (from requests>=2.5.0->sphinx>=1.2.0->sphinx-argparse->indic-nlp-library) (1.26.14)\n",
      "Requirement already satisfied: certifi>=2017.4.17 in c:\\users\\rakesh panigrahy\\anaconda3\\lib\\site-packages (from requests>=2.5.0->sphinx>=1.2.0->sphinx-argparse->indic-nlp-library) (2023.7.22)\n",
      "Requirement already satisfied: charset-normalizer<3,>=2 in c:\\users\\rakesh panigrahy\\anaconda3\\lib\\site-packages (from requests>=2.5.0->sphinx>=1.2.0->sphinx-argparse->indic-nlp-library) (2.0.4)\n"
     ]
    }
   ],
   "source": [
    "import tensorflow as tf\n",
    "\n",
    "import matplotlib.pyplot as plt\n",
    "import matplotlib.ticker as ticker\n",
    "from sklearn.model_selection import train_test_split\n",
    "\n",
    "import unicodedata\n",
    "import re\n",
    "import numpy as np\n",
    "import os \n",
    "import io\n",
    "import time\n",
    "!pip3 install indic-nlp-library"
   ]
  },
  {
   "cell_type": "markdown",
   "id": "designed-budapest",
   "metadata": {
    "id": "designed-budapest"
   },
   "source": [
    "The dataset consists of four files: two train files and two test files. The train file consists of one file with English sentences and another with the corresponding Hindi translations, similarly for the test files. There is a dev file available as well which can be used for validation.\n",
    "\n",
    "The train files contain 84557 translations, out of which we will be using 70,000 for training. The test files contain 1000 translations."
   ]
  },
  {
   "cell_type": "code",
   "execution_count": null,
   "id": "copyrighted-reliance",
   "metadata": {
    "id": "copyrighted-reliance"
   },
   "outputs": [],
   "source": [
    "!wget \"http://lotus.kuee.kyoto-u.ac.jp/WAT/indic-multilingual/indic_languages_corpus.tar.gz\""
   ]
  },
  {
   "cell_type": "code",
   "execution_count": null,
   "id": "derived-village",
   "metadata": {
    "colab": {
     "base_uri": "https://localhost:8080/"
    },
    "executionInfo": {
     "elapsed": 3167,
     "status": "ok",
     "timestamp": 1673000965297,
     "user": {
      "displayName": "Jyoti",
      "userId": "04158913208374850392"
     },
     "user_tz": -330
    },
    "id": "derived-village",
    "outputId": "67fb6ffe-d3db-4318-f545-01a7c04c25ec"
   },
   "outputs": [
    {
     "name": "stdout",
     "output_type": "stream",
     "text": [
      "done!\n"
     ]
    }
   ],
   "source": [
    "import tarfile\n",
    "with tarfile.open('indic_languages_corpus.tar.gz', 'r:gz') as tar:\n",
    "    tar.extractall()\n",
    "print(\"done!\")"
   ]
  },
  {
   "cell_type": "code",
   "execution_count": null,
   "id": "hidden-variable",
   "metadata": {
    "id": "hidden-variable"
   },
   "outputs": [],
   "source": [
    "#We copy the Hindi to English files for working in this example (dev.en, dev.hi, test.en, test.hi and train.en, train.hi)\n",
    "%cp indic_languages_corpus/bilingual/hi-en/* .\n",
    "#Clean up to avoid storing these files in the session\n",
    "%rm -r indic_languages_corpus indic_languages_corpus.tar.gz"
   ]
  },
  {
   "cell_type": "code",
   "execution_count": null,
   "id": "monetary-criminal",
   "metadata": {
    "id": "monetary-criminal"
   },
   "outputs": [],
   "source": [
    "# Install Nirmala font which we would need for plotting later in the code\n",
    "!wget \"https://www.wfonts.com/download/data/2016/04/29/nirmala-ui/nirmala-ui.zip\""
   ]
  },
  {
   "cell_type": "code",
   "execution_count": null,
   "id": "sensitive-assault",
   "metadata": {
    "colab": {
     "base_uri": "https://localhost:8080/"
    },
    "executionInfo": {
     "elapsed": 828,
     "status": "ok",
     "timestamp": 1673000981199,
     "user": {
      "displayName": "Jyoti",
      "userId": "04158913208374850392"
     },
     "user_tz": -330
    },
    "id": "sensitive-assault",
    "outputId": "c7a43494-058d-43cd-9c98-5ca45048b963"
   },
   "outputs": [
    {
     "name": "stdout",
     "output_type": "stream",
     "text": [
      "done!\n"
     ]
    }
   ],
   "source": [
    "from zipfile import ZipFile\n",
    "with ZipFile('nirmala-ui.zip', 'r') as zipObj:\n",
    "   # Extract all the contents of zip file in current directory\n",
    "   zipObj.extractall()\n",
    "print(\"done!\")"
   ]
  },
  {
   "cell_type": "code",
   "execution_count": null,
   "id": "finished-affiliate",
   "metadata": {
    "id": "finished-affiliate"
   },
   "outputs": [],
   "source": [
    "%rm nirmala-ui.* sharefonts.* nirmala.png"
   ]
  },
  {
   "cell_type": "code",
   "execution_count": null,
   "id": "czech-reserve",
   "metadata": {
    "id": "czech-reserve"
   },
   "outputs": [],
   "source": [
    "# understanding how the training data looks like\n",
    "f = open('train.hi')\n",
    "w1 = f.readlines()\n",
    "print(len(w1))\n",
    "print(w1[0:5])\n",
    "g = open('train.en')\n",
    "w2 = g.readlines()\n",
    "print(len(w2))\n",
    "print(w2[0:5])"
   ]
  },
  {
   "cell_type": "markdown",
   "id": "defined-translator",
   "metadata": {
    "id": "defined-translator"
   },
   "source": [
    "# **Data Preperation**\n",
    "\n",
    "Once we have loaded the dataset, we preprocess the data as follows:\n",
    "\n",
    "Add a start and end token to each sentence.\n",
    "\n",
    "Clean the sentences by removing special characters.\n",
    "\n",
    "Create a word index and reverse word index (dictionaries mapping from word → id and id → word).\n",
    "\n",
    "Pad each sentence to a maximum length."
   ]
  },
  {
   "cell_type": "code",
   "execution_count": null,
   "id": "secret-spouse",
   "metadata": {
    "id": "secret-spouse"
   },
   "outputs": [],
   "source": [
    "# Restrict the total number of sentences to 70000\n",
    "NUM_SENTENCES = 70000"
   ]
  },
  {
   "cell_type": "code",
   "execution_count": null,
   "id": "hearing-synthetic",
   "metadata": {
    "colab": {
     "base_uri": "https://localhost:8080/"
    },
    "executionInfo": {
     "elapsed": 630,
     "status": "ok",
     "timestamp": 1673001000856,
     "user": {
      "displayName": "Jyoti",
      "userId": "04158913208374850392"
     },
     "user_tz": -330
    },
    "id": "hearing-synthetic",
    "outputId": "8e4477d0-9d4e-4659-be35-6dcc30ce9770"
   },
   "outputs": [
    {
     "name": "stdout",
     "output_type": "stream",
     "text": [
      "<class 'str'>\n",
      "<class 'list'>\n"
     ]
    }
   ],
   "source": [
    "# strip the input and output of extra unnecessary characters\n",
    "# store all the cleaned input and output sentences into input_sentences[] and output_sentences[]\n",
    "# tokenize the Hindi (target) sentences using the indicNLP libary class and add <sos> (start-of-sentence) and <eos> (end-of-sentence)\n",
    "\n",
    "input_sentences = []\n",
    "output_sentences = []\n",
    "\n",
    "count = 0\n",
    "for line in open(r'train.en', encoding=\"utf-8\"):\n",
    "    count += 1\n",
    "\n",
    "    if count > NUM_SENTENCES:\n",
    "        break\n",
    "\n",
    "    input_sentence = line.rstrip().strip(\"\\n\").strip('-') #we strip the sentence of '\\n' and '-' \n",
    "    input_sentences.append(input_sentence) #store all input sentences in the input sentences list\n",
    "\n",
    "count = 0\n",
    "\n",
    "for line in open(r'train.hi'):\n",
    "    count += 1\n",
    "\n",
    "    if count > NUM_SENTENCES:\n",
    "        break\n",
    "    output_sentence =  line.rstrip().strip(\"\\n\").strip('-') \n",
    "    from indicnlp.tokenize import indic_tokenize  \n",
    "    line = indic_tokenize.trivial_tokenize(output_sentence) #we tokenize the hindi sentences \n",
    "    \n",
    "    output_sentences.append(['<sos>'] + line + ['<eos>']) #append the start and end tags to the tokenised sentences\n",
    "                                                          #each tokenied sentence is stored as a list in output sentences\n",
    "print(type(input_sentences[10]))\n",
    "print(type(output_sentences[10]))"
   ]
  },
  {
   "cell_type": "code",
   "execution_count": null,
   "id": "determined-style",
   "metadata": {
    "colab": {
     "base_uri": "https://localhost:8080/"
    },
    "executionInfo": {
     "elapsed": 643,
     "status": "ok",
     "timestamp": 1673001004113,
     "user": {
      "displayName": "Jyoti",
      "userId": "04158913208374850392"
     },
     "user_tz": -330
    },
    "id": "determined-style",
    "outputId": "48562bc8-47fa-4010-adca-90beb0f86f53"
   },
   "outputs": [
    {
     "name": "stdout",
     "output_type": "stream",
     "text": [
      "num samples input: 70000\n",
      "num samples output: 70000\n"
     ]
    }
   ],
   "source": [
    "print(\"num samples input:\", len(input_sentences))\n",
    "print(\"num samples output:\", len(output_sentences))"
   ]
  },
  {
   "cell_type": "code",
   "execution_count": null,
   "id": "appropriate-frame",
   "metadata": {
    "colab": {
     "base_uri": "https://localhost:8080/"
    },
    "executionInfo": {
     "elapsed": 14,
     "status": "ok",
     "timestamp": 1673001007210,
     "user": {
      "displayName": "Jyoti",
      "userId": "04158913208374850392"
     },
     "user_tz": -330
    },
    "id": "appropriate-frame",
    "outputId": "f177269a-7064-435b-92f7-e64a8f18af24"
   },
   "outputs": [
    {
     "name": "stdout",
     "output_type": "stream",
     "text": [
      "Her face.\n",
      "['<sos>', 'उसका', 'चेहरा', '.', '<eos>']\n"
     ]
    }
   ],
   "source": [
    "print(input_sentences[-1])\n",
    "print(output_sentences[-1])"
   ]
  },
  {
   "cell_type": "code",
   "execution_count": null,
   "id": "collect-layout",
   "metadata": {
    "id": "collect-layout"
   },
   "outputs": [],
   "source": [
    "# Converts the unicode file to ascii\n",
    "# Remove accents etc.\n",
    "def unicode_to_ascii(s):\n",
    "  return ''.join(c for c in unicodedata.normalize('NFD', s)\n",
    "      if unicodedata.category(c) != 'Mn')\n",
    "\n",
    "\n",
    "def preprocess_sentence(w):\n",
    "  w = unicode_to_ascii(w.lower().strip())\n",
    "\n",
    "  # creating a space between a word and the punctuation following it\n",
    "  # eg: \"he is a boy.\" => \"he is a boy .\"\n",
    "  w = re.sub(r\"([?.!,¿])\", r\" \\1 \", w)\n",
    "  w = re.sub(r'[\" \"]+', \" \", w)\n",
    "\n",
    "  # replacing everything with space except (a-z, A-Z, \".\", \"?\", \"!\", \",\")\n",
    "  w = re.sub(r\"[^a-zA-Z?.!,¿]+\", \" \", w)\n",
    "\n",
    "  w = w.strip()\n",
    "\n",
    "  # adding a start and an end token to the sentence\n",
    "  # so that the model know when to start and stop predicting.\n",
    "  w = '<sos> ' + w + ' <eos>'\n",
    "  return w"
   ]
  },
  {
   "cell_type": "code",
   "execution_count": null,
   "id": "molecular-lingerie",
   "metadata": {
    "colab": {
     "base_uri": "https://localhost:8080/"
    },
    "executionInfo": {
     "elapsed": 1438,
     "status": "ok",
     "timestamp": 1673001014888,
     "user": {
      "displayName": "Jyoti",
      "userId": "04158913208374850392"
     },
     "user_tz": -330
    },
    "id": "molecular-lingerie",
    "outputId": "cf85f8b9-9bd8-4c27-c8ec-c5bf12e1c378"
   },
   "outputs": [
    {
     "name": "stdout",
     "output_type": "stream",
     "text": [
      "<sos> i told her we rest on sundays . <eos>\n",
      "['<sos>', 'मैं', 'रविवार', 'को', 'उसे', 'हम', 'बाकी', 'बताया', '.', '<eos>']\n"
     ]
    }
   ],
   "source": [
    "for i in range(len(input_sentences)):\n",
    "   input_sentences[i] = preprocess_sentence(input_sentences[i])\n",
    "\n",
    "print(input_sentences[8])\n",
    "print(output_sentences[8])"
   ]
  },
  {
   "cell_type": "code",
   "execution_count": null,
   "id": "legal-guitar",
   "metadata": {
    "id": "legal-guitar"
   },
   "outputs": [],
   "source": [
    "# function to tokenize, fit the words into numeric sequences and pad them with zeroes up to the size of the largest sentence of that vocabulary\n",
    "# takes as input the input / output vocabulary and the padding type ('pre' / 'post'-- default: post)\n",
    "\n",
    "# inp_lang and targ_lang is of type tokenizer.fit_on_texts; \n",
    "# fit_on_texts of Tokenizer class updates internal vocabulary based on a list of texts. \n",
    "# This method creates the vocabulary index based on word frequency. \n",
    "# Lower integer means more frequent word (often the first few are stop words because they appear a lot).\n",
    "\n",
    "def tokenize(lang, pad): \n",
    "  lang_tokenizer = tf.keras.preprocessing.text.Tokenizer(\n",
    "      filters='')\n",
    "\n",
    "  lang_tokenizer.fit_on_texts(lang)\n",
    "  \n",
    "  tensor = lang_tokenizer.texts_to_sequences(lang)\n",
    "  \n",
    "  tensor = tf.keras.preprocessing.sequence.pad_sequences(tensor,\n",
    "                                                         padding='post')\n",
    "  return tensor, lang_tokenizer"
   ]
  },
  {
   "cell_type": "code",
   "execution_count": null,
   "id": "unsigned-stevens",
   "metadata": {
    "id": "unsigned-stevens"
   },
   "outputs": [],
   "source": [
    "# function to call the tokenize function to perform tokenizing and padding\n",
    "\n",
    "def load_dataset(inp_lang, targ_lang):\n",
    "  # creating cleaned input, output pairs\n",
    "  input_tensor, inp_lang_tokenizer = tokenize(inp_lang, 'post')\n",
    "  target_tensor, targ_lang_tokenizer = tokenize(targ_lang, 'post')\n",
    "\n",
    "  return input_tensor, target_tensor, inp_lang_tokenizer, targ_lang_tokenizer"
   ]
  },
  {
   "cell_type": "code",
   "execution_count": null,
   "id": "coordinate-delhi",
   "metadata": {
    "colab": {
     "base_uri": "https://localhost:8080/"
    },
    "executionInfo": {
     "elapsed": 2712,
     "status": "ok",
     "timestamp": 1673001029359,
     "user": {
      "displayName": "Jyoti",
      "userId": "04158913208374850392"
     },
     "user_tz": -330
    },
    "id": "coordinate-delhi",
    "outputId": "2749789c-17bf-4b13-e454-82f5a53cc244"
   },
   "outputs": [
    {
     "name": "stdout",
     "output_type": "stream",
     "text": [
      "69\n",
      "72\n"
     ]
    }
   ],
   "source": [
    "input_tensor, target_tensor, inp_lang, targ_lang = load_dataset(input_sentences, output_sentences)\n",
    "\n",
    "# Calculate max_length of the target tensors\n",
    "# For our project, the max_length_targ and max_length_inp are 69 and 72 respectively.\n",
    "\n",
    "max_length_targ, max_length_inp = target_tensor.shape[1], input_tensor.shape[1]\n",
    "print(max_length_targ)\n",
    "print(max_length_inp)"
   ]
  },
  {
   "cell_type": "code",
   "execution_count": null,
   "id": "commercial-howard",
   "metadata": {
    "id": "commercial-howard"
   },
   "outputs": [],
   "source": [
    "# checking if the input sequences have been obtained and padded properly\n",
    "print(target_tensor[9])\n",
    "print(input_tensor[9])"
   ]
  },
  {
   "cell_type": "code",
   "execution_count": null,
   "id": "enormous-establishment",
   "metadata": {
    "colab": {
     "base_uri": "https://localhost:8080/"
    },
    "executionInfo": {
     "elapsed": 14,
     "status": "ok",
     "timestamp": 1673001037138,
     "user": {
      "displayName": "Jyoti",
      "userId": "04158913208374850392"
     },
     "user_tz": -330
    },
    "id": "enormous-establishment",
    "outputId": "fc771c26-27d3-4a7f-84fb-70241f6fbd5b"
   },
   "outputs": [
    {
     "name": "stdout",
     "output_type": "stream",
     "text": [
      "56000 56000 14000 14000\n"
     ]
    }
   ],
   "source": [
    "# Creating training and validation sets using an 80-20 split\n",
    "input_tensor_train, input_tensor_val, target_tensor_train, target_tensor_val = train_test_split(input_tensor, target_tensor, test_size=0.2, random_state=7)\n",
    "\n",
    "# Show length\n",
    "print(len(input_tensor_train), len(target_tensor_train), len(input_tensor_val), len(target_tensor_val))"
   ]
  },
  {
   "cell_type": "code",
   "execution_count": null,
   "id": "ordinary-honor",
   "metadata": {
    "id": "ordinary-honor"
   },
   "outputs": [],
   "source": [
    "# checking if the input sequences have been obtained and padded properly\n",
    "print(input_tensor_val[9])\n",
    "print(target_tensor_val[9])"
   ]
  },
  {
   "cell_type": "code",
   "execution_count": null,
   "id": "threatened-bottom",
   "metadata": {
    "id": "threatened-bottom"
   },
   "outputs": [],
   "source": [
    "# a function to test if the word to index / index to word mappings have been obtained correctly. \n",
    "# representative output for two sample english and hindi sentences given in the code block below\n",
    "\n",
    "def convert(lang, tensor):\n",
    "  for t in tensor:\n",
    "    if t!=0:\n",
    "      print (\"%d ----> %s\" % (t, lang.index_word[t]))\n",
    "      print (\"%s ----> %d\" % (lang.index_word[t], lang.word_index[lang.index_word[t]]))"
   ]
  },
  {
   "cell_type": "code",
   "execution_count": null,
   "id": "satisfied-parks",
   "metadata": {
    "id": "satisfied-parks"
   },
   "outputs": [],
   "source": [
    "print (\"Input Language; index to word mapping\")\n",
    "convert(inp_lang, input_tensor_train[0])\n",
    "print ()\n",
    "print (\"Target Language; index to word mapping\")\n",
    "convert(targ_lang, target_tensor_train[0])"
   ]
  },
  {
   "cell_type": "code",
   "execution_count": null,
   "id": "bizarre-ranch",
   "metadata": {
    "colab": {
     "base_uri": "https://localhost:8080/"
    },
    "executionInfo": {
     "elapsed": 2776,
     "status": "ok",
     "timestamp": 1673001055470,
     "user": {
      "displayName": "Jyoti",
      "userId": "04158913208374850392"
     },
     "user_tz": -330
    },
    "id": "bizarre-ranch",
    "outputId": "1aea636a-fd47-434e-c404-7cdef896fb15"
   },
   "outputs": [
    {
     "name": "stdout",
     "output_type": "stream",
     "text": [
      "56000\n",
      "875\n"
     ]
    }
   ],
   "source": [
    "# BUFFER_SIZE stores the number of training points\n",
    "BUFFER_SIZE = len(input_tensor_train)\n",
    "\n",
    "# BATCH_SIZE is set to 64. Training and gradient descent happens in batches of 64\n",
    "BATCH_SIZE = 64\n",
    "\n",
    "# the number of batches in one epoch (also, the number of steps during training, when we go batch by batch)\n",
    "steps_per_epoch = BUFFER_SIZE//BATCH_SIZE\n",
    "\n",
    "# the length of the embedded vector\n",
    "embedding_dim = 256\n",
    "\n",
    "# no of GRUs\n",
    "units = 1024 \n",
    "\n",
    "# getting the size of the input and output vocabularies.\n",
    "vocab_inp_size = len(inp_lang.word_index)+1 \n",
    "vocab_tar_size = len(targ_lang.word_index)+1\n",
    "\n",
    "# now, we shuffle the dataset and split it into batches of 64\n",
    "dataset = tf.data.Dataset.from_tensor_slices((input_tensor_train, target_tensor_train)).shuffle(BUFFER_SIZE)\n",
    "dataset = dataset.batch(BATCH_SIZE, drop_remainder=True) # the remainder after splitting by 64 are dropped\n",
    "\n",
    "print(BUFFER_SIZE)\n",
    "print(steps_per_epoch)"
   ]
  },
  {
   "cell_type": "code",
   "execution_count": null,
   "id": "clear-admission",
   "metadata": {
    "colab": {
     "base_uri": "https://localhost:8080/"
    },
    "executionInfo": {
     "elapsed": 717,
     "status": "ok",
     "timestamp": 1673001058794,
     "user": {
      "displayName": "Jyoti",
      "userId": "04158913208374850392"
     },
     "user_tz": -330
    },
    "id": "clear-admission",
    "outputId": "4f508f78-5d27-4012-8cc0-1834978e04d5"
   },
   "outputs": [
    {
     "data": {
      "text/plain": [
       "(TensorShape([64, 72]), TensorShape([64, 69]))"
      ]
     },
     "execution_count": 25,
     "metadata": {},
     "output_type": "execute_result"
    }
   ],
   "source": [
    "# to understand the shape of an input batch\n",
    "example_input_batch, example_target_batch = next(iter(dataset))\n",
    "example_input_batch.shape, example_target_batch.shape"
   ]
  },
  {
   "cell_type": "markdown",
   "id": "biological-diagram",
   "metadata": {
    "id": "biological-diagram"
   },
   "source": [
    "# **Encoder-Decoder model with attention**\n",
    "\n",
    "The encoder model consists of an embedding layer, a GRU layer with 1024 units.\n",
    "\n",
    "The decoder model consists of an attention layer, a embedding layer, a GRU layer and a dense layer.\n",
    "\n",
    "The attention model consists of three dense layers (BahdanauAttention Model) .\n",
    "\n",
    "\n",
    "---\n",
    "![picture](https://drive.google.com/uc?id=1AnbdmNzOi9WyEZ8RiMWL3MsndVliggs7)\n",
    "\n",
    "\n",
    "\n"
   ]
  },
  {
   "cell_type": "code",
   "execution_count": null,
   "id": "given-freeware",
   "metadata": {
    "id": "given-freeware"
   },
   "outputs": [],
   "source": [
    "class Encoder(tf.keras.Model):\n",
    "  def __init__(self, vocab_size, embedding_dim, enc_units, batch_sz):\n",
    "    super(Encoder, self).__init__()\n",
    "    self.batch_sz = batch_sz # set batch size\n",
    "    self.enc_units = enc_units # set the number of GRU units\n",
    "    self.embedding = tf.keras.layers.Embedding(vocab_size, embedding_dim) # set the embedding layer using the input's vocabulary size and the embedding dimension (which is set to 256)\n",
    "    self.gru = tf.keras.layers.GRU(self.enc_units,\n",
    "                                   return_sequences=True,\n",
    "                                   return_state=True,\n",
    "                                   recurrent_initializer='glorot_uniform') # define the GRU layer\n",
    "\n",
    "  def call(self, x, hidden): # this function is invoked when the function encoder is called with an input and an initialised hidden layer\n",
    "    x = self.embedding(x)\n",
    "    output, state = self.gru(x, initial_state = hidden) # pass input x into the GRU layer\n",
    "    return output, state # function returns the encoder output and the hidden state\n",
    "\n",
    "\n",
    "  def initialize_hidden_state(self): #intialise hidden layer to all zeroes (for determining the shape)\n",
    "    return tf.zeros((self.batch_sz, self.enc_units))"
   ]
  },
  {
   "cell_type": "code",
   "execution_count": null,
   "id": "convertible-military",
   "metadata": {
    "colab": {
     "base_uri": "https://localhost:8080/"
    },
    "executionInfo": {
     "elapsed": 3306,
     "status": "ok",
     "timestamp": 1673001077734,
     "user": {
      "displayName": "Jyoti",
      "userId": "04158913208374850392"
     },
     "user_tz": -330
    },
    "id": "convertible-military",
    "outputId": "b853ef61-33f2-497a-ec40-a5d74920d434"
   },
   "outputs": [
    {
     "name": "stdout",
     "output_type": "stream",
     "text": [
      "Encoder output shape: (batch size, sequence length, units) (64, 72, 1024)\n",
      "Encoder Hidden state shape: (batch size, units) (64, 1024)\n"
     ]
    }
   ],
   "source": [
    "encoder = Encoder(vocab_inp_size, embedding_dim, units, BATCH_SIZE) # create an Encoder class object\n",
    "\n",
    "# sample input to get a sense of the shapes.\n",
    "sample_hidden = encoder.initialize_hidden_state()\n",
    "sample_output, sample_hidden = encoder(example_input_batch, sample_hidden)\n",
    "print ('Encoder output shape: (batch size, sequence length, units) {}'.format(sample_output.shape))\n",
    "print ('Encoder Hidden state shape: (batch size, units) {}'.format(sample_hidden.shape))"
   ]
  },
  {
   "cell_type": "markdown",
   "id": "FieWc_lcTGoB",
   "metadata": {
    "id": "FieWc_lcTGoB"
   },
   "source": [
    "The Bahdanau Attention layer takes 2 inputs:\n",
    "\n",
    "* Decoder's hidden state: represented by **Query**\n",
    "* Encoder's Output: represented by **Value**"
   ]
  },
  {
   "cell_type": "code",
   "execution_count": null,
   "id": "mexican-nitrogen",
   "metadata": {
    "id": "mexican-nitrogen"
   },
   "outputs": [],
   "source": [
    "# a class defined for the attention layer\n",
    "# returns attention weights and context vector.\n",
    "\n",
    "class BahdanauAttention(tf.keras.layers.Layer):\n",
    "  def __init__(self, units):\n",
    "    super(BahdanauAttention, self).__init__()\n",
    "    self.W1 = tf.keras.layers.Dense(units) # fully-connected dense layer-1\n",
    "    self.W2 = tf.keras.layers.Dense(units) # fully-connected dense layer-2\n",
    "    self.V = tf.keras.layers.Dense(1) # fully-connected dense layer-3\n",
    "\n",
    "  def call(self, query, values):\n",
    "    # query hidden state shape == (batch_size, hidden size)\n",
    "    # query_with_time_axis shape == (batch_size, 1, hidden size)\n",
    "    # values shape == (batch_size, max_len, hidden size)\n",
    "    # we are doing this to broadcast addition along the time axis to calculate the score\n",
    "    query_with_time_axis = tf.expand_dims(query, 1)\n",
    "\n",
    "    # score shape == (batch_size, max_length, 1)\n",
    "    # we get 1 at the last axis because we are applying score to self.V\n",
    "    # the shape of the tensor before applying self.V is (batch_size, max_length, units)\n",
    "    score = self.V(tf.nn.tanh(\n",
    "        self.W1(query_with_time_axis) + self.W2(values)))\n",
    "\n",
    "    # attention_weights shape == (batch_size, max_length, 1)\n",
    "    attention_weights = tf.nn.softmax(score, axis=1)\n",
    "\n",
    "    # context_vector shape after sum == (batch_size, hidden_size)\n",
    "    context_vector = attention_weights * values\n",
    "    context_vector = tf.reduce_sum(context_vector, axis=1)\n",
    "\n",
    "    return context_vector, attention_weights"
   ]
  },
  {
   "cell_type": "code",
   "execution_count": null,
   "id": "caroline-marine",
   "metadata": {
    "colab": {
     "base_uri": "https://localhost:8080/"
    },
    "executionInfo": {
     "elapsed": 2395,
     "status": "ok",
     "timestamp": 1673001086279,
     "user": {
      "displayName": "Jyoti",
      "userId": "04158913208374850392"
     },
     "user_tz": -330
    },
    "id": "caroline-marine",
    "outputId": "6b32f480-6772-4e0c-da4a-244f10140063"
   },
   "outputs": [
    {
     "name": "stdout",
     "output_type": "stream",
     "text": [
      "Attention result shape (context vector): (batch size, units) (64, 1024)\n",
      "Attention weights shape: (batch_size, sequence_length, 1) (64, 72, 1)\n"
     ]
    }
   ],
   "source": [
    "attention_layer = BahdanauAttention(20) # create an attention layer object\n",
    "attention_result, attention_weights = attention_layer(sample_hidden, sample_output) # pass sample encoder output and hidden layer to get a sense of the shape of the output of the attention layer.\n",
    "\n",
    "print(\"Attention result shape (context vector): (batch size, units) {}\".format(attention_result.shape))\n",
    "print(\"Attention weights shape: (batch_size, sequence_length, 1) {}\".format(attention_weights.shape))"
   ]
  },
  {
   "cell_type": "code",
   "execution_count": null,
   "id": "intimate-stick",
   "metadata": {
    "id": "intimate-stick"
   },
   "outputs": [],
   "source": [
    "class Decoder(tf.keras.Model):\n",
    "  def __init__(self, vocab_size, embedding_dim, dec_units, batch_sz):\n",
    "    super(Decoder, self).__init__()\n",
    "    self.batch_sz = batch_sz # batch_size which is defined as 64\n",
    "    self.dec_units = dec_units # the number of decoder GRU units\n",
    "    self.embedding = tf.keras.layers.Embedding(vocab_size, embedding_dim) # defining an embedding layer for the target language output. \n",
    "    self.gru = tf.keras.layers.GRU(self.dec_units,\n",
    "                                   return_sequences=True,\n",
    "                                   return_state=True,\n",
    "                                   recurrent_initializer='glorot_uniform') # GRU layer\n",
    "    self.fc = tf.keras.layers.Dense(vocab_size)\n",
    "\n",
    "    # used for attention\n",
    "    self.attention = BahdanauAttention(self.dec_units)\n",
    "\n",
    "  def call(self, x, hidden, enc_output):\n",
    "    # enc_output shape == (batch_size, max_length, hidden_size)\n",
    "    context_vector, attention_weights = self.attention(hidden, enc_output) # getting the context vector and the attention weights from the attention layer\n",
    "\n",
    "    # x shape after passing through embedding == (batch_size, 1, embedding_dim)\n",
    "    x = self.embedding(x) # creating an embedding layer for the target output\n",
    "\n",
    "    # x shape after concatenation == (batch_size, 1, embedding_dim + hidden_size)\n",
    "    x = tf.concat([tf.expand_dims(context_vector, 1), x], axis=-1)\n",
    "\n",
    "    # passing the concatenated vector to the GRU\n",
    "    output, state = self.gru(x)\n",
    " \n",
    "    # output shape == (batch_size * 1, hidden_size)\n",
    "    output = tf.reshape(output, (-1, output.shape[2]))\n",
    "    \n",
    "\n",
    "    # output shape == (batch_size, vocab)\n",
    "    x = self.fc(output) # pass the output through the dense layer\n",
    "\n",
    "    return x, state, attention_weights # return decoder output, decoder state and attention weights"
   ]
  },
  {
   "cell_type": "code",
   "execution_count": null,
   "id": "minute-circuit",
   "metadata": {
    "colab": {
     "base_uri": "https://localhost:8080/"
    },
    "executionInfo": {
     "elapsed": 616,
     "status": "ok",
     "timestamp": 1673001093776,
     "user": {
      "displayName": "Jyoti",
      "userId": "04158913208374850392"
     },
     "user_tz": -330
    },
    "id": "minute-circuit",
    "outputId": "50b3d8b4-c4d1-4f73-a9e3-7adb2546723d"
   },
   "outputs": [
    {
     "name": "stdout",
     "output_type": "stream",
     "text": [
      "Decoder output shape: (batch_size, vocab size) (64, 22224)\n"
     ]
    }
   ],
   "source": [
    "decoder = Decoder(vocab_tar_size, embedding_dim, units, BATCH_SIZE)\n",
    "\n",
    "sample_decoder_output, _, _ = decoder(tf.random.uniform((BATCH_SIZE, 1)),\n",
    "                                      sample_hidden, sample_output)\n",
    "\n",
    "print ('Decoder output shape: (batch_size, vocab size) {}'.format(sample_decoder_output.shape))"
   ]
  },
  {
   "cell_type": "markdown",
   "id": "australian-chester",
   "metadata": {
    "id": "australian-chester"
   },
   "source": [
    "# **Training the model**\n",
    "\n",
    "The model is trained on a GPU machine with fixed number of epochs. \n",
    "\n",
    "A custom training loop (instead of Model.Fit etc.) is used for which further reference is available from Tensorflow [here](https://www.tensorflow.org/guide/keras/writing_a_training_loop_from_scratch)\n",
    "\n",
    "The model can be extended with the use of the validation data for early stopping and further fine tuning. \n",
    "\n",
    "Checkpoints are stored for easy retrival of the model and resue without training"
   ]
  },
  {
   "cell_type": "code",
   "execution_count": null,
   "id": "modified-assignment",
   "metadata": {
    "id": "modified-assignment"
   },
   "outputs": [],
   "source": [
    "optimizer = tf.keras.optimizers.Adam()\n",
    "loss_object = tf.keras.losses.SparseCategoricalCrossentropy(\n",
    "    from_logits=True, reduction='none') #Loss function is categorical crossentropy\n",
    "\n",
    "def loss_function(real, pred):\n",
    "  mask = tf.math.logical_not(tf.math.equal(real, 0))\n",
    "  loss_ = loss_object(real, pred)\n",
    "\n",
    "  mask = tf.cast(mask, dtype=loss_.dtype)\n",
    "  loss_ *= mask\n",
    "\n",
    "  return tf.reduce_mean(loss_)"
   ]
  },
  {
   "cell_type": "code",
   "execution_count": null,
   "id": "formal-compact",
   "metadata": {
    "id": "formal-compact"
   },
   "outputs": [],
   "source": [
    "checkpoint_dir = './tutorial_checkpoint'\n",
    "checkpoint_prefix = os.path.join(checkpoint_dir, \"ckpt\")\n",
    "checkpoint = tf.train.Checkpoint(optimizer=optimizer,\n",
    "                                 encoder=encoder,\n",
    "                                 decoder=decoder)"
   ]
  },
  {
   "cell_type": "code",
   "execution_count": null,
   "id": "exterior-burton",
   "metadata": {
    "id": "exterior-burton"
   },
   "outputs": [],
   "source": [
    "@tf.function\n",
    "def train_step(inp, targ, enc_hidden):\n",
    "  loss = 0\n",
    "\n",
    "  with tf.GradientTape() as tape:\n",
    "    enc_output, enc_hidden = encoder(inp, enc_hidden)\n",
    "\n",
    "    dec_hidden = enc_hidden\n",
    "\n",
    "    dec_input = tf.expand_dims([targ_lang.word_index['<sos>']] * BATCH_SIZE, 1)\n",
    "\n",
    "    # Teacher forcing - feeding the target as the next input\n",
    "    for t in range(1, targ.shape[1]):\n",
    "      # passing enc_output to the decoder\n",
    "      predictions, dec_hidden, _ = decoder(dec_input, dec_hidden, enc_output)\n",
    "\n",
    "      loss += loss_function(targ[:, t], predictions)\n",
    "\n",
    "      # using teacher forcing\n",
    "      dec_input = tf.expand_dims(targ[:, t], 1)\n",
    "\n",
    "  batch_loss = (loss / int(targ.shape[1]))\n",
    "\n",
    "  variables = encoder.trainable_variables + decoder.trainable_variables\n",
    "\n",
    "  gradients = tape.gradient(loss, variables) \n",
    "\n",
    "  optimizer.apply_gradients(zip(gradients, variables)) # doing gradient descent\n",
    "\n",
    "  return batch_loss"
   ]
  },
  {
   "cell_type": "code",
   "execution_count": null,
   "id": "protected-tissue",
   "metadata": {
    "colab": {
     "base_uri": "https://localhost:8080/"
    },
    "id": "protected-tissue",
    "outputId": "a956e176-4d88-4f58-fef2-3aeda6196ef6"
   },
   "outputs": [
    {
     "name": "stdout",
     "output_type": "stream",
     "text": [
      "Epoch 1 Batch 0 Loss 1.5254\n",
      "Epoch 1 Batch 100 Loss 0.7827\n",
      "Epoch 1 Batch 200 Loss 0.7510\n",
      "Epoch 1 Batch 300 Loss 0.7155\n",
      "Epoch 1 Batch 400 Loss 0.6361\n",
      "Epoch 1 Batch 500 Loss 0.7292\n",
      "Epoch 1 Batch 600 Loss 0.6723\n",
      "Epoch 1 Batch 700 Loss 0.7318\n",
      "Epoch 1 Batch 800 Loss 0.6446\n",
      "Epoch 1 Loss 0.7096\n",
      "Time taken for 1 epoch 1010.7961757183075 sec\n",
      "\n",
      "Epoch 2 Batch 0 Loss 0.5829\n",
      "Epoch 2 Batch 100 Loss 0.6019\n",
      "Epoch 2 Batch 200 Loss 0.6267\n",
      "Epoch 2 Batch 300 Loss 0.5595\n",
      "Epoch 2 Batch 400 Loss 0.5733\n",
      "Epoch 2 Batch 500 Loss 0.5802\n",
      "Epoch 2 Batch 600 Loss 0.5500\n",
      "Epoch 2 Batch 700 Loss 0.5669\n",
      "Epoch 2 Batch 800 Loss 0.5206\n",
      "Epoch 2 Loss 0.5654\n",
      "Time taken for 1 epoch 950.4867143630981 sec\n",
      "\n",
      "Epoch 3 Batch 0 Loss 0.5243\n",
      "Epoch 3 Batch 100 Loss 0.4935\n",
      "Epoch 3 Batch 200 Loss 0.4663\n",
      "Epoch 3 Batch 300 Loss 0.4755\n",
      "Epoch 3 Batch 400 Loss 0.5525\n",
      "Epoch 3 Batch 500 Loss 0.5152\n",
      "Epoch 3 Batch 600 Loss 0.4929\n",
      "Epoch 3 Batch 700 Loss 0.5007\n",
      "Epoch 3 Batch 800 Loss 0.5288\n",
      "Epoch 3 Loss 0.4706\n",
      "Time taken for 1 epoch 948.1338083744049 sec\n",
      "\n",
      "Epoch 4 Batch 0 Loss 0.4412\n",
      "Epoch 4 Batch 100 Loss 0.3566\n",
      "Epoch 4 Batch 200 Loss 0.3660\n",
      "Epoch 4 Batch 300 Loss 0.3550\n",
      "Epoch 4 Batch 400 Loss 0.4375\n",
      "Epoch 4 Batch 500 Loss 0.3849\n",
      "Epoch 4 Batch 600 Loss 0.3519\n",
      "Epoch 4 Batch 700 Loss 0.4111\n",
      "Epoch 4 Batch 800 Loss 0.3609\n",
      "Epoch 4 Loss 0.3872\n",
      "Time taken for 1 epoch 950.4479761123657 sec\n",
      "\n",
      "Epoch 5 Batch 0 Loss 0.2722\n",
      "Epoch 5 Batch 100 Loss 0.2766\n",
      "Epoch 5 Batch 200 Loss 0.3190\n",
      "Epoch 5 Batch 300 Loss 0.3716\n",
      "Epoch 5 Batch 400 Loss 0.2958\n",
      "Epoch 5 Batch 500 Loss 0.3184\n",
      "Epoch 5 Batch 600 Loss 0.3470\n",
      "Epoch 5 Batch 700 Loss 0.2443\n",
      "Epoch 5 Batch 800 Loss 0.3750\n",
      "Epoch 5 Loss 0.3144\n",
      "Time taken for 1 epoch 948.6323509216309 sec\n",
      "\n",
      "Epoch 6 Batch 0 Loss 0.2897\n",
      "Epoch 6 Batch 100 Loss 0.2475\n",
      "Epoch 6 Batch 200 Loss 0.2272\n",
      "Epoch 6 Batch 300 Loss 0.2596\n",
      "Epoch 6 Batch 400 Loss 0.2775\n",
      "Epoch 6 Batch 500 Loss 0.2662\n"
     ]
    }
   ],
   "source": [
    "train = True\n",
    "\n",
    "#set epocs as per your requirement\n",
    "EPOCHS = 11\n",
    "if train :\n",
    "  for epoch in range(EPOCHS):\n",
    "    start = time.time()\n",
    "\n",
    "    enc_hidden = encoder.initialize_hidden_state()\n",
    "    total_loss = 0\n",
    "\n",
    "    for (batch, (inp, targ)) in enumerate(dataset.take(steps_per_epoch)):\n",
    "      batch_loss = train_step(inp, targ, enc_hidden)\n",
    "      total_loss += batch_loss\n",
    "\n",
    "      if batch % 100 == 0:\n",
    "        print('Epoch {} Batch {} Loss {:.4f}'.format(epoch + 1,\n",
    "                                                    batch,\n",
    "                                                    batch_loss.numpy()))\n",
    "    # saving (checkpoint) the model every 2 epochs\n",
    "    if (epoch + 1) % 2 == 0:\n",
    "      checkpoint.save(file_prefix = checkpoint_prefix)\n",
    "\n",
    "    print('Epoch {} Loss {:.4f}'.format(epoch + 1,\n",
    "                                        total_loss / steps_per_epoch))\n",
    "    print('Time taken for 1 epoch {} sec\\n'.format(time.time() - start))"
   ]
  },
  {
   "cell_type": "code",
   "execution_count": null,
   "id": "suburban-programmer",
   "metadata": {
    "id": "suburban-programmer"
   },
   "outputs": [],
   "source": [
    "# restoring the latest checkpoint in checkpoint_dir\n",
    "checkpoint.restore(tf.train.latest_checkpoint(checkpoint_dir))"
   ]
  },
  {
   "cell_type": "markdown",
   "id": "rocky-illustration",
   "metadata": {
    "id": "rocky-illustration"
   },
   "source": [
    "# **Prediction using Greedy Search**\n",
    "\n",
    "Greedy search is used to for Decoding of text. \n",
    "\n",
    "Plots are provided for visualization of the attention weights. \n",
    "\n",
    "BLUE score is used for evaluation of the model"
   ]
  },
  {
   "cell_type": "code",
   "execution_count": null,
   "id": "knowing-bhutan",
   "metadata": {
    "id": "knowing-bhutan"
   },
   "outputs": [],
   "source": [
    "def evaluate(sentence):\n",
    "  attention_plot = np.zeros((max_length_targ, max_length_inp))\n",
    "\n",
    "  sentence = preprocess_sentence(sentence)\n",
    "\n",
    "  inputs = [inp_lang.word_index[i] for i in sentence.split(' ')]\n",
    "  inputs = tf.keras.preprocessing.sequence.pad_sequences([inputs],\n",
    "                                                         maxlen=max_length_inp,\n",
    "                                                         padding='post')\n",
    "  inputs = tf.convert_to_tensor(inputs)\n",
    "\n",
    "  result = ''\n",
    "\n",
    "  hidden = [tf.zeros((1, units))]\n",
    "  enc_out, enc_hidden = encoder(inputs, hidden)\n",
    "\n",
    "  dec_hidden = enc_hidden\n",
    "  dec_input = tf.expand_dims([targ_lang.word_index['<sos>']], 0)\n",
    "\n",
    "  for t in range(max_length_targ):\n",
    "    predictions, dec_hidden, attention_weights = decoder(dec_input,\n",
    "                                                         dec_hidden,\n",
    "                                                         enc_out)\n",
    "    \n",
    "    # pass the encoder output, decoder hidden state(which is initialised to encoder hidden state for the first time and decoder input to the decoder)\n",
    "    # make a prediction and obtain decoder hidden states and attention weights\n",
    "\n",
    "    # storing the attention weights to plot later on\n",
    "    attention_weights = tf.reshape(attention_weights, (-1, ))\n",
    "    attention_plot[t] = attention_weights.numpy()\n",
    "\n",
    "    predicted_id = tf.argmax(predictions[0]).numpy()\n",
    "\n",
    "    result += targ_lang.index_word[predicted_id] + ' '\n",
    "\n",
    "    if targ_lang.index_word[predicted_id] == '<eos>':\n",
    "      return result, sentence, attention_plot\n",
    "\n",
    "    # the predicted ID is fed back into the model\n",
    "    dec_input = tf.expand_dims([predicted_id], 0)\n",
    "\n",
    "  return result, sentence, attention_plot"
   ]
  },
  {
   "cell_type": "code",
   "execution_count": null,
   "id": "sixth-education",
   "metadata": {
    "id": "sixth-education"
   },
   "outputs": [],
   "source": [
    "# function for plotting the attention weights\n",
    "from matplotlib.font_manager import FontProperties\n",
    "\n",
    "def plot_attention(attention, sentence, predicted_sentence):\n",
    "  fig = plt.figure(figsize=(10,10))\n",
    "  ax = fig.add_subplot(1, 1, 1)\n",
    "  ax.matshow(attention, cmap='viridis')\n",
    "\n",
    "  fontdict = {'fontsize': 18}\n",
    "  hindi_font = FontProperties(fname = 'Nirmala.ttf')\n",
    "\n",
    "  ax.set_xticklabels([''] + sentence, fontdict=fontdict, rotation=90)\n",
    "  ax.set_yticklabels([''] + predicted_sentence, fontproperties=hindi_font, fontsize='18')\n",
    "\n",
    "  ax.xaxis.set_major_locator(ticker.MultipleLocator(1))\n",
    "  ax.yaxis.set_major_locator(ticker.MultipleLocator(1))\n",
    "  \n",
    "  plt.show()"
   ]
  },
  {
   "cell_type": "code",
   "execution_count": null,
   "id": "vanilla-symposium",
   "metadata": {
    "id": "vanilla-symposium"
   },
   "outputs": [],
   "source": [
    "def translate(sentence, plotgraph):\n",
    "  result, sentence, attention_plot = evaluate(sentence)\n",
    "  print('Input: %s' % (sentence))\n",
    "  print('Predicted translation: {}'.format(result))\n",
    "  attention_plot = attention_plot[:len(result.split(' ')), :len(sentence.split(' '))]\n",
    "  if plotgraph:\n",
    "      plot_attention(attention_plot, sentence.split(' '), result.split(' '))\n",
    "\n",
    "  return result"
   ]
  },
  {
   "cell_type": "code",
   "execution_count": null,
   "id": "marked-albania",
   "metadata": {
    "id": "marked-albania"
   },
   "outputs": [],
   "source": [
    "translate(\"I am hungry\", True)"
   ]
  },
  {
   "cell_type": "code",
   "execution_count": null,
   "id": "little-edmonton",
   "metadata": {
    "id": "little-edmonton"
   },
   "outputs": [],
   "source": [
    "translate(\"I am hungry. Can you give me something to eat.\", True)"
   ]
  },
  {
   "cell_type": "code",
   "execution_count": null,
   "id": "norwegian-prague",
   "metadata": {
    "id": "norwegian-prague"
   },
   "outputs": [],
   "source": [
    "test_input_sentences = []\n",
    "test_output_sentences = []\n",
    "\n",
    "for line in open(r'test.en', encoding=\"utf-8\"):\n",
    "\n",
    "    test_input_sentence = line.rstrip().strip(\"\\n\").strip('-')\n",
    "    test_input_sentences.append(test_input_sentence)\n",
    "\n",
    "\n",
    "for line in open(r'test.hi'):\n",
    "    test_output_sentence =  line.rstrip().strip(\"\\n\").strip('-')\n",
    "    line = indic_tokenize.trivial_tokenize(test_output_sentence)\n",
    "    \n",
    "    test_output_sentences.append(['<sos>'] + line + ['<eos>'])\n",
    "    \n",
    "print(type(test_input_sentences[90]))\n",
    "print(len(test_output_sentences))\n",
    "print(test_input_sentences[90])\n",
    "print(test_output_sentences[90])"
   ]
  },
  {
   "cell_type": "code",
   "execution_count": null,
   "id": "mechanical-allowance",
   "metadata": {
    "id": "mechanical-allowance"
   },
   "outputs": [],
   "source": [
    "from nltk.translate.bleu_score import corpus_bleu\n",
    "from nltk.translate.bleu_score import SmoothingFunction\n",
    "chencherry = SmoothingFunction()\n",
    "evaluate_n_sentences = 10\n",
    "\n",
    "references = []\n",
    "candidates = []\n",
    "for i in range(evaluate_n_sentences):\n",
    "  try:\n",
    "    res = translate(test_input_sentences[i], False) \n",
    "    ref = test_output_sentences[i].copy()\n",
    "    ref = [e for e in ref if e not in ('<eos>', '<sos>', '.')]\n",
    "    references.append(ref)\n",
    "    listToStr = ' '.join(map(str, test_output_sentences[i]))\n",
    "    print('Reference Translation: %s' % (listToStr))\n",
    "    candidate = indic_tokenize.trivial_tokenize(res)\n",
    "    candidate = [e for e in candidate if e not in ('<', 'eos','>', '.')]\n",
    "    candidates.append(candidate)\n",
    "  except:\n",
    "    print('Sentence :', i+1, ' not translatable ..moving to next' )\n",
    "score1 = corpus_bleu(references, candidates, smoothing_function=chencherry.method4)\n",
    "score2 = corpus_bleu(references, candidates)\n",
    "print('BLEU score on test data without smoothing function: ' ,score2)\n",
    "print('BLEU score on test data with smoothing function: ' ,score1)"
   ]
  },
  {
   "cell_type": "markdown",
   "id": "SazKWgl7pYWE",
   "metadata": {
    "id": "SazKWgl7pYWE"
   },
   "source": [
    "# **Prediction using Beam Search**\n",
    "\n",
    "We extend the Decoder Prediction Model to use the Beam Search algorithm with a configurable value of the Beam Width (k)"
   ]
  },
  {
   "cell_type": "markdown",
   "id": "Xp61kLQYPkxI",
   "metadata": {
    "id": "Xp61kLQYPkxI"
   },
   "source": [
    "#### Beam Search Implementation"
   ]
  },
  {
   "cell_type": "code",
   "execution_count": null,
   "id": "CmeeJV0SuBEG",
   "metadata": {
    "id": "CmeeJV0SuBEG"
   },
   "outputs": [],
   "source": [
    "def softmax(x):\n",
    "    \"\"\"Compute softmax values for each sets of scores in x.\"\"\"\n",
    "    e_x = np.exp(x - np.max(x))\n",
    "    return e_x / e_x.sum()\n",
    "\n",
    "def reduce_mul(l):\n",
    "    out = 1.0\n",
    "    for x in l:\n",
    "        out *= x\n",
    "    return out\n",
    "\n",
    "def check_all_done(seqs):\n",
    "    for seq in seqs:\n",
    "        if (targ_lang.index_word[seq[-1][0]]!='<eos>') :\n",
    "            return False\n",
    "    return True\n",
    "\n",
    "#seq: [[word,word],[word,word],[word,word]]\n",
    "#output: [[word,word,word],[word,word,word],[word,word,word]]\n",
    "def beam_search_step(dec_hid, enc_out, top_seqs, k):       \n",
    "    all_seqs = []\n",
    "    scores=[]\n",
    "    for seq in top_seqs:\n",
    "        seq_score = reduce_mul([_score for _,_score in seq])\n",
    "        if (targ_lang.index_word[seq[-1][0]]=='<eos>') :\n",
    "            all_seqs.append((seq, seq_score, True))\n",
    "            # Reached on end of string for this seq. Dont predict any further\n",
    "            continue\n",
    "        #get predictions using encoder_context & seq last element\n",
    "        dec_input = tf.expand_dims([seq[-1][0]], 0)\n",
    "        predictions, dec_hid, _ = decoder(dec_input, dec_hid, enc_out)\n",
    "        output_step = [(idx,prob) for idx,prob in enumerate(softmax(predictions[0].numpy()))]        \n",
    "        output_step = sorted(output_step, key=lambda x: x[1], reverse=True)\n",
    "        for i,word in enumerate(output_step):   \n",
    "            if i >= k:\n",
    "                break\n",
    "            word_index = word[0]\n",
    "            word_score = word[1]   \n",
    "            score = seq_score * word_score\n",
    "            rs_seq = seq + [word]\n",
    "            done = (word_index == targ_lang.word_index['<eos>'])            \n",
    "            all_seqs.append((rs_seq, score, done))    \n",
    "    all_seqs = sorted(all_seqs, key = lambda seq: seq[1], reverse=True)\n",
    "    topk_seqs = [seq for seq,_,_ in all_seqs[:k]]\n",
    "    topk_scores = [scores for _,scores,_ in all_seqs[:k]]\n",
    "    all_done = check_all_done(topk_seqs)\n",
    "    return topk_seqs, all_done, dec_hid, topk_scores\n",
    "\n",
    "def evaluate_beam_search(sentence):\n",
    "\n",
    "  sentence = preprocess_sentence(sentence)\n",
    "\n",
    "  inputs = [inp_lang.word_index[i] for i in sentence.split(' ')]\n",
    "  inputs = tf.keras.preprocessing.sequence.pad_sequences([inputs],\n",
    "                                                         maxlen=max_length_inp,\n",
    "                                                         padding='post')\n",
    "  inputs = tf.convert_to_tensor(inputs)\n",
    "\n",
    "  hidden = [tf.zeros((1, units))]\n",
    "  enc_out, enc_hidden = encoder(inputs, hidden)\n",
    "  dec_hidden = enc_hidden\n",
    "  beam_seqs = [[(targ_lang.word_index['<sos>'],1.0)]]\n",
    "  beam_size = 3\n",
    "  for _ in range(max_length_targ):\n",
    "    beam_seqs, all_done, dec_hidden, scores_seq = beam_search_step(dec_hidden, enc_out, beam_seqs, beam_size)\n",
    "    if all_done:            \n",
    "      break \n",
    "  # Return the top results\n",
    "  result=[]\n",
    "  for top_beam in beam_seqs:\n",
    "    kresult =''\n",
    "    for pred_id,_ in top_beam:\n",
    "      kresult += targ_lang.index_word[pred_id] + ' '\n",
    "    result= result+[kresult]\n",
    "  return result, scores_seq"
   ]
  },
  {
   "cell_type": "markdown",
   "id": "HyxG6E3kPq0r",
   "metadata": {
    "id": "HyxG6E3kPq0r"
   },
   "source": [
    "### Using Beam Search"
   ]
  },
  {
   "cell_type": "code",
   "execution_count": null,
   "id": "kJ1hzCGouTun",
   "metadata": {
    "id": "kJ1hzCGouTun"
   },
   "outputs": [],
   "source": [
    "def translate_beam(sentence):\n",
    "  result, score = evaluate_beam_search(sentence)\n",
    "  return result, score"
   ]
  },
  {
   "cell_type": "code",
   "execution_count": null,
   "id": "zqTpevGSunAB",
   "metadata": {
    "id": "zqTpevGSunAB"
   },
   "outputs": [],
   "source": [
    "translate_beam(\"I am hungry.\")"
   ]
  },
  {
   "cell_type": "markdown",
   "id": "lw8VMQQEwVHy",
   "metadata": {
    "id": "lw8VMQQEwVHy"
   },
   "source": [
    "# *References*\n",
    "\n",
    "1. The dataset is obtained from [here](http://lotus.kuee.kyoto-u.ac.jp/WAT/indic-multilingual/) \n",
    "\n",
    "2. Refer the tensorflow tutorials available on NMT [here](https://tensorflow.org/tutorials/text/nmt_with_attention) and [here](https://www.tensorflow.org/addons/tutorials/networks_seq2seq_nmt) for examples on which this notebook is modelled. \n",
    "\n",
    "3. Refer reference code and documentation available [here](https://github.com/prashanthi-r/Eng-Hin-Neural-Machine-Translation) which has been adopted\n",
    "\n",
    "4. Indic Library documentation can be found [here](https://github.com/anoopkunchukuttan/indic_nlp_library/blob/master/docs/indicnlp.pdf)\n",
    "\n",
    "5. Toy example for Beam Search adopted provided [here](https://gist.github.com/xylcbd/0abee09de5ca6a0364c4de2aa46ef90f)\n",
    "\n",
    "\n",
    "\n",
    "\n",
    "\n",
    "\n"
   ]
  }
 ],
 "metadata": {
  "accelerator": "GPU",
  "colab": {
   "provenance": []
  },
  "gpuClass": "standard",
  "kernelspec": {
   "display_name": "Python 3 (ipykernel)",
   "language": "python",
   "name": "python3"
  },
  "language_info": {
   "codemirror_mode": {
    "name": "ipython",
    "version": 3
   },
   "file_extension": ".py",
   "mimetype": "text/x-python",
   "name": "python",
   "nbconvert_exporter": "python",
   "pygments_lexer": "ipython3",
   "version": "3.10.9"
  },
  "papermill": {
   "default_parameters": {},
   "duration": 9796.542466,
   "end_time": "2021-06-08T01:38:22.140414",
   "environment_variables": {},
   "exception": null,
   "input_path": "__notebook__.ipynb",
   "output_path": "__notebook__.ipynb",
   "parameters": {},
   "start_time": "2021-06-07T22:55:05.597948",
   "version": "2.3.3"
  }
 },
 "nbformat": 4,
 "nbformat_minor": 5
}
