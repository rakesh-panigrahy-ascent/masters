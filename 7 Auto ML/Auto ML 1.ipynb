{
 "cells": [
  {
   "cell_type": "code",
   "execution_count": 1,
   "id": "e4fe7497",
   "metadata": {},
   "outputs": [
    {
     "name": "stdout",
     "output_type": "stream",
     "text": [
      "Collecting flaml\n",
      "  Downloading FLAML-1.2.1-py3-none-any.whl (248 kB)\n",
      "Requirement already satisfied: scikit-learn>=0.24 in c:\\users\\rakesh panigrahy\\appdata\\roaming\\python\\python39\\site-packages (from flaml) (1.1.1)\n",
      "Requirement already satisfied: xgboost>=0.90 in c:\\users\\rakesh panigrahy\\anaconda3\\lib\\site-packages (from flaml) (1.7.2)\n",
      "Requirement already satisfied: NumPy>=1.17.0rc1 in c:\\users\\rakesh panigrahy\\anaconda3\\lib\\site-packages (from flaml) (1.21.5)\n",
      "Collecting lightgbm>=2.3.1\n",
      "  Downloading lightgbm-3.3.5-py3-none-win_amd64.whl (1.0 MB)\n",
      "Requirement already satisfied: scipy>=1.4.1 in c:\\users\\rakesh panigrahy\\anaconda3\\lib\\site-packages (from flaml) (1.7.3)\n",
      "Requirement already satisfied: pandas>=1.1.4 in c:\\users\\rakesh panigrahy\\anaconda3\\lib\\site-packages (from flaml) (1.4.2)\n",
      "Requirement already satisfied: wheel in c:\\users\\rakesh panigrahy\\anaconda3\\lib\\site-packages (from lightgbm>=2.3.1->flaml) (0.37.1)\n",
      "Requirement already satisfied: python-dateutil>=2.8.1 in c:\\users\\rakesh panigrahy\\anaconda3\\lib\\site-packages (from pandas>=1.1.4->flaml) (2.8.2)\n",
      "Requirement already satisfied: pytz>=2020.1 in c:\\users\\rakesh panigrahy\\anaconda3\\lib\\site-packages (from pandas>=1.1.4->flaml) (2021.3)\n",
      "Requirement already satisfied: six>=1.5 in c:\\users\\rakesh panigrahy\\anaconda3\\lib\\site-packages (from python-dateutil>=2.8.1->pandas>=1.1.4->flaml) (1.16.0)\n",
      "Requirement already satisfied: threadpoolctl>=2.0.0 in c:\\users\\rakesh panigrahy\\anaconda3\\lib\\site-packages (from scikit-learn>=0.24->flaml) (2.2.0)\n",
      "Requirement already satisfied: joblib>=1.0.0 in c:\\users\\rakesh panigrahy\\anaconda3\\lib\\site-packages (from scikit-learn>=0.24->flaml) (1.1.0)\n",
      "Installing collected packages: lightgbm, flaml\n",
      "Successfully installed flaml-1.2.1 lightgbm-3.3.5\n"
     ]
    }
   ],
   "source": [
    "!pip install flaml"
   ]
  },
  {
   "cell_type": "code",
   "execution_count": 3,
   "id": "b0ccbe89",
   "metadata": {},
   "outputs": [],
   "source": [
    "from flaml import AutoML\n",
    "from sklearn.datasets import load_iris"
   ]
  },
  {
   "cell_type": "code",
   "execution_count": 4,
   "id": "5832ab34",
   "metadata": {},
   "outputs": [],
   "source": [
    "automl = AutoML()"
   ]
  },
  {
   "cell_type": "code",
   "execution_count": 5,
   "id": "c661d1b8",
   "metadata": {},
   "outputs": [],
   "source": [
    "automl_settings = {\n",
    "    'time_budget':10, #in seconds\n",
    "    'metric':'accuarcy',\n",
    "    'task':'classification',\n",
    "    'log_file_name':'iris.log'\n",
    "}"
   ]
  },
  {
   "cell_type": "code",
   "execution_count": 6,
   "id": "a8e81b9f",
   "metadata": {},
   "outputs": [],
   "source": [
    "X_train, y_train = load_iris(return_X_y=True)"
   ]
  },
  {
   "cell_type": "code",
   "execution_count": 11,
   "id": "7613d26c",
   "metadata": {},
   "outputs": [
    {
     "name": "stdout",
     "output_type": "stream",
     "text": [
      "[flaml.automl.logger: 04-24 17:25:33] {1682} INFO - task = classification\n",
      "[flaml.automl.logger: 04-24 17:25:33] {1689} INFO - Data split method: stratified\n",
      "[flaml.automl.logger: 04-24 17:25:33] {1692} INFO - Evaluation method: cv\n",
      "[flaml.automl.logger: 04-24 17:25:33] {1790} INFO - Minimizing error metric: log_loss\n",
      "[flaml.automl.logger: 04-24 17:25:33] {1812} WARNING - No search budget is provided via time_budget or max_iter. Training only one model per estimator. Zero-shot AutoML is used for certain tasks and estimators. To tune hyperparameters for each estimator, please provide budget either via time_budget or max_iter.\n",
      "[flaml.automl.logger: 04-24 17:25:33] {1900} INFO - List of ML learners in AutoML Run: ['rf', 'lgbm', 'xgboost', 'extra_tree', 'xgb_limitdepth', 'lrl1']\n",
      "[flaml.automl.logger: 04-24 17:25:33] {2210} INFO - iteration 0, current learner rf\n",
      "[flaml.automl.logger: 04-24 17:25:43] {2336} INFO - Estimated sufficient time budget=10000s. Estimated necessary time budget=10s.\n",
      "[flaml.automl.logger: 04-24 17:25:43] {2383} INFO -  at 9.9s,\testimator rf's best error=0.3230,\tbest estimator rf's best error=0.3230\n",
      "[flaml.automl.logger: 04-24 17:25:43] {2210} INFO - iteration 1, current learner lgbm\n",
      "[flaml.automl.logger: 04-24 17:25:45] {2383} INFO -  at 11.0s,\testimator lgbm's best error=0.1383,\tbest estimator lgbm's best error=0.1383\n",
      "[flaml.automl.logger: 04-24 17:25:45] {2210} INFO - iteration 2, current learner xgboost\n"
     ]
    },
    {
     "name": "stderr",
     "output_type": "stream",
     "text": [
      "C:\\Users\\Rakesh Panigrahy\\anaconda3\\lib\\site-packages\\xgboost\\sklearn.py:1421: UserWarning: `use_label_encoder` is deprecated in 1.7.0.\n",
      "  warnings.warn(\"`use_label_encoder` is deprecated in 1.7.0.\")\n",
      "C:\\Users\\Rakesh Panigrahy\\anaconda3\\lib\\site-packages\\xgboost\\sklearn.py:1421: UserWarning: `use_label_encoder` is deprecated in 1.7.0.\n",
      "  warnings.warn(\"`use_label_encoder` is deprecated in 1.7.0.\")\n",
      "C:\\Users\\Rakesh Panigrahy\\anaconda3\\lib\\site-packages\\xgboost\\sklearn.py:1421: UserWarning: `use_label_encoder` is deprecated in 1.7.0.\n",
      "  warnings.warn(\"`use_label_encoder` is deprecated in 1.7.0.\")\n",
      "C:\\Users\\Rakesh Panigrahy\\anaconda3\\lib\\site-packages\\xgboost\\sklearn.py:1421: UserWarning: `use_label_encoder` is deprecated in 1.7.0.\n",
      "  warnings.warn(\"`use_label_encoder` is deprecated in 1.7.0.\")\n",
      "C:\\Users\\Rakesh Panigrahy\\anaconda3\\lib\\site-packages\\xgboost\\sklearn.py:1421: UserWarning: `use_label_encoder` is deprecated in 1.7.0.\n",
      "  warnings.warn(\"`use_label_encoder` is deprecated in 1.7.0.\")\n"
     ]
    },
    {
     "name": "stdout",
     "output_type": "stream",
     "text": [
      "[flaml.automl.logger: 04-24 17:26:55] {2383} INFO -  at 82.0s,\testimator xgboost's best error=0.1856,\tbest estimator lgbm's best error=0.1383\n",
      "[flaml.automl.logger: 04-24 17:26:55] {2210} INFO - iteration 3, current learner extra_tree\n",
      "[flaml.automl.logger: 04-24 17:27:19] {2383} INFO -  at 105.1s,\testimator extra_tree's best error=0.1112,\tbest estimator extra_tree's best error=0.1112\n",
      "[flaml.automl.logger: 04-24 17:27:19] {2210} INFO - iteration 4, current learner xgb_limitdepth\n"
     ]
    },
    {
     "name": "stderr",
     "output_type": "stream",
     "text": [
      "C:\\Users\\Rakesh Panigrahy\\anaconda3\\lib\\site-packages\\xgboost\\sklearn.py:1421: UserWarning: `use_label_encoder` is deprecated in 1.7.0.\n",
      "  warnings.warn(\"`use_label_encoder` is deprecated in 1.7.0.\")\n",
      "C:\\Users\\Rakesh Panigrahy\\anaconda3\\lib\\site-packages\\xgboost\\sklearn.py:1421: UserWarning: `use_label_encoder` is deprecated in 1.7.0.\n",
      "  warnings.warn(\"`use_label_encoder` is deprecated in 1.7.0.\")\n",
      "C:\\Users\\Rakesh Panigrahy\\anaconda3\\lib\\site-packages\\xgboost\\sklearn.py:1421: UserWarning: `use_label_encoder` is deprecated in 1.7.0.\n",
      "  warnings.warn(\"`use_label_encoder` is deprecated in 1.7.0.\")\n",
      "C:\\Users\\Rakesh Panigrahy\\anaconda3\\lib\\site-packages\\xgboost\\sklearn.py:1421: UserWarning: `use_label_encoder` is deprecated in 1.7.0.\n",
      "  warnings.warn(\"`use_label_encoder` is deprecated in 1.7.0.\")\n",
      "C:\\Users\\Rakesh Panigrahy\\anaconda3\\lib\\site-packages\\xgboost\\sklearn.py:1421: UserWarning: `use_label_encoder` is deprecated in 1.7.0.\n",
      "  warnings.warn(\"`use_label_encoder` is deprecated in 1.7.0.\")\n"
     ]
    },
    {
     "name": "stdout",
     "output_type": "stream",
     "text": [
      "[flaml.automl.logger: 04-24 17:27:22] {2383} INFO -  at 108.4s,\testimator xgb_limitdepth's best error=0.2837,\tbest estimator extra_tree's best error=0.1112\n",
      "[flaml.automl.logger: 04-24 17:27:22] {2210} INFO - iteration 5, current learner lrl1\n",
      "[flaml.automl.logger: 04-24 17:27:22] {2383} INFO -  at 108.7s,\testimator lrl1's best error=0.1442,\tbest estimator extra_tree's best error=0.1112\n"
     ]
    },
    {
     "name": "stderr",
     "output_type": "stream",
     "text": [
      "C:\\Users\\Rakesh Panigrahy\\AppData\\Roaming\\Python\\Python39\\site-packages\\sklearn\\linear_model\\_sag.py:350: ConvergenceWarning: The max_iter was reached which means the coef_ did not converge\n",
      "  warnings.warn(\n",
      "C:\\Users\\Rakesh Panigrahy\\AppData\\Roaming\\Python\\Python39\\site-packages\\sklearn\\linear_model\\_sag.py:350: ConvergenceWarning: The max_iter was reached which means the coef_ did not converge\n",
      "  warnings.warn(\n",
      "C:\\Users\\Rakesh Panigrahy\\AppData\\Roaming\\Python\\Python39\\site-packages\\sklearn\\linear_model\\_sag.py:350: ConvergenceWarning: The max_iter was reached which means the coef_ did not converge\n",
      "  warnings.warn(\n",
      "C:\\Users\\Rakesh Panigrahy\\AppData\\Roaming\\Python\\Python39\\site-packages\\sklearn\\linear_model\\_sag.py:350: ConvergenceWarning: The max_iter was reached which means the coef_ did not converge\n",
      "  warnings.warn(\n",
      "C:\\Users\\Rakesh Panigrahy\\AppData\\Roaming\\Python\\Python39\\site-packages\\sklearn\\linear_model\\_sag.py:350: ConvergenceWarning: The max_iter was reached which means the coef_ did not converge\n",
      "  warnings.warn(\n"
     ]
    },
    {
     "name": "stdout",
     "output_type": "stream",
     "text": [
      "[flaml.automl.logger: 04-24 17:27:26] {2619} INFO - retrain extra_tree for 4.2s\n",
      "[flaml.automl.logger: 04-24 17:27:26] {2622} INFO - retrained model: ExtraTreesClassifier(criterion='entropy', max_features=1.0,\n",
      "                     max_leaf_nodes=18344, n_estimators=2047, n_jobs=-1,\n",
      "                     random_state=12032022)\n",
      "[flaml.automl.logger: 04-24 17:27:26] {1930} INFO - fit succeeded\n",
      "[flaml.automl.logger: 04-24 17:27:26] {1931} INFO - Time taken to find the best model: 105.09564208984375\n"
     ]
    }
   ],
   "source": [
    "automl.fit(X_train, y_train, automl_settings)"
   ]
  },
  {
   "cell_type": "code",
   "execution_count": 13,
   "id": "ccd9963c",
   "metadata": {},
   "outputs": [
    {
     "name": "stdout",
     "output_type": "stream",
     "text": [
      "[0 0 0 0 0 0 0 0 0 0 0 0 0 0 0 0 0 0 0 0 0 0 0 0 0 0 0 0 0 0 0 0 0 0 0 0 0\n",
      " 0 0 0 0 0 0 0 0 0 0 0 0 0 1 1 1 1 1 1 1 1 1 1 1 1 1 1 1 1 1 1 1 1 1 1 1 1\n",
      " 1 1 1 1 1 1 1 1 1 1 1 1 1 1 1 1 1 1 1 1 1 1 1 1 1 1 2 2 2 2 2 2 2 2 2 2 2\n",
      " 2 2 2 2 2 2 2 2 2 2 2 2 2 2 2 2 2 2 2 2 2 2 2 2 2 2 2 2 2 2 2 2 2 2 2 2 2\n",
      " 2 2]\n"
     ]
    }
   ],
   "source": [
    "print(automl.predict(X_train))"
   ]
  },
  {
   "cell_type": "code",
   "execution_count": 15,
   "id": "0391f8df",
   "metadata": {},
   "outputs": [
    {
     "name": "stdout",
     "output_type": "stream",
     "text": [
      "{'pred_time': 0.01756953716278076, 'wall_clock_time': 105.09564208984375, 'metric_for_logging': {'pred_time': 0.01756953716278076}, 'val_loss': 0.11123585819911683, 'training_iteration': 1, 'config': {'n_estimators': 2047, 'max_features': 1.0, 'max_leaves': 18344, 'criterion': 'entropy'}, 'config/n_estimators': 2047, 'config/max_features': 1.0, 'config/max_leaves': 18344, 'config/criterion': 'entropy', 'experiment_tag': 'exp', 'time_total_s': 23.079628467559814}\n"
     ]
    }
   ],
   "source": [
    "print(automl.best_result)"
   ]
  }
 ],
 "metadata": {
  "kernelspec": {
   "display_name": "Python 3 (ipykernel)",
   "language": "python",
   "name": "python3"
  },
  "language_info": {
   "codemirror_mode": {
    "name": "ipython",
    "version": 3
   },
   "file_extension": ".py",
   "mimetype": "text/x-python",
   "name": "python",
   "nbconvert_exporter": "python",
   "pygments_lexer": "ipython3",
   "version": "3.9.12"
  }
 },
 "nbformat": 4,
 "nbformat_minor": 5
}
